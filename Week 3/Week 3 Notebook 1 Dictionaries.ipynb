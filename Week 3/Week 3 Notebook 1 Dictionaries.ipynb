{
 "cells": [
  {
   "cell_type": "markdown",
   "metadata": {},
   "source": [
    "# Week 3 Notebook 1: Dictionaries\n",
    "\n",
    "## Python Dictionary\n",
    "\n",
    "In this lesson, we will explore another Python collection: a `Dictionary`. In particular, we will address the following related topics:\n",
    "1. Data stored in a dictionary\n",
    "2. Accessing data in a dictionary\n",
    "3. Looping through a dictionary"
   ]
  },
  {
   "cell_type": "markdown",
   "metadata": {},
   "source": [
    "## Dictionary"
   ]
  },
  {
   "cell_type": "markdown",
   "metadata": {},
   "source": [
    "Another useful Python collection for data storage and retrieval is a dictionary. Some characteristics of a dictionary include:\n",
    "\n",
    "- Data is stored in `key`:`value` pairs\n",
    "- The dictionary `key` must be unique\n",
    "- The `key` is immutable, which means it cannot be changed.\n",
    "- Items can be added, removed or changed/updated\n",
    "\n",
    "Similar to sets, a dictionary is also created using curly braces `{}`\n",
    "\n",
    "Let's say we want to store the staff hired by a local restaurant manager in the month of January. We may choose to store this information in a dictionary with the `key` indicating the unique id assigned to each staff member."
   ]
  },
  {
   "cell_type": "code",
   "execution_count": null,
   "metadata": {},
   "outputs": [],
   "source": [
    "# Creating a dictionary\n",
    "staff = {6708: 'Isaac', 8215: 'Reginald', 5291: 'Marcus', 4993: 'Ahmed' }\n",
    "\n",
    "# Check the type \n",
    "type(staff)"
   ]
  },
  {
   "cell_type": "markdown",
   "metadata": {},
   "source": [
    "The dictionary `key` must be unique at all times. Although having a duplicate `key` will not result in any error, it ends up recording only the last value associated with the `key`, thereby resulting in some data to be ignored during its storage."
   ]
  },
  {
   "cell_type": "code",
   "execution_count": null,
   "metadata": {},
   "outputs": [],
   "source": [
    "# Creating two staff with the same key 4993\n",
    "staff = {6708: 'Isaac', 8215: 'Reginald', 5291: 'Marcus', 4993: 'Ahmed', 4993: 'Ali' }\n",
    "staff"
   ]
  },
  {
   "cell_type": "markdown",
   "metadata": {},
   "source": [
    "Values stored in a dictionary can be of varying data types. "
   ]
  },
  {
   "cell_type": "code",
   "execution_count": null,
   "metadata": {},
   "outputs": [],
   "source": [
    "# Dictionary with mixed data types for values stored\n",
    "passenger = {'ID': 19874,\n",
    "             'Name': 'Mike Ross',\n",
    "             'Purpose': ['Tourism', 'Business meetings', 'Family commitments'],\n",
    "             'Frequent Flyer' : True}\n",
    "print(passenger)"
   ]
  },
  {
   "cell_type": "markdown",
   "metadata": {},
   "source": [
    "To check the number of items stored in a dictionary, we can use the `len()` function. \n",
    "\n",
    "Since the `key` represents the items stored in a dictionary, the `len()` function ultimately returns the number of `key`s."
   ]
  },
  {
   "cell_type": "code",
   "execution_count": null,
   "metadata": {},
   "outputs": [],
   "source": [
    "# Check the number of items stored in a dictionary using the len() function\n",
    "len(passenger)"
   ]
  },
  {
   "cell_type": "markdown",
   "metadata": {},
   "source": [
    "Elements stored in a dictionary are accessed using their respective `key`s. The `key` is enclosed in a square brackets `[]`."
   ]
  },
  {
   "cell_type": "code",
   "execution_count": null,
   "metadata": {},
   "outputs": [],
   "source": [
    "passenger['Name']"
   ]
  },
  {
   "cell_type": "markdown",
   "metadata": {},
   "source": [
    "Alternatively, dictionary objects have a `get()` method which can be used for accessing elements."
   ]
  },
  {
   "cell_type": "code",
   "execution_count": null,
   "metadata": {},
   "outputs": [],
   "source": [
    "# Using the 'get' method with the key\n",
    "passenger.get('Frequent Flyer')"
   ]
  },
  {
   "cell_type": "markdown",
   "metadata": {},
   "source": [
    "If we try to access a `key` which does not exist in our dictionary, then this results in a `KeyError`."
   ]
  },
  {
   "cell_type": "code",
   "execution_count": null,
   "metadata": {},
   "outputs": [],
   "source": [
    "passenger['Age']"
   ]
  },
  {
   "cell_type": "markdown",
   "metadata": {},
   "source": [
    "We can add, remove or update elements in a dictionary as well."
   ]
  },
  {
   "cell_type": "code",
   "execution_count": null,
   "metadata": {},
   "outputs": [],
   "source": [
    "# Adding elements\n",
    "passenger['Age'] = 26\n",
    "passenger['Blood Group'] = 'B+'\n",
    "print(passenger)"
   ]
  },
  {
   "cell_type": "code",
   "execution_count": null,
   "metadata": {},
   "outputs": [],
   "source": [
    "# Changing/Updating elements\n",
    "passenger['Name'] = 'Michael Ross'\n",
    "passenger['Age'] = 27\n",
    "print(passenger)"
   ]
  },
  {
   "cell_type": "code",
   "execution_count": null,
   "metadata": {},
   "outputs": [],
   "source": [
    "# Removing elements\n",
    "del passenger['Blood Group']\n",
    "passenger.pop('Age')\n",
    "print(passenger)"
   ]
  },
  {
   "cell_type": "markdown",
   "metadata": {},
   "source": [
    "To remove all elements in a dictionary, we can use the `clear()` method. This results in an empty dictionary."
   ]
  },
  {
   "cell_type": "code",
   "execution_count": null,
   "metadata": {},
   "outputs": [],
   "source": [
    "passenger.clear()\n",
    "print(passenger)"
   ]
  },
  {
   "cell_type": "markdown",
   "metadata": {},
   "source": [
    "When looping through a dictionary, we need to know what exactly we want to retrieve. The `key` and their associated values can be printed together or separately."
   ]
  },
  {
   "cell_type": "code",
   "execution_count": null,
   "metadata": {},
   "outputs": [],
   "source": [
    "# Creating a new dictionary\n",
    "hobbies = {1: 'Reading', 2: 'Baking', 3: 'Cycling', 4: 'Travelling', 5: 'Gaming'}"
   ]
  },
  {
   "cell_type": "code",
   "execution_count": null,
   "metadata": {},
   "outputs": [],
   "source": [
    "# Printing keys\n",
    "for i in hobbies:\n",
    "    print(i)"
   ]
  },
  {
   "cell_type": "code",
   "execution_count": null,
   "metadata": {},
   "outputs": [],
   "source": [
    "# Printing values\n",
    "for i in hobbies:\n",
    "    print(hobbies[i])"
   ]
  },
  {
   "cell_type": "code",
   "execution_count": null,
   "metadata": {},
   "outputs": [],
   "source": [
    "# Alternate way of printing values\n",
    "for i in hobbies.values():\n",
    "    print(i)"
   ]
  },
  {
   "cell_type": "code",
   "execution_count": null,
   "metadata": {},
   "outputs": [],
   "source": [
    "# Printing key:value pair\n",
    "for i, j in hobbies.items():\n",
    "    print(i, \":\", j)"
   ]
  },
  {
   "cell_type": "markdown",
   "metadata": {},
   "source": [
    "## Exercises"
   ]
  },
  {
   "cell_type": "markdown",
   "metadata": {},
   "source": [
    "Consider the dictionary that has been created below:"
   ]
  },
  {
   "cell_type": "code",
   "execution_count": null,
   "metadata": {},
   "outputs": [],
   "source": [
    "subjects = {1: \"Maths\", 2: \"Biology\", 3: \"Economics\", 4: \"Computer Science\", 5: \"Chemistry\", 6: \"Sociology\"}"
   ]
  },
  {
   "cell_type": "markdown",
   "metadata": {},
   "source": [
    "**Q1 Calling Element by Key**\n",
    "\n",
    "Print the element “Economics” using the key."
   ]
  },
  {
   "cell_type": "code",
   "execution_count": null,
   "metadata": {},
   "outputs": [],
   "source": [
    "# Q1 Answer\n"
   ]
  },
  {
   "cell_type": "markdown",
   "metadata": {},
   "source": [
    "**Q2 Adding Element**\n",
    "\n",
    "Add another subject 'Physics' in the dictionary. The assigned `key` should be +1 from the preceding key."
   ]
  },
  {
   "cell_type": "code",
   "execution_count": null,
   "metadata": {},
   "outputs": [],
   "source": [
    "# Q2 Answer\n"
   ]
  },
  {
   "cell_type": "markdown",
   "metadata": {},
   "source": [
    "**Q3 Changing/Updating Element**\n",
    "\n",
    "Change the subject 'Maths' into 'Mathematics'."
   ]
  },
  {
   "cell_type": "code",
   "execution_count": null,
   "metadata": {},
   "outputs": [],
   "source": [
    "# Q3 Answer \n"
   ]
  },
  {
   "cell_type": "markdown",
   "metadata": {},
   "source": [
    "**Q4 Removing Elements**\n",
    "\n",
    "Remove the subjects 'Biology' and 'Chemistry' (one at a time)."
   ]
  },
  {
   "cell_type": "code",
   "execution_count": null,
   "metadata": {},
   "outputs": [],
   "source": [
    "# Q4 answer \n"
   ]
  },
  {
   "cell_type": "markdown",
   "metadata": {},
   "source": [
    "**Q5 Printing values**\n",
    "\n",
    "Print only the values in the dictionary. The `key`s are not required."
   ]
  },
  {
   "cell_type": "code",
   "execution_count": null,
   "metadata": {},
   "outputs": [],
   "source": [
    "# Q5 Answer\n"
   ]
  }
 ],
 "metadata": {
  "kernelspec": {
   "display_name": "Python 3 (ipykernel)",
   "language": "python",
   "name": "python3"
  },
  "language_info": {
   "codemirror_mode": {
    "name": "ipython",
    "version": 3
   },
   "file_extension": ".py",
   "mimetype": "text/x-python",
   "name": "python",
   "nbconvert_exporter": "python",
   "pygments_lexer": "ipython3",
   "version": "3.9.7"
  }
 },
 "nbformat": 4,
 "nbformat_minor": 2
}
