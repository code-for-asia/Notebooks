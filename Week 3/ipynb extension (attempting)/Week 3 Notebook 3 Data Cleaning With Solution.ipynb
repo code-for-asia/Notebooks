{
 "cells": [
  {
   "cell_type": "markdown",
   "id": "50e07adc",
   "metadata": {},
   "source": [
    "# Data Cleaning and Wrangling with Pandas\n",
    "\n",
    "In this notebook, we are going to practice our data cleaning skills with the jobs data set. \n",
    "\n",
    "We will learn how to:\n",
    "- reshape the data by adding and removing columns\n",
    "- handle missing values by dropping rows and columns\n",
    "- handle missing values by imputing values\n",
    "- convert data types\n",
    "- split data\n",
    "\n",
    "We will use the same `jobs` data set as before from [Pavan Tinniru on Kaggle](https://www.kaggle.com/pavantanniru/-datacleaningforbeginnerusingpandas), we just need to read it in again."
   ]
  },
  {
   "cell_type": "code",
   "execution_count": 2,
   "id": "d187a1bd",
   "metadata": {},
   "outputs": [],
   "source": [
    "import pandas as pd\n",
    "jobs = pd.read_csv('Data-cleaning-for-beginners-using-pandas.csv')\n"
   ]
  },
  {
   "cell_type": "markdown",
   "id": "2610a1f6",
   "metadata": {},
   "source": [
    "Let's just take a look at the data again. There aren't many rows, so `print()` will just show us all the data."
   ]
  },
  {
   "cell_type": "code",
   "execution_count": 2,
   "id": "ce092959",
   "metadata": {},
   "outputs": [
    {
     "name": "stdout",
     "output_type": "stream",
     "text": [
      "    Index   Age      Salary  Rating       Location  Established Easy Apply\n",
      "0       0  44.0   $44k-$99k     5.4       India,In         1999       TRUE\n",
      "1       1  66.0   $55k-$66k     3.5    New York,Ny         2002       TRUE\n",
      "2       2   NaN   $77k-$89k    -1.0    New York,Ny           -1         -1\n",
      "3       3  64.0   $44k-$99k     4.4       India In         1988         -1\n",
      "4       4  25.0   $44k-$99k     6.4  Australia Aus         2002         -1\n",
      "5       5  44.0   $77k-$89k     1.4       India,In         1999       TRUE\n",
      "6       6  21.0   $44k-$99k     0.0    New York,Ny           -1         -1\n",
      "7       7  44.0   $44k-$99k    -1.0  Australia Aus           -1         -1\n",
      "8       8  35.0   $44k-$99k     5.4    New York,Ny           -1         -1\n",
      "9       9  22.0   $44k-$99k     7.7       India,In           -1       TRUE\n",
      "10     10  55.0   $10k-$49k     5.4       India,In         2008       TRUE\n",
      "11     11  44.0   $10k-$49k     6.7       India,In         2009         -1\n",
      "12     12   NaN   $44k-$99k     0.0       India,In         1999         -1\n",
      "13     13  25.0   $44k-$99k    -1.0  Australia Aus         2019       TRUE\n",
      "14     14  66.0   $44k-$99k     4.0  Australia Aus         2020       TRUE\n",
      "15     15  44.0  $88k-$101k     3.0  Australia Aus         1999         -1\n",
      "16     16  19.0   $19k-$40k     4.5       India,In         1984         -1\n",
      "17     17   NaN   $44k-$99k     5.3    New York,Ny         1943       TRUE\n",
      "18     18  35.0   $44k-$99k     6.7    New York,Ny         1954       TRUE\n",
      "19     19  32.0   $44k-$99k     3.3    New York,Ny         1955       TRUE\n",
      "20     20   NaN   $44k-$99k     5.7    New York,Ny         1944       TRUE\n",
      "21     21  35.0   $44k-$99k     5.0    New York,Ny         1946         -1\n",
      "22     22  19.0   $55k-$66k     7.8    New York,Ny         1988       TRUE\n",
      "23     23   NaN   $44k-$99k     2.4    New York,Ny         1999       TRUE\n",
      "24     24  13.0   $44k-$99k    -1.0    New York,Ny         1987         -1\n",
      "25     25  55.0   $44k-$99k     0.0  Australia Aus         1980       TRUE\n",
      "26     26   NaN   $55k-$66k     NaN       India,In         1934       TRUE\n",
      "27     27  52.0   $44k-$99k     5.4       India,In         1935         -1\n",
      "28     28   NaN   $39k-$88k     3.4  Australia Aus         1932         -1\n"
     ]
    }
   ],
   "source": [
    "print(jobs)"
   ]
  },
  {
   "cell_type": "markdown",
   "id": "6536d614",
   "metadata": {},
   "source": [
    "We can also check the data types using dtypes.\n"
   ]
  },
  {
   "cell_type": "code",
   "execution_count": 51,
   "id": "c87e3efd",
   "metadata": {},
   "outputs": [
    {
     "data": {
      "text/plain": [
       "Age              int64\n",
       "Salary          object\n",
       "Rating         float64\n",
       "Location        object\n",
       "Established    float64\n",
       "Easy Apply        bool\n",
       "Min Salary       int32\n",
       "Max Salary       int32\n",
       "Est Salary     float64\n",
       "dtype: object"
      ]
     },
     "execution_count": 51,
     "metadata": {},
     "output_type": "execute_result"
    }
   ],
   "source": [
    "jobs.dtypes"
   ]
  },
  {
   "cell_type": "markdown",
   "id": "de5216c7",
   "metadata": {},
   "source": [
    "### Dropping Columns\n",
    "\n",
    "The first thing we want to do is to remove the redundant column `Index` from the DataFrame, because pandas automatically provided an index for the rows. We will save the result in a new DataFrame object."
   ]
  },
  {
   "cell_type": "code",
   "execution_count": 3,
   "id": "f67936b1",
   "metadata": {
    "scrolled": true
   },
   "outputs": [
    {
     "data": {
      "text/html": [
       "<div>\n",
       "<style scoped>\n",
       "    .dataframe tbody tr th:only-of-type {\n",
       "        vertical-align: middle;\n",
       "    }\n",
       "\n",
       "    .dataframe tbody tr th {\n",
       "        vertical-align: top;\n",
       "    }\n",
       "\n",
       "    .dataframe thead th {\n",
       "        text-align: right;\n",
       "    }\n",
       "</style>\n",
       "<table border=\"1\" class=\"dataframe\">\n",
       "  <thead>\n",
       "    <tr style=\"text-align: right;\">\n",
       "      <th></th>\n",
       "      <th>Age</th>\n",
       "      <th>Salary</th>\n",
       "      <th>Rating</th>\n",
       "      <th>Location</th>\n",
       "      <th>Established</th>\n",
       "      <th>Easy Apply</th>\n",
       "    </tr>\n",
       "  </thead>\n",
       "  <tbody>\n",
       "    <tr>\n",
       "      <th>0</th>\n",
       "      <td>44.0</td>\n",
       "      <td>$44k-$99k</td>\n",
       "      <td>5.4</td>\n",
       "      <td>India,In</td>\n",
       "      <td>1999</td>\n",
       "      <td>TRUE</td>\n",
       "    </tr>\n",
       "    <tr>\n",
       "      <th>1</th>\n",
       "      <td>66.0</td>\n",
       "      <td>$55k-$66k</td>\n",
       "      <td>3.5</td>\n",
       "      <td>New York,Ny</td>\n",
       "      <td>2002</td>\n",
       "      <td>TRUE</td>\n",
       "    </tr>\n",
       "    <tr>\n",
       "      <th>2</th>\n",
       "      <td>NaN</td>\n",
       "      <td>$77k-$89k</td>\n",
       "      <td>-1.0</td>\n",
       "      <td>New York,Ny</td>\n",
       "      <td>-1</td>\n",
       "      <td>-1</td>\n",
       "    </tr>\n",
       "    <tr>\n",
       "      <th>3</th>\n",
       "      <td>64.0</td>\n",
       "      <td>$44k-$99k</td>\n",
       "      <td>4.4</td>\n",
       "      <td>India In</td>\n",
       "      <td>1988</td>\n",
       "      <td>-1</td>\n",
       "    </tr>\n",
       "    <tr>\n",
       "      <th>4</th>\n",
       "      <td>25.0</td>\n",
       "      <td>$44k-$99k</td>\n",
       "      <td>6.4</td>\n",
       "      <td>Australia Aus</td>\n",
       "      <td>2002</td>\n",
       "      <td>-1</td>\n",
       "    </tr>\n",
       "  </tbody>\n",
       "</table>\n",
       "</div>"
      ],
      "text/plain": [
       "    Age     Salary  Rating       Location  Established Easy Apply\n",
       "0  44.0  $44k-$99k     5.4       India,In         1999       TRUE\n",
       "1  66.0  $55k-$66k     3.5    New York,Ny         2002       TRUE\n",
       "2   NaN  $77k-$89k    -1.0    New York,Ny           -1         -1\n",
       "3  64.0  $44k-$99k     4.4       India In         1988         -1\n",
       "4  25.0  $44k-$99k     6.4  Australia Aus         2002         -1"
      ]
     },
     "execution_count": 3,
     "metadata": {},
     "output_type": "execute_result"
    }
   ],
   "source": [
    "# using drop to drop a column\n",
    "jobs_2 = jobs.drop(columns = 'Index')\n",
    "jobs_2.head()"
   ]
  },
  {
   "cell_type": "markdown",
   "id": "88f1f03f",
   "metadata": {},
   "source": [
    "The original DataFrame `jobs` is not modified by the above command.\n",
    "\n",
    "We can also use the parameter `inplace=True` which will modify the existing DataFrame `jobs`, because the changes will be made \"in-place\" which means the same DataFrame."
   ]
  },
  {
   "cell_type": "code",
   "execution_count": 4,
   "id": "875549de",
   "metadata": {},
   "outputs": [
    {
     "data": {
      "text/html": [
       "<div>\n",
       "<style scoped>\n",
       "    .dataframe tbody tr th:only-of-type {\n",
       "        vertical-align: middle;\n",
       "    }\n",
       "\n",
       "    .dataframe tbody tr th {\n",
       "        vertical-align: top;\n",
       "    }\n",
       "\n",
       "    .dataframe thead th {\n",
       "        text-align: right;\n",
       "    }\n",
       "</style>\n",
       "<table border=\"1\" class=\"dataframe\">\n",
       "  <thead>\n",
       "    <tr style=\"text-align: right;\">\n",
       "      <th></th>\n",
       "      <th>Age</th>\n",
       "      <th>Salary</th>\n",
       "      <th>Rating</th>\n",
       "      <th>Location</th>\n",
       "      <th>Established</th>\n",
       "      <th>Easy Apply</th>\n",
       "    </tr>\n",
       "  </thead>\n",
       "  <tbody>\n",
       "    <tr>\n",
       "      <th>0</th>\n",
       "      <td>44.0</td>\n",
       "      <td>$44k-$99k</td>\n",
       "      <td>5.4</td>\n",
       "      <td>India,In</td>\n",
       "      <td>1999</td>\n",
       "      <td>TRUE</td>\n",
       "    </tr>\n",
       "    <tr>\n",
       "      <th>1</th>\n",
       "      <td>66.0</td>\n",
       "      <td>$55k-$66k</td>\n",
       "      <td>3.5</td>\n",
       "      <td>New York,Ny</td>\n",
       "      <td>2002</td>\n",
       "      <td>TRUE</td>\n",
       "    </tr>\n",
       "    <tr>\n",
       "      <th>2</th>\n",
       "      <td>NaN</td>\n",
       "      <td>$77k-$89k</td>\n",
       "      <td>-1.0</td>\n",
       "      <td>New York,Ny</td>\n",
       "      <td>-1</td>\n",
       "      <td>-1</td>\n",
       "    </tr>\n",
       "    <tr>\n",
       "      <th>3</th>\n",
       "      <td>64.0</td>\n",
       "      <td>$44k-$99k</td>\n",
       "      <td>4.4</td>\n",
       "      <td>India In</td>\n",
       "      <td>1988</td>\n",
       "      <td>-1</td>\n",
       "    </tr>\n",
       "    <tr>\n",
       "      <th>4</th>\n",
       "      <td>25.0</td>\n",
       "      <td>$44k-$99k</td>\n",
       "      <td>6.4</td>\n",
       "      <td>Australia Aus</td>\n",
       "      <td>2002</td>\n",
       "      <td>-1</td>\n",
       "    </tr>\n",
       "  </tbody>\n",
       "</table>\n",
       "</div>"
      ],
      "text/plain": [
       "    Age     Salary  Rating       Location  Established Easy Apply\n",
       "0  44.0  $44k-$99k     5.4       India,In         1999       TRUE\n",
       "1  66.0  $55k-$66k     3.5    New York,Ny         2002       TRUE\n",
       "2   NaN  $77k-$89k    -1.0    New York,Ny           -1         -1\n",
       "3  64.0  $44k-$99k     4.4       India In         1988         -1\n",
       "4  25.0  $44k-$99k     6.4  Australia Aus         2002         -1"
      ]
     },
     "execution_count": 4,
     "metadata": {},
     "output_type": "execute_result"
    }
   ],
   "source": [
    "# modify the DataFrame in-place\n",
    "jobs.drop(columns = 'Index', inplace = True)\n",
    "jobs.head()"
   ]
  },
  {
   "cell_type": "markdown",
   "id": "49100f99",
   "metadata": {},
   "source": [
    "### Missing Values\n",
    "\n",
    "The original data set also contained some missing values. One way to check the number of missing values is to combine two methods `isnull()` and `sum()`.\n",
    "\n",
    "- `isnull()` returns `True` if a value is null, and `False` otherwise.\n",
    "- `sum()` adds up the `True` values. `True` evaluates to 1 and `False` evaluates to 0"
   ]
  },
  {
   "cell_type": "code",
   "execution_count": 5,
   "id": "e027231a",
   "metadata": {},
   "outputs": [
    {
     "data": {
      "text/plain": [
       "Age            7\n",
       "Salary         0\n",
       "Rating         1\n",
       "Location       0\n",
       "Established    0\n",
       "Easy Apply     0\n",
       "dtype: int64"
      ]
     },
     "execution_count": 5,
     "metadata": {},
     "output_type": "execute_result"
    }
   ],
   "source": [
    "jobs.isnull().sum()"
   ]
  },
  {
   "cell_type": "markdown",
   "id": "703c0e6b",
   "metadata": {},
   "source": [
    "We can see that this gives us 7 null values for the `Age` column, and 1 null value for the `Rating` column.\n",
    "\n",
    "We can drop rows or columns that contain missing values using `dropna()`. "
   ]
  },
  {
   "cell_type": "code",
   "execution_count": 6,
   "id": "355df9f5",
   "metadata": {},
   "outputs": [
    {
     "name": "stdout",
     "output_type": "stream",
     "text": [
      "     Age      Salary  Rating       Location  Established Easy Apply\n",
      "0   44.0   $44k-$99k     5.4       India,In         1999       TRUE\n",
      "1   66.0   $55k-$66k     3.5    New York,Ny         2002       TRUE\n",
      "3   64.0   $44k-$99k     4.4       India In         1988         -1\n",
      "4   25.0   $44k-$99k     6.4  Australia Aus         2002         -1\n",
      "5   44.0   $77k-$89k     1.4       India,In         1999       TRUE\n",
      "6   21.0   $44k-$99k     0.0    New York,Ny           -1         -1\n",
      "7   44.0   $44k-$99k    -1.0  Australia Aus           -1         -1\n",
      "8   35.0   $44k-$99k     5.4    New York,Ny           -1         -1\n",
      "9   22.0   $44k-$99k     7.7       India,In           -1       TRUE\n",
      "10  55.0   $10k-$49k     5.4       India,In         2008       TRUE\n",
      "11  44.0   $10k-$49k     6.7       India,In         2009         -1\n",
      "13  25.0   $44k-$99k    -1.0  Australia Aus         2019       TRUE\n",
      "14  66.0   $44k-$99k     4.0  Australia Aus         2020       TRUE\n",
      "15  44.0  $88k-$101k     3.0  Australia Aus         1999         -1\n",
      "16  19.0   $19k-$40k     4.5       India,In         1984         -1\n",
      "18  35.0   $44k-$99k     6.7    New York,Ny         1954       TRUE\n",
      "19  32.0   $44k-$99k     3.3    New York,Ny         1955       TRUE\n",
      "21  35.0   $44k-$99k     5.0    New York,Ny         1946         -1\n",
      "22  19.0   $55k-$66k     7.8    New York,Ny         1988       TRUE\n",
      "24  13.0   $44k-$99k    -1.0    New York,Ny         1987         -1\n",
      "25  55.0   $44k-$99k     0.0  Australia Aus         1980       TRUE\n",
      "27  52.0   $44k-$99k     5.4       India,In         1935         -1\n"
     ]
    }
   ],
   "source": [
    "# drop rows that contain any null values\n",
    "jobs_dropByRow = jobs.dropna()\n",
    "print(jobs_dropByRow)\n",
    "\n"
   ]
  },
  {
   "cell_type": "code",
   "execution_count": 7,
   "id": "770ebb0c",
   "metadata": {},
   "outputs": [
    {
     "name": "stdout",
     "output_type": "stream",
     "text": [
      "        Salary       Location  Established Easy Apply\n",
      "0    $44k-$99k       India,In         1999       TRUE\n",
      "1    $55k-$66k    New York,Ny         2002       TRUE\n",
      "2    $77k-$89k    New York,Ny           -1         -1\n",
      "3    $44k-$99k       India In         1988         -1\n",
      "4    $44k-$99k  Australia Aus         2002         -1\n",
      "5    $77k-$89k       India,In         1999       TRUE\n",
      "6    $44k-$99k    New York,Ny           -1         -1\n",
      "7    $44k-$99k  Australia Aus           -1         -1\n",
      "8    $44k-$99k    New York,Ny           -1         -1\n",
      "9    $44k-$99k       India,In           -1       TRUE\n",
      "10   $10k-$49k       India,In         2008       TRUE\n",
      "11   $10k-$49k       India,In         2009         -1\n",
      "12   $44k-$99k       India,In         1999         -1\n",
      "13   $44k-$99k  Australia Aus         2019       TRUE\n",
      "14   $44k-$99k  Australia Aus         2020       TRUE\n",
      "15  $88k-$101k  Australia Aus         1999         -1\n",
      "16   $19k-$40k       India,In         1984         -1\n",
      "17   $44k-$99k    New York,Ny         1943       TRUE\n",
      "18   $44k-$99k    New York,Ny         1954       TRUE\n",
      "19   $44k-$99k    New York,Ny         1955       TRUE\n",
      "20   $44k-$99k    New York,Ny         1944       TRUE\n",
      "21   $44k-$99k    New York,Ny         1946         -1\n",
      "22   $55k-$66k    New York,Ny         1988       TRUE\n",
      "23   $44k-$99k    New York,Ny         1999       TRUE\n",
      "24   $44k-$99k    New York,Ny         1987         -1\n",
      "25   $44k-$99k  Australia Aus         1980       TRUE\n",
      "26   $55k-$66k       India,In         1934       TRUE\n",
      "27   $44k-$99k       India,In         1935         -1\n",
      "28   $39k-$88k  Australia Aus         1932         -1\n"
     ]
    }
   ],
   "source": [
    "# use the argument axis = 1 to drop column that contains any null values\n",
    "# (default is axis=0 meaning by row)\n",
    "jobs_dropByCol = jobs.dropna(axis=1)\n",
    "print(jobs_dropByCol)\n"
   ]
  },
  {
   "cell_type": "markdown",
   "id": "b8d58563",
   "metadata": {},
   "source": [
    "As you can see, this will just remove the missing values completely - but you might also lose data from the other rows and columns!\n",
    "\n",
    "### Missing Value Imputation\n",
    "\n",
    "A better strategy would be to **impute** the missing values with new values. Usually this would be an \"average\" value, or the most probable value for that particular attribute.\n",
    "\n",
    "For numerical values, it is usually the *mean* or *median*, and for categorical values the category that occurs most frequently.\n",
    "\n",
    "For example we could impute the mean age from the data set into any missing `Age` values. "
   ]
  },
  {
   "cell_type": "code",
   "execution_count": 8,
   "id": "9139ff26",
   "metadata": {},
   "outputs": [],
   "source": [
    "# impute mean into missing values using fillna()\n",
    "jobs['Age'].fillna(jobs['Age'].mean(), inplace = True)"
   ]
  },
  {
   "cell_type": "code",
   "execution_count": 9,
   "id": "b8433503",
   "metadata": {},
   "outputs": [
    {
     "name": "stdout",
     "output_type": "stream",
     "text": [
      "          Age      Salary  Rating       Location  Established Easy Apply\n",
      "0   44.000000   $44k-$99k     5.4       India,In         1999       TRUE\n",
      "1   66.000000   $55k-$66k     3.5    New York,Ny         2002       TRUE\n",
      "2   39.045455   $77k-$89k    -1.0    New York,Ny           -1         -1\n",
      "3   64.000000   $44k-$99k     4.4       India In         1988         -1\n",
      "4   25.000000   $44k-$99k     6.4  Australia Aus         2002         -1\n",
      "5   44.000000   $77k-$89k     1.4       India,In         1999       TRUE\n",
      "6   21.000000   $44k-$99k     0.0    New York,Ny           -1         -1\n",
      "7   44.000000   $44k-$99k    -1.0  Australia Aus           -1         -1\n",
      "8   35.000000   $44k-$99k     5.4    New York,Ny           -1         -1\n",
      "9   22.000000   $44k-$99k     7.7       India,In           -1       TRUE\n",
      "10  55.000000   $10k-$49k     5.4       India,In         2008       TRUE\n",
      "11  44.000000   $10k-$49k     6.7       India,In         2009         -1\n",
      "12  39.045455   $44k-$99k     0.0       India,In         1999         -1\n",
      "13  25.000000   $44k-$99k    -1.0  Australia Aus         2019       TRUE\n",
      "14  66.000000   $44k-$99k     4.0  Australia Aus         2020       TRUE\n",
      "15  44.000000  $88k-$101k     3.0  Australia Aus         1999         -1\n",
      "16  19.000000   $19k-$40k     4.5       India,In         1984         -1\n",
      "17  39.045455   $44k-$99k     5.3    New York,Ny         1943       TRUE\n",
      "18  35.000000   $44k-$99k     6.7    New York,Ny         1954       TRUE\n",
      "19  32.000000   $44k-$99k     3.3    New York,Ny         1955       TRUE\n",
      "20  39.045455   $44k-$99k     5.7    New York,Ny         1944       TRUE\n",
      "21  35.000000   $44k-$99k     5.0    New York,Ny         1946         -1\n",
      "22  19.000000   $55k-$66k     7.8    New York,Ny         1988       TRUE\n",
      "23  39.045455   $44k-$99k     2.4    New York,Ny         1999       TRUE\n",
      "24  13.000000   $44k-$99k    -1.0    New York,Ny         1987         -1\n",
      "25  55.000000   $44k-$99k     0.0  Australia Aus         1980       TRUE\n",
      "26  39.045455   $55k-$66k     NaN       India,In         1934       TRUE\n",
      "27  52.000000   $44k-$99k     5.4       India,In         1935         -1\n",
      "28  39.045455   $39k-$88k     3.4  Australia Aus         1932         -1\n"
     ]
    }
   ],
   "source": [
    "print(jobs)"
   ]
  },
  {
   "cell_type": "markdown",
   "id": "30b5a4cb",
   "metadata": {},
   "source": [
    "As you can see, this maintains the total number of rows as 29. However some of the age values now have the mean value `39.045455`. This may not be very meaningful."
   ]
  },
  {
   "cell_type": "markdown",
   "id": "a137b4c9",
   "metadata": {},
   "source": [
    "### Data Type Conversion\n",
    "\n",
    "We can convert the data types of a column using the `astype()` method. For example to convert the `Age` column from `float` to `int`."
   ]
  },
  {
   "cell_type": "code",
   "execution_count": 50,
   "id": "d4f3a134",
   "metadata": {},
   "outputs": [
    {
     "data": {
      "text/html": [
       "<div>\n",
       "<style scoped>\n",
       "    .dataframe tbody tr th:only-of-type {\n",
       "        vertical-align: middle;\n",
       "    }\n",
       "\n",
       "    .dataframe tbody tr th {\n",
       "        vertical-align: top;\n",
       "    }\n",
       "\n",
       "    .dataframe thead th {\n",
       "        text-align: right;\n",
       "    }\n",
       "</style>\n",
       "<table border=\"1\" class=\"dataframe\">\n",
       "  <thead>\n",
       "    <tr style=\"text-align: right;\">\n",
       "      <th></th>\n",
       "      <th>Age</th>\n",
       "      <th>Salary</th>\n",
       "      <th>Rating</th>\n",
       "      <th>Location</th>\n",
       "      <th>Established</th>\n",
       "      <th>Easy Apply</th>\n",
       "      <th>Min Salary</th>\n",
       "      <th>Max Salary</th>\n",
       "      <th>Est Salary</th>\n",
       "    </tr>\n",
       "  </thead>\n",
       "  <tbody>\n",
       "    <tr>\n",
       "      <th>0</th>\n",
       "      <td>44</td>\n",
       "      <td>$44k-$99k</td>\n",
       "      <td>5.4</td>\n",
       "      <td>India</td>\n",
       "      <td>1999.0</td>\n",
       "      <td>True</td>\n",
       "      <td>44</td>\n",
       "      <td>99</td>\n",
       "      <td>71.5</td>\n",
       "    </tr>\n",
       "    <tr>\n",
       "      <th>1</th>\n",
       "      <td>66</td>\n",
       "      <td>$55k-$66k</td>\n",
       "      <td>3.5</td>\n",
       "      <td>New York</td>\n",
       "      <td>2002.0</td>\n",
       "      <td>True</td>\n",
       "      <td>55</td>\n",
       "      <td>66</td>\n",
       "      <td>60.5</td>\n",
       "    </tr>\n",
       "    <tr>\n",
       "      <th>2</th>\n",
       "      <td>39</td>\n",
       "      <td>$77k-$89k</td>\n",
       "      <td>NaN</td>\n",
       "      <td>New York</td>\n",
       "      <td>NaN</td>\n",
       "      <td>False</td>\n",
       "      <td>77</td>\n",
       "      <td>89</td>\n",
       "      <td>83.0</td>\n",
       "    </tr>\n",
       "    <tr>\n",
       "      <th>3</th>\n",
       "      <td>64</td>\n",
       "      <td>$44k-$99k</td>\n",
       "      <td>4.4</td>\n",
       "      <td>India</td>\n",
       "      <td>1988.0</td>\n",
       "      <td>False</td>\n",
       "      <td>44</td>\n",
       "      <td>99</td>\n",
       "      <td>71.5</td>\n",
       "    </tr>\n",
       "    <tr>\n",
       "      <th>4</th>\n",
       "      <td>25</td>\n",
       "      <td>$44k-$99k</td>\n",
       "      <td>6.4</td>\n",
       "      <td>Australia</td>\n",
       "      <td>2002.0</td>\n",
       "      <td>False</td>\n",
       "      <td>44</td>\n",
       "      <td>99</td>\n",
       "      <td>71.5</td>\n",
       "    </tr>\n",
       "  </tbody>\n",
       "</table>\n",
       "</div>"
      ],
      "text/plain": [
       "   Age     Salary  Rating   Location  Established  Easy Apply  Min Salary  \\\n",
       "0   44  $44k-$99k     5.4      India       1999.0        True          44   \n",
       "1   66  $55k-$66k     3.5   New York       2002.0        True          55   \n",
       "2   39  $77k-$89k     NaN   New York          NaN       False          77   \n",
       "3   64  $44k-$99k     4.4      India       1988.0       False          44   \n",
       "4   25  $44k-$99k     6.4  Australia       2002.0       False          44   \n",
       "\n",
       "   Max Salary  Est Salary  \n",
       "0          99        71.5  \n",
       "1          66        60.5  \n",
       "2          89        83.0  \n",
       "3          99        71.5  \n",
       "4          99        71.5  "
      ]
     },
     "execution_count": 50,
     "metadata": {},
     "output_type": "execute_result"
    }
   ],
   "source": [
    "# replace the values in the 'Age column with the values converted to int'\n",
    "jobs['Age'] = jobs['Age'].astype('int')\n",
    "\n",
    "# check the results\n",
    "jobs.head()"
   ]
  },
  {
   "cell_type": "markdown",
   "id": "69a43482",
   "metadata": {},
   "source": [
    "### Replacing Values\n",
    "\n",
    "Another useful Pandas method is `replace()` which will replace existing values with new ones to make sure that the data is consistent.\n",
    "\n",
    "For example, the values in `Location` are not very consistent."
   ]
  },
  {
   "cell_type": "code",
   "execution_count": 11,
   "id": "80076724",
   "metadata": {},
   "outputs": [
    {
     "data": {
      "text/plain": [
       "New York,Ny      12\n",
       "India,In          9\n",
       "Australia Aus     7\n",
       "India In          1\n",
       "Name: Location, dtype: int64"
      ]
     },
     "execution_count": 11,
     "metadata": {},
     "output_type": "execute_result"
    }
   ],
   "source": [
    "# count the number of each value\n",
    "jobs['Location'].value_counts()"
   ]
  },
  {
   "cell_type": "markdown",
   "id": "3a067846",
   "metadata": {},
   "source": [
    "Some of the locations are recorded with a comma and some without. It also seems redundant to store an acronym of the location, such as 'New York, Ny' and 'India, In'. Let's just use the `replace` method.\n",
    "\n",
    "Regular expressions are used to match strings.  \n",
    "\n",
    "The regular expression `'India.*'` means a string that starts with the letters 'India' followed by any character, any number of times. So this would help to match `India,In` and `India In`. \n",
    "\n",
    "We are using the argument `regex=True` to indicate that the letters to be replaced are defined using regular expressions.\n",
    "\n",
    "Computer Hope explains more about [Regular Expressions](https://www.computerhope.com/jargon/r/regex.htm). \n",
    "\n"
   ]
  },
  {
   "cell_type": "code",
   "execution_count": 12,
   "id": "4a7e3241",
   "metadata": {},
   "outputs": [],
   "source": [
    "# replace any location starting with the letters 'New York' with just 'New York',\n",
    "# any location starting with the letters 'India' with 'India'\n",
    "# any location starting with the letters 'Australia' with 'Australia'.\n",
    "jobs['Location'].replace('India.*', 'India', regex = True, inplace = True)\n",
    "jobs['Location'].replace('New York.*', 'New York', regex = True, inplace = True)\n",
    "jobs['Location'].replace('Australia.*', 'Australia', regex = True, inplace = True)\n"
   ]
  },
  {
   "cell_type": "markdown",
   "id": "1448525e",
   "metadata": {},
   "source": [
    "### Replacing with Lists\n",
    "\n",
    "We can also notice that the values in `Easy Apply` are either 'TRUE' or '-1'. Let's check by counting the values of each."
   ]
  },
  {
   "cell_type": "code",
   "execution_count": 13,
   "id": "b53b1fdd",
   "metadata": {},
   "outputs": [
    {
     "data": {
      "text/plain": [
       "TRUE    15\n",
       "-1      14\n",
       "Name: Easy Apply, dtype: int64"
      ]
     },
     "execution_count": 13,
     "metadata": {},
     "output_type": "execute_result"
    }
   ],
   "source": [
    "jobs['Easy Apply'].value_counts()\n"
   ]
  },
  {
   "cell_type": "markdown",
   "id": "7f14fac8",
   "metadata": {},
   "source": [
    "We can use the `replace` method to replace the value '-1' with the Boolean value `False` and the string value 'TRUE' with the Boolean value `True`. We can pass both the values to be replaced and the new values as lists to the method."
   ]
  },
  {
   "cell_type": "code",
   "execution_count": 14,
   "id": "de25a211",
   "metadata": {},
   "outputs": [
    {
     "data": {
      "text/html": [
       "<div>\n",
       "<style scoped>\n",
       "    .dataframe tbody tr th:only-of-type {\n",
       "        vertical-align: middle;\n",
       "    }\n",
       "\n",
       "    .dataframe tbody tr th {\n",
       "        vertical-align: top;\n",
       "    }\n",
       "\n",
       "    .dataframe thead th {\n",
       "        text-align: right;\n",
       "    }\n",
       "</style>\n",
       "<table border=\"1\" class=\"dataframe\">\n",
       "  <thead>\n",
       "    <tr style=\"text-align: right;\">\n",
       "      <th></th>\n",
       "      <th>Age</th>\n",
       "      <th>Salary</th>\n",
       "      <th>Rating</th>\n",
       "      <th>Location</th>\n",
       "      <th>Established</th>\n",
       "      <th>Easy Apply</th>\n",
       "    </tr>\n",
       "  </thead>\n",
       "  <tbody>\n",
       "    <tr>\n",
       "      <th>0</th>\n",
       "      <td>44</td>\n",
       "      <td>$44k-$99k</td>\n",
       "      <td>5.4</td>\n",
       "      <td>India</td>\n",
       "      <td>1999</td>\n",
       "      <td>True</td>\n",
       "    </tr>\n",
       "    <tr>\n",
       "      <th>1</th>\n",
       "      <td>66</td>\n",
       "      <td>$55k-$66k</td>\n",
       "      <td>3.5</td>\n",
       "      <td>New York</td>\n",
       "      <td>2002</td>\n",
       "      <td>True</td>\n",
       "    </tr>\n",
       "    <tr>\n",
       "      <th>2</th>\n",
       "      <td>39</td>\n",
       "      <td>$77k-$89k</td>\n",
       "      <td>-1.0</td>\n",
       "      <td>New York</td>\n",
       "      <td>-1</td>\n",
       "      <td>False</td>\n",
       "    </tr>\n",
       "    <tr>\n",
       "      <th>3</th>\n",
       "      <td>64</td>\n",
       "      <td>$44k-$99k</td>\n",
       "      <td>4.4</td>\n",
       "      <td>India</td>\n",
       "      <td>1988</td>\n",
       "      <td>False</td>\n",
       "    </tr>\n",
       "    <tr>\n",
       "      <th>4</th>\n",
       "      <td>25</td>\n",
       "      <td>$44k-$99k</td>\n",
       "      <td>6.4</td>\n",
       "      <td>Australia</td>\n",
       "      <td>2002</td>\n",
       "      <td>False</td>\n",
       "    </tr>\n",
       "  </tbody>\n",
       "</table>\n",
       "</div>"
      ],
      "text/plain": [
       "   Age     Salary  Rating   Location  Established  Easy Apply\n",
       "0   44  $44k-$99k     5.4      India         1999        True\n",
       "1   66  $55k-$66k     3.5   New York         2002        True\n",
       "2   39  $77k-$89k    -1.0   New York           -1       False\n",
       "3   64  $44k-$99k     4.4      India         1988       False\n",
       "4   25  $44k-$99k     6.4  Australia         2002       False"
      ]
     },
     "execution_count": 14,
     "metadata": {},
     "output_type": "execute_result"
    }
   ],
   "source": [
    "# replace values in the Easy Apply column\n",
    "# -1 should be replaced with False, 'TRUE' should be replaced with True.\n",
    "jobs['Easy Apply'].replace(['-1','TRUE'],[False, True], inplace = True)\n",
    "jobs.head()"
   ]
  },
  {
   "cell_type": "markdown",
   "id": "81eeb1c7",
   "metadata": {},
   "source": [
    "Check the type now to ensure the column stores Boolean values:"
   ]
  },
  {
   "cell_type": "code",
   "execution_count": 15,
   "id": "1b75378c",
   "metadata": {},
   "outputs": [
    {
     "data": {
      "text/plain": [
       "Age              int32\n",
       "Salary          object\n",
       "Rating         float64\n",
       "Location        object\n",
       "Established      int64\n",
       "Easy Apply        bool\n",
       "dtype: object"
      ]
     },
     "execution_count": 15,
     "metadata": {},
     "output_type": "execute_result"
    }
   ],
   "source": [
    "jobs.dtypes"
   ]
  },
  {
   "cell_type": "markdown",
   "id": "84f5c197",
   "metadata": {},
   "source": [
    "### Replacing with Null values\n",
    "\n",
    "We can also replace a value with `NaN`, which means 'Not a Number', or a null, or missing value. Although we dropped or imputed missing values earlier, sometimes it might be better to keep the value as missing rather than an invalid value.\n",
    "\n",
    "For example, there are several values in the `Rating` column and `Established` column which are -1. Keeping the value as -1 might cause calculations or plotting to be not meaningful.\n",
    "\n",
    "We can use the `numpy` library to obtain the `NaN` value as `numpy` is usually used for numerical calculations. "
   ]
  },
  {
   "cell_type": "code",
   "execution_count": 16,
   "id": "eef0c06b",
   "metadata": {},
   "outputs": [
    {
     "name": "stdout",
     "output_type": "stream",
     "text": [
      "    Age      Salary  Rating   Location  Established  Easy Apply\n",
      "0    44   $44k-$99k     5.4      India       1999.0        True\n",
      "1    66   $55k-$66k     3.5   New York       2002.0        True\n",
      "2    39   $77k-$89k     NaN   New York          NaN       False\n",
      "3    64   $44k-$99k     4.4      India       1988.0       False\n",
      "4    25   $44k-$99k     6.4  Australia       2002.0       False\n",
      "5    44   $77k-$89k     1.4      India       1999.0        True\n",
      "6    21   $44k-$99k     0.0   New York          NaN       False\n",
      "7    44   $44k-$99k     NaN  Australia          NaN       False\n",
      "8    35   $44k-$99k     5.4   New York          NaN       False\n",
      "9    22   $44k-$99k     7.7      India          NaN        True\n",
      "10   55   $10k-$49k     5.4      India       2008.0        True\n",
      "11   44   $10k-$49k     6.7      India       2009.0       False\n",
      "12   39   $44k-$99k     0.0      India       1999.0       False\n",
      "13   25   $44k-$99k     NaN  Australia       2019.0        True\n",
      "14   66   $44k-$99k     4.0  Australia       2020.0        True\n",
      "15   44  $88k-$101k     3.0  Australia       1999.0       False\n",
      "16   19   $19k-$40k     4.5      India       1984.0       False\n",
      "17   39   $44k-$99k     5.3   New York       1943.0        True\n",
      "18   35   $44k-$99k     6.7   New York       1954.0        True\n",
      "19   32   $44k-$99k     3.3   New York       1955.0        True\n",
      "20   39   $44k-$99k     5.7   New York       1944.0        True\n",
      "21   35   $44k-$99k     5.0   New York       1946.0       False\n",
      "22   19   $55k-$66k     7.8   New York       1988.0        True\n",
      "23   39   $44k-$99k     2.4   New York       1999.0        True\n",
      "24   13   $44k-$99k     NaN   New York       1987.0       False\n",
      "25   55   $44k-$99k     0.0  Australia       1980.0        True\n",
      "26   39   $55k-$66k     NaN      India       1934.0        True\n",
      "27   52   $44k-$99k     5.4      India       1935.0       False\n",
      "28   39   $39k-$88k     3.4  Australia       1932.0       False\n"
     ]
    }
   ],
   "source": [
    "import numpy as np\n",
    "\n",
    "jobs['Rating'].replace(-1,np.NaN, inplace = True )\n",
    "jobs['Established'].replace(-1, np.NaN, inplace = True)\n",
    "print(jobs)"
   ]
  },
  {
   "cell_type": "markdown",
   "id": "271a874a",
   "metadata": {},
   "source": [
    "### Splitting Data\n",
    "\n",
    "Another common data wrangling task would be to split data into more than one column, especially if it has been recorded as a string.\n",
    "\n",
    "For example, the `Salary` column contains a string with a lower and upper bound for salary values. However, it might be more useful if the salary was a numeric value so that we could calculate the *mean* or *median* salary.\n",
    "\n",
    "We can use the string `split()` function for this, by specifying *where* we want to split the string.\n",
    "The `expand=` argument also indicates that we want to expand the values into more than one column.\n",
    "\n",
    "We can define the two new columns which are the results of the split."
   ]
  },
  {
   "cell_type": "code",
   "execution_count": 17,
   "id": "86893fac",
   "metadata": {},
   "outputs": [
    {
     "data": {
      "text/html": [
       "<div>\n",
       "<style scoped>\n",
       "    .dataframe tbody tr th:only-of-type {\n",
       "        vertical-align: middle;\n",
       "    }\n",
       "\n",
       "    .dataframe tbody tr th {\n",
       "        vertical-align: top;\n",
       "    }\n",
       "\n",
       "    .dataframe thead th {\n",
       "        text-align: right;\n",
       "    }\n",
       "</style>\n",
       "<table border=\"1\" class=\"dataframe\">\n",
       "  <thead>\n",
       "    <tr style=\"text-align: right;\">\n",
       "      <th></th>\n",
       "      <th>Age</th>\n",
       "      <th>Salary</th>\n",
       "      <th>Rating</th>\n",
       "      <th>Location</th>\n",
       "      <th>Established</th>\n",
       "      <th>Easy Apply</th>\n",
       "      <th>Min Salary</th>\n",
       "      <th>Max Salary</th>\n",
       "    </tr>\n",
       "  </thead>\n",
       "  <tbody>\n",
       "    <tr>\n",
       "      <th>0</th>\n",
       "      <td>44</td>\n",
       "      <td>$44k-$99k</td>\n",
       "      <td>5.4</td>\n",
       "      <td>India</td>\n",
       "      <td>1999.0</td>\n",
       "      <td>True</td>\n",
       "      <td>$44k</td>\n",
       "      <td>$99k</td>\n",
       "    </tr>\n",
       "    <tr>\n",
       "      <th>1</th>\n",
       "      <td>66</td>\n",
       "      <td>$55k-$66k</td>\n",
       "      <td>3.5</td>\n",
       "      <td>New York</td>\n",
       "      <td>2002.0</td>\n",
       "      <td>True</td>\n",
       "      <td>$55k</td>\n",
       "      <td>$66k</td>\n",
       "    </tr>\n",
       "    <tr>\n",
       "      <th>2</th>\n",
       "      <td>39</td>\n",
       "      <td>$77k-$89k</td>\n",
       "      <td>NaN</td>\n",
       "      <td>New York</td>\n",
       "      <td>NaN</td>\n",
       "      <td>False</td>\n",
       "      <td>$77k</td>\n",
       "      <td>$89k</td>\n",
       "    </tr>\n",
       "    <tr>\n",
       "      <th>3</th>\n",
       "      <td>64</td>\n",
       "      <td>$44k-$99k</td>\n",
       "      <td>4.4</td>\n",
       "      <td>India</td>\n",
       "      <td>1988.0</td>\n",
       "      <td>False</td>\n",
       "      <td>$44k</td>\n",
       "      <td>$99k</td>\n",
       "    </tr>\n",
       "    <tr>\n",
       "      <th>4</th>\n",
       "      <td>25</td>\n",
       "      <td>$44k-$99k</td>\n",
       "      <td>6.4</td>\n",
       "      <td>Australia</td>\n",
       "      <td>2002.0</td>\n",
       "      <td>False</td>\n",
       "      <td>$44k</td>\n",
       "      <td>$99k</td>\n",
       "    </tr>\n",
       "  </tbody>\n",
       "</table>\n",
       "</div>"
      ],
      "text/plain": [
       "   Age     Salary  Rating   Location  Established  Easy Apply Min Salary  \\\n",
       "0   44  $44k-$99k     5.4      India       1999.0        True       $44k   \n",
       "1   66  $55k-$66k     3.5   New York       2002.0        True       $55k   \n",
       "2   39  $77k-$89k     NaN   New York          NaN       False       $77k   \n",
       "3   64  $44k-$99k     4.4      India       1988.0       False       $44k   \n",
       "4   25  $44k-$99k     6.4  Australia       2002.0       False       $44k   \n",
       "\n",
       "  Max Salary  \n",
       "0       $99k  \n",
       "1       $66k  \n",
       "2       $89k  \n",
       "3       $99k  \n",
       "4       $99k  "
      ]
     },
     "execution_count": 17,
     "metadata": {},
     "output_type": "execute_result"
    }
   ],
   "source": [
    "# Split the Salary and add two new columns\n",
    "jobs[['Min Salary', 'Max Salary']] = jobs['Salary'].str.split('-', n = 1, expand = True)\n",
    "jobs.head()"
   ]
  },
  {
   "cell_type": "markdown",
   "id": "71acb031",
   "metadata": {},
   "source": [
    "Check the types of the new columns:"
   ]
  },
  {
   "cell_type": "code",
   "execution_count": 18,
   "id": "29226b16",
   "metadata": {},
   "outputs": [
    {
     "data": {
      "text/plain": [
       "Age              int32\n",
       "Salary          object\n",
       "Rating         float64\n",
       "Location        object\n",
       "Established    float64\n",
       "Easy Apply        bool\n",
       "Min Salary      object\n",
       "Max Salary      object\n",
       "dtype: object"
      ]
     },
     "execution_count": 18,
     "metadata": {},
     "output_type": "execute_result"
    }
   ],
   "source": [
    "jobs.dtypes"
   ]
  },
  {
   "cell_type": "markdown",
   "id": "e54fddd5",
   "metadata": {},
   "source": [
    "Since `Min Salary` and `Max Salary` are string objects, let's convert them to integer values. We can use the `astype()` method again, but before that let's strip the 'k' and '$' characters from the right and left sides respectively."
   ]
  },
  {
   "cell_type": "code",
   "execution_count": 19,
   "id": "c880fa34",
   "metadata": {},
   "outputs": [],
   "source": [
    "# remove the extra characters from Min Salary and convert to an integer\n",
    "jobs['Min Salary'] = jobs['Min Salary'].str.rstrip('k')\n",
    "jobs['Min Salary'] = jobs['Min Salary'].str.lstrip('$')\n",
    "jobs['Min Salary'] = jobs['Min Salary'].astype(int)\n",
    "\n",
    "# do the same for Max Salary\n",
    "jobs['Max Salary'] = jobs['Max Salary'].str.rstrip('k')\n",
    "jobs['Max Salary'] = jobs['Max Salary'].str.lstrip('$')\n",
    "jobs['Max Salary'] = jobs['Max Salary'].astype(int)\n"
   ]
  },
  {
   "cell_type": "code",
   "execution_count": 20,
   "id": "df187853",
   "metadata": {},
   "outputs": [
    {
     "data": {
      "text/html": [
       "<div>\n",
       "<style scoped>\n",
       "    .dataframe tbody tr th:only-of-type {\n",
       "        vertical-align: middle;\n",
       "    }\n",
       "\n",
       "    .dataframe tbody tr th {\n",
       "        vertical-align: top;\n",
       "    }\n",
       "\n",
       "    .dataframe thead th {\n",
       "        text-align: right;\n",
       "    }\n",
       "</style>\n",
       "<table border=\"1\" class=\"dataframe\">\n",
       "  <thead>\n",
       "    <tr style=\"text-align: right;\">\n",
       "      <th></th>\n",
       "      <th>Age</th>\n",
       "      <th>Salary</th>\n",
       "      <th>Rating</th>\n",
       "      <th>Location</th>\n",
       "      <th>Established</th>\n",
       "      <th>Easy Apply</th>\n",
       "      <th>Min Salary</th>\n",
       "      <th>Max Salary</th>\n",
       "    </tr>\n",
       "  </thead>\n",
       "  <tbody>\n",
       "    <tr>\n",
       "      <th>0</th>\n",
       "      <td>44</td>\n",
       "      <td>$44k-$99k</td>\n",
       "      <td>5.4</td>\n",
       "      <td>India</td>\n",
       "      <td>1999.0</td>\n",
       "      <td>True</td>\n",
       "      <td>44</td>\n",
       "      <td>99</td>\n",
       "    </tr>\n",
       "    <tr>\n",
       "      <th>1</th>\n",
       "      <td>66</td>\n",
       "      <td>$55k-$66k</td>\n",
       "      <td>3.5</td>\n",
       "      <td>New York</td>\n",
       "      <td>2002.0</td>\n",
       "      <td>True</td>\n",
       "      <td>55</td>\n",
       "      <td>66</td>\n",
       "    </tr>\n",
       "    <tr>\n",
       "      <th>2</th>\n",
       "      <td>39</td>\n",
       "      <td>$77k-$89k</td>\n",
       "      <td>NaN</td>\n",
       "      <td>New York</td>\n",
       "      <td>NaN</td>\n",
       "      <td>False</td>\n",
       "      <td>77</td>\n",
       "      <td>89</td>\n",
       "    </tr>\n",
       "    <tr>\n",
       "      <th>3</th>\n",
       "      <td>64</td>\n",
       "      <td>$44k-$99k</td>\n",
       "      <td>4.4</td>\n",
       "      <td>India</td>\n",
       "      <td>1988.0</td>\n",
       "      <td>False</td>\n",
       "      <td>44</td>\n",
       "      <td>99</td>\n",
       "    </tr>\n",
       "    <tr>\n",
       "      <th>4</th>\n",
       "      <td>25</td>\n",
       "      <td>$44k-$99k</td>\n",
       "      <td>6.4</td>\n",
       "      <td>Australia</td>\n",
       "      <td>2002.0</td>\n",
       "      <td>False</td>\n",
       "      <td>44</td>\n",
       "      <td>99</td>\n",
       "    </tr>\n",
       "  </tbody>\n",
       "</table>\n",
       "</div>"
      ],
      "text/plain": [
       "   Age     Salary  Rating   Location  Established  Easy Apply  Min Salary  \\\n",
       "0   44  $44k-$99k     5.4      India       1999.0        True          44   \n",
       "1   66  $55k-$66k     3.5   New York       2002.0        True          55   \n",
       "2   39  $77k-$89k     NaN   New York          NaN       False          77   \n",
       "3   64  $44k-$99k     4.4      India       1988.0       False          44   \n",
       "4   25  $44k-$99k     6.4  Australia       2002.0       False          44   \n",
       "\n",
       "   Max Salary  \n",
       "0          99  \n",
       "1          66  \n",
       "2          89  \n",
       "3          99  \n",
       "4          99  "
      ]
     },
     "execution_count": 20,
     "metadata": {},
     "output_type": "execute_result"
    }
   ],
   "source": [
    "jobs.head()"
   ]
  },
  {
   "cell_type": "markdown",
   "id": "b3dd832a",
   "metadata": {},
   "source": [
    "Now we can calculate the estimated salary to be the midpoint of the `Min Salary` and `Max Salary`."
   ]
  },
  {
   "cell_type": "code",
   "execution_count": 21,
   "id": "84d1508d",
   "metadata": {},
   "outputs": [
    {
     "data": {
      "text/html": [
       "<div>\n",
       "<style scoped>\n",
       "    .dataframe tbody tr th:only-of-type {\n",
       "        vertical-align: middle;\n",
       "    }\n",
       "\n",
       "    .dataframe tbody tr th {\n",
       "        vertical-align: top;\n",
       "    }\n",
       "\n",
       "    .dataframe thead th {\n",
       "        text-align: right;\n",
       "    }\n",
       "</style>\n",
       "<table border=\"1\" class=\"dataframe\">\n",
       "  <thead>\n",
       "    <tr style=\"text-align: right;\">\n",
       "      <th></th>\n",
       "      <th>Age</th>\n",
       "      <th>Salary</th>\n",
       "      <th>Rating</th>\n",
       "      <th>Location</th>\n",
       "      <th>Established</th>\n",
       "      <th>Easy Apply</th>\n",
       "      <th>Min Salary</th>\n",
       "      <th>Max Salary</th>\n",
       "      <th>Est Salary</th>\n",
       "    </tr>\n",
       "  </thead>\n",
       "  <tbody>\n",
       "    <tr>\n",
       "      <th>0</th>\n",
       "      <td>44</td>\n",
       "      <td>$44k-$99k</td>\n",
       "      <td>5.4</td>\n",
       "      <td>India</td>\n",
       "      <td>1999.0</td>\n",
       "      <td>True</td>\n",
       "      <td>44</td>\n",
       "      <td>99</td>\n",
       "      <td>71.5</td>\n",
       "    </tr>\n",
       "    <tr>\n",
       "      <th>1</th>\n",
       "      <td>66</td>\n",
       "      <td>$55k-$66k</td>\n",
       "      <td>3.5</td>\n",
       "      <td>New York</td>\n",
       "      <td>2002.0</td>\n",
       "      <td>True</td>\n",
       "      <td>55</td>\n",
       "      <td>66</td>\n",
       "      <td>60.5</td>\n",
       "    </tr>\n",
       "    <tr>\n",
       "      <th>2</th>\n",
       "      <td>39</td>\n",
       "      <td>$77k-$89k</td>\n",
       "      <td>NaN</td>\n",
       "      <td>New York</td>\n",
       "      <td>NaN</td>\n",
       "      <td>False</td>\n",
       "      <td>77</td>\n",
       "      <td>89</td>\n",
       "      <td>83.0</td>\n",
       "    </tr>\n",
       "    <tr>\n",
       "      <th>3</th>\n",
       "      <td>64</td>\n",
       "      <td>$44k-$99k</td>\n",
       "      <td>4.4</td>\n",
       "      <td>India</td>\n",
       "      <td>1988.0</td>\n",
       "      <td>False</td>\n",
       "      <td>44</td>\n",
       "      <td>99</td>\n",
       "      <td>71.5</td>\n",
       "    </tr>\n",
       "    <tr>\n",
       "      <th>4</th>\n",
       "      <td>25</td>\n",
       "      <td>$44k-$99k</td>\n",
       "      <td>6.4</td>\n",
       "      <td>Australia</td>\n",
       "      <td>2002.0</td>\n",
       "      <td>False</td>\n",
       "      <td>44</td>\n",
       "      <td>99</td>\n",
       "      <td>71.5</td>\n",
       "    </tr>\n",
       "  </tbody>\n",
       "</table>\n",
       "</div>"
      ],
      "text/plain": [
       "   Age     Salary  Rating   Location  Established  Easy Apply  Min Salary  \\\n",
       "0   44  $44k-$99k     5.4      India       1999.0        True          44   \n",
       "1   66  $55k-$66k     3.5   New York       2002.0        True          55   \n",
       "2   39  $77k-$89k     NaN   New York          NaN       False          77   \n",
       "3   64  $44k-$99k     4.4      India       1988.0       False          44   \n",
       "4   25  $44k-$99k     6.4  Australia       2002.0       False          44   \n",
       "\n",
       "   Max Salary  Est Salary  \n",
       "0          99        71.5  \n",
       "1          66        60.5  \n",
       "2          89        83.0  \n",
       "3          99        71.5  \n",
       "4          99        71.5  "
      ]
     },
     "execution_count": 21,
     "metadata": {},
     "output_type": "execute_result"
    }
   ],
   "source": [
    "# Calculate an Estimated Salary for each job, as a new column\n",
    "jobs['Est Salary'] = (jobs['Max Salary'] + jobs['Min Salary'])/2\n",
    "jobs.head()"
   ]
  },
  {
   "cell_type": "markdown",
   "id": "e2762767",
   "metadata": {},
   "source": [
    "## Plotting with Pandas\n",
    "\n",
    "Now that we have cleaned up the data, we can perform some simple plotting with Pandas.\n",
    "\n",
    "For example, creating a pie chart using `plot.pie`."
   ]
  },
  {
   "cell_type": "code",
   "execution_count": 22,
   "id": "28e9df05",
   "metadata": {},
   "outputs": [
    {
     "name": "stdout",
     "output_type": "stream",
     "text": [
      "New York     12\n",
      "India        10\n",
      "Australia     7\n",
      "Name: Location, dtype: int64\n",
      "Index(['New York', 'India', 'Australia'], dtype='object')\n"
     ]
    }
   ],
   "source": [
    "# obtain the value counts for each location\n",
    "jobs1 = jobs['Location'].value_counts()\n",
    "print(jobs1)\n",
    "print(jobs1.index)"
   ]
  },
  {
   "cell_type": "markdown",
   "id": "4dbb703a",
   "metadata": {},
   "source": [
    "Now that we have each of the locations, we can plot the values and use the index as the labels."
   ]
  },
  {
   "cell_type": "code",
   "execution_count": 23,
   "id": "e208b078",
   "metadata": {},
   "outputs": [
    {
     "data": {
      "text/plain": [
       "<AxesSubplot:ylabel='Location'>"
      ]
     },
     "execution_count": 23,
     "metadata": {},
     "output_type": "execute_result"
    },
    {
     "data": {
      "image/png": "[encoded data removed]",
      "text/plain": [
       "<Figure size 432x288 with 1 Axes>"
      ]
     },
     "metadata": {},
     "output_type": "display_data"
    }
   ],
   "source": [
    "\n",
    "# plot pie chart\n",
    "jobs1.plot.pie(labels = jobs1.index, autopct = '%.1f%%', \n",
    "               colors = [\"lightpink\", \"violet\", \"lightblue\"])\n"
   ]
  },
  {
   "cell_type": "markdown",
   "id": "3c569c84",
   "metadata": {},
   "source": [
    "### Bar Charts\n",
    "\n",
    "A bar chart can be created in Pandas by grouping the categorical data.\n",
    "\n",
    "For example, if we wanted to find the mean estimated salary by location and whether it is 'Easy Apply'."
   ]
  },
  {
   "cell_type": "code",
   "execution_count": 24,
   "id": "53fbf403",
   "metadata": {},
   "outputs": [
    {
     "data": {
      "text/plain": [
       "Location   Easy Apply\n",
       "Australia  False         75.250000\n",
       "           True          71.500000\n",
       "India      False         54.700000\n",
       "           True          63.200000\n",
       "New York   False         73.800000\n",
       "           True          68.357143\n",
       "Name: Est Salary, dtype: float64"
      ]
     },
     "execution_count": 24,
     "metadata": {},
     "output_type": "execute_result"
    }
   ],
   "source": [
    "# first find the mean salary grouped by 'Location', then 'Easy Apply' values\n",
    "meanSalary = jobs.groupby(['Location', 'Easy Apply'])['Est Salary'].mean()\n",
    "meanSalary"
   ]
  },
  {
   "cell_type": "markdown",
   "id": "93e06463",
   "metadata": {},
   "source": [
    "This gives us the mean salary grouped by Location, then whether it is Easy Apply. \n",
    "\n",
    "We can unstack the group so that there the rows are by Location, but 'Easy Apply' values are arranged in columns. This returns a DataFrame object. "
   ]
  },
  {
   "cell_type": "code",
   "execution_count": 25,
   "id": "199f1c64",
   "metadata": {},
   "outputs": [
    {
     "data": {
      "text/html": [
       "<div>\n",
       "<style scoped>\n",
       "    .dataframe tbody tr th:only-of-type {\n",
       "        vertical-align: middle;\n",
       "    }\n",
       "\n",
       "    .dataframe tbody tr th {\n",
       "        vertical-align: top;\n",
       "    }\n",
       "\n",
       "    .dataframe thead th {\n",
       "        text-align: right;\n",
       "    }\n",
       "</style>\n",
       "<table border=\"1\" class=\"dataframe\">\n",
       "  <thead>\n",
       "    <tr style=\"text-align: right;\">\n",
       "      <th>Easy Apply</th>\n",
       "      <th>False</th>\n",
       "      <th>True</th>\n",
       "    </tr>\n",
       "    <tr>\n",
       "      <th>Location</th>\n",
       "      <th></th>\n",
       "      <th></th>\n",
       "    </tr>\n",
       "  </thead>\n",
       "  <tbody>\n",
       "    <tr>\n",
       "      <th>Australia</th>\n",
       "      <td>75.25</td>\n",
       "      <td>71.500000</td>\n",
       "    </tr>\n",
       "    <tr>\n",
       "      <th>India</th>\n",
       "      <td>54.70</td>\n",
       "      <td>63.200000</td>\n",
       "    </tr>\n",
       "    <tr>\n",
       "      <th>New York</th>\n",
       "      <td>73.80</td>\n",
       "      <td>68.357143</td>\n",
       "    </tr>\n",
       "  </tbody>\n",
       "</table>\n",
       "</div>"
      ],
      "text/plain": [
       "Easy Apply  False       True\n",
       "Location                    \n",
       "Australia   75.25  71.500000\n",
       "India       54.70  63.200000\n",
       "New York    73.80  68.357143"
      ]
     },
     "execution_count": 25,
     "metadata": {},
     "output_type": "execute_result"
    }
   ],
   "source": [
    "# unstack so that the Easy Apply Values are arranged in columns\n",
    "meanSalaryByLocation = meanSalary.unstack()\n",
    "meanSalaryByLocation"
   ]
  },
  {
   "cell_type": "markdown",
   "id": "2a907df1",
   "metadata": {},
   "source": [
    "Now we can do a quick bar plot to show the mean salaries which are the values in each row."
   ]
  },
  {
   "cell_type": "code",
   "execution_count": 26,
   "id": "9f64d307",
   "metadata": {},
   "outputs": [
    {
     "data": {
      "text/plain": [
       "<AxesSubplot:xlabel='Location', ylabel='Mean Estimated Salary'>"
      ]
     },
     "execution_count": 26,
     "metadata": {},
     "output_type": "execute_result"
    },
    {
     "data": {
      "image/png": "[encoded data removed]",
      "text/plain": [
       "<Figure size 432x288 with 1 Axes>"
      ]
     },
     "metadata": {
      "needs_background": "light"
     },
     "output_type": "display_data"
    }
   ],
   "source": [
    "# Plot a bar chart \n",
    "meanSalaryByLocation.plot.bar(ylabel='Mean Estimated Salary')\n"
   ]
  },
  {
   "cell_type": "markdown",
   "id": "f25d5fee",
   "metadata": {},
   "source": [
    "### Stacked Bar Chart\n",
    "\n",
    "Let's try to create a stacked bar chart to show how many jobs are being counted. We can use the same groupby, but this time we use the `count()` function to count the number of rows."
   ]
  },
  {
   "cell_type": "code",
   "execution_count": 27,
   "id": "c3f6b069",
   "metadata": {},
   "outputs": [
    {
     "data": {
      "text/plain": [
       "Location   Easy Apply\n",
       "Australia  False         4\n",
       "           True          3\n",
       "India      False         5\n",
       "           True          5\n",
       "New York   False         5\n",
       "           True          7\n",
       "Name: Est Salary, dtype: int64"
      ]
     },
     "execution_count": 27,
     "metadata": {},
     "output_type": "execute_result"
    }
   ],
   "source": [
    "# count rows by Location and Easy Apply\n",
    "countLocation = jobs.groupby(['Location', 'Easy Apply'])['Est Salary'].count()\n",
    "countLocation"
   ]
  },
  {
   "cell_type": "markdown",
   "id": "e9077132",
   "metadata": {},
   "source": [
    "Similarly, we can unstack:"
   ]
  },
  {
   "cell_type": "code",
   "execution_count": 28,
   "id": "1252ee1d",
   "metadata": {},
   "outputs": [
    {
     "data": {
      "text/html": [
       "<div>\n",
       "<style scoped>\n",
       "    .dataframe tbody tr th:only-of-type {\n",
       "        vertical-align: middle;\n",
       "    }\n",
       "\n",
       "    .dataframe tbody tr th {\n",
       "        vertical-align: top;\n",
       "    }\n",
       "\n",
       "    .dataframe thead th {\n",
       "        text-align: right;\n",
       "    }\n",
       "</style>\n",
       "<table border=\"1\" class=\"dataframe\">\n",
       "  <thead>\n",
       "    <tr style=\"text-align: right;\">\n",
       "      <th>Easy Apply</th>\n",
       "      <th>False</th>\n",
       "      <th>True</th>\n",
       "    </tr>\n",
       "    <tr>\n",
       "      <th>Location</th>\n",
       "      <th></th>\n",
       "      <th></th>\n",
       "    </tr>\n",
       "  </thead>\n",
       "  <tbody>\n",
       "    <tr>\n",
       "      <th>Australia</th>\n",
       "      <td>4</td>\n",
       "      <td>3</td>\n",
       "    </tr>\n",
       "    <tr>\n",
       "      <th>India</th>\n",
       "      <td>5</td>\n",
       "      <td>5</td>\n",
       "    </tr>\n",
       "    <tr>\n",
       "      <th>New York</th>\n",
       "      <td>5</td>\n",
       "      <td>7</td>\n",
       "    </tr>\n",
       "  </tbody>\n",
       "</table>\n",
       "</div>"
      ],
      "text/plain": [
       "Easy Apply  False  True\n",
       "Location               \n",
       "Australia       4     3\n",
       "India           5     5\n",
       "New York        5     7"
      ]
     },
     "execution_count": 28,
     "metadata": {},
     "output_type": "execute_result"
    }
   ],
   "source": [
    "countByLocation = countLocation.unstack()\n",
    "countByLocation"
   ]
  },
  {
   "cell_type": "markdown",
   "id": "cd75a8d8",
   "metadata": {},
   "source": [
    "We can stack the values so that it shows the total count of jobs by location."
   ]
  },
  {
   "cell_type": "code",
   "execution_count": 29,
   "id": "9472d7bc",
   "metadata": {},
   "outputs": [
    {
     "data": {
      "text/plain": [
       "<AxesSubplot:xlabel='Location', ylabel='Number of Jobs'>"
      ]
     },
     "execution_count": 29,
     "metadata": {},
     "output_type": "execute_result"
    },
    {
     "data": {
      "image/png": "[encoded data removed]",
      "text/plain": [
       "<Figure size 432x288 with 1 Axes>"
      ]
     },
     "metadata": {
      "needs_background": "light"
     },
     "output_type": "display_data"
    }
   ],
   "source": [
    "# Create a stacked bar chart\n",
    "countByLocation.plot.bar(stacked = True, ylabel = 'Number of Jobs')"
   ]
  },
  {
   "cell_type": "markdown",
   "id": "04b49e46",
   "metadata": {},
   "source": [
    "### Scatter Plot\n",
    "\n",
    "Now that we have the Estimated Salary as a numeric value, we can also create a quick scatter plot in Pandas:\n"
   ]
  },
  {
   "cell_type": "code",
   "execution_count": 30,
   "id": "4a113edc",
   "metadata": {},
   "outputs": [
    {
     "data": {
      "text/plain": [
       "<AxesSubplot:xlabel='Rating', ylabel='Est Salary'>"
      ]
     },
     "execution_count": 30,
     "metadata": {},
     "output_type": "execute_result"
    },
    {
     "data": {
      "image/png": "[encoded data removed]",
      "text/plain": [
       "<Figure size 432x288 with 1 Axes>"
      ]
     },
     "metadata": {
      "needs_background": "light"
     },
     "output_type": "display_data"
    }
   ],
   "source": [
    "# Create a scatter plot of Estimated Salary vs Rating\n",
    "jobs.plot.scatter(x = 'Rating', y = 'Est Salary', marker = '*', s = 50)"
   ]
  },
  {
   "cell_type": "markdown",
   "id": "4e98d8ca",
   "metadata": {},
   "source": [
    "## Exercises\n",
    "\n",
    "The Bike Sharing Data Set contains data about rental bikes from capital bikeshare on the 1st of December, 2021. The data is adapted from [Capital Bike Share's System Data](https://www.capitalbikeshare.com/system-data)\n",
    "\n"
   ]
  },
  {
   "cell_type": "code",
   "execution_count": 3,
   "id": "58765076",
   "metadata": {},
   "outputs": [
    {
     "data": {
      "text/html": [
       "<div>\n",
       "<style scoped>\n",
       "    .dataframe tbody tr th:only-of-type {\n",
       "        vertical-align: middle;\n",
       "    }\n",
       "\n",
       "    .dataframe tbody tr th {\n",
       "        vertical-align: top;\n",
       "    }\n",
       "\n",
       "    .dataframe thead th {\n",
       "        text-align: right;\n",
       "    }\n",
       "</style>\n",
       "<table border=\"1\" class=\"dataframe\">\n",
       "  <thead>\n",
       "    <tr style=\"text-align: right;\">\n",
       "      <th></th>\n",
       "      <th>ride_id</th>\n",
       "      <th>rideable_type</th>\n",
       "      <th>started_at</th>\n",
       "      <th>ended_at</th>\n",
       "      <th>start_station_name</th>\n",
       "      <th>start_station_id</th>\n",
       "      <th>end_station_name</th>\n",
       "      <th>end_station_id</th>\n",
       "      <th>start_lat</th>\n",
       "      <th>start_lng</th>\n",
       "      <th>end_lat</th>\n",
       "      <th>end_lng</th>\n",
       "      <th>member_casual</th>\n",
       "    </tr>\n",
       "  </thead>\n",
       "  <tbody>\n",
       "    <tr>\n",
       "      <th>0</th>\n",
       "      <td>B3B1ACDD6158DDFE</td>\n",
       "      <td>classic_bike</td>\n",
       "      <td>01/12/2021 00:03</td>\n",
       "      <td>01/12/2021 00:19</td>\n",
       "      <td>18th &amp; L St NW</td>\n",
       "      <td>31224.0</td>\n",
       "      <td>New Hampshire Ave &amp; T St NW</td>\n",
       "      <td>31229.0</td>\n",
       "      <td>38.903741</td>\n",
       "      <td>-77.042452</td>\n",
       "      <td>38.915544</td>\n",
       "      <td>-77.038252</td>\n",
       "      <td>member</td>\n",
       "    </tr>\n",
       "    <tr>\n",
       "      <th>1</th>\n",
       "      <td>68AA4033541B3577</td>\n",
       "      <td>classic_bike</td>\n",
       "      <td>01/12/2021 00:04</td>\n",
       "      <td>01/12/2021 00:21</td>\n",
       "      <td>United Medical Center</td>\n",
       "      <td>31823.0</td>\n",
       "      <td>1st &amp; S Capitol St SE / Oxon Run Trail</td>\n",
       "      <td>31817.0</td>\n",
       "      <td>38.835737</td>\n",
       "      <td>-76.983144</td>\n",
       "      <td>38.824481</td>\n",
       "      <td>-77.005497</td>\n",
       "      <td>casual</td>\n",
       "    </tr>\n",
       "    <tr>\n",
       "      <th>2</th>\n",
       "      <td>74C3741F4B63D1AD</td>\n",
       "      <td>electric_bike</td>\n",
       "      <td>01/12/2021 00:07</td>\n",
       "      <td>01/12/2021 00:27</td>\n",
       "      <td>NaN</td>\n",
       "      <td>NaN</td>\n",
       "      <td>NaN</td>\n",
       "      <td>NaN</td>\n",
       "      <td>38.880000</td>\n",
       "      <td>-77.000000</td>\n",
       "      <td>38.900000</td>\n",
       "      <td>-77.020000</td>\n",
       "      <td>member</td>\n",
       "    </tr>\n",
       "    <tr>\n",
       "      <th>3</th>\n",
       "      <td>10188DFBC9F175C6</td>\n",
       "      <td>electric_bike</td>\n",
       "      <td>01/12/2021 00:07</td>\n",
       "      <td>01/12/2021 00:22</td>\n",
       "      <td>Eads St &amp; 12th St S</td>\n",
       "      <td>31071.0</td>\n",
       "      <td>Walter Reed Dr &amp; 8th St S</td>\n",
       "      <td>31096.0</td>\n",
       "      <td>38.862763</td>\n",
       "      <td>-77.054372</td>\n",
       "      <td>38.866162</td>\n",
       "      <td>-77.087760</td>\n",
       "      <td>casual</td>\n",
       "    </tr>\n",
       "    <tr>\n",
       "      <th>4</th>\n",
       "      <td>851745D256697374</td>\n",
       "      <td>classic_bike</td>\n",
       "      <td>01/12/2021 00:08</td>\n",
       "      <td>01/12/2021 00:17</td>\n",
       "      <td>8th &amp; V St NW</td>\n",
       "      <td>31134.0</td>\n",
       "      <td>12th &amp; L St NW</td>\n",
       "      <td>31251.0</td>\n",
       "      <td>38.917716</td>\n",
       "      <td>-77.022684</td>\n",
       "      <td>38.903819</td>\n",
       "      <td>-77.028400</td>\n",
       "      <td>member</td>\n",
       "    </tr>\n",
       "  </tbody>\n",
       "</table>\n",
       "</div>"
      ],
      "text/plain": [
       "            ride_id  rideable_type        started_at          ended_at  \\\n",
       "0  B3B1ACDD6158DDFE   classic_bike  01/12/2021 00:03  01/12/2021 00:19   \n",
       "1  68AA4033541B3577   classic_bike  01/12/2021 00:04  01/12/2021 00:21   \n",
       "2  74C3741F4B63D1AD  electric_bike  01/12/2021 00:07  01/12/2021 00:27   \n",
       "3  10188DFBC9F175C6  electric_bike  01/12/2021 00:07  01/12/2021 00:22   \n",
       "4  851745D256697374   classic_bike  01/12/2021 00:08  01/12/2021 00:17   \n",
       "\n",
       "      start_station_name  start_station_id  \\\n",
       "0         18th & L St NW           31224.0   \n",
       "1  United Medical Center           31823.0   \n",
       "2                    NaN               NaN   \n",
       "3    Eads St & 12th St S           31071.0   \n",
       "4          8th & V St NW           31134.0   \n",
       "\n",
       "                         end_station_name  end_station_id  start_lat  \\\n",
       "0             New Hampshire Ave & T St NW         31229.0  38.903741   \n",
       "1  1st & S Capitol St SE / Oxon Run Trail         31817.0  38.835737   \n",
       "2                                     NaN             NaN  38.880000   \n",
       "3               Walter Reed Dr & 8th St S         31096.0  38.862763   \n",
       "4                          12th & L St NW         31251.0  38.917716   \n",
       "\n",
       "   start_lng    end_lat    end_lng member_casual  \n",
       "0 -77.042452  38.915544 -77.038252        member  \n",
       "1 -76.983144  38.824481 -77.005497        casual  \n",
       "2 -77.000000  38.900000 -77.020000        member  \n",
       "3 -77.054372  38.866162 -77.087760        casual  \n",
       "4 -77.022684  38.903819 -77.028400        member  "
      ]
     },
     "execution_count": 3,
     "metadata": {},
     "output_type": "execute_result"
    }
   ],
   "source": [
    "# Reading in the data into a dataframe called bikes\n",
    "bikes = pd.read_csv(\"bikeshare.csv\")\n",
    "bikes.head()\n"
   ]
  },
  {
   "cell_type": "markdown",
   "id": "b54880df",
   "metadata": {},
   "source": [
    "Check the type of the columns"
   ]
  },
  {
   "cell_type": "code",
   "execution_count": 4,
   "id": "73391708",
   "metadata": {},
   "outputs": [
    {
     "data": {
      "text/plain": [
       "ride_id                object\n",
       "rideable_type          object\n",
       "started_at             object\n",
       "ended_at               object\n",
       "start_station_name     object\n",
       "start_station_id      float64\n",
       "end_station_name       object\n",
       "end_station_id        float64\n",
       "start_lat             float64\n",
       "start_lng             float64\n",
       "end_lat               float64\n",
       "end_lng               float64\n",
       "member_casual          object\n",
       "dtype: object"
      ]
     },
     "execution_count": 4,
     "metadata": {},
     "output_type": "execute_result"
    }
   ],
   "source": [
    "bikes.dtypes"
   ]
  },
  {
   "cell_type": "markdown",
   "id": "5c89a483",
   "metadata": {},
   "source": [
    "Drop the columns 'ride_id', 'start_station_name' and 'end_station_name' and save the result in a variable `newbikes`"
   ]
  },
  {
   "cell_type": "code",
   "execution_count": 5,
   "id": "33217223",
   "metadata": {},
   "outputs": [
    {
     "data": {
      "text/html": [
       "<div>\n",
       "<style scoped>\n",
       "    .dataframe tbody tr th:only-of-type {\n",
       "        vertical-align: middle;\n",
       "    }\n",
       "\n",
       "    .dataframe tbody tr th {\n",
       "        vertical-align: top;\n",
       "    }\n",
       "\n",
       "    .dataframe thead th {\n",
       "        text-align: right;\n",
       "    }\n",
       "</style>\n",
       "<table border=\"1\" class=\"dataframe\">\n",
       "  <thead>\n",
       "    <tr style=\"text-align: right;\">\n",
       "      <th></th>\n",
       "      <th>rideable_type</th>\n",
       "      <th>started_at</th>\n",
       "      <th>ended_at</th>\n",
       "      <th>start_station_id</th>\n",
       "      <th>end_station_id</th>\n",
       "      <th>start_lat</th>\n",
       "      <th>start_lng</th>\n",
       "      <th>end_lat</th>\n",
       "      <th>end_lng</th>\n",
       "      <th>member_casual</th>\n",
       "    </tr>\n",
       "  </thead>\n",
       "  <tbody>\n",
       "    <tr>\n",
       "      <th>0</th>\n",
       "      <td>classic_bike</td>\n",
       "      <td>01/12/2021 00:03</td>\n",
       "      <td>01/12/2021 00:19</td>\n",
       "      <td>31224.0</td>\n",
       "      <td>31229.0</td>\n",
       "      <td>38.903741</td>\n",
       "      <td>-77.042452</td>\n",
       "      <td>38.915544</td>\n",
       "      <td>-77.038252</td>\n",
       "      <td>member</td>\n",
       "    </tr>\n",
       "    <tr>\n",
       "      <th>1</th>\n",
       "      <td>classic_bike</td>\n",
       "      <td>01/12/2021 00:04</td>\n",
       "      <td>01/12/2021 00:21</td>\n",
       "      <td>31823.0</td>\n",
       "      <td>31817.0</td>\n",
       "      <td>38.835737</td>\n",
       "      <td>-76.983144</td>\n",
       "      <td>38.824481</td>\n",
       "      <td>-77.005497</td>\n",
       "      <td>casual</td>\n",
       "    </tr>\n",
       "    <tr>\n",
       "      <th>2</th>\n",
       "      <td>electric_bike</td>\n",
       "      <td>01/12/2021 00:07</td>\n",
       "      <td>01/12/2021 00:27</td>\n",
       "      <td>NaN</td>\n",
       "      <td>NaN</td>\n",
       "      <td>38.880000</td>\n",
       "      <td>-77.000000</td>\n",
       "      <td>38.900000</td>\n",
       "      <td>-77.020000</td>\n",
       "      <td>member</td>\n",
       "    </tr>\n",
       "    <tr>\n",
       "      <th>3</th>\n",
       "      <td>electric_bike</td>\n",
       "      <td>01/12/2021 00:07</td>\n",
       "      <td>01/12/2021 00:22</td>\n",
       "      <td>31071.0</td>\n",
       "      <td>31096.0</td>\n",
       "      <td>38.862763</td>\n",
       "      <td>-77.054372</td>\n",
       "      <td>38.866162</td>\n",
       "      <td>-77.087760</td>\n",
       "      <td>casual</td>\n",
       "    </tr>\n",
       "    <tr>\n",
       "      <th>4</th>\n",
       "      <td>classic_bike</td>\n",
       "      <td>01/12/2021 00:08</td>\n",
       "      <td>01/12/2021 00:17</td>\n",
       "      <td>31134.0</td>\n",
       "      <td>31251.0</td>\n",
       "      <td>38.917716</td>\n",
       "      <td>-77.022684</td>\n",
       "      <td>38.903819</td>\n",
       "      <td>-77.028400</td>\n",
       "      <td>member</td>\n",
       "    </tr>\n",
       "  </tbody>\n",
       "</table>\n",
       "</div>"
      ],
      "text/plain": [
       "   rideable_type        started_at          ended_at  start_station_id  \\\n",
       "0   classic_bike  01/12/2021 00:03  01/12/2021 00:19           31224.0   \n",
       "1   classic_bike  01/12/2021 00:04  01/12/2021 00:21           31823.0   \n",
       "2  electric_bike  01/12/2021 00:07  01/12/2021 00:27               NaN   \n",
       "3  electric_bike  01/12/2021 00:07  01/12/2021 00:22           31071.0   \n",
       "4   classic_bike  01/12/2021 00:08  01/12/2021 00:17           31134.0   \n",
       "\n",
       "   end_station_id  start_lat  start_lng    end_lat    end_lng member_casual  \n",
       "0         31229.0  38.903741 -77.042452  38.915544 -77.038252        member  \n",
       "1         31817.0  38.835737 -76.983144  38.824481 -77.005497        casual  \n",
       "2             NaN  38.880000 -77.000000  38.900000 -77.020000        member  \n",
       "3         31096.0  38.862763 -77.054372  38.866162 -77.087760        casual  \n",
       "4         31251.0  38.917716 -77.022684  38.903819 -77.028400        member  "
      ]
     },
     "execution_count": 5,
     "metadata": {},
     "output_type": "execute_result"
    }
   ],
   "source": [
    "newbikes = bikes.drop(columns=['ride_id','start_station_name', 'end_station_name'])\n",
    "newbikes.head()"
   ]
  },
  {
   "cell_type": "markdown",
   "id": "496a241f",
   "metadata": {},
   "source": [
    "Check the number of missing values for each column for the `bikes` data set"
   ]
  },
  {
   "cell_type": "code",
   "execution_count": 6,
   "id": "23ba5455",
   "metadata": {},
   "outputs": [
    {
     "data": {
      "text/plain": [
       "ride_id                 0\n",
       "rideable_type           0\n",
       "started_at              0\n",
       "ended_at                0\n",
       "start_station_name    327\n",
       "start_station_id      327\n",
       "end_station_name      375\n",
       "end_station_id        375\n",
       "start_lat               0\n",
       "start_lng               0\n",
       "end_lat                 6\n",
       "end_lng                 6\n",
       "member_casual           0\n",
       "dtype: int64"
      ]
     },
     "execution_count": 6,
     "metadata": {},
     "output_type": "execute_result"
    }
   ],
   "source": [
    "bikes.isnull().sum()"
   ]
  },
  {
   "cell_type": "markdown",
   "id": "c71d48f3",
   "metadata": {},
   "source": [
    "Since there are over 7000 rows of data, drop all the rows that contain any null values, using the `inplace=` parameter to update the data set."
   ]
  },
  {
   "cell_type": "code",
   "execution_count": 7,
   "id": "43221b28",
   "metadata": {},
   "outputs": [],
   "source": [
    "bikes.dropna(inplace = True)\n"
   ]
  },
  {
   "cell_type": "markdown",
   "id": "0097acff",
   "metadata": {},
   "source": [
    "The starting time of the bike rental is recorded as a string. We can convert it using the pandas method `to_datetime()` as follows:<br>\n",
    "`bikes['started_at'] = pd.to_datetime(bikes['started_at'])`\n",
    "\n",
    "Write the statement above and also convert the `ended_at` column to a datetime data type.\n",
    "\n",
    "Then run `bikes.dtypes` again to check the data types."
   ]
  },
  {
   "cell_type": "code",
   "execution_count": 8,
   "id": "efec6b86",
   "metadata": {},
   "outputs": [
    {
     "data": {
      "text/plain": [
       "ride_id                       object\n",
       "rideable_type                 object\n",
       "started_at            datetime64[ns]\n",
       "ended_at              datetime64[ns]\n",
       "start_station_name            object\n",
       "start_station_id             float64\n",
       "end_station_name              object\n",
       "end_station_id               float64\n",
       "start_lat                    float64\n",
       "start_lng                    float64\n",
       "end_lat                      float64\n",
       "end_lng                      float64\n",
       "member_casual                 object\n",
       "dtype: object"
      ]
     },
     "execution_count": 8,
     "metadata": {},
     "output_type": "execute_result"
    }
   ],
   "source": [
    "bikes['started_at'] = pd.to_datetime(bikes['started_at'])\n",
    "bikes['ended_at'] = pd.to_datetime(bikes['ended_at'])\n",
    "bikes.dtypes"
   ]
  },
  {
   "cell_type": "markdown",
   "id": "2afbe632",
   "metadata": {},
   "source": [
    "Add a column called `duration` that is the difference between the values in the `ended_at` and `started_at` columns, then check the data types again."
   ]
  },
  {
   "cell_type": "code",
   "execution_count": 18,
   "id": "c73caa2d",
   "metadata": {},
   "outputs": [
    {
     "data": {
      "text/plain": [
       "ride_id                        object\n",
       "rideable_type                  object\n",
       "started_at             datetime64[ns]\n",
       "ended_at               datetime64[ns]\n",
       "start_station_name             object\n",
       "start_station_id              float64\n",
       "end_station_name               object\n",
       "end_station_id                float64\n",
       "start_lat                     float64\n",
       "start_lng                     float64\n",
       "end_lat                       float64\n",
       "end_lng                       float64\n",
       "member_casual                  object\n",
       "duration              timedelta64[ns]\n",
       "dtype: object"
      ]
     },
     "execution_count": 18,
     "metadata": {},
     "output_type": "execute_result"
    }
   ],
   "source": [
    "# add a column called duration that is the value of 'ended_at' - 'started_at'\n",
    "bikes['duration'] = bikes['ended_at']- bikes['started_at']\n",
    "bikes.dtypes"
   ]
  },
  {
   "cell_type": "markdown",
   "id": "6f729728",
   "metadata": {},
   "source": [
    "The duration is a `timedelta` object. Use `describe` to view information about `bikes['duration']`"
   ]
  },
  {
   "cell_type": "code",
   "execution_count": 19,
   "id": "4cb27922",
   "metadata": {},
   "outputs": [
    {
     "data": {
      "text/plain": [
       "count                         7246\n",
       "mean     0 days 01:31:05.001380071\n",
       "std      1 days 06:36:53.659370683\n",
       "min                0 days 00:00:00\n",
       "25%                0 days 00:06:00\n",
       "50%                0 days 00:10:00\n",
       "75%                0 days 00:16:00\n",
       "max               30 days 20:47:00\n",
       "Name: duration, dtype: object"
      ]
     },
     "execution_count": 19,
     "metadata": {},
     "output_type": "execute_result"
    }
   ],
   "source": [
    "bikes['duration'].describe()"
   ]
  },
  {
   "cell_type": "markdown",
   "id": "92d0234a",
   "metadata": {},
   "source": [
    "The time delta is given in terms of days, hours, minutes and seconds.\n",
    "We can convert the timedelta into seconds using the DateTime method `total_seconds()` like this: <br>\n",
    "`bikes['duration'].dt.total_seconds()`.\n",
    "\n",
    "Using this method, add a new column called `duration_in_min` that calculates the duration in ***minutes***"
   ]
  },
  {
   "cell_type": "code",
   "execution_count": 24,
   "id": "eb330b53",
   "metadata": {},
   "outputs": [],
   "source": [
    "# add a new column which is the duration in MINUTES\n",
    "bikes['duration_in_min'] =bikes['duration'].dt.total_seconds() / 60"
   ]
  },
  {
   "cell_type": "markdown",
   "id": "ecb6e0bb",
   "metadata": {},
   "source": [
    "Check the value counts of the `rideable_type` column."
   ]
  },
  {
   "cell_type": "code",
   "execution_count": 73,
   "id": "a5c9d978",
   "metadata": {},
   "outputs": [
    {
     "data": {
      "text/plain": [
       "classic_bike     6117\n",
       "electric_bike     951\n",
       "docked_bike       178\n",
       "Name: rideable_type, dtype: int64"
      ]
     },
     "execution_count": 73,
     "metadata": {},
     "output_type": "execute_result"
    }
   ],
   "source": [
    "bikes['rideable_type'].value_counts()"
   ]
  },
  {
   "cell_type": "markdown",
   "id": "420cdd36",
   "metadata": {},
   "source": [
    "Using the `replace()` method, modify the `bikes` data frame by changing all values of 'classic_bike' to 'classic', 'electric_bike' to 'electric' and 'docked_bike' to 'docked'. "
   ]
  },
  {
   "cell_type": "code",
   "execution_count": 74,
   "id": "966c3875",
   "metadata": {},
   "outputs": [],
   "source": [
    "bikes.replace(['classic_bike', 'electric_bike','docked_bike'],['classic', 'electric','docked'], inplace=True)"
   ]
  },
  {
   "cell_type": "code",
   "execution_count": 23,
   "id": "3530db07",
   "metadata": {},
   "outputs": [
    {
     "data": {
      "text/html": [
       "<div>\n",
       "<style scoped>\n",
       "    .dataframe tbody tr th:only-of-type {\n",
       "        vertical-align: middle;\n",
       "    }\n",
       "\n",
       "    .dataframe tbody tr th {\n",
       "        vertical-align: top;\n",
       "    }\n",
       "\n",
       "    .dataframe thead th {\n",
       "        text-align: right;\n",
       "    }\n",
       "</style>\n",
       "<table border=\"1\" class=\"dataframe\">\n",
       "  <thead>\n",
       "    <tr style=\"text-align: right;\">\n",
       "      <th></th>\n",
       "      <th>ride_id</th>\n",
       "      <th>rideable_type</th>\n",
       "      <th>started_at</th>\n",
       "      <th>ended_at</th>\n",
       "      <th>start_station_name</th>\n",
       "      <th>start_station_id</th>\n",
       "      <th>end_station_name</th>\n",
       "      <th>end_station_id</th>\n",
       "      <th>start_lat</th>\n",
       "      <th>start_lng</th>\n",
       "      <th>end_lat</th>\n",
       "      <th>end_lng</th>\n",
       "      <th>member_casual</th>\n",
       "      <th>duration</th>\n",
       "      <th>duration_in_min</th>\n",
       "    </tr>\n",
       "  </thead>\n",
       "  <tbody>\n",
       "    <tr>\n",
       "      <th>0</th>\n",
       "      <td>B3B1ACDD6158DDFE</td>\n",
       "      <td>classic_bike</td>\n",
       "      <td>2021-01-12 00:03:00</td>\n",
       "      <td>2021-01-12 00:19:00</td>\n",
       "      <td>18th &amp; L St NW</td>\n",
       "      <td>31224.0</td>\n",
       "      <td>New Hampshire Ave &amp; T St NW</td>\n",
       "      <td>31229.0</td>\n",
       "      <td>38.903741</td>\n",
       "      <td>-77.042452</td>\n",
       "      <td>38.915544</td>\n",
       "      <td>-77.038252</td>\n",
       "      <td>member</td>\n",
       "      <td>0 days 00:16:00</td>\n",
       "      <td>16.0</td>\n",
       "    </tr>\n",
       "    <tr>\n",
       "      <th>1</th>\n",
       "      <td>68AA4033541B3577</td>\n",
       "      <td>classic_bike</td>\n",
       "      <td>2021-01-12 00:04:00</td>\n",
       "      <td>2021-01-12 00:21:00</td>\n",
       "      <td>United Medical Center</td>\n",
       "      <td>31823.0</td>\n",
       "      <td>1st &amp; S Capitol St SE / Oxon Run Trail</td>\n",
       "      <td>31817.0</td>\n",
       "      <td>38.835737</td>\n",
       "      <td>-76.983144</td>\n",
       "      <td>38.824481</td>\n",
       "      <td>-77.005497</td>\n",
       "      <td>casual</td>\n",
       "      <td>0 days 00:17:00</td>\n",
       "      <td>17.0</td>\n",
       "    </tr>\n",
       "    <tr>\n",
       "      <th>3</th>\n",
       "      <td>10188DFBC9F175C6</td>\n",
       "      <td>electric_bike</td>\n",
       "      <td>2021-01-12 00:07:00</td>\n",
       "      <td>2021-01-12 00:22:00</td>\n",
       "      <td>Eads St &amp; 12th St S</td>\n",
       "      <td>31071.0</td>\n",
       "      <td>Walter Reed Dr &amp; 8th St S</td>\n",
       "      <td>31096.0</td>\n",
       "      <td>38.862763</td>\n",
       "      <td>-77.054372</td>\n",
       "      <td>38.866162</td>\n",
       "      <td>-77.087760</td>\n",
       "      <td>casual</td>\n",
       "      <td>0 days 00:15:00</td>\n",
       "      <td>15.0</td>\n",
       "    </tr>\n",
       "    <tr>\n",
       "      <th>4</th>\n",
       "      <td>851745D256697374</td>\n",
       "      <td>classic_bike</td>\n",
       "      <td>2021-01-12 00:08:00</td>\n",
       "      <td>2021-01-12 00:17:00</td>\n",
       "      <td>8th &amp; V St NW</td>\n",
       "      <td>31134.0</td>\n",
       "      <td>12th &amp; L St NW</td>\n",
       "      <td>31251.0</td>\n",
       "      <td>38.917716</td>\n",
       "      <td>-77.022684</td>\n",
       "      <td>38.903819</td>\n",
       "      <td>-77.028400</td>\n",
       "      <td>member</td>\n",
       "      <td>0 days 00:09:00</td>\n",
       "      <td>9.0</td>\n",
       "    </tr>\n",
       "    <tr>\n",
       "      <th>5</th>\n",
       "      <td>9FF4464D153413AF</td>\n",
       "      <td>electric_bike</td>\n",
       "      <td>2021-01-12 00:09:00</td>\n",
       "      <td>2021-01-12 00:25:00</td>\n",
       "      <td>36th &amp; Calvert St NW / Glover Park</td>\n",
       "      <td>31304.0</td>\n",
       "      <td>1st &amp; O St NW</td>\n",
       "      <td>31519.0</td>\n",
       "      <td>38.922627</td>\n",
       "      <td>-77.070286</td>\n",
       "      <td>38.908743</td>\n",
       "      <td>-77.012411</td>\n",
       "      <td>member</td>\n",
       "      <td>0 days 00:16:00</td>\n",
       "      <td>16.0</td>\n",
       "    </tr>\n",
       "  </tbody>\n",
       "</table>\n",
       "</div>"
      ],
      "text/plain": [
       "            ride_id  rideable_type          started_at            ended_at  \\\n",
       "0  B3B1ACDD6158DDFE   classic_bike 2021-01-12 00:03:00 2021-01-12 00:19:00   \n",
       "1  68AA4033541B3577   classic_bike 2021-01-12 00:04:00 2021-01-12 00:21:00   \n",
       "3  10188DFBC9F175C6  electric_bike 2021-01-12 00:07:00 2021-01-12 00:22:00   \n",
       "4  851745D256697374   classic_bike 2021-01-12 00:08:00 2021-01-12 00:17:00   \n",
       "5  9FF4464D153413AF  electric_bike 2021-01-12 00:09:00 2021-01-12 00:25:00   \n",
       "\n",
       "                   start_station_name  start_station_id  \\\n",
       "0                      18th & L St NW           31224.0   \n",
       "1               United Medical Center           31823.0   \n",
       "3                 Eads St & 12th St S           31071.0   \n",
       "4                       8th & V St NW           31134.0   \n",
       "5  36th & Calvert St NW / Glover Park           31304.0   \n",
       "\n",
       "                         end_station_name  end_station_id  start_lat  \\\n",
       "0             New Hampshire Ave & T St NW         31229.0  38.903741   \n",
       "1  1st & S Capitol St SE / Oxon Run Trail         31817.0  38.835737   \n",
       "3               Walter Reed Dr & 8th St S         31096.0  38.862763   \n",
       "4                          12th & L St NW         31251.0  38.917716   \n",
       "5                           1st & O St NW         31519.0  38.922627   \n",
       "\n",
       "   start_lng    end_lat    end_lng member_casual        duration  \\\n",
       "0 -77.042452  38.915544 -77.038252        member 0 days 00:16:00   \n",
       "1 -76.983144  38.824481 -77.005497        casual 0 days 00:17:00   \n",
       "3 -77.054372  38.866162 -77.087760        casual 0 days 00:15:00   \n",
       "4 -77.022684  38.903819 -77.028400        member 0 days 00:09:00   \n",
       "5 -77.070286  38.908743 -77.012411        member 0 days 00:16:00   \n",
       "\n",
       "   duration_in_min  \n",
       "0             16.0  \n",
       "1             17.0  \n",
       "3             15.0  \n",
       "4              9.0  \n",
       "5             16.0  "
      ]
     },
     "execution_count": 23,
     "metadata": {},
     "output_type": "execute_result"
    }
   ],
   "source": [
    "bikes.head()"
   ]
  },
  {
   "cell_type": "markdown",
   "id": "2d1605a3",
   "metadata": {},
   "source": [
    "Group the bikes by 'rideable_type', then 'member_casual' and **count** the number of 'ride_id' in each group.\n",
    "Store the results in a variable `bikes_group`"
   ]
  },
  {
   "cell_type": "code",
   "execution_count": 29,
   "id": "3b5e6588",
   "metadata": {},
   "outputs": [
    {
     "data": {
      "text/plain": [
       "rideable_type  member_casual\n",
       "classic_bike   casual           1154\n",
       "               member           4963\n",
       "docked_bike    casual            178\n",
       "electric_bike  casual            290\n",
       "               member            661\n",
       "Name: ride_id, dtype: int64"
      ]
     },
     "execution_count": 29,
     "metadata": {},
     "output_type": "execute_result"
    }
   ],
   "source": [
    "# Count the number of bikes by rideable_type, then member_casual\n",
    "# store in a variable bikes_group\n",
    "bikes_group  = bikes.groupby(['rideable_type','member_casual'])['ride_id'].count()\n",
    "bikes_group"
   ]
  },
  {
   "cell_type": "markdown",
   "id": "4de0ae6d",
   "metadata": {},
   "source": [
    "**Unstack** the group so that the result is a data frame of `rideable_type` with columns `casual` and `member`."
   ]
  },
  {
   "cell_type": "code",
   "execution_count": 30,
   "id": "92a6f584",
   "metadata": {},
   "outputs": [
    {
     "data": {
      "text/html": [
       "<div>\n",
       "<style scoped>\n",
       "    .dataframe tbody tr th:only-of-type {\n",
       "        vertical-align: middle;\n",
       "    }\n",
       "\n",
       "    .dataframe tbody tr th {\n",
       "        vertical-align: top;\n",
       "    }\n",
       "\n",
       "    .dataframe thead th {\n",
       "        text-align: right;\n",
       "    }\n",
       "</style>\n",
       "<table border=\"1\" class=\"dataframe\">\n",
       "  <thead>\n",
       "    <tr style=\"text-align: right;\">\n",
       "      <th>member_casual</th>\n",
       "      <th>casual</th>\n",
       "      <th>member</th>\n",
       "    </tr>\n",
       "    <tr>\n",
       "      <th>rideable_type</th>\n",
       "      <th></th>\n",
       "      <th></th>\n",
       "    </tr>\n",
       "  </thead>\n",
       "  <tbody>\n",
       "    <tr>\n",
       "      <th>classic_bike</th>\n",
       "      <td>1154.0</td>\n",
       "      <td>4963.0</td>\n",
       "    </tr>\n",
       "    <tr>\n",
       "      <th>docked_bike</th>\n",
       "      <td>178.0</td>\n",
       "      <td>NaN</td>\n",
       "    </tr>\n",
       "    <tr>\n",
       "      <th>electric_bike</th>\n",
       "      <td>290.0</td>\n",
       "      <td>661.0</td>\n",
       "    </tr>\n",
       "  </tbody>\n",
       "</table>\n",
       "</div>"
      ],
      "text/plain": [
       "member_casual  casual  member\n",
       "rideable_type                \n",
       "classic_bike   1154.0  4963.0\n",
       "docked_bike     178.0     NaN\n",
       "electric_bike   290.0   661.0"
      ]
     },
     "execution_count": 30,
     "metadata": {},
     "output_type": "execute_result"
    }
   ],
   "source": [
    "bikes_group = bikes_group.unstack()\n",
    "bikes_group"
   ]
  },
  {
   "cell_type": "markdown",
   "id": "dd2ebf15",
   "metadata": {},
   "source": [
    "Plot the bar chart of the unstacked data frame."
   ]
  },
  {
   "cell_type": "code",
   "execution_count": 32,
   "id": "bff4a96b",
   "metadata": {},
   "outputs": [
    {
     "data": {
      "text/plain": [
       "<AxesSubplot:xlabel='rideable_type', ylabel='Number of Bikes'>"
      ]
     },
     "execution_count": 32,
     "metadata": {},
     "output_type": "execute_result"
    },
    {
     "data": {
      "image/png": "[encoded data removed]",
      "text/plain": [
       "<Figure size 432x288 with 1 Axes>"
      ]
     },
     "metadata": {
      "needs_background": "light"
     },
     "output_type": "display_data"
    }
   ],
   "source": [
    "# Create a stacked bar chart\n",
    "bikes_group.plot.bar(stacked = True, ylabel = 'Number of Bikes')"
   ]
  },
  {
   "cell_type": "code",
   "execution_count": null,
   "id": "0469e821",
   "metadata": {},
   "outputs": [],
   "source": []
  }
 ],
 "metadata": {
  "kernelspec": {
   "display_name": "Python 3 (ipykernel)",
   "language": "python",
   "name": "python3"
  },
  "language_info": {
   "codemirror_mode": {
    "name": "ipython",
    "version": 3
   },
   "file_extension": ".py",
   "mimetype": "text/x-python",
   "name": "python",
   "nbconvert_exporter": "python",
   "pygments_lexer": "ipython3",
   "version": "3.9.7"
  }
 },
 "nbformat": 4,
 "nbformat_minor": 5
}
