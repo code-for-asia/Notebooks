{
 "cells": [
  {
   "cell_type": "markdown",
   "metadata": {},
   "source": [
    "# Week 3 Notebook 1 Dictionaries\n",
    "\n",
    "## Python Dictionaries\n",
    "\n",
    "This week we will explore another python collection: Dictionaries. In particular, we will address the following related topics:\n",
    "1. Data stored in dictionaries\n",
    "2. Accessing data in dictionaries\n",
    "3. Looping through dictionaries"
   ]
  },
  {
   "cell_type": "markdown",
   "metadata": {},
   "source": [
    "## Dictionaries"
   ]
  },
  {
   "cell_type": "markdown",
   "metadata": {},
   "source": [
    "Another useful python collection for the storage & retrieval of data is a dictionary. Some characteristics of dictionaries inlcude:\n",
    "\n",
    "- Data is stored in key:value pairs\n",
    "- Dictionary keys must be unique\n",
    "- Keys must be can be immutable\n",
    "- Items can be added removed or changed\n",
    "\n",
    "Similar to sets, dictionaries are also created using curly braces {}\n",
    "\n",
    "Lets say we want to store the staff hired in by a local restaurant manager in the month of January. We choose to store this information in a dictionary with the key indicating the unique id assigned to each staff member."
   ]
  },
  {
   "cell_type": "code",
   "execution_count": 32,
   "metadata": {},
   "outputs": [
    {
     "data": {
      "text/plain": [
       "dict"
      ]
     },
     "execution_count": 32,
     "metadata": {},
     "output_type": "execute_result"
    }
   ],
   "source": [
    "# Creating a dictionary\n",
    "staff = {6708: 'Isaac', 8215: 'Reginald', 5291: 'Marcus', 4993: 'Ahmed' }\n",
    "\n",
    "# Check the type \n",
    "type(staff)"
   ]
  },
  {
   "cell_type": "markdown",
   "metadata": {},
   "source": [
    "Dictionary keys need to be unique at all times. Although duplicate keys do not result in any error, however it only ends up recording the last value associated with a key thereby resulting in some data to be ignored during its storage."
   ]
  },
  {
   "cell_type": "code",
   "execution_count": 33,
   "metadata": {},
   "outputs": [
    {
     "data": {
      "text/plain": [
       "{6708: 'Isaac', 8215: 'Reginald', 5291: 'Marcus', 4993: 'Ali'}"
      ]
     },
     "execution_count": 33,
     "metadata": {},
     "output_type": "execute_result"
    }
   ],
   "source": [
    "staff = {6708: 'Isaac', 8215: 'Reginald', 5291: 'Marcus', 4993: 'Ahmed', 4993: 'Ali' }\n",
    "staff"
   ]
  },
  {
   "cell_type": "markdown",
   "metadata": {},
   "source": [
    "It is essential to make sure that the keys are immutable. Values stored in a dictionary can be of varying data types. "
   ]
  },
  {
   "cell_type": "code",
   "execution_count": 34,
   "metadata": {},
   "outputs": [
    {
     "name": "stdout",
     "output_type": "stream",
     "text": [
      "{'ID': 19874, 'Name': 'Mike Ross', 'Purpose': ['Tourism', 'Business meetings', 'Family commitments'], 'Frequent Flyer': True}\n"
     ]
    }
   ],
   "source": [
    "# Dictionary with mixed data types for values stored\n",
    "passenger = {'ID': 19874,\n",
    "             'Name': 'Mike Ross',\n",
    "             'Purpose': ['Tourism', 'Business meetings', 'Family commitments'],\n",
    "             'Frequent Flyer' : True}\n",
    "print(passenger)"
   ]
  },
  {
   "cell_type": "markdown",
   "metadata": {},
   "source": [
    "To find out the number of items stored in a dictionary, we can use the len function. Since keys represent the items stored, the len function ultimately returns the number of keys."
   ]
  },
  {
   "cell_type": "code",
   "execution_count": 35,
   "metadata": {},
   "outputs": [
    {
     "data": {
      "text/plain": [
       "4"
      ]
     },
     "execution_count": 35,
     "metadata": {},
     "output_type": "execute_result"
    }
   ],
   "source": [
    "len(passenger)"
   ]
  },
  {
   "cell_type": "markdown",
   "metadata": {},
   "source": [
    "Elements stored in a dictionary are accessed using their respective keys. Keys are enclosed in square brackets."
   ]
  },
  {
   "cell_type": "code",
   "execution_count": 36,
   "metadata": {},
   "outputs": [
    {
     "data": {
      "text/plain": [
       "'Mike Ross'"
      ]
     },
     "execution_count": 36,
     "metadata": {},
     "output_type": "execute_result"
    }
   ],
   "source": [
    "passenger['Name']"
   ]
  },
  {
   "cell_type": "markdown",
   "metadata": {},
   "source": [
    "Alternatively, dictionaries even have a get method which can be used for accessing elements."
   ]
  },
  {
   "cell_type": "code",
   "execution_count": 37,
   "metadata": {},
   "outputs": [
    {
     "data": {
      "text/plain": [
       "True"
      ]
     },
     "execution_count": 37,
     "metadata": {},
     "output_type": "execute_result"
    }
   ],
   "source": [
    "passenger.get('Frequent Flyer')"
   ]
  },
  {
   "cell_type": "markdown",
   "metadata": {},
   "source": [
    "If we try acessing a key which does not exist in our dictionary then this results in a Key Error. For example:"
   ]
  },
  {
   "cell_type": "code",
   "execution_count": 38,
   "metadata": {},
   "outputs": [
    {
     "ename": "KeyError",
     "evalue": "'Age'",
     "output_type": "error",
     "traceback": [
      "\u001b[1;31m---------------------------------------------------------------------------\u001b[0m",
      "\u001b[1;31mKeyError\u001b[0m                                  Traceback (most recent call last)",
      "\u001b[1;32m<ipython-input-38-5c4f9aa09f09>\u001b[0m in \u001b[0;36m<module>\u001b[1;34m\u001b[0m\n\u001b[1;32m----> 1\u001b[1;33m \u001b[0mpassenger\u001b[0m\u001b[1;33m[\u001b[0m\u001b[1;34m'Age'\u001b[0m\u001b[1;33m]\u001b[0m\u001b[1;33m\u001b[0m\u001b[1;33m\u001b[0m\u001b[0m\n\u001b[0m",
      "\u001b[1;31mKeyError\u001b[0m: 'Age'"
     ]
    }
   ],
   "source": [
    "passenger['Age']"
   ]
  },
  {
   "cell_type": "markdown",
   "metadata": {},
   "source": [
    "We can add, change or remove elements in a dictionary as well."
   ]
  },
  {
   "cell_type": "code",
   "execution_count": 39,
   "metadata": {},
   "outputs": [
    {
     "name": "stdout",
     "output_type": "stream",
     "text": [
      "{'ID': 19874, 'Name': 'Mike Ross', 'Purpose': ['Tourism', 'Business meetings', 'Family commitments'], 'Frequent Flyer': True, 'Age': 26, 'Blood Group': 'B+'}\n"
     ]
    }
   ],
   "source": [
    "# Adding elements\n",
    "passenger['Age'] = 26\n",
    "passenger['Blood Group'] = 'B+'\n",
    "print(passenger)"
   ]
  },
  {
   "cell_type": "code",
   "execution_count": 40,
   "metadata": {},
   "outputs": [
    {
     "name": "stdout",
     "output_type": "stream",
     "text": [
      "{'ID': 19874, 'Name': 'Michael Ross', 'Purpose': ['Tourism', 'Business meetings', 'Family commitments'], 'Frequent Flyer': True, 'Age': 27, 'Blood Group': 'B+'}\n"
     ]
    }
   ],
   "source": [
    "# Changing/Updating elements\n",
    "passenger['Name'] = 'Michael Ross'\n",
    "passenger['Age'] = 27\n",
    "print(passenger)"
   ]
  },
  {
   "cell_type": "code",
   "execution_count": 41,
   "metadata": {},
   "outputs": [
    {
     "name": "stdout",
     "output_type": "stream",
     "text": [
      "{'ID': 19874, 'Name': 'Michael Ross', 'Purpose': ['Tourism', 'Business meetings', 'Family commitments'], 'Frequent Flyer': True}\n"
     ]
    }
   ],
   "source": [
    "# Removing elements\n",
    "del passenger['Blood Group']\n",
    "passenger.pop('Age')\n",
    "print(passenger)"
   ]
  },
  {
   "cell_type": "markdown",
   "metadata": {},
   "source": [
    "To remove all elements in a dictionary we can use an inbuilt dictionary method. This results in an empty dictionary."
   ]
  },
  {
   "cell_type": "code",
   "execution_count": 42,
   "metadata": {},
   "outputs": [
    {
     "name": "stdout",
     "output_type": "stream",
     "text": [
      "{}\n"
     ]
    }
   ],
   "source": [
    "passenger.clear()\n",
    "print(passenger)"
   ]
  },
  {
   "cell_type": "markdown",
   "metadata": {},
   "source": [
    "When looping through dictionaries, we need to know what exactly we wish to retrieve. Keys & their associated values can be printed together or separately."
   ]
  },
  {
   "cell_type": "code",
   "execution_count": 43,
   "metadata": {},
   "outputs": [],
   "source": [
    "hobbies = {1: 'Reading', 2: 'Baking', 3: 'Cycling', 4: 'Travelling', 5: 'Gaming'}"
   ]
  },
  {
   "cell_type": "code",
   "execution_count": 45,
   "metadata": {},
   "outputs": [
    {
     "name": "stdout",
     "output_type": "stream",
     "text": [
      "1\n",
      "2\n",
      "3\n",
      "4\n",
      "5\n"
     ]
    }
   ],
   "source": [
    "# Printing keys\n",
    "for i in hobbies:\n",
    "    print(i)"
   ]
  },
  {
   "cell_type": "code",
   "execution_count": 46,
   "metadata": {},
   "outputs": [
    {
     "name": "stdout",
     "output_type": "stream",
     "text": [
      "Reading\n",
      "Baking\n",
      "Cycling\n",
      "Travelling\n",
      "Gaming\n"
     ]
    }
   ],
   "source": [
    "# Printing values\n",
    "for i in hobbies:\n",
    "    print(hobbies[i])"
   ]
  },
  {
   "cell_type": "code",
   "execution_count": 52,
   "metadata": {},
   "outputs": [
    {
     "name": "stdout",
     "output_type": "stream",
     "text": [
      "Reading\n",
      "Baking\n",
      "Cycling\n",
      "Travelling\n",
      "Gaming\n"
     ]
    }
   ],
   "source": [
    "# Alternate way of printing values\n",
    "for i in hobbies.values():\n",
    "    print(i)"
   ]
  },
  {
   "cell_type": "code",
   "execution_count": 56,
   "metadata": {},
   "outputs": [
    {
     "name": "stdout",
     "output_type": "stream",
     "text": [
      "1 : Reading\n",
      "2 : Baking\n",
      "3 : Cycling\n",
      "4 : Travelling\n",
      "5 : Gaming\n"
     ]
    }
   ],
   "source": [
    "# Printing key:value pair\n",
    "for i, j in hobbies.items():\n",
    "    print(i, \":\", j)"
   ]
  },
  {
   "cell_type": "markdown",
   "metadata": {},
   "source": [
    "## Exercises"
   ]
  },
  {
   "cell_type": "markdown",
   "metadata": {},
   "source": [
    "Consider the dictionary that has been created below:"
   ]
  },
  {
   "cell_type": "code",
   "execution_count": 59,
   "metadata": {},
   "outputs": [],
   "source": [
    "subjects = {1: \"Maths\", 2: \"Biology\", 3: \"Economics\", 4: \"Computer Science\", 5: \"Chemistry\", 6: \"Sociology\"}"
   ]
  },
  {
   "cell_type": "markdown",
   "metadata": {},
   "source": [
    "Print the element 'Economics' from the dictionary."
   ]
  },
  {
   "cell_type": "code",
   "execution_count": null,
   "metadata": {},
   "outputs": [],
   "source": []
  },
  {
   "cell_type": "markdown",
   "metadata": {},
   "source": [
    "Add another subject 'Physics' in the dictionary. Key assigned should be +1 from the preceding key."
   ]
  },
  {
   "cell_type": "code",
   "execution_count": null,
   "metadata": {},
   "outputs": [],
   "source": []
  },
  {
   "cell_type": "markdown",
   "metadata": {},
   "source": [
    "Change the subject 'Maths' into 'Mathematics'."
   ]
  },
  {
   "cell_type": "code",
   "execution_count": null,
   "metadata": {},
   "outputs": [],
   "source": []
  },
  {
   "cell_type": "markdown",
   "metadata": {},
   "source": [
    "Remove the subjects 'Biology' and 'Chemistry'."
   ]
  },
  {
   "cell_type": "code",
   "execution_count": null,
   "metadata": {},
   "outputs": [],
   "source": []
  },
  {
   "cell_type": "markdown",
   "metadata": {},
   "source": [
    "Print only the values in the dictionary. The keys are not required."
   ]
  },
  {
   "cell_type": "code",
   "execution_count": null,
   "metadata": {},
   "outputs": [],
   "source": []
  }
 ],
 "metadata": {
  "kernelspec": {
   "display_name": "Python 3 (ipykernel)",
   "language": "python",
   "name": "python3"
  },
  "language_info": {
   "codemirror_mode": {
    "name": "ipython",
    "version": 3
   },
   "file_extension": ".py",
   "mimetype": "text/x-python",
   "name": "python",
   "nbconvert_exporter": "python",
   "pygments_lexer": "ipython3",
   "version": "3.9.7"
  }
 },
 "nbformat": 4,
 "nbformat_minor": 2
}
