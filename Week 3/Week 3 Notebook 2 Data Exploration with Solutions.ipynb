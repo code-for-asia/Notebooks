{
 "cells": [
  {
   "cell_type": "markdown",
   "id": "14b8056c",
   "metadata": {},
   "source": [
    "# Week 3 Notebook 2: Data Exploration\n",
    "\n",
    "## Pandas for Data Exploration\n",
    "\n",
    "In this lesson, we will try out more functions for:\n",
    "* Manipulating a Pandas DataFrame\n",
    "* Sorting with Pandas\n",
    "* Filtering with Pandas\n",
    "\n",
    "First, we have to import the Pandas library.\n"
   ]
  },
  {
   "cell_type": "code",
   "execution_count": null,
   "id": "6184a8b5",
   "metadata": {},
   "outputs": [],
   "source": [
    "import pandas as pd"
   ]
  },
  {
   "cell_type": "markdown",
   "id": "09b3c63c",
   "metadata": {},
   "source": [
    "## Pandas DataFrame\n",
    "\n",
    "The Pandas library supports a two dimensional data structure known as a `DataFrame` to store, retrieve and manipulate data. \n",
    "\n",
    "Rows and columns of a `DataFrame` allow quick and easy access to the stored data.\n",
    "\n",
    "Let's say we want to keep track of the staff hired by a local hospital in Melbourne. \n",
    "We will store the information provided by each member in a single `DataFrame` object. \n",
    "\n",
    "For this purpose, we can make use of the Pandas `DataFrame()` constructor method to create a new DataFrame. "
   ]
  },
  {
   "cell_type": "code",
   "execution_count": null,
   "id": "5076ece0",
   "metadata": {},
   "outputs": [],
   "source": [
    "df = pd.DataFrame({\n",
    "    'StaffID' : [897654, 290128, 612586, 478132, 108954],\n",
    "    'FirstName' : ['Harvey', 'Mike', 'Riley', 'James', 'Jane'],\n",
    "    'LastName' : ['Specter', 'Ross', 'Jackson', 'Bond', 'Austin'],\n",
    "    'Profession' : ['Nurse', 'Pediatrician', 'Neurologist','Gynaecologist','Ophthalmologist']\n",
    "})"
   ]
  },
  {
   "cell_type": "markdown",
   "id": "33537536",
   "metadata": {},
   "source": [
    "Displaying the contents of the `df` object will show the nicely structured table format of the `DataFrame` object. "
   ]
  },
  {
   "cell_type": "code",
   "execution_count": null,
   "id": "e4db6b50",
   "metadata": {},
   "outputs": [],
   "source": [
    "df"
   ]
  },
  {
   "cell_type": "raw",
   "id": "50a7c02c",
   "metadata": {},
   "source": [
    "Columns can be selected using the column label in square brackets `[]`:"
   ]
  },
  {
   "cell_type": "code",
   "execution_count": null,
   "id": "29df31bd",
   "metadata": {},
   "outputs": [],
   "source": [
    "df['Profession']"
   ]
  },
  {
   "cell_type": "markdown",
   "id": "c12747ab",
   "metadata": {},
   "source": [
    "Alternatively, the dot operator `DataFrame.ColumnName` can also be used to display columns. However, this can only be used if the column name is a valid Python identifier. This means that columns which are reserved words, start with a digit or have whitespaces cannot be accessed using the dot operator."
   ]
  },
  {
   "cell_type": "code",
   "execution_count": null,
   "id": "90f80f80",
   "metadata": {},
   "outputs": [],
   "source": [
    "# Selecting column using the dot operator\n",
    "df.Profession"
   ]
  },
  {
   "cell_type": "markdown",
   "id": "2ef9a4e5",
   "metadata": {},
   "source": [
    "To select more than one column, you need to use a square brackets and place the required column names in a `List`. A `DataFrame` object will be returned."
   ]
  },
  {
   "cell_type": "code",
   "execution_count": null,
   "id": "0b0f48c3",
   "metadata": {},
   "outputs": [],
   "source": [
    "df[['Profession','FirstName']]"
   ]
  },
  {
   "cell_type": "markdown",
   "id": "59387dfe",
   "metadata": {},
   "source": [
    "You can select rows from the `DataFrame` object using the slicing operator:"
   ]
  },
  {
   "cell_type": "code",
   "execution_count": null,
   "id": "ada9d890",
   "metadata": {},
   "outputs": [],
   "source": [
    "# Select rows indexed 1 to 3\n",
    "df[1:4]"
   ]
  },
  {
   "cell_type": "markdown",
   "id": "e7777da2",
   "metadata": {},
   "source": [
    "Rows can also be selected based on a condition:"
   ]
  },
  {
   "cell_type": "code",
   "execution_count": null,
   "id": "75ce6fbc",
   "metadata": {},
   "outputs": [],
   "source": [
    "df[df.StaffID == 478132]"
   ]
  },
  {
   "cell_type": "markdown",
   "id": "af35a2d8",
   "metadata": {},
   "source": [
    "We can add new columns to the `DataFrame` object even after it has been created:"
   ]
  },
  {
   "cell_type": "code",
   "execution_count": null,
   "id": "6d58a8e7",
   "metadata": {},
   "outputs": [],
   "source": [
    "df['RoomNo'] = [23,67,45,12,8]\n",
    "df"
   ]
  },
  {
   "cell_type": "markdown",
   "id": "bb4536ce",
   "metadata": {},
   "source": [
    "Additionally, data can be read in from of various file formats including CSV, XLSX, and TXT. Let's read in some data to do more exploration."
   ]
  },
  {
   "cell_type": "markdown",
   "id": "50e07adc",
   "metadata": {},
   "source": [
    "# More Pandas\n",
    "\n",
    "We are going to practice our data exploration and cleaning skills with a different [data set provided by Pavan Tinniru on Kaggle](https://www.kaggle.com/pavantanniru/-datacleaningforbeginnerusingpandas).\n",
    "\n",
    "Save the data set into this current working directory. \n"
   ]
  },
  {
   "cell_type": "code",
   "execution_count": null,
   "id": "d187a1bd",
   "metadata": {},
   "outputs": [],
   "source": [
    "import pandas as pd\n",
    "\n",
    "jobs = pd.read_csv('Data-cleaning-for-beginners-using-pandas.csv')"
   ]
  },
  {
   "cell_type": "markdown",
   "id": "2610a1f6",
   "metadata": {},
   "source": [
    "Before we start analysing, cleaning or wrangling our data set, it is always a good idea to explore our data and understand exactly what we are getting ourselves into. \n",
    "\n",
    "Pandas provides some great functions to do this.\n",
    "\n",
    "To start exploring the data set, we can first check how many rows and columns it has, i.e. the *dimensions*, by using the `.shape` property:"
   ]
  },
  {
   "cell_type": "code",
   "execution_count": null,
   "id": "61adcfcd",
   "metadata": {},
   "outputs": [],
   "source": [
    "# Check the dimensions of the DataFrame\n",
    "jobs.shape"
   ]
  },
  {
   "cell_type": "markdown",
   "id": "dfe69da6",
   "metadata": {},
   "source": [
    "The above values indicate that our data set contains 29 rows with 7 columns.\n",
    "\n",
    "Now, let's explore the data types of our data set columns!"
   ]
  },
  {
   "cell_type": "code",
   "execution_count": null,
   "id": "47cbd356",
   "metadata": {},
   "outputs": [],
   "source": [
    "# Check the data type of the columns\n",
    "jobs.dtypes"
   ]
  },
  {
   "cell_type": "markdown",
   "id": "6906006b",
   "metadata": {},
   "source": [
    "We have a combination of `integer`, `float` and other `object` types. Notice that salary is stored as an `object`. Let's have a look at our data."
   ]
  },
  {
   "cell_type": "code",
   "execution_count": null,
   "id": "0a20e8e8",
   "metadata": {
    "scrolled": true
   },
   "outputs": [],
   "source": [
    "# View the first five rows\n",
    "jobs.head()"
   ]
  },
  {
   "cell_type": "code",
   "execution_count": null,
   "id": "851af6cb",
   "metadata": {},
   "outputs": [],
   "source": [
    "# View the last five rows\n",
    "jobs.tail()"
   ]
  },
  {
   "cell_type": "markdown",
   "id": "108b40af",
   "metadata": {},
   "source": [
    "Let's get some basic statistics regarding our data set. The `describe()` method returns statistics on the numerical values."
   ]
  },
  {
   "cell_type": "code",
   "execution_count": null,
   "id": "de2e86b9",
   "metadata": {},
   "outputs": [],
   "source": [
    "jobs.describe()"
   ]
  },
  {
   "cell_type": "markdown",
   "id": "85475994",
   "metadata": {},
   "source": [
    "## Sorting the DataFrame\n",
    "\n",
    "We can arrange our data by sorting it using the `sort_values()` function.\n",
    "You will have to select the columns using the `by` parameter.\n",
    "\n",
    "For example, if we want to sort the `jobs` DataFrame according to age, we would choose the `Age` column:"
   ]
  },
  {
   "cell_type": "code",
   "execution_count": null,
   "id": "262b47a0",
   "metadata": {
    "scrolled": true
   },
   "outputs": [],
   "source": [
    "jobs.sort_values(by='Age')"
   ]
  },
  {
   "cell_type": "markdown",
   "id": "5c719b9f",
   "metadata": {},
   "source": [
    "Running the code above will show the `jobs` DataFrame according to age, from youngest to oldest. \n",
    "\n",
    "We could also choose more than one column to sort. In this case, the column names must be provided as a List."
   ]
  },
  {
   "cell_type": "code",
   "execution_count": null,
   "id": "5bdad3f8",
   "metadata": {},
   "outputs": [],
   "source": [
    "# Sorting by Age, then Salary. \n",
    "# the 'ascending' parameter is used to specify that the ages should be\n",
    "# in descending order, and then for Age values which are equal, our data\n",
    "# is arranged by salary in ascending order.\n",
    "\n",
    "jobs.sort_values(by=(['Age', 'Salary']), ascending = [False, True])"
   ]
  },
  {
   "cell_type": "markdown",
   "id": "8c86294d",
   "metadata": {},
   "source": [
    "The `ascending` parameter is used to specify that our data must be sorted in ascending order or in descending order according to the provided column names. \n",
    "\n",
    "In the example above, our data is sorted twice. First,  it is sorted by `Age` in descending order, then for the same age values it sorted by `Salary` in ascending order. \n",
    "\n",
    "The `ascending` parameter is optional, by default the sorting is done in ascending order."
   ]
  },
  {
   "cell_type": "markdown",
   "id": "c293af21",
   "metadata": {},
   "source": [
    "## Filtering Data\n",
    "\n",
    "Filtering data means to choose only a part of our data, which could be certain columns or rows only. Usually, we will store the filtered data in a new object.\n",
    "\n",
    "We can use the column names in a List to specify which columns to select. The columns in the List can be repeated."
   ]
  },
  {
   "cell_type": "code",
   "execution_count": null,
   "id": "48963fea",
   "metadata": {},
   "outputs": [],
   "source": [
    "# Filter some columns\n",
    "someJobs = jobs[['Age', 'Rating', 'Salary', 'Age']]\n",
    "print(someJobs)\n",
    "type(someJobs)"
   ]
  },
  {
   "cell_type": "markdown",
   "id": "ed9dc7da",
   "metadata": {},
   "source": [
    "We can see that `someJobs` is a `DataFrame` object. Printing `someJobs` also shows that the `Salary` column actually starts with a `$` character.\n",
    "\n",
    "## Conditions\n",
    "\n",
    "Another way to filter our data is to specify a condition on the column. This will indicate which rows match the specified condition."
   ]
  },
  {
   "cell_type": "code",
   "execution_count": null,
   "id": "8c357558",
   "metadata": {},
   "outputs": [],
   "source": [
    "# Show which rows have Age values > 30\n",
    "jobs['Age']>30"
   ]
  },
  {
   "cell_type": "markdown",
   "id": "8f02f348",
   "metadata": {},
   "source": [
    "To filter the DataFrame based on this condition, we put the condition in a square brackets `[]`."
   ]
  },
  {
   "cell_type": "code",
   "execution_count": null,
   "id": "27a63d47",
   "metadata": {},
   "outputs": [],
   "source": [
    "# Show the rows where the condition is true\n",
    "jobs[jobs['Age']>30]"
   ]
  },
  {
   "cell_type": "markdown",
   "id": "33424a4d",
   "metadata": {},
   "source": [
    "### Combining Conditions\n",
    "\n",
    "We can combine Boolean conditions in Pandas using the operators:\n",
    "- `|` for `or`\n",
    "- `&` for `and`\n",
    "- `~` for `not`"
   ]
  },
  {
   "cell_type": "code",
   "execution_count": null,
   "id": "6456cae2",
   "metadata": {},
   "outputs": [],
   "source": [
    "# Using '&' operator to select rows that match both conditions\n",
    "jobs[(jobs['Age']>30) & (jobs['Rating']< 3)]"
   ]
  },
  {
   "cell_type": "code",
   "execution_count": null,
   "id": "066dedae",
   "metadata": {},
   "outputs": [],
   "source": [
    "# Using '~' and '|' operators\n",
    "jobs[~(jobs['Easy Apply']=='TRUE') | (jobs['Established']==-1)]"
   ]
  },
  {
   "cell_type": "markdown",
   "id": "2271550d",
   "metadata": {},
   "source": [
    "### Using between()\n",
    "\n",
    "The `between()` method is a useful way to deal with selecting a range of values.\n",
    "\n",
    "The arguments specify the starting and ending interval along with whether to include boundary values using the `inclusive` argument, where the argument values can be `left`, `right` or `both`.\n"
   ]
  },
  {
   "cell_type": "code",
   "execution_count": null,
   "id": "9d75eb7f",
   "metadata": {},
   "outputs": [],
   "source": [
    "# Show jobs established between 2015 and 2020, inclusive\n",
    "jobs[jobs['Established'].between(2015, 2020, inclusive='both')]"
   ]
  },
  {
   "cell_type": "markdown",
   "id": "06790263",
   "metadata": {},
   "source": [
    "## Subsetting Rows and Columns\n",
    "\n",
    "We can filter our data based on rows **and** columns using the `loc` and `iloc` attributes of the DataFrame. These allows us to specify based on the (*row*, *column*) required. \n",
    "\n",
    "### Using loc\n",
    "\n",
    "The `loc` attribute of a `DataFrame` object is used to specify the rows and columns required, based on the names.\n",
    "\n",
    "In our `jobs` DataFrame, the rows are labelled or indexed from 0 to 28 and the columns are labelled `Index`, `Age`, `Salary`, `Rating`, `Location`, `Established` and `Easy Apply`.\n",
    "Let's try some examples."
   ]
  },
  {
   "cell_type": "code",
   "execution_count": null,
   "id": "819038b6",
   "metadata": {},
   "outputs": [],
   "source": [
    "# Getting the value in row labelled '3' and column labelled 'Salary'\n",
    "jobs.loc[3, 'Salary']"
   ]
  },
  {
   "cell_type": "markdown",
   "id": "715951f9",
   "metadata": {},
   "source": [
    "Specifying the column name is optional. For example, to obtain the values of the row labelled `3`, we can simply use `jobs.loc` with the row label:"
   ]
  },
  {
   "cell_type": "code",
   "execution_count": null,
   "id": "e486cfb4",
   "metadata": {},
   "outputs": [],
   "source": [
    "# getting the row labeled '3'\n",
    "jobs.loc[3]"
   ]
  },
  {
   "cell_type": "markdown",
   "id": "dabc13cb",
   "metadata": {},
   "source": [
    "However, if we wanted to get a specific column without specifying the rows, we have to use the slicing operator `:` to get all of the rows."
   ]
  },
  {
   "cell_type": "code",
   "execution_count": null,
   "id": "ce092959",
   "metadata": {},
   "outputs": [],
   "source": [
    "# Using ':' to select all rows for the 'Rating' column\n",
    "jobs.loc[:,'Rating']"
   ]
  },
  {
   "cell_type": "markdown",
   "id": "e0ef8456",
   "metadata": {},
   "source": [
    "To specify more than one row or column we can use lists:"
   ]
  },
  {
   "cell_type": "code",
   "execution_count": null,
   "id": "16b877cf",
   "metadata": {},
   "outputs": [],
   "source": [
    "# Selecting row labelled '13' to '15' and 2 columns labelled 'Age' and 'Salary'\n",
    "jobs.loc[[13,14,15], ['Age', 'Salary']]"
   ]
  },
  {
   "cell_type": "markdown",
   "id": "07025df5",
   "metadata": {},
   "source": [
    "### Slicing\n",
    "\n",
    "We can also use the slicing operator `:` to select the rows and columns. Remember that the slicing operator selects based on the values of *start*:*stop*:*step*.\n",
    "\n",
    "Using the slicing operator with `loc` is **inclusive** on both bounds, so it will select up to and including the *stop* value. You can also use the slicing operator to select columns based on their names."
   ]
  },
  {
   "cell_type": "code",
   "execution_count": null,
   "id": "48ed9daf",
   "metadata": {},
   "outputs": [],
   "source": [
    "# Using slicing operator to select rows labeled '13' up to and including '16'\n",
    "# and columns labeled 'Age' up to and including 'Established'\n",
    "print(jobs.loc[13:19, 'Age': 'Established'])\n",
    "\n",
    "# Adding the step interval by 2\n",
    "print(jobs.loc[13:19:2, 'Age':'Established':2])"
   ]
  },
  {
   "cell_type": "markdown",
   "id": "81ce560c",
   "metadata": {},
   "source": [
    "### loc with Conditions\n",
    "\n",
    "We can also use `loc` to filter rows based on a condition. The conditions are usually based on values found in specific rows."
   ]
  },
  {
   "cell_type": "code",
   "execution_count": null,
   "id": "11004272",
   "metadata": {},
   "outputs": [],
   "source": [
    "# Find rows where 'Rating' value is greater than 4 \n",
    "jobs.loc[jobs['Rating'] > 4]"
   ]
  },
  {
   "cell_type": "markdown",
   "id": "b4661878",
   "metadata": {},
   "source": [
    "Using `loc` allows us to filter the rows and determine the columns required to create a subset of the data.\n",
    "\n",
    "We have to save our filtered data to a new object in order to perform further manipulation on it. \n"
   ]
  },
  {
   "cell_type": "code",
   "execution_count": null,
   "id": "9ae35cd1",
   "metadata": {},
   "outputs": [],
   "source": [
    "# Filter the data to specific rows and columns and save in a new DataFrame object\n",
    "highRatingJobs = jobs.loc[jobs['Rating']> 4, ['Age', 'Easy Apply', 'Location']]\n",
    "highRatingJobs.head()"
   ]
  },
  {
   "cell_type": "markdown",
   "id": "14ec5524",
   "metadata": {},
   "source": [
    "### Using iloc\n",
    "\n",
    "The `iloc` attribute is another way of selecting the rows and columns. The difference between `loc` and `iloc` is that `iloc` only uses **integer** values to specify the rows and columns."
   ]
  },
  {
   "cell_type": "code",
   "execution_count": null,
   "id": "d561a05c",
   "metadata": {},
   "outputs": [],
   "source": [
    "# Using iloc to select row index 5 and column index 6\n",
    "# remember that the index always starts from 0\n",
    "jobs.iloc[5, 6]"
   ]
  },
  {
   "cell_type": "code",
   "execution_count": null,
   "id": "3279c9ef",
   "metadata": {},
   "outputs": [],
   "source": [
    "# Specifying only 3 rows only, but select all columns\n",
    "jobs.iloc[[1,7,9]]"
   ]
  },
  {
   "cell_type": "code",
   "execution_count": null,
   "id": "0db5d9a0",
   "metadata": {},
   "outputs": [],
   "source": [
    "# Show all rows, but select only 2 columns\n",
    "jobs.iloc[:, [3,5]]"
   ]
  },
  {
   "cell_type": "markdown",
   "id": "1ed4f1d3",
   "metadata": {},
   "source": [
    "### Slicing with iloc \n",
    "You can use Python’s slicing operators to define the range of integer values. For `iloc`, because the values are always integers, it performs the slicing without including the upper bound in the result."
   ]
  },
  {
   "cell_type": "code",
   "execution_count": null,
   "id": "b2df05f5",
   "metadata": {},
   "outputs": [],
   "source": [
    "# Using iloc with slicing\n",
    "jobs.iloc[2:10:2, 1:5]"
   ]
  },
  {
   "cell_type": "markdown",
   "id": "fd435a5a",
   "metadata": {},
   "source": [
    "## Exercises\n",
    "\n",
    "A sample dataset about unemployment in Asia on 2019 and 2020 has been downloaded from the [International Labour Organization ](https://ilostat.ilo.org/data/). This dataset is generated based on \"Employment-to-population ratio by sex and age\" to compare data for 2019 and 2020 for adults aged 25+."
   ]
  },
  {
   "cell_type": "markdown",
   "id": "56494b6d",
   "metadata": {},
   "source": [
    "**Q1 Loading the Data Set**\n",
    "\n",
    "Load the dataset `ILOlabour.csv` into this notebook with the variable name `empData`."
   ]
  },
  {
   "cell_type": "code",
   "execution_count": null,
   "id": "c595dda8",
   "metadata": {},
   "outputs": [],
   "source": [
    "# Q1 Answer\n",
    "import pandas as pd\n",
    "\n",
    "empData = pd.read_csv(\"ILOlabour.csv\")"
   ]
  },
  {
   "cell_type": "markdown",
   "id": "02c56ebf",
   "metadata": {},
   "source": [
    "**Q2 Checking DataFrame Dimensions**\n",
    "\n",
    "How many rows and columns are in the data set?"
   ]
  },
  {
   "cell_type": "code",
   "execution_count": null,
   "id": "565d16a5",
   "metadata": {},
   "outputs": [],
   "source": [
    "# Q2 Answer\n",
    "\n",
    "empData.shape"
   ]
  },
  {
   "cell_type": "markdown",
   "id": "c1e7f281",
   "metadata": {},
   "source": [
    "**Q3 Viewing the DataFrame**\n",
    "\n",
    "Show the first five rows of the data set.\n"
   ]
  },
  {
   "cell_type": "code",
   "execution_count": null,
   "id": "5622fd6e",
   "metadata": {},
   "outputs": [],
   "source": [
    "# Q3 Answer\n",
    "empData.head()"
   ]
  },
  {
   "attachments": {},
   "cell_type": "markdown",
   "id": "054e0188",
   "metadata": {},
   "source": [
    "*Note* \n",
    "\n",
    "This data shows the employment-to-population ratio by sex for ages 25 and above.\n",
    "\n",
    "So for example, for Afghanistan in 2020:\n",
    "- 14% of the female population was employed \n",
    "- compared to 67.8% of the male population. \n",
    "- Overall, 41.7% of the population was employed.\n"
   ]
  },
  {
   "cell_type": "markdown",
   "id": "a35ae9bf",
   "metadata": {},
   "source": [
    "**Q4 Data Sorting**\n",
    "\n",
    "Sort the data by the column `Sex`, then the column `2020`, with the `2020` values in descending order."
   ]
  },
  {
   "cell_type": "code",
   "execution_count": null,
   "id": "9d19ec7c",
   "metadata": {},
   "outputs": [],
   "source": [
    "# Q4 Answer\n",
    "empData.sort_values(by=['Sex','2020'], ascending=[True, False])"
   ]
  },
  {
   "cell_type": "markdown",
   "id": "36723c11",
   "metadata": {},
   "source": [
    "**Q5 Data Filtering**\n",
    "\n",
    "Filter the data set by selecting only rows where the `Sex` value is 'Total' and store the result in a new `DataFrame` object called `totalEmp`."
   ]
  },
  {
   "cell_type": "code",
   "execution_count": null,
   "id": "74f4b187",
   "metadata": {},
   "outputs": [],
   "source": [
    "# Q5 Answer\n",
    "totalEmp = empData[empData['Sex']=='Total']\n",
    "\n",
    "totalEmp"
   ]
  },
  {
   "cell_type": "markdown",
   "id": "a59e372e",
   "metadata": {},
   "source": [
    "**Q6 Filtering by Selecting Columns**\n",
    "\n",
    "For the `totalEmp` data set, we do not need the column `Total` anymore. \n",
    "So, select the other columns and save it into `totalEmp` again."
   ]
  },
  {
   "cell_type": "code",
   "execution_count": null,
   "id": "f38454a5",
   "metadata": {},
   "outputs": [],
   "source": [
    "# Q6 Answer\n",
    "totalEmp = totalEmp[['Reference area', '2019', '2020']]"
   ]
  },
  {
   "cell_type": "code",
   "execution_count": null,
   "id": "196aac15",
   "metadata": {},
   "outputs": [],
   "source": [
    "totalEmp"
   ]
  },
  {
   "cell_type": "markdown",
   "id": "6ff5e4e1",
   "metadata": {},
   "source": [
    "**Q6 Data Set Subsetting using loc**\n",
    "\n",
    "Using `loc` on the `totalEmp` data set, find the countries where the total employment-to-population ratio is below 50 in 2020. Show only the country name and the year."
   ]
  },
  {
   "cell_type": "code",
   "execution_count": null,
   "id": "9ba0873d",
   "metadata": {},
   "outputs": [],
   "source": [
    "# Q7 Answer\n",
    "totalEmp.loc[totalEmp['2020']<50, ['Reference area','2020']]"
   ]
  }
 ],
 "metadata": {
  "kernelspec": {
   "display_name": "Python 3 (ipykernel)",
   "language": "python",
   "name": "python3"
  },
  "language_info": {
   "codemirror_mode": {
    "name": "ipython",
    "version": 3
   },
   "file_extension": ".py",
   "mimetype": "text/x-python",
   "name": "python",
   "nbconvert_exporter": "python",
   "pygments_lexer": "ipython3",
   "version": "3.9.7"
  }
 },
 "nbformat": 4,
 "nbformat_minor": 5
}
