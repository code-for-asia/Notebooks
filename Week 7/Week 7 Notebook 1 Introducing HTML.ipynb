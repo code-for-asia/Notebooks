{
 "cells": [
  {
   "cell_type": "markdown",
   "id": "957e8ca7",
   "metadata": {},
   "source": [
    "# Week 7 Notebook 1 Introducing HTML\n",
    "\n",
    "This week, we are going to learn how to perform web scraping using the Beautiful Soup library.\n",
    "\n",
    "But first, in this lesson we will learn about:\n",
    "1. Different HTML elements and the tags that are used to define them\n",
    "2. How to render HTML in the Jupyter Notebook"
   ]
  },
  {
   "cell_type": "markdown",
   "id": "79219f2c",
   "metadata": {},
   "source": [
    "## HTML \n",
    "\n",
    "HTML, or HyperText Markup Language, is the language for rendering or \"marking up\" web pages. HTML uses tags to define how various elements such as text, images and hyperlinks in the web pages should be displayed by a web browser. Even this Jupyter Notebook is being rendered using HTML!\n",
    "\n",
    "Different types of HTML elements are defined by their tags. The content that should be marked up will be placed between a start tag and an end tag. For example, the `<html> .... </html>` tags tell the browser that the content between the tags are to be marked up using HTML. As we can see, the end tag is denoted by the slash `/`.\n",
    "\n",
    "A basic web page can be formed by nesting the following tags:\n",
    "\n",
    "```html\n",
    "<html>\n",
    "    <head>\n",
    "    \n",
    "    </head>\n",
    "    <body>\n",
    "    \n",
    "    </body>\n",
    "</html>\n",
    "```\n",
    "\n",
    "Information about the HTML page, or *metadata*, will be contained between the `<head>` tags. The page content will be contained between the `<body>` tags, and we will focus on this part, as the data that we want to extract is here.\n",
    "\n",
    "Two tags that we will introduce are:\n",
    "- `<h1> ... </h1>` which is to format a heading, and\n",
    "- `<p> ... </p>` which contains a paragraph of text.\n",
    "\n",
    "We can try to use these tags in the next example."
   ]
  },
  {
   "cell_type": "markdown",
   "id": "a4015c41",
   "metadata": {},
   "source": [
    "## Displaying HTML in Jupyter\n",
    "We can display HTML within this notebook. First, we have to import the `HTML()` function from the `IPython.display` library. The `HTML` function reads a string of HTML-formatted text to render it when we execute the cell.\n",
    "\n",
    "The string variable `test_html` below contains HTML tags and content between the tags. The `<h1>` tag is used to format the header and the `<p>` tag is used to format the content. Always remember to use the slash, `/` for the end tags (`</h1>` and `</p>`).\n",
    "\n",
    "Execute the cell below to view the rendered HTML."
   ]
  },
  {
   "cell_type": "code",
   "execution_count": 1,
   "id": "0c36aa6d",
   "metadata": {},
   "outputs": [
    {
     "data": {
      "text/html": [
       "<html><body><h1>This is header 1</h1><p>A paragraph with some content</p></body></html>"
      ],
      "text/plain": [
       "<IPython.core.display.HTML object>"
      ]
     },
     "execution_count": 1,
     "metadata": {},
     "output_type": "execute_result"
    }
   ],
   "source": [
    "from IPython.display import HTML\n",
    "\n",
    "# create a string that contains HTML tags\n",
    "test_html = '<html><body><h1>This is header 1</h1><p>A paragraph with some content</p></body></html>'\n",
    "\n",
    "# use the HTML function to display the HTML\n",
    "HTML(test_html)"
   ]
  },
  {
   "cell_type": "markdown",
   "id": "8e6059b3",
   "metadata": {},
   "source": [
    "**Another Example**\n",
    "\n",
    "We can create a string that spans several lines using triple quotes `\"\"\"`. This will help us to view our HTML tags clearly, for example when we create the string `sample_doc` below."
   ]
  },
  {
   "cell_type": "code",
   "execution_count": 2,
   "id": "5685aa83",
   "metadata": {},
   "outputs": [
    {
     "data": {
      "text/html": [
       "\n",
       "<!DOCTYPE html>\n",
       "<html>\n",
       "    <head>\n",
       "    </head>\n",
       "    <body>\n",
       "        <h1>Hello</h1>\n",
       "        <p>Welcome to HTML in Jupyter</p>\n",
       "    </body>\n",
       "</html>\n"
      ],
      "text/plain": [
       "<IPython.core.display.HTML object>"
      ]
     },
     "execution_count": 2,
     "metadata": {},
     "output_type": "execute_result"
    }
   ],
   "source": [
    "sample_doc = \"\"\"\n",
    "<!DOCTYPE html>\n",
    "<html>\n",
    "    <head>\n",
    "    </head>\n",
    "    <body>\n",
    "        <h1>Hello</h1>\n",
    "        <p>Welcome to HTML in Jupyter</p>\n",
    "    </body>\n",
    "</html>\n",
    "\"\"\"\n",
    "\n",
    "# now use the HTML function\n",
    "HTML(sample_doc)"
   ]
  },
  {
   "cell_type": "markdown",
   "id": "a69ab2f4",
   "metadata": {},
   "source": [
    "**Attributes**\n",
    "\n",
    "Tags may also contain attributes to describe the element. For example, we can add an attribute `title = \"greeting\"` within the `<h1>` tag below. This adds a tooltip at the header."
   ]
  },
  {
   "cell_type": "code",
   "execution_count": 3,
   "id": "e8bedd40",
   "metadata": {},
   "outputs": [
    {
     "data": {
      "text/html": [
       "\n",
       "<!DOCTYPE html>\n",
       "<html>\n",
       "    <head>\n",
       "    </head>\n",
       "    <body>\n",
       "        <h1 title=\"greeting\">Hello</h1>\n",
       "        <p>Welcome to HTML in Jupyter</p>\n",
       "    </body>\n",
       "</html>\n"
      ],
      "text/plain": [
       "<IPython.core.display.HTML object>"
      ]
     },
     "execution_count": 3,
     "metadata": {},
     "output_type": "execute_result"
    }
   ],
   "source": [
    "sample_doc = \"\"\"\n",
    "<!DOCTYPE html>\n",
    "<html>\n",
    "    <head>\n",
    "    </head>\n",
    "    <body>\n",
    "        <h1 title=\"greeting\">Hello</h1>\n",
    "        <p>Welcome to HTML in Jupyter</p>\n",
    "    </body>\n",
    "</html>\n",
    "\"\"\"\n",
    "\n",
    "HTML(sample_doc)"
   ]
  },
  {
   "cell_type": "markdown",
   "id": "77e0cac0",
   "metadata": {},
   "source": [
    "Now, when you hover your mouse above the \"Hello\" header that has been rendered above, you should see a tooltip \"greeting\".\n"
   ]
  },
  {
   "cell_type": "markdown",
   "id": "e476e8c3",
   "metadata": {},
   "source": [
    "# Other Tags\n",
    "\n",
    "Execute the cell below to view other HTML tags."
   ]
  },
  {
   "cell_type": "code",
   "execution_count": 4,
   "id": "bbeada17",
   "metadata": {},
   "outputs": [
    {
     "data": {
      "text/html": [
       "\n",
       "<html>\n",
       "    <head>\n",
       "      <title>Page Title</title>\n",
       "    </head>\n",
       "    <body>\n",
       "        <!-- This is a comment -->\n",
       "        <!-- Headers are from <h1> to <h6> -->\n",
       "        <h1>This is the biggest header</h1>\n",
       "        <h2>This is the next size header</h2>\n",
       "        <h6>This is smallest header</h6>\n",
       "\n",
       "        <h2>Embedded Image</h2>\n",
       "        <!-- The <img> tag is used to provide a link to an image to be displayed-->\n",
       "        <!-- The <a> tag is used to provide a hyperlink to other files-->\n",
       "        <img src=\"https://www.publicdomainpictures.net/pictures/210000/velka/physical-world-map-robinson.jpg\" alt=\"World Map\" width = \"212\" height = \"107\">\n",
       "        <p>Image available from <a href=\"http://www.publicdomainpictures.net\">Public Domain Pictures</a></p>\n",
       "\n",
       "        <h2>Unordered List</h2>\n",
       "        <!-- The <ul> tag is for unordered lists, <li> for each list item  -->\n",
       "        <ul>\n",
       "            <li>list item</li>\n",
       "            <li>another item</li>\n",
       "            <li>another item</li>\n",
       "        </ul>\n",
       "\n",
       "        <h2>Ordered list has numbers</h2>\n",
       "        <!-- The <ol> tag is for ordered lists, <li> also for each list item  -->\n",
       "        <ol>\n",
       "            <li>list item</li>\n",
       "            <li>list item</li>\n",
       "        </ol>\n",
       "\n",
       "        <h2>HTML Table</h2>\n",
       "       \n",
       "        <!-- An table is defined using the <table> tag  -->\n",
       "        <!-- Then the table rows are specified using <tr>  -->\n",
       "        <!-- The <th> tag is for the table header -->\n",
       "        <!-- The <td> tag is for the table data -->\n",
       "        <table>\n",
       "            <tr>\n",
       "                <th>Library</th>\n",
       "                <th>Purpose</th>\n",
       "            </tr>\n",
       "            <tr>\n",
       "                <td>Pandas</td>\n",
       "                <td>Data Manipulation</td>\n",
       "            </tr>\n",
       "            <tr>\n",
       "                <td>Matplotlib</td>\n",
       "                <td>Plotting</td>\n",
       "            </tr>\n",
       "            <tr>\n",
       "                <td>Beautiful Soup</td>\n",
       "                <td>Web Scraping</td>\n",
       "            </tr>\n",
       "        </table>\n",
       "    </body>\n",
       "</html>\n"
      ],
      "text/plain": [
       "<IPython.core.display.HTML object>"
      ]
     },
     "execution_count": 4,
     "metadata": {},
     "output_type": "execute_result"
    }
   ],
   "source": [
    "other_tags = \"\"\"\n",
    "<html>\n",
    "    <head>\n",
    "      <title>Page Title</title>\n",
    "    </head>\n",
    "    <body>\n",
    "        <!-- This is a comment -->\n",
    "        <!-- Headers are from <h1> to <h6> -->\n",
    "        <h1>This is the biggest header</h1>\n",
    "        <h2>This is the next size header</h2>\n",
    "        <h6>This is smallest header</h6>\n",
    "\n",
    "        <h2>Embedded Image</h2>\n",
    "        <!-- The <img> tag is used to provide a link to an image to be displayed-->\n",
    "        <!-- The <a> tag is used to provide a hyperlink to other files-->\n",
    "        <img src=\"https://www.publicdomainpictures.net/pictures/210000/velka/physical-world-map-robinson.jpg\" alt=\"World Map\" width = \"212\" height = \"107\">\n",
    "        <p>Image available from <a href=\"http://www.publicdomainpictures.net\">Public Domain Pictures</a></p>\n",
    "\n",
    "        <h2>Unordered List</h2>\n",
    "        <!-- The <ul> tag is for unordered lists, <li> for each list item  -->\n",
    "        <ul>\n",
    "            <li>list item</li>\n",
    "            <li>another item</li>\n",
    "            <li>another item</li>\n",
    "        </ul>\n",
    "\n",
    "        <h2>Ordered list has numbers</h2>\n",
    "        <!-- The <ol> tag is for ordered lists, <li> also for each list item  -->\n",
    "        <ol>\n",
    "            <li>list item</li>\n",
    "            <li>list item</li>\n",
    "        </ol>\n",
    "\n",
    "        <h2>HTML Table</h2>\n",
    "       \n",
    "        <!-- An table is defined using the <table> tag  -->\n",
    "        <!-- Then the table rows are specified using <tr>  -->\n",
    "        <!-- The <th> tag is for the table header -->\n",
    "        <!-- The <td> tag is for the table data -->\n",
    "        <table>\n",
    "            <tr>\n",
    "                <th>Library</th>\n",
    "                <th>Purpose</th>\n",
    "            </tr>\n",
    "            <tr>\n",
    "                <td>Pandas</td>\n",
    "                <td>Data Manipulation</td>\n",
    "            </tr>\n",
    "            <tr>\n",
    "                <td>Matplotlib</td>\n",
    "                <td>Plotting</td>\n",
    "            </tr>\n",
    "            <tr>\n",
    "                <td>Beautiful Soup</td>\n",
    "                <td>Web Scraping</td>\n",
    "            </tr>\n",
    "        </table>\n",
    "    </body>\n",
    "</html>\n",
    "\"\"\"\n",
    "\n",
    "HTML(other_tags)"
   ]
  },
  {
   "cell_type": "markdown",
   "id": "4e8c3d37",
   "metadata": {},
   "source": [
    "# Nested Tags\n",
    "\n",
    "As you can see from the HTML code, some tags are nested within other tags. These nested tags are called *child* tags, while the outer tags are called *parent* tags. Tags which are nested on the same level are called *sibling* tags. \n",
    "\n",
    "```html\n",
    "<html>\n",
    "    <body>\n",
    "        <h1>This is the biggest header</h1>\n",
    "        <p>Image available from <a href=\"http://www.publicdomainpictures.net\">Public Domain Pictures</a></p>\n",
    "\n",
    "        <ul>\n",
    "            <li>list item</li>\n",
    "            <li>another item</li>\n",
    "            <li>another item</li>\n",
    "        </ul>\n",
    "    </body>\n",
    " </html>\n",
    "```\n",
    "\n",
    "In the example above, `<body>` is the parent tag of `<h1>`, `<p1>` and `<ul>`. This means `<h1>`, `<p1>` and `<ul>` are sibling tags. `<li>` is the child tag of `<ul>` and also considered a *descendant* of `<body>`.\n",
    "\n",
    "Having the relationships between the tags allows us to navigate the HTML tree."
   ]
  },
  {
   "attachments": {
    "image-2.png": {
     "image/png": "[encoded data removed]"
    }
   },
   "cell_type": "markdown",
   "id": "1039aa8b",
   "metadata": {},
   "source": [
    "# Viewing HTML Source\n",
    "\n",
    "We can actually view the HTML source code of any web page by bringing up the context menu by right-clicking on the webpage then select `View Page Source`.\n",
    "\n",
    "![image-2.png](attachment:image-2.png)\n",
    "\n",
    "To view a specific element, we must hover our cursor to the element, right-click on the element and then select `Inspect Element`. This will help us select specific tags that we want for web scraping, which we will do on the next notebook!"
   ]
  }
 ],
 "metadata": {
  "kernelspec": {
   "display_name": "Python 3 (ipykernel)",
   "language": "python",
   "name": "python3"
  },
  "language_info": {
   "codemirror_mode": {
    "name": "ipython",
    "version": 3
   },
   "file_extension": ".py",
   "mimetype": "text/x-python",
   "name": "python",
   "nbconvert_exporter": "python",
   "pygments_lexer": "ipython3",
   "version": "3.9.7"
  }
 },
 "nbformat": 4,
 "nbformat_minor": 5
}
