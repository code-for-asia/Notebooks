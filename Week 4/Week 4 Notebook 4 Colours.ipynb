{
 "cells": [
  {
   "cell_type": "markdown",
   "id": "443ee7fe",
   "metadata": {},
   "source": [
    "# Week 4 Notebook 4 Colours\n",
    "\n",
    "\n",
    "Let's have a look at how we can choose colours for our plots.\n",
    "\n",
    "In this notebook, we will cover:\n",
    "- Using the color argument\n",
    "- Different colormaps\n",
    "- Seaborn Palettes\n",
    "\n",
    "Let's start by importing the libraries and reading in the WIDS datathon data."
   ]
  },
  {
   "cell_type": "code",
   "execution_count": null,
   "id": "5049cb8c",
   "metadata": {},
   "outputs": [],
   "source": [
    "import pandas as pd\n",
    "import matplotlib.pyplot as plt\n",
    "import seaborn as sns\n",
    "import matplotlib.colors as mcolors\n",
    "wids_train = pd.read_csv('wids-climate-train.csv')"
   ]
  },
  {
   "cell_type": "code",
   "execution_count": null,
   "id": "084e69e1",
   "metadata": {},
   "outputs": [],
   "source": [
    "wids_train.head()"
   ]
  },
  {
   "cell_type": "markdown",
   "id": "1bb7ef60",
   "metadata": {},
   "source": [
    "## Matplotlib colours\n",
    "\n",
    "A good tutorial on colours is available in [Plotting with Pride: Colors in Matplotlib](https://petercbsmith.github.io/color-tutorial.html). Here we will try to view some of the colours available.\n",
    "\n",
    "You might have noticed we added another import above: `import matplotlib.colors as mcolors`. This gives us the `colors` module which allows us to find the names of each of the colours available.\n",
    "\n",
    "Without using specific named colours, Matplotlib will give us default colours. We can show them in the legend below."
   ]
  },
  {
   "cell_type": "code",
   "execution_count": null,
   "id": "69ff9281",
   "metadata": {},
   "outputs": [],
   "source": [
    "# Show the default colours\n",
    "val = 1\n",
    "fig, ax= plt.subplots(figsize=(5,5))\n",
    "ax.set_facecolor(\"lightgray\")\n",
    "for color in range(10):\n",
    "    choice =(\"C\"+str(color)) \n",
    "    plt.plot(val, val, c=choice, label=choice, linewidth=14, marker='o', markersize=14)\n",
    "    val= val+1\n",
    "    \n",
    "# plot the legend to show the colors, use bbox_to_anchor to put the legend outside the bounding boxes of the axes\n",
    "plt.legend(fontsize=20, bbox_to_anchor=(1,1), facecolor=\"lightgray\") \n",
    "plt.show()"
   ]
  },
  {
   "cell_type": "code",
   "execution_count": null,
   "id": "2ebcd68f",
   "metadata": {},
   "outputs": [],
   "source": [
    "# Print the colours in a legend\n",
    "val = 1\n",
    "fig, ax= plt.subplots(figsize=(5,5))\n",
    "ax.set_facecolor(\"lightgray\")\n",
    "\n",
    "# look through the colours defined in mcolors.BASE_COLORS\n",
    "# You can try other colours eg mcolors.TABLEAU_COLORS, mcolors.CSS4_COLORS, mcolors.XKCD_COLORS\n",
    "for color in mcolors.BASE_COLORS:   \n",
    "    plt.plot(val, val, c=color, label=color, linewidth=14, marker='*', markersize=10)\n",
    "    val= val+1\n",
    "    \n",
    "# plot the legend to show the colors, use bbox_to_anchor to put the legend outside the bounding boxes of the axes\n",
    "plt.legend(fontsize=20, bbox_to_anchor=(1,1), facecolor=\"lightgray\") \n",
    "plt.show()"
   ]
  },
  {
   "cell_type": "markdown",
   "id": "8e39a702",
   "metadata": {},
   "source": [
    "## Plotting the WIDS data\n",
    "\n",
    "Let's see how we can use the colours to define our data. \n",
    "\n",
    "Using basic Matplotlib plotting, we use the `color=` or `c=` argument to define the colour for plot elements.\n"
   ]
  },
  {
   "cell_type": "code",
   "execution_count": null,
   "id": "dcbfe759",
   "metadata": {},
   "outputs": [],
   "source": [
    "# Select only sites built in 2015, for example\n",
    "data = wids_train[wids_train['year_built']==2015]\n",
    "\n",
    "# Define a dictionary so that each state is given a specific colour\n",
    "colors_by_state ={'State_1':'b','State_2':'g' ,'State_4':'r', 'State_8':'c', 'State_10': 'm', 'State_11':'y', 'State_6':'k' }\n",
    "\n",
    "# Create the plot\n",
    "fig, ax= plt.subplots()\n",
    "\n",
    "# plot the points for each state\n",
    "for state_name in colors_by_state:\n",
    "    state_data = data[data['State_Factor']==state_name]  # get the data for one state\n",
    "    ax.scatter(state_data['energy_star_rating'], state_data['site_eui'], \n",
    "               color=colors_by_state[state_name], label=state_name, alpha=0.6)\n",
    "ax.legend(bbox_to_anchor=(1,1))\n",
    "ax.set_xlabel('energy star rating')\n",
    "ax.set_ylabel('site EUI')\n",
    "ax.set_title('Higher Energy Star Rating should reflect lower Site EUI values')\n",
    "fig.suptitle('Sites built in 2015')\n",
    "plt.show()"
   ]
  },
  {
   "cell_type": "markdown",
   "id": "00731eea",
   "metadata": {},
   "source": [
    "## Case Study - Checking Energy Star Rating Awarded by States\n",
    "\n",
    "We want to be able to compare the energy star ratings awarded vs the site EUI values for each state. Maybe this can tell us which states are able to award the energy star ratings accurately.\n",
    "\n",
    "Let's try to check which facility types in which states have the highest site EUI ratings vs energy star ratings. \n",
    "First we have to group and find the mean site EUI and mean energy star rating for each state.\n",
    "\n",
    "You might recall that there are some missing values for the energy star ratings. As we want to find out which buildings have more accurate energy star ratings, those with missing values will not help in our analysis."
   ]
  },
  {
   "cell_type": "code",
   "execution_count": null,
   "id": "8a44ebbe",
   "metadata": {},
   "outputs": [],
   "source": [
    "# drop data where energy star rating value is null\n",
    "star_rated = wids_train.dropna(subset=['energy_star_rating'])\n"
   ]
  },
  {
   "cell_type": "markdown",
   "id": "f7b308d5",
   "metadata": {},
   "source": [
    "**Group By State, Building and Facility Type**\n",
    "\n",
    "Now we can calculate the mean values for site EUI and energy star rating for each state, building class and facility type.\n",
    "We will reset the index on the data frame so that we can get a new data frame to be used in the plot. \n",
    "\n",
    "Don't forget we want to use the `star_rated` data set."
   ]
  },
  {
   "cell_type": "code",
   "execution_count": null,
   "id": "372f21d8",
   "metadata": {},
   "outputs": [],
   "source": [
    "# Calculate mean values for each group of state, building class and facility type that have been awarded energy star ratings\n",
    "mean_by_state_bldg = star_rated.groupby(['State_Factor','building_class','facility_type']).mean()\n",
    "mean_by_state_bldg.reset_index(inplace=True)\n",
    "mean_by_state_bldg\n"
   ]
  },
  {
   "cell_type": "markdown",
   "id": "b508ebe3",
   "metadata": {},
   "source": [
    "Using this data, we can create a scatter plot of the mean site EUI vs the Energy Star Rating and find the top Facility Types."
   ]
  },
  {
   "cell_type": "code",
   "execution_count": null,
   "id": "9a4bfc14",
   "metadata": {},
   "outputs": [],
   "source": [
    "# Scatter plot where size of marker indicates higher site EUI\n",
    "fig, ax= plt.subplots()\n",
    "ax.scatter(mean_by_state_bldg['energy_star_rating'], mean_by_state_bldg['site_eui'], c='blue',\n",
    "           alpha=0.5, s=mean_by_state_bldg['site_eui'])\n",
    "\n",
    "ax.set_xlabel('Energy Star Rating')\n",
    "ax.set_ylabel('Site EUI')\n",
    "ax.set_ylim(0,1000)\n",
    "ax.set_title('Mean Site EUI vs energy star rating')\n",
    "\n",
    "# find facility type and state with three highest max site eui\n",
    "\n",
    "# First sort the values by site EUI\n",
    "top3 = mean_by_state_bldg.sort_values(by='site_eui', ascending=False)\n",
    "\n",
    "# Then put the text for the top 3 only - can change to 5, or 10\n",
    "for i in range(3):\n",
    "    top = top3.iloc[i]\n",
    "    xVal= top['energy_star_rating']\n",
    "    \n",
    "    # add annotation to the top 3 only\n",
    "    ax.annotate(top['facility_type']+',\\n'+top['State_Factor'], xy=(xVal,top['site_eui']), xytext=(xVal-10,top['site_eui']-(i*50) ))\n",
    "\n",
    "plt.show()"
   ]
  },
  {
   "cell_type": "markdown",
   "id": "38a86e41",
   "metadata": {},
   "source": [
    "## Using Colours to represent Values\n",
    "\n",
    "In the plot above we have used the size of the markers to indicate the site EUI value - bigger markers show that the site EUI is higher. We can also use colours to show the value of another dimension.\n",
    "\n",
    "For example, if we want to use the colour based on the energy star rating:\n"
   ]
  },
  {
   "cell_type": "code",
   "execution_count": null,
   "id": "760af794",
   "metadata": {},
   "outputs": [],
   "source": [
    "# Scatter plot where size of marker indicates higher site EUI and colour indicates the energy star rating\n",
    "fig, ax= plt.subplots()\n",
    "sc = ax.scatter(mean_by_state_bldg['energy_star_rating'], mean_by_state_bldg['site_eui'],\n",
    "           alpha=0.5, s=mean_by_state_bldg['site_eui'], c=mean_by_state_bldg['energy_star_rating'])\n",
    "\n",
    "ax.set_xlabel('Energy Star Rating')\n",
    "ax.set_ylabel('Site EUI')\n",
    "ax.set_ylim(0,1000)\n",
    "ax.set_title('Mean Site EUI vs energy star rating')\n",
    "\n",
    "# add the color bar to indicate the color values\n",
    "plt.colorbar(sc, label='Energy Star Rating')\n",
    "\n",
    "# get the sizes for the legend\n",
    "handles, labels = sc.legend_elements(prop='sizes')\n",
    "ax.legend(handles, labels, bbox_to_anchor=(1.5,1), title='Site EUI')\n",
    "\n",
    "plt.show()"
   ]
  },
  {
   "cell_type": "markdown",
   "id": "dc524d34",
   "metadata": {},
   "source": [
    "## Colormaps\n",
    "\n",
    "The `colorbar` that has been added shows the colours that the values of energy star rating map to. This is known as the ***colormap***. You have a large choice as you can see in the [Choosing Colormaps in Matplotlib](https://matplotlib.org/stable/tutorials/colors/colormaps.html) reference.\n",
    "\n",
    "The default colormap used in the plot above is `viridis`. However it does not represent energy star values well. \n",
    "\n",
    "We can specify a better colormap, for example if we want to indicate that green is best and red is worst, we can use the `RdYlGn` colormap:\n",
    "\n"
   ]
  },
  {
   "cell_type": "code",
   "execution_count": null,
   "id": "c21ee0bc",
   "metadata": {},
   "outputs": [],
   "source": [
    "# Scatter plot where size of marker indicates higher site EUI and colour indicates the energy star rating\n",
    "fig, ax= plt.subplots()\n",
    "sc = ax.scatter(mean_by_state_bldg['energy_star_rating'], mean_by_state_bldg['site_eui'],\n",
    "           alpha=0.8, s=mean_by_state_bldg['site_eui'], c=mean_by_state_bldg['energy_star_rating'], cmap='RdYlGn')\n",
    "\n",
    "ax.set_xlabel('Energy Star Rating')\n",
    "ax.set_ylabel('Site EUI')\n",
    "ax.set_ylim(0,1000)\n",
    "ax.set_title('Mean Site EUI vs energy star rating')\n",
    "\n",
    "# add the colorbar to indicate the color values\n",
    "plt.colorbar(sc, label='Energy Star Rating')\n",
    "plt.show()"
   ]
  },
  {
   "cell_type": "markdown",
   "id": "f3ad7f9e",
   "metadata": {},
   "source": [
    "### Reversing Colormaps\n",
    "\n",
    "To reverse the sequence of the colour values in a colormap, you can just add `_r` to the name of the colormap. For example in the plot below, instead of the `summer` colormap where lower values are green and higher values are yellow, the value of the colormap has been set to `cmap='summer_r`."
   ]
  },
  {
   "cell_type": "code",
   "execution_count": null,
   "id": "3811e23c",
   "metadata": {},
   "outputs": [],
   "source": [
    "fig, ax= plt.subplots(figsize=(8,5))\n",
    "\n",
    "# choose the summer colormap but reverse it in the cmap argument\n",
    "scatter=ax.scatter(mean_by_state_bldg['State_Factor'], \n",
    "               mean_by_state_bldg['site_eui'],\n",
    "               c=mean_by_state_bldg['energy_star_rating'], \n",
    "               cmap='summer_r', marker='*', s=mean_by_state_bldg['site_eui'])\n",
    "plt.colorbar(scatter, label = 'Mean Energy Star Rating')\n",
    "\n",
    "ax.set_ylabel('Site EUI')\n",
    "\n",
    "ax.set_title('Mean Site EUI for facility types in each state')"
   ]
  },
  {
   "cell_type": "code",
   "execution_count": null,
   "id": "1269c3a8",
   "metadata": {},
   "outputs": [],
   "source": [
    "fig, ax= plt.subplots(figsize=(10,10))\n",
    "\n",
    "# choose the summer colormap but reverse it in the cmap argument\n",
    "scatter=ax.scatter(mean_by_state_bldg['State_Factor'], \n",
    "               mean_by_state_bldg['site_eui'],\n",
    "               c=mean_by_state_bldg['energy_star_rating'], \n",
    "               cmap='summer_r', marker='*', s=mean_by_state_bldg['site_eui'])\n",
    "ax.set_ylabel('Site EUI')\n",
    "ax.set_title('Mean Site EUI by facility type')\n",
    "\n",
    "# set the colorbar at the bottom instead\n",
    "plt.colorbar(scatter, location='bottom', ticks=None, label='Energy Star Rating')\n",
    "\n",
    "\n",
    "# Then the legend on the right\n",
    "handles, labels = scatter.legend_elements(prop='sizes')\n",
    "plt.legend(handles, labels, bbox_to_anchor=(1,1), title='Site EUI')"
   ]
  },
  {
   "cell_type": "markdown",
   "id": "c58dc017",
   "metadata": {},
   "source": [
    "## Seaborn Palette\n",
    "\n",
    "In the previous notebooks we have used the Seaborn `hue` argument to distinguish categories. However, we can also specify the choice of colours that the hue should use. This uses the `palette` argument.\n"
   ]
  },
  {
   "cell_type": "code",
   "execution_count": null,
   "id": "ef0ba9fa",
   "metadata": {},
   "outputs": [],
   "source": [
    "# specifying the palette to use\n",
    "fig, ax = plt.subplots()\n",
    "ax = sns.boxplot(data = wids_train, \n",
    "                 x='State_Factor', \n",
    "                 y='site_eui', \n",
    "                 hue='building_class', \n",
    "                 palette = 'hsv')\n",
    "\n",
    "ax.set_ylim(0,200)\n",
    "ax.set_xlabel('')\n",
    "ax.set_ylabel('Site EUI')\n",
    "ax.legend(loc='upper right')\n",
    "ax.set_title('Site EUI by State')\n",
    "plt.show()"
   ]
  },
  {
   "cell_type": "markdown",
   "id": "f0125f7d",
   "metadata": {},
   "source": [
    "The tutorial on [Choosing Color Palettes](https://seaborn.pydata.org/tutorial/color_palettes.html) provides some examples of the names of palettes. Seaborn is still compatible with the Matplotlib colormaps, so you can choose from the the colormaps names or the palette names.\n",
    "\n",
    "Let's try out more plots in the exercises!\n"
   ]
  },
  {
   "cell_type": "markdown",
   "id": "25505b23",
   "metadata": {},
   "source": [
    "# Exercises\n",
    "\n",
    "Let's try to customise the plots for the bike sharing data set with more colours.\n"
   ]
  },
  {
   "cell_type": "code",
   "execution_count": null,
   "id": "992b22e2",
   "metadata": {},
   "outputs": [],
   "source": [
    "date_cols = ['rental_date','started_at', 'ended_at']\n",
    "bikes = pd.read_csv('bikes_clean.csv', parse_dates = date_cols, dayfirst=True)\n",
    "bikes.head()"
   ]
  },
  {
   "cell_type": "code",
   "execution_count": null,
   "id": "ee2f8c5d",
   "metadata": {},
   "outputs": [],
   "source": [
    "# create the bike groups and count the total number of ride_ids in each group\n",
    "import numpy as np\n",
    "groups = bikes.groupby(['rideable_type','member_casual','day_of_week','rental_date','rental_hour'])['duration_in_min'].agg([np.mean,len])\n",
    "daily_rentals =  groups.reset_index()\n",
    "# find the number of rentals for each group and the mean duration in minutes\n",
    "daily_rentals.rename(columns={'mean':'mean_duration', 'len':'num_rentals'}, inplace=True)\n",
    "daily_rentals"
   ]
  },
  {
   "cell_type": "markdown",
   "id": "773fc005",
   "metadata": {},
   "source": [
    "**Q1. Basic Scatterplot**\n",
    "\n",
    "Create a basic scatterplot of the hour of day by duration in minutes, to view the mean duration of rental for different hours of the day throughout the whole month, for different types of bikes.\n",
    "- create the dictionary of colours for each rideable_type\n",
    "- use a for loop to loop through the dictionary of bike types\n",
    "- using the `daily_rentals` data set, plot the scatter plot with `rental_hour` on the x-axis, `mean_duration` on the y-axis, and the color for the points based on the bike type.\n",
    "- try to add the size of the points based on the `mean_duration`. \n",
    "\n"
   ]
  },
  {
   "cell_type": "code",
   "execution_count": null,
   "id": "7cb78211",
   "metadata": {},
   "outputs": [],
   "source": [
    "# Set colors for the types of bikes - choose suitable colors\n",
    "bike_colors = {'docked':'red', 'classic':'blue','electric':'green'}\n",
    "\n",
    "# Create a basic Matplotlib scatter plot to loop through the dictionary \n",
    "# plot the points for each bike type\n",
    "\n"
   ]
  },
  {
   "cell_type": "markdown",
   "id": "40dcfb80",
   "metadata": {},
   "source": [
    "You should be able to see from the plot that electric bikes are taken at all hours but only for shorter durations.\n",
    "\n",
    "**Q2. Scatter Plot**\n",
    "\n",
    "Create a scatter plot to see the number of rentals over the whole month, with the colour based on the rental hour. \n",
    "- Use the `daily_rentals` data set\n",
    "- use the `rental_date` on the x-axis\n",
    "- use the `num_rentals` on the y-axis, to show the number of rentals for the different bikes and hours\n",
    "- use the argument `c=rental_hour` to specify that it should be a sequence of values to be mapped\n",
    "- use a suitable colormap for the rental hour with the `cmap=` argument.\n",
    "- add a colorbar"
   ]
  },
  {
   "cell_type": "code",
   "execution_count": null,
   "id": "40661d76",
   "metadata": {},
   "outputs": [],
   "source": [
    "# Q2. Scatterplot to show the number of rentals by rental date for different hours of the day\n"
   ]
  },
  {
   "cell_type": "markdown",
   "id": "1b9cd3f5",
   "metadata": {},
   "source": [
    "## Using Seaborn \n",
    "\n",
    "**Q3. Seaborn Lineplot**\n",
    "\n",
    "Create a lineplot using Seaborn on the `daily_rentals` data set to show the rental date on the x-axis, the mean duration on the y-axis, and the `hue` argument to show two lines of different colours, each representing whether the rentals are from members or casual users.\n",
    "Select a suitable value for the `palette` argument for the colours."
   ]
  },
  {
   "cell_type": "code",
   "execution_count": null,
   "id": "b93d9d3a",
   "metadata": {},
   "outputs": [],
   "source": [
    "# Q3 Answer\n",
    "# plot duration of rental by date\n"
   ]
  },
  {
   "cell_type": "markdown",
   "id": "7df060ff",
   "metadata": {},
   "source": [
    "## Seaborn Heatmap\n",
    "\n",
    "Let's practice creating the heatmap and selecting suitable colours. To create a heatmap, we have to create a two-way table of data first.\n",
    "\n",
    "**Q4a. Two-Way Table**\n",
    "\n",
    "Create a two-way table using the `groupby()` method on the `daily_rentals` data set to find the ***sum*** of `num_rentals` for the `rental_date` by the `rental_hour`.\n"
   ]
  },
  {
   "cell_type": "code",
   "execution_count": null,
   "id": "eca6024f",
   "metadata": {},
   "outputs": [],
   "source": [
    "# Q4a Answer \n"
   ]
  },
  {
   "cell_type": "markdown",
   "id": "db9436ec",
   "metadata": {},
   "source": [
    "**Q4b. Heatmap**\n",
    "\n",
    "Using the data in Q4a, create a heatmap that shows the rental date vs the rental hour and select a suitable colormap to represent the number of rentals. Don't forget to use `annot=True` so that you can check the values against the colour."
   ]
  },
  {
   "cell_type": "code",
   "execution_count": null,
   "id": "4b569d98",
   "metadata": {},
   "outputs": [],
   "source": [
    "#Q4b Answer\n",
    "\n"
   ]
  }
 ],
 "metadata": {
  "kernelspec": {
   "display_name": "Python 3 (ipykernel)",
   "language": "python",
   "name": "python3"
  },
  "language_info": {
   "codemirror_mode": {
    "name": "ipython",
    "version": 3
   },
   "file_extension": ".py",
   "mimetype": "text/x-python",
   "name": "python",
   "nbconvert_exporter": "python",
   "pygments_lexer": "ipython3",
   "version": "3.9.7"
  }
 },
 "nbformat": 4,
 "nbformat_minor": 5
}
