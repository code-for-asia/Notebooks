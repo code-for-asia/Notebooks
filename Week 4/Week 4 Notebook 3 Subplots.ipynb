{
 "cells": [
  {
   "cell_type": "markdown",
   "id": "ad0f7e96",
   "metadata": {},
   "source": [
    "# Week 4 Notebook 3 Subplots and Facets\n",
    "\n",
    "We have been creating one axes within a single figure. However, we can actually create more than one axes object, or plot, within the figure, to compare patterns between attributes.\n",
    "\n",
    "\n",
    "In this notebook, we will cover:\n",
    "- creating subplots with Matplotlib\n",
    "- using the `FacetGrid` object in Seaborn\n",
    "- adding titles and text to our plots and subplots\n",
    "\n",
    "Let's start by importing the libraries and reading in the WIDS datathon data.\n"
   ]
  },
  {
   "cell_type": "code",
   "execution_count": null,
   "id": "5049cb8c",
   "metadata": {},
   "outputs": [],
   "source": [
    "import pandas as pd\n",
    "import matplotlib.pyplot as plt\n",
    "import seaborn as sns\n",
    "wids_train = pd.read_csv('wids-climate-train.csv')"
   ]
  },
  {
   "cell_type": "markdown",
   "id": "9b009c62",
   "metadata": {},
   "source": [
    "We can create subplots using the object-oriented approach in Matplotlib by defining the figure and axes and the number of rows and columns we want to arrange the subplots in.\n",
    "\n",
    "Calling the `subplots()` method returns the figure object and a tuple for the two axes objects because we want to have the axes in one row and two columns. "
   ]
  },
  {
   "cell_type": "code",
   "execution_count": null,
   "id": "398b44a7",
   "metadata": {},
   "outputs": [],
   "source": [
    "# Create a figure with two subplots, in 1 row and 2 columns\n",
    "fig, (ax1, ax2) = plt.subplots(nrows = 1,ncols = 2)"
   ]
  },
  {
   "cell_type": "markdown",
   "id": "f6f3a26e",
   "metadata": {},
   "source": [
    "We can refer to the first subplot as `ax1` and the second one as `ax2`, and create our plots as usual - for example:\n",
    "- create a basic Matplotlib `hist()` to create a histogram in `ax1`\n",
    "- create a Seaborn boxplot in `ax2`"
   ]
  },
  {
   "cell_type": "code",
   "execution_count": null,
   "id": "f6c2684b",
   "metadata": {},
   "outputs": [],
   "source": [
    "# Create a figure with two subplots\n",
    "fig, (ax1, ax2) = plt.subplots(1,2)\n",
    "# basic matplotlib histogram\n",
    "ax1.hist(wids_train['site_eui'], bins=200, color = \"#ffd514\" )\n",
    "ax1.set_xlabel('site EUI')\n",
    "ax1.set_ylabel('Count')\n",
    "\n",
    "# seaborn boxplot\n",
    "sns.boxplot(ax = ax2, data = wids_train, x='site_eui' , color = \"#ff355d\")\n",
    "ax2.set_xlabel('site EUI')\n",
    "\n",
    "fig.suptitle(\"Distribution of Site EUI\")\n",
    "plt.show()"
   ]
  },
  {
   "cell_type": "markdown",
   "id": "325bc479",
   "metadata": {},
   "source": [
    "### Returning arrays of axes\n",
    "\n",
    "If we specify more than one row and column, we can access the axes using the 2-dimensional array that is returned."
   ]
  },
  {
   "cell_type": "code",
   "execution_count": null,
   "id": "10597f80",
   "metadata": {},
   "outputs": [],
   "source": [
    "# here's an example of how you refer to each axes object if there is more than one row and col\n",
    "\n",
    "# change the values of rows and cols and run again\n",
    "rows = 3   # put a number greater than 1\n",
    "cols = 2   # try a number greater than 1\n",
    "\n",
    "fig, ax = plt.subplots(nrows = rows, ncols = cols, figsize =(10,4), sharex=True, sharey = True)\n",
    "for x in range(rows):\n",
    "    for y in range(cols):\n",
    "        ax[x,y].set_title('ax['+str(x)+','+str(y)+']')\n",
    "# put some padding around each subplot so that the titles don't overlap\n",
    "fig.tight_layout(pad=0.5)"
   ]
  },
  {
   "cell_type": "markdown",
   "id": "2beba3a1",
   "metadata": {},
   "source": [
    "For example, plotting the average january temperatures in the first subplot we would have to refer to the axes as `ax[0,0]`."
   ]
  },
  {
   "cell_type": "code",
   "execution_count": null,
   "id": "a910b416",
   "metadata": {},
   "outputs": [],
   "source": [
    "# Create a figure with subplots in 2 rows and 3 columns\n",
    "fig, ax = plt.subplots(nrows = 2, ncols = 3, figsize =(10,4), sharex=True, sharey = True)\n",
    "\n",
    "# plot for the top left subplot - first row, first col\n",
    "ax[0,0].hist(wids_train['january_avg_temp'])\n",
    "ax[0,0].set_xlabel('January')\n",
    "\n",
    "# plot for the bottom right subplot - 2nd row, 3rd col\n",
    "ax[1,2].hist(wids_train['august_avg_temp'])\n",
    "ax[1,2].set_xlabel('August')\n",
    "plt.show()"
   ]
  },
  {
   "cell_type": "markdown",
   "id": "2fd94458",
   "metadata": {},
   "source": [
    "### Titles\n",
    "\n",
    "Each subplot has its own title and x and y label. \n",
    "\n",
    "The overall figure can also have a main title, and overall x and y labels, called `suptitle`, `supxlabel`, `supylabel`.\n"
   ]
  },
  {
   "cell_type": "code",
   "execution_count": null,
   "id": "2177d568",
   "metadata": {},
   "outputs": [],
   "source": [
    "import matplotlib.pyplot as plt\n",
    "# create a figure with 2 subplots\n",
    "fig, (ax1, ax2) = plt.subplots(1, 2)\n",
    "fig.suptitle('Main (Super) Title for Figure')\n",
    "\n",
    "# put some padding so that the titles don't overlap - try other numbers to see the difference\n",
    "fig.tight_layout(pad=4)\n",
    "\n",
    "# title and labels for first plot\n",
    "ax1.set_title('Title for Subplot 1')\n",
    "ax1.set_xlabel('x-axis label')\n",
    "ax1.set_ylabel('y-axis label')\n",
    "\n",
    "# title and labels for second plot\n",
    "ax2.set_title('Title for Subplot 2')\n",
    "ax2.set_xlabel('x-axis label')\n",
    "ax2.set_ylabel('y-axis label')\n",
    "\n",
    "fig.supxlabel(\"Main Figure X Label\")\n",
    "fig.supylabel(\"Main Figure Y Label\")\n",
    "\n",
    "# add text annotation to any axes or figure\n",
    "ax1.text(0.5,0.5, 'ax1 Text')\n",
    "ax2.text(0.5,0.5, 'ax2 Text')\n",
    "fig.text(0.5,0.5, 'Figure Text')"
   ]
  },
  {
   "cell_type": "code",
   "execution_count": null,
   "id": "390cc507",
   "metadata": {},
   "outputs": [],
   "source": [
    "wids_train.info()"
   ]
  },
  {
   "cell_type": "markdown",
   "id": "8cda122c",
   "metadata": {},
   "source": [
    "### Organising Text\n",
    "\n",
    "Although we can add text to every axes and subplot, we may not need to, as it may make the overall figure too cluttered.\n",
    "\n",
    "Here is an example where we want to compare the site EUI values across different states based on the year built.\n",
    "Let's organise the data to choose only those built after 1950 and focus only on State_1, State_2, State_4 and State_6."
   ]
  },
  {
   "cell_type": "code",
   "execution_count": null,
   "id": "252b3ed9",
   "metadata": {},
   "outputs": [],
   "source": [
    "# find buildings after 1950 by state, as an example we will show only for four of the states\n",
    "state1_buildings = wids_train[(wids_train['year_built'] > 1950)&(wids_train['State_Factor']=='State_1')]\n",
    "state2_buildings = wids_train[(wids_train['year_built'] > 1950)&(wids_train['State_Factor']=='State_2')]\n",
    "state4_buildings = wids_train[(wids_train['year_built'] > 1950)&(wids_train['State_Factor']=='State_4')]\n",
    "state6_buildings = wids_train[(wids_train['year_built'] > 1950)&(wids_train['State_Factor']=='State_6')]\n",
    "\n"
   ]
  },
  {
   "cell_type": "markdown",
   "id": "1044607c",
   "metadata": {},
   "source": [
    "**Create Subplots By State**\n",
    "\n",
    "Using these four data sets, we will make four subplots on the same figure. An array of four axes will be returned by the `subplots()` method, so we can refer to them as with indices from 0 to 3."
   ]
  },
  {
   "cell_type": "code",
   "execution_count": null,
   "id": "20f3a7b8",
   "metadata": {},
   "outputs": [],
   "source": [
    "# Organise into four rows and one column\n",
    "fig, ax = plt.subplots(nrows = 4, ncols = 1, figsize=(10,10))\n",
    "\n",
    "# create four subplots for each of the four states\n",
    "sns.lineplot(ax = ax[0], data=state1_buildings, x=\"year_built\",y = 'site_eui',hue='building_class', ci=None)\n",
    "sns.lineplot(ax = ax[1], data=state2_buildings, x=\"year_built\",y = 'site_eui',hue='building_class', ci=None)\n",
    "sns.lineplot(ax = ax[2], data=state4_buildings, x=\"year_built\",y = 'site_eui',hue='building_class', ci=None)\n",
    "sns.lineplot(ax = ax[3], data=state6_buildings,  x=\"year_built\",y = 'site_eui',hue='building_class', ci=None)\n",
    "\n",
    "# give each subplot a title\n",
    "ax[0].set_title('State 1')\n",
    "ax[1].set_title('State 2')\n",
    "ax[2].set_title('State 4')\n",
    "ax[3].set_title('State 6')\n",
    "\n",
    "# add a main title\n",
    "fig.suptitle('Most states have higher site EUI for Commercial Buildings')\n",
    "    \n",
    "# add a y-axis label, all subplots measure the site EUI\n",
    "fig.supylabel('Site EUI')\n",
    "fig.tight_layout(pad=1)\n",
    "\n",
    "plt.show()"
   ]
  },
  {
   "cell_type": "markdown",
   "id": "32ab4148",
   "metadata": {},
   "source": [
    "Generally, looking at the plots we can notice that residential buildings have lower mean site EUI values, after 1970s for States 2, 4 and 6.\n",
    "\n",
    "However the plot seems to have some issues:\n",
    "- Consistency:\n",
    "    - the y-axis for each plot is not consistent, for state 1 the y tick labels are 0 up to 300 but for state 2 they are 50 and 100, so the actual site EUI values can be double those of state 1 but it is not immediately obvious.\n",
    "    - the legends are sometimes on the right and sometimes on the left\n",
    "- Redundancy\n",
    "    - the y- and x-axis labels are the same for each of the subplots \n",
    "    - legend colours are also the same so it is not necessary to actually have the legend for each subplot.\n",
    "    \n",
    "We can improve on some of these issues quickly by simply having the axes shared."
   ]
  },
  {
   "cell_type": "code",
   "execution_count": null,
   "id": "0a83f376",
   "metadata": {},
   "outputs": [],
   "source": [
    "# Create the subplots with shared axes: \n",
    "fig, ax = plt.subplots(nrows = 4, ncols = 1, figsize=(10,10), sharex=True, sharey=True)\n",
    "\n",
    "sns.lineplot(ax = ax[0], data=state1_buildings, x=\"year_built\",y = 'site_eui',hue='building_class', ci=None)\n",
    "sns.lineplot(ax = ax[1], data=state2_buildings, x=\"year_built\",y = 'site_eui',hue='building_class', ci=None, legend=False)\n",
    "sns.lineplot(ax = ax[2], data=state4_buildings, x=\"year_built\",y = 'site_eui',hue='building_class', ci=None, legend=False)\n",
    "sns.lineplot(ax = ax[3], data=state6_buildings,  x=\"year_built\",y = 'site_eui',hue='building_class', ci=None, legend=False)\n",
    "\n",
    "# Add text to the plot instead of titles\n",
    "ax[0].text(1950, 300, 'State 1', fontsize=14)\n",
    "ax[1].text(1950, 300, 'State 2', fontsize=14)\n",
    "ax[2].text(1950, 300, 'State 4',fontsize=14 )\n",
    "ax[3].text(1950, 300, 'State 6', fontsize=14)\n",
    "\n",
    "# Label only the bottom x axis\n",
    "ax[3].set_xlabel('Year Built')\n",
    "\n",
    "# suppress y labels for all \n",
    "for a in ax:\n",
    "    a.set_ylabel('')\n",
    "\n",
    "# use the figure Y-label instead\n",
    "fig.supylabel('Site EUI')\n",
    "\n",
    "# Add a main title \n",
    "fig.suptitle('Most states have higher site EUI for Commercial Buildings')\n",
    "fig.tight_layout(pad=1)\n",
    "\n",
    "plt.show()"
   ]
  },
  {
   "cell_type": "markdown",
   "id": "b6faeda6",
   "metadata": {},
   "source": [
    "## FacetGrid with Seaborn\n",
    "\n",
    "Another way to create subplots is to create facets.\n",
    "\n",
    "Seaborn uses the FacetGrid class to create subplots according to the structure of the dataset.\n",
    "\n",
    "Each facet is used to represent one categorical variable in the data set.\n",
    "\n",
    "For example, we can create a FacetGrid object where each column will represent one building class.\n",
    "Seaborn will automatically determine the number of columns to create based on the nmber of levels of `building_class`.\n",
    "\n",
    "Then we map the type of plot that we want to use to the facets, and the variable to be plotted. Here we will plot the energy star rating. "
   ]
  },
  {
   "cell_type": "code",
   "execution_count": null,
   "id": "fa7004b2",
   "metadata": {},
   "outputs": [],
   "source": [
    "# Create the facet grid - it's already a subplot, so no need to call the subplots() method\n",
    "ax = sns.FacetGrid(wids_train, col='building_class')\n",
    "ax.map(plt.hist, 'energy_star_rating')               # plot histograms of energy star rating for each facet\n",
    "plt.show()"
   ]
  },
  {
   "cell_type": "markdown",
   "id": "81de7778",
   "metadata": {},
   "source": [
    "### Facet Dimensions\n",
    "\n",
    "Facets should use categorical variables, so that the number of rows and columns is a discrete value matching the number of levels in the categories.\n",
    "\n",
    "Let's add the `State_Factor` as the rows to the energy star rating facet grid."
   ]
  },
  {
   "cell_type": "code",
   "execution_count": null,
   "id": "e2f7b4ab",
   "metadata": {},
   "outputs": [],
   "source": [
    "# Create the facet grid to compare energy star rating for each building class by state\n",
    "graph = sns.FacetGrid(wids_train, row = 'State_Factor', col='building_class')\n",
    "graph.map(plt.hist, 'energy_star_rating')               # plot histograms of energy star rating for each facet\n",
    "plt.show()"
   ]
  },
  {
   "cell_type": "markdown",
   "id": "a5adb6e8",
   "metadata": {},
   "source": [
    "**Margins and Sizing**\n",
    "\n",
    "As you can see there is some overlap of the facet titles. Instead of using only one title at the top for each facet, we can set `margin_titles = True` so that they appear at the row and column.\n",
    " \n",
    " We can also adjust the size of each facet using the `height` and `aspect` parameters.\n",
    " "
   ]
  },
  {
   "cell_type": "code",
   "execution_count": null,
   "id": "ce2d2edf",
   "metadata": {},
   "outputs": [],
   "source": [
    "# Create the facet grid to compare energy star rating for each building class by state\n",
    "# height and aspect is used to resize the facets\n",
    "graph = sns.FacetGrid(wids_train, col = 'State_Factor',  row='building_class',hue='building_class', margin_titles=True, height = 3, aspect=1)\n",
    "graph.map(plt.hist, 'energy_star_rating')               # plot histograms of energy star rating for each facet\n",
    "plt.show()"
   ]
  },
  {
   "cell_type": "markdown",
   "id": "d5cedf63",
   "metadata": {},
   "source": [
    "**Hue Dimension**\n",
    "\n",
    "In the figure above the building class is also added to the `hue` argument to distinguish the histograms by colour.\n",
    "\n",
    "Actually, we can use the `hue` argument to add another dimension to the FacetGrid.\n",
    "Different colours can be used to represent different category levels. This allow us to compare categories using\n",
    "- rows\n",
    "- columns\n",
    "- colours\n",
    "\n",
    "For example, we can create a scatterplot of site EUI vs energy star rating for different states and building classes for each year. Let's consider only states 1 and 2."
   ]
  },
  {
   "cell_type": "code",
   "execution_count": null,
   "id": "6733ee35",
   "metadata": {
    "scrolled": false
   },
   "outputs": [],
   "source": [
    "# Example\n",
    "# Let's get data for year built after 1950, only for states 1, 2.\n",
    "#temp_data = wids_train[(wids_train['year_built']> 1950)&(wids_train['State_Factor'].isin(['State_1','State_2']))]\n",
    "temp_data = wids_train[(wids_train['State_Factor'].isin(['State_1','State_2']))]\n",
    "\n",
    "# temp_data contains only State_Factor 1,2\n",
    "graph = sns.FacetGrid(temp_data, \n",
    "                      row='building_class', \n",
    "                      col='State_Factor', \n",
    "                      hue='Year_Factor',\n",
    "                      height=4.5, aspect=1)\n",
    "graph.map(sns.scatterplot, \n",
    "          'energy_star_rating','site_eui', \n",
    "          alpha=0.5)\n",
    "\n",
    "graph.add_legend()\n",
    "plt.show()\n"
   ]
  },
  {
   "cell_type": "markdown",
   "id": "8ea13bdf",
   "metadata": {},
   "source": [
    "**Summary**\n",
    "\n",
    "In this notebook, we have used subplots and facets to create plots to compare our data across different categories.\n",
    "Try out the exercise below to create more plots."
   ]
  },
  {
   "cell_type": "markdown",
   "id": "abb7d316",
   "metadata": {},
   "source": [
    "## Exercises\n",
    "\n",
    "Let's use the `bikes_clean.csv` data set as in the previous notebooks.\n"
   ]
  },
  {
   "cell_type": "code",
   "execution_count": null,
   "id": "679ad361",
   "metadata": {},
   "outputs": [],
   "source": [
    "import matplotlib.pyplot as plt\n",
    "import seaborn as sns\n",
    "\n",
    "date_cols = ['rental_date','started_at', 'ended_at']\n",
    "bikes = pd.read_csv('bikes_clean.csv', parse_dates = date_cols, dayfirst=True)\n",
    "bikes.head()"
   ]
  },
  {
   "cell_type": "markdown",
   "id": "a68f6b53",
   "metadata": {},
   "source": [
    "Q1. Create a figure with 2 rows of subplots. The top row should show a Seaborn scatterplot of the `start_lat` and `start_lng` and the bottom row should show a scatterplot of `end_lat` and `end_lng`. Use the `hue` argument to indicate member vs casual users in each."
   ]
  },
  {
   "cell_type": "code",
   "execution_count": null,
   "id": "c8f72d8c",
   "metadata": {},
   "outputs": [],
   "source": [
    "# Q1 Answer\n",
    "\n",
    "# Create a figure with 2 rows and 1 column of subplots\n",
    "\n",
    "\n",
    "# First subplot is a Seaborn barplot showing mean duration in minutes for each rideable type\n",
    "\n",
    "\n",
    "# Second subplot is a Seaborn lineplot showing mean duration in minutes for rental hours from 0 - 23\n"
   ]
  },
  {
   "cell_type": "markdown",
   "id": "13f084dc",
   "metadata": {},
   "source": [
    "Q2. Create a figure with 2 rows and 2 columns of subplots. \n",
    "1. Subplot 1 (top left) should be a boxplot of the duration in minutes, arranged horizontally.\n",
    "2. Subplot 2 (top right), use Seaborn to create a barplot with the mean duration in minutes for each rideable type.\n",
    "3. Subplot 3 (bottom left) should be a Seaborn scatterplot comparing the duration in minutes with the rental hour, set the hue to rideable type.\n",
    "4. Subplot 4 (bottom right), show the line plot of the mean duration over the rental hour for each rideable type.\n",
    "\n",
    "Add suitable titles and axis labels."
   ]
  },
  {
   "cell_type": "code",
   "execution_count": null,
   "id": "b3964a81",
   "metadata": {},
   "outputs": [],
   "source": [
    "# Q2 Answer\n",
    "\n",
    "# Create a figure with 2 rows and 1 column of subplots\n",
    "\n",
    "\n",
    "# First subplot is a boxplot of mean duration in minutes, arranged horizontally\n",
    "# remember that the axes in the first row and first column is ax[0,0]\n",
    "\n",
    "\n",
    "# Second subplot is a Seaborn barplot showing mean duration in minutes for each rideable type\n",
    "\n",
    "\n",
    "# Third subplot is a Seaborn scatterplot  \n",
    "\n",
    "\n",
    "# Last subplot is a Seaborn lineplot showing mean duration in minutes for rental hours from 0 - 23\n",
    "\n",
    "\n",
    "\n"
   ]
  },
  {
   "cell_type": "markdown",
   "id": "06306fde",
   "metadata": {},
   "source": [
    "### FacetGrid\n",
    "\n",
    "Q3. Create a Seaborn facet grid to view the mean rental duration for each bike type, by the day of week.\n",
    "\n",
    "Set the rows to the `member_casual` and the columns to `day_of_week`. \n",
    "Then create barplots to show the mean duration in minutes for each `rideable_type` in each facet."
   ]
  },
  {
   "cell_type": "code",
   "execution_count": null,
   "id": "a5dfb1f0",
   "metadata": {},
   "outputs": [],
   "source": [
    "# Q3 Answer\n",
    "# Facet grid\n"
   ]
  },
  {
   "cell_type": "markdown",
   "id": "8a3d0be4",
   "metadata": {},
   "source": [
    "Let's calculate the number of rentals for each category: `rideable_type`, `member_casual`, `day_of_week` and `rental_hour`\n",
    "\n",
    "We will need to group the data for each category and **count** the number of `ride_id`"
   ]
  },
  {
   "cell_type": "code",
   "execution_count": null,
   "id": "5116d0df",
   "metadata": {},
   "outputs": [],
   "source": [
    "# create the bike groups and count the total number of ride_ids in each group\n",
    "bike_groups = bikes.groupby(['rideable_type','member_casual','day_of_week','rental_hour'])['ride_id'].count().reset_index()\n",
    "\n",
    "# change the ride_id to show the number of rentals\n",
    "bike_groups.rename(columns={'ride_id':'num_rentals'}, inplace=True)\n",
    "bike_groups"
   ]
  },
  {
   "cell_type": "markdown",
   "id": "18cbe35b",
   "metadata": {},
   "source": [
    "**Column Wrapping**\n",
    "\n",
    "We can create a FacetGrid with columns for the rental hour, with a column wrap value of 6. \n",
    "\n",
    "The plot in each facet shows the number of rentals for each rideable type with colour by the member or casual user. "
   ]
  },
  {
   "cell_type": "code",
   "execution_count": null,
   "id": "f50f7ef7",
   "metadata": {},
   "outputs": [],
   "source": [
    "# Using column wrapping\n",
    "ax = sns.FacetGrid(bike_groups, col='rental_hour', hue='member_casual',col_wrap=6, sharex=True, sharey=True)\n",
    "ax.map(sns.barplot, 'member_casual','num_rentals',order=['member','casual'])\n",
    "plt.legend()\n",
    "ax.set_axis_labels(\"Member Type\")\n",
    "plt.show()"
   ]
  },
  {
   "cell_type": "markdown",
   "id": "a808da74",
   "metadata": {},
   "source": [
    "Q4. Create a FacetGrid with `col='day_of_week` and using column wrapping to automatically create 3 columns in each row.\n",
    "Each facet should show a lineplot of the ***sum*** of number of rentals from the `bike_groups` data set for each hour.\n"
   ]
  },
  {
   "cell_type": "code",
   "execution_count": null,
   "id": "ae62e068",
   "metadata": {},
   "outputs": [],
   "source": [
    "# Q4 Answer\n",
    "# Using column wrapping\n"
   ]
  }
 ],
 "metadata": {
  "kernelspec": {
   "display_name": "Python 3 (ipykernel)",
   "language": "python",
   "name": "python3"
  },
  "language_info": {
   "codemirror_mode": {
    "name": "ipython",
    "version": 3
   },
   "file_extension": ".py",
   "mimetype": "text/x-python",
   "name": "python",
   "nbconvert_exporter": "python",
   "pygments_lexer": "ipython3",
   "version": "3.9.7"
  }
 },
 "nbformat": 4,
 "nbformat_minor": 5
}
