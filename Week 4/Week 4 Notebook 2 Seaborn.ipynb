{
 "cells": [
  {
   "cell_type": "markdown",
   "metadata": {},
   "source": [
    "## Week 4 Notebook 2 Comparing Categories with Seaborn\n",
    "\n",
    "We want to be able to create plots that compare the data by category.\n",
    "\n",
    "In this notebook we will try out a new data science library called [Seaborn](https://seaborn.pydata.org/index.html). \n"
   ]
  },
  {
   "cell_type": "markdown",
   "metadata": {},
   "source": [
    "## The Seaborn Library\n",
    "\n",
    "Seaborn is a data visualisation library with high level functions built on top of Matplotlib. Seaborn's plotting functions allow us to create many plots quickly, especially when we want to compare categories of data.\n",
    "\n",
    "\n",
    "### Importing Seaborn\n",
    "\n",
    "Seaborn should be included with your Anaconda distribution, so you can import it with the statement below. Seaborn is usually imported as `sns`."
   ]
  },
  {
   "cell_type": "code",
   "execution_count": null,
   "metadata": {},
   "outputs": [],
   "source": [
    "# import Seaborn together with the other libraries\n",
    "import matplotlib.pyplot as plt\n",
    "import seaborn as sns\n",
    "import pandas as pd\n",
    "%matplotlib inline"
   ]
  },
  {
   "cell_type": "markdown",
   "metadata": {},
   "source": [
    "### Dataset\n",
    "\n",
    "We will continue to use the `wids_train` data set. Let's import it for this notebook.\n"
   ]
  },
  {
   "cell_type": "code",
   "execution_count": null,
   "metadata": {},
   "outputs": [],
   "source": [
    "# read in the WIDS dataset.\n",
    "wids_train= pd.read_csv(\"wids-climate-train.csv\")\n",
    "wids_train.head()"
   ]
  },
  {
   "cell_type": "markdown",
   "metadata": {},
   "source": [
    "Looking at the data, we can see that there are some categorical variables such as `State_Factor`, `building_class` and `facility_type` that define the different sites. \n",
    "\n",
    "We want to be able to compare the values of `site_eui` based on these categories."
   ]
  },
  {
   "cell_type": "markdown",
   "metadata": {},
   "source": [
    "### Histogram with Seaborn\n",
    "\n",
    "Seaborn is built on top of Matplotlib, and is integrated with Pandas. \n",
    "\n",
    "There are many high level functions defined in Seaborn that can help us to create complex plots quickly. \n",
    "\n",
    "The basic histogram can be created by specifying the data and the column to be used for the x-axis."
   ]
  },
  {
   "cell_type": "code",
   "execution_count": null,
   "metadata": {},
   "outputs": [],
   "source": [
    "# Create histogram with seaborn\n",
    "import seaborn as sns\n",
    "fig, ax = plt.subplots()\n",
    "ax = sns.histplot(data = wids_train, x = 'site_eui')\n",
    "plt.show()"
   ]
  },
  {
   "cell_type": "markdown",
   "metadata": {},
   "source": [
    "## Comparing Categories\n",
    "\n",
    "Seaborn makes it easy to add categorical comparisons by colour. \n",
    "\n",
    "We can compare the distribution for different States by adding the keyword argument `hue`.\n",
    "Specifying the `State_Factor` as the `hue` will separate each state by colour.\n"
   ]
  },
  {
   "cell_type": "code",
   "execution_count": null,
   "metadata": {},
   "outputs": [],
   "source": [
    "# Differentiate states by hue\n",
    "fig, ax = plt.subplots()\n",
    "ax = sns.histplot(data = wids_train, x = 'site_eui', hue='State_Factor', element='step')   # draw as a step function\n",
    "ax.set_title('Distribution of Site EUI by State')\n",
    "plt.show()"
   ]
  },
  {
   "cell_type": "markdown",
   "metadata": {},
   "source": [
    "### Seaborn boxplot\n",
    "\n",
    "Similarly, we can create a comparative boxplot that compares the distribution of site EUI by state and building class. \n",
    "\n"
   ]
  },
  {
   "cell_type": "code",
   "execution_count": null,
   "metadata": {
    "scrolled": true
   },
   "outputs": [],
   "source": [
    "# Create boxplot by State and Building Class\n",
    "fig, ax = plt.subplots()\n",
    "ax = sns.boxplot(data = wids_train, \n",
    "                 x='State_Factor', \n",
    "                 y='site_eui', \n",
    "                 hue='building_class')\n",
    "ax.set_ylim(0,200)\n",
    "ax.legend(loc='upper right')\n",
    "plt.show()"
   ]
  },
  {
   "cell_type": "markdown",
   "metadata": {},
   "source": [
    "\n",
    "### Scatterplot with Seaborn\n",
    "\n",
    "Recall that we previously created a scatterplot using the `scatter` method in Matplotlib."
   ]
  },
  {
   "cell_type": "code",
   "execution_count": null,
   "metadata": {},
   "outputs": [],
   "source": [
    "# Scatterplot with matplotlib\n",
    "fig, ax = plt.subplots(figsize=(10,5))\n",
    "ax.scatter(data = wids_train, x='energy_star_rating', y='site_eui', alpha=0.4)\n",
    "plt.show()"
   ]
  },
  {
   "cell_type": "markdown",
   "metadata": {},
   "source": [
    "Let's say we wanted to create the same scatter plot but we want to compare the `building_class` category.\n",
    "\n",
    "All we have to do is to add the `building_class` for the `hue` argument, and this will *colour* the points according to the building class."
   ]
  },
  {
   "cell_type": "code",
   "execution_count": null,
   "metadata": {},
   "outputs": [],
   "source": [
    "# Create the scatterplot using seaborn, still using figure and ax as before \n",
    "\n",
    "fig, ax = plt.subplots(figsize=(10,5))\n",
    "ax = sns.scatterplot(data = wids_train, \n",
    "                     x='energy_star_rating', y='site_eui', \n",
    "                     hue='building_class', alpha = 0.4)\n",
    "plt.show()"
   ]
  },
  {
   "cell_type": "markdown",
   "metadata": {},
   "source": [
    "The points are now coloured based on the `building_class` value, and we can see that more residential buildings seem to have lower `site_eui` values than commercial buildings for the same `energy_star_rating` values.\n"
   ]
  },
  {
   "cell_type": "markdown",
   "metadata": {},
   "source": [
    "### Bar Chart \n",
    "A bar chart is another type of plot that is usually used to compare categorical data. Seaborn can automatically create a barplot with an estimated summary value by category.\n",
    "\n",
    "For example, we can create a barplot comparing the mean `site_eui` based on `building_class`.\n"
   ]
  },
  {
   "cell_type": "code",
   "execution_count": null,
   "metadata": {},
   "outputs": [],
   "source": [
    "# bar plot of mean site eui\n",
    "fig, ax = plt.subplots()\n",
    "ax = sns.barplot(data = wids_train, x = 'building_class', y='site_eui')\n",
    "ax.set_title(\"Mean Site EUI by Building Class\")\n",
    "plt.show()"
   ]
  },
  {
   "cell_type": "markdown",
   "metadata": {},
   "source": [
    "The little black lines shown at the top of each bar is an error bar to show the confidence interval estimate for the mean. We can turn it off by using the argument `ci=None`."
   ]
  },
  {
   "cell_type": "code",
   "execution_count": null,
   "metadata": {},
   "outputs": [],
   "source": [
    "# bar plot of mean site eui\n",
    "fig, ax = plt.subplots()\n",
    "ax = sns.barplot(data = wids_train, \n",
    "                 x = 'building_class', \n",
    "                 y='site_eui', ci=None)\n",
    "ax.set_title(\"Mean Site EUI by Building Class\")\n",
    "plt.show()"
   ]
  },
  {
   "cell_type": "markdown",
   "metadata": {},
   "source": [
    "**Estimator Values**\n",
    "\n",
    "When we specify the categories that we want to plot, Seaborn will calculate an single value from each group of categories depending on the `estimator=` argument. \n",
    "\n",
    "The default estimator is the mean, but we can specify a different estimator such as\n",
    "- `estimator=len` for the number of observations in the group\n",
    "- `estimator=np.median` for the median value (using numpy)\n",
    "- `estimator=sum` for the sum of all the values\n",
    "- `estimator=max` for the highest value\n",
    "- `estimator=min` for the highest value\n",
    "\n",
    "For example, the barplot below shows the median site eui for each building class in each state."
   ]
  },
  {
   "cell_type": "code",
   "execution_count": null,
   "metadata": {},
   "outputs": [],
   "source": [
    "# bar plot of Median site eui\n",
    "import numpy as np\n",
    "fig, ax = plt.subplots()\n",
    "ax = sns.barplot(data = wids_train, \n",
    "                 x = 'State_Factor', \n",
    "                 y='site_eui', \n",
    "                 hue='building_class', \n",
    "                 ci=None, \n",
    "                 estimator=np.median)\n",
    "ax.set_title(\"Median Site EUI\")\n",
    "plt.show()"
   ]
  },
  {
   "cell_type": "markdown",
   "metadata": {},
   "source": [
    "**Building Type (Site EUI)**\n",
    "\n",
    "We need to further investigate the facility type for some clarity. First check how many observations there are for each facility type:"
   ]
  },
  {
   "cell_type": "code",
   "execution_count": null,
   "metadata": {},
   "outputs": [],
   "source": [
    "# Count the number of observations for each facility type\n",
    "wids_train['facility_type'].value_counts()"
   ]
  },
  {
   "cell_type": "markdown",
   "metadata": {},
   "source": [
    "It looks like there are many levels, so we will compare the 'Commercial' facility types first. \n",
    "\n",
    "Putting the `facility_type` as the `y=` value will make the barplot appear horizontally."
   ]
  },
  {
   "cell_type": "code",
   "execution_count": null,
   "metadata": {
    "execution": {
     "iopub.execute_input": "2022-01-24T12:30:43.380932Z",
     "iopub.status.busy": "2022-01-24T12:30:43.380721Z",
     "iopub.status.idle": "2022-01-24T12:30:43.469644Z",
     "shell.execute_reply": "2022-01-24T12:30:43.468799Z",
     "shell.execute_reply.started": "2022-01-24T12:30:43.380907Z"
    }
   },
   "outputs": [],
   "source": [
    "# filter to obtain Commercial Buildings\n",
    "comm_bldgs = wids_train[wids_train['building_class']=='Commercial']\n",
    "\n",
    "# Create a barplot by facility type\n",
    "fig, ax = plt.subplots()\n",
    "ax = sns.barplot(data =comm_bldgs, y=\"facility_type\",x=\"site_eui\", ci=None)\n",
    "ax.set_title(\"Mean Site EUI for commercial buildings\")\n",
    "plt.show()\n"
   ]
  },
  {
   "cell_type": "markdown",
   "metadata": {},
   "source": [
    "There are many facility types, so you can adjust the figure size in the `subplots()` method. \n",
    "\n",
    "Let's just show the top 10 sites with highest `site_eui`. In order to do this, we can specify the sort order in the plot.\n",
    "\n",
    "But first we have to sort the values.\n",
    "Let's find the order in which we should show the bars, by doing the following steps:"
   ]
  },
  {
   "cell_type": "code",
   "execution_count": null,
   "metadata": {},
   "outputs": [],
   "source": [
    "# 1. group by facility type and calculate the mean site eui for each group\n",
    "mean_eui_by_facility = comm_bldgs.groupby('facility_type')['site_eui'].mean()\n",
    "print(mean_eui_by_facility )"
   ]
  },
  {
   "cell_type": "code",
   "execution_count": null,
   "metadata": {},
   "outputs": [],
   "source": [
    "# 2. Now sort in descending order\n",
    "mean_eui_sorted = mean_eui_by_facility.sort_values(ascending=False)\n",
    "print (mean_eui_sorted)\n"
   ]
  },
  {
   "cell_type": "code",
   "execution_count": null,
   "metadata": {},
   "outputs": [],
   "source": [
    "# 3. then just get the facility type names: index\n",
    "plot_order = mean_eui_sorted.index"
   ]
  },
  {
   "cell_type": "markdown",
   "metadata": {},
   "source": [
    "We can put the steps 1 - 3 above in one statement like this:"
   ]
  },
  {
   "cell_type": "code",
   "execution_count": null,
   "metadata": {},
   "outputs": [],
   "source": [
    "# 1. group by facility type to calculate the mean site eui\n",
    "# 2. then sort in descending order\n",
    "# 3. then just get the facility type names: index\n",
    "plot_order = comm_bldgs.groupby('facility_type')['site_eui'].mean().sort_values(ascending=False).index\n"
   ]
  },
  {
   "cell_type": "code",
   "execution_count": null,
   "metadata": {},
   "outputs": [],
   "source": [
    "# plot showing only the top 10 using plot_order[:10]\n",
    "fig, ax = plt.subplots()\n",
    "ax = sns.barplot(data =comm_bldgs, y=\"facility_type\",x=\"site_eui\", order=plot_order[:10], ci=None)\n",
    "ax.set_title(\"Top 10 commercial facilities that have high mean site EUI\")\n",
    "\n",
    "plt.show()"
   ]
  },
  {
   "cell_type": "code",
   "execution_count": null,
   "metadata": {
    "execution": {
     "iopub.execute_input": "2022-01-24T12:30:43.471578Z",
     "iopub.status.busy": "2022-01-24T12:30:43.471096Z",
     "iopub.status.idle": "2022-01-24T12:30:43.543610Z",
     "shell.execute_reply": "2022-01-24T12:30:43.542764Z",
     "shell.execute_reply.started": "2022-01-24T12:30:43.471535Z"
    },
    "scrolled": true
   },
   "outputs": [],
   "source": [
    "# Similarly, plot the Residential buildings\n",
    "res_bldgs = wids_train[wids_train['building_class']=='Residential']\n",
    "plot_order = res_bldgs.groupby('facility_type')['site_eui'].mean().sort_values(ascending=False).index\n",
    "\n",
    "# only 6 types, so not necessary to find top 10\n",
    "\n",
    "fig, ax = plt.subplots()\n",
    "ax = sns.barplot(data =res_bldgs, y=\"facility_type\",x=\"site_eui\", order=plot_order, ci=None)\n",
    "ax.set_title(\"Mean site EUI for Residential facilities\")\n",
    "plt.show()"
   ]
  },
  {
   "cell_type": "markdown",
   "metadata": {},
   "source": [
    "Based on the two horizontal bar plots, we can see that:\n",
    "\n",
    "* The mean site EUI for Commercial buildings is highest for data centres.\n",
    "* For Residential buildings, mixed use type facilities have highest mean site EUI.\n"
   ]
  },
  {
   "cell_type": "markdown",
   "metadata": {},
   "source": [
    "### Heatmaps with Seaborn\n",
    "\n",
    "When a category has many levels, like the `facility_type` above, a heatmap is useful for comparing the values by colour. \n",
    "\n",
    "A heatmap is a way of representing the data in a 2-dimensional form. The data values are represented as colours in the graph. \n",
    "The goal of the heatmap is to provide a coloured visual summary of information. \n",
    "\n",
    "For example, we can calculate the median site EUI for each building class by state. First we create a two-way table for the two dimensions, `building_class` and `State_Factor`."
   ]
  },
  {
   "cell_type": "code",
   "execution_count": null,
   "metadata": {},
   "outputs": [],
   "source": [
    "# Calculate median for each group of building class and state\n",
    "eui_By_building_class = wids_train.groupby(['building_class','State_Factor'])['site_eui'].median()\n",
    "data = eui_By_building_class.unstack()\n",
    "data"
   ]
  },
  {
   "cell_type": "markdown",
   "metadata": {},
   "source": [
    "Now that the rows represent the building class and the columns represent the states, we can plot the heatmap:"
   ]
  },
  {
   "cell_type": "code",
   "execution_count": null,
   "metadata": {},
   "outputs": [],
   "source": [
    "# Create heatmap\n",
    "fig, ax = plt.subplots(figsize=(12,9))\n",
    "ax=sns.heatmap(data, annot=True, fmt=\"0.01f\", cmap=\"Blues\")\n",
    "ax.set_title('Median Site EUI by Building Type')\n",
    "plt.show()"
   ]
  },
  {
   "cell_type": "markdown",
   "metadata": {},
   "source": [
    "Let's try the heatmap with the facility types."
   ]
  },
  {
   "cell_type": "code",
   "execution_count": null,
   "metadata": {},
   "outputs": [],
   "source": [
    "# get the data required as a two-way table\n",
    "eui_by_Facility = wids_train.groupby(['facility_type','State_Factor'])['site_eui'].median()\n",
    "data = eui_by_Facility.unstack()\n",
    "data\n"
   ]
  },
  {
   "cell_type": "code",
   "execution_count": null,
   "metadata": {},
   "outputs": [],
   "source": [
    "# Create heatmap using \n",
    "# two way table data\n",
    "fig, ax = plt.subplots(figsize=(20,15))\n",
    "ax=sns.heatmap(data, \n",
    "               linewidths=0.5, \n",
    "               cmap='cividis')\n",
    "plt.show()"
   ]
  },
  {
   "cell_type": "markdown",
   "metadata": {},
   "source": [
    "In this heatmap, although we have not annotated the values, the use of colours help identify the facility types and states with the highest median site eui values."
   ]
  },
  {
   "cell_type": "markdown",
   "metadata": {},
   "source": [
    "### Line Charts\n",
    "\n",
    "Another common chart is a line chart, which is often used to visualise trends. The x-axis is usually a time sequence.\n",
    "\n",
    "Seaborn can generate the line chart and estimate the mean value of the required variable at each point of the x-axis value. \n",
    "\n",
    "**Year Built**\n",
    "\n",
    "We can plot the site eui data according to the year the building was built. To simplify this exercise we will choose only buildings built after 1950.\n",
    "\n"
   ]
  },
  {
   "cell_type": "code",
   "execution_count": null,
   "metadata": {
    "execution": {
     "iopub.execute_input": "2022-01-24T12:30:45.085161Z",
     "iopub.status.busy": "2022-01-24T12:30:45.084908Z",
     "iopub.status.idle": "2022-01-24T12:30:45.181028Z",
     "shell.execute_reply": "2022-01-24T12:30:45.180231Z",
     "shell.execute_reply.started": "2022-01-24T12:30:45.085130Z"
    }
   },
   "outputs": [],
   "source": [
    "# Plot line chart using Seaborn lineplot()\n",
    "fig, ax = plt.subplots()\n",
    "ax = sns.lineplot(data=wids_train[wids_train['year_built']>1950], x='year_built', y='site_eui')\n",
    "ax.set_title('Mean site eui of building built in last 50 years')\n",
    "plt.show()"
   ]
  },
  {
   "cell_type": "markdown",
   "metadata": {},
   "source": [
    "Newer buildings tend to have lower mean site EUI when compared to old buildings\n",
    "\n",
    "Seaborn will calculate the mean by default and plot the values with confidence interval estimates when plotting the line, as shown in the \"shadow\" above and below the line. To remove the confidence intervals, set `ci=None`"
   ]
  },
  {
   "cell_type": "code",
   "execution_count": null,
   "metadata": {},
   "outputs": [],
   "source": [
    "# plot without confidence interval and separate by building class\n",
    "fig, ax = plt.subplots()\n",
    "ax = sns.lineplot(data=wids_train[wids_train['year_built']>1950], x='year_built', y='site_eui', hue = 'building_class', ci=None)\n",
    "ax.set_title('Mean site eui of building built in last 50 years')\n",
    "plt.show()"
   ]
  },
  {
   "cell_type": "markdown",
   "metadata": {},
   "source": [
    "We have again added the hue to show the building class. It is clear that the residential buildings start to have lower site EUI than commercial buildings after the 1970s."
   ]
  },
  {
   "cell_type": "markdown",
   "metadata": {},
   "source": [
    "### Other Category Plots\n",
    "\n",
    "There are many other plots provided by Seaborn for plotting categorical data. You can check out them out here: [Seaborn Category Plots](https://seaborn.pydata.org/tutorial/categorical.html).\n",
    "\n",
    "Here is an example of a Violinplot, that can be used to show both the distribution of `site_eui` by considering the `State_Factor` **and** `building_class` categories:\n",
    "- the width on either side of each 'violin' shows number of observations like a histogram\n",
    "- the height of the violin show the range of values\n",
    "- the mini box within the violin indicate the quartiles, like a boxplot."
   ]
  },
  {
   "cell_type": "code",
   "execution_count": null,
   "metadata": {
    "execution": {
     "iopub.execute_input": "2022-01-24T12:30:27.350612Z",
     "iopub.status.busy": "2022-01-24T12:30:27.350409Z",
     "iopub.status.idle": "2022-01-24T12:30:27.606845Z",
     "shell.execute_reply": "2022-01-24T12:30:27.606023Z",
     "shell.execute_reply.started": "2022-01-24T12:30:27.350586Z"
    },
    "scrolled": true
   },
   "outputs": [],
   "source": [
    "# violin plot \n",
    "\n",
    "fig, ax = plt.subplots(figsize=(12,5))\n",
    "ax = sns.violinplot(data = wids_train, \n",
    "                 x = 'State_Factor', \n",
    "                 y='site_eui', \n",
    "                 hue='building_class', split=True)\n",
    "ax.set_title(\"Distribution of site eui by State and Building class\")\n",
    "plt.show()"
   ]
  },
  {
   "cell_type": "markdown",
   "metadata": {},
   "source": [
    "## Exercises\n",
    "\n",
    "Let's try some of the category plots as exercises.\n",
    "\n",
    "Suppose we want to investigate further on the differences in bike rental for the Capital Bike Share Data.\n",
    "\n",
    "Read in the data again for this notebook:"
   ]
  },
  {
   "cell_type": "code",
   "execution_count": null,
   "metadata": {},
   "outputs": [],
   "source": [
    "# make sure the libraries are imported\n",
    "import matplotlib.pyplot as plt\n",
    "import seaborn as sns\n",
    "\n",
    "date_cols = ['rental_date','started_at', 'ended_at']\n",
    "bikes = pd.read_csv('bikes_clean.csv', parse_dates = date_cols, dayfirst=True)\n",
    "bikes.head()"
   ]
  },
  {
   "cell_type": "markdown",
   "metadata": {},
   "source": [
    "Q1. Create a lineplot to show the mean duration of rentals, in minutes, by the rental date. "
   ]
  },
  {
   "cell_type": "code",
   "execution_count": null,
   "metadata": {},
   "outputs": [],
   "source": [
    "# Q1 Answer\n"
   ]
  },
  {
   "cell_type": "markdown",
   "metadata": {},
   "source": [
    "Q2. Let's see if there is any difference in the duration in rental based on the day of the week. \n",
    "\n",
    "Create a box plot  to compare the `duration_in_min` for each `day_of_week`. You might have to set the y limits to a smaller range to view the differences clearly."
   ]
  },
  {
   "cell_type": "code",
   "execution_count": null,
   "metadata": {},
   "outputs": [],
   "source": [
    "# Q2 Answer\n"
   ]
  },
  {
   "cell_type": "markdown",
   "metadata": {},
   "source": [
    "Q3. Add the `hue` argument to the boxplot above to compare the duration of rental for members vs casual users."
   ]
  },
  {
   "cell_type": "code",
   "execution_count": null,
   "metadata": {},
   "outputs": [],
   "source": [
    "# Q3 Answer\n",
    "\n"
   ]
  },
  {
   "cell_type": "markdown",
   "metadata": {},
   "source": [
    "Q4. Create a barplot to compare the rideable type, type of member and mean duration of rental"
   ]
  },
  {
   "cell_type": "code",
   "execution_count": null,
   "metadata": {},
   "outputs": [],
   "source": [
    "# Q4 Answer\n"
   ]
  },
  {
   "cell_type": "markdown",
   "metadata": {},
   "source": [
    "Q5. Create a volinplot to compare the duration of rental for each day of week, split by members vs casual users "
   ]
  },
  {
   "cell_type": "code",
   "execution_count": null,
   "metadata": {},
   "outputs": [],
   "source": [
    "# Q5 Answer\n"
   ]
  },
  {
   "cell_type": "markdown",
   "metadata": {},
   "source": [
    "Q6a. Let's try a heatmap. Create a two-way table that calculates the number of rentals by `day_of_week` and `rental_hour` from the `bikess` data set."
   ]
  },
  {
   "cell_type": "code",
   "execution_count": null,
   "metadata": {},
   "outputs": [],
   "source": [
    "# Q6a. Answer\n"
   ]
  },
  {
   "cell_type": "markdown",
   "metadata": {},
   "source": [
    "Q6b. Now create the heatmap. Check the colormaps [here](https://matplotlib.org/stable/tutorials/colors/colormaps.html) and select a suitable colormap to match the heatmap. Which days and hours have the highest number of rentals?"
   ]
  },
  {
   "cell_type": "code",
   "execution_count": null,
   "metadata": {},
   "outputs": [],
   "source": [
    "# Q6b answer\n"
   ]
  },
  {
   "cell_type": "markdown",
   "metadata": {},
   "source": [
    "Great! We can see that Seaborn helps us to visualise our data and compare across categories, especially with the use of colour. Next we will try to organise our figures with subplots."
   ]
  }
 ],
 "metadata": {
  "kernelspec": {
   "display_name": "Python 3 (ipykernel)",
   "language": "python",
   "name": "python3"
  },
  "language_info": {
   "codemirror_mode": {
    "name": "ipython",
    "version": 3
   },
   "file_extension": ".py",
   "mimetype": "text/x-python",
   "name": "python",
   "nbconvert_exporter": "python",
   "pygments_lexer": "ipython3",
   "version": "3.9.7"
  }
 },
 "nbformat": 4,
 "nbformat_minor": 4
}
