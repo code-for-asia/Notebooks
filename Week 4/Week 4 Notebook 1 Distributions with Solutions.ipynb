{
 "cells": [
  {
   "cell_type": "markdown",
   "metadata": {},
   "source": [
    "# Week 4 Notebook 1 Visualising Distributions (with Solutions)\n",
    "\n",
    "This week we will focus on how we create data visualisations to tell stories about our data.\n",
    "\n",
    "In this notebook we will explore how to create the following plots to visualise distributions:\n",
    "- histograms,\n",
    "- boxplots, and\n",
    "- scatterplots\n",
    "\n",
    "We will also try out a new data science library called [Seaborn](https://seaborn.pydata.org/index.html). \n",
    "\n",
    "We will use a new data set for the analysis."
   ]
  },
  {
   "cell_type": "markdown",
   "metadata": {},
   "source": [
    "**About the Analysis**\n",
    "\n",
    "The aim of this analysis is to perform the exploratory analysis of a training dataset and get some insights on how each of the variables relate to our target variable which is `site_eui` (Site Energy Usage Intensity - the amount of heat and electricity consumed by a building). We have about 64 attributes (including the target). The data is obtained from the [Women in Data Science datathon 2022](https://www.widsconference.org/datathon.html)."
   ]
  },
  {
   "cell_type": "markdown",
   "metadata": {},
   "source": [
    "**WIDS Dataset**\n",
    "\n",
    "The dataset consists of building characteristics (e.g. floor area, facility type etc), weather data for the location of the building (e.g. annual average temperature, annual total precipitation etc) as well as the energy usage for the building and the given year, measured as Site Energy Usage Intensity (Site EUI). Each row in the data corresponds to the a single building observed in a given year.\n",
    "\n",
    "The task is to predict the Site EUI for each row, given the characteristics of the building and the weather data for the location of the building. For now, we will just focus on exploring and visualising the data set.\n",
    "\n",
    "Let's get started with importing our usual libraries.\n"
   ]
  },
  {
   "cell_type": "code",
   "execution_count": null,
   "metadata": {
    "_cell_guid": "b1076dfc-b9ad-4769-8c92-a6c4dae69d19",
    "_uuid": "8f2839f25d086af736a60e9eeb907d3b93b6e0e5",
    "execution": {
     "iopub.execute_input": "2022-01-24T12:30:24.511116Z",
     "iopub.status.busy": "2022-01-24T12:30:24.510307Z",
     "iopub.status.idle": "2022-01-24T12:30:26.571958Z",
     "shell.execute_reply": "2022-01-24T12:30:26.571111Z",
     "shell.execute_reply.started": "2022-01-24T12:30:24.510986Z"
    }
   },
   "outputs": [],
   "source": [
    "# Import the required libraries\n",
    "import pandas as pd\n",
    "import matplotlib.pyplot as plt\n",
    "\n",
    "# show plots within this notebook\n",
    "%matplotlib inline"
   ]
  },
  {
   "cell_type": "markdown",
   "metadata": {},
   "source": [
    "### Basic Exploration\n",
    "\n",
    "Let's read in the data set and have a look at it.\n",
    "It should be in the same directory as this notebook.\n"
   ]
  },
  {
   "cell_type": "code",
   "execution_count": null,
   "metadata": {
    "execution": {
     "iopub.execute_input": "2022-01-24T12:30:26.575473Z",
     "iopub.status.busy": "2022-01-24T12:30:26.574984Z",
     "iopub.status.idle": "2022-01-24T12:30:27.349331Z",
     "shell.execute_reply": "2022-01-24T12:30:27.348293Z",
     "shell.execute_reply.started": "2022-01-24T12:30:26.575427Z"
    }
   },
   "outputs": [],
   "source": [
    "# Read in the data set.\n",
    "wids_train= pd.read_csv('wids-climate-train.csv')\n",
    "wids_train.info()"
   ]
  },
  {
   "cell_type": "markdown",
   "metadata": {},
   "source": [
    "There are 64 columns and 75757 rows. \n",
    "There appear to be a large number of missing values for the `energy_star_rating` column, so we might want to do something about that.\n",
    "\n",
    "Let's continue exploring the data first. "
   ]
  },
  {
   "cell_type": "code",
   "execution_count": null,
   "metadata": {},
   "outputs": [],
   "source": [
    "# Check the first five rows\n",
    "wids_train.head()"
   ]
  },
  {
   "cell_type": "markdown",
   "metadata": {},
   "source": [
    "Let's try to analyse the site EUI in terms of state, type of building, and year built. "
   ]
  },
  {
   "cell_type": "markdown",
   "metadata": {},
   "source": [
    "To try to understand the data, we can check the distribution of the `site_eui` data. This can done using a histogram or boxplot.\n"
   ]
  },
  {
   "cell_type": "markdown",
   "metadata": {},
   "source": [
    "**Histogram**\n",
    "\n",
    "A histogram is a graphical representation that organises a group of data points into user-specified ranges.Like a bar chart, histograms consist of a series of vertical bars along the x-axis. Histograms are most commonly used to depict what a set of data looks like in aggregate.\n"
   ]
  },
  {
   "cell_type": "code",
   "execution_count": null,
   "metadata": {},
   "outputs": [],
   "source": [
    "# Basic histogram\n",
    "fig, ax = plt.subplots()\n",
    "ax.hist(wids_train['site_eui'])\n",
    "plt.show()"
   ]
  },
  {
   "cell_type": "markdown",
   "metadata": {},
   "source": [
    "We can see that most of the buildings have values between 0 and 100. Let's add more *bins* to see the distribution between 0 and 200 more clearly.\n"
   ]
  },
  {
   "cell_type": "code",
   "execution_count": null,
   "metadata": {},
   "outputs": [],
   "source": [
    "# Create the histogram again, but this time with 200 bins\n",
    "fig, ax = plt.subplots()\n",
    "ax.hist(wids_train['site_eui'], bins = 200)\n",
    "ax.set_title('Distribution of Site EUI', fontsize=20)\n",
    "ax.set_xlabel('Site Energy Usage Intensity (EUI)')\n",
    "ax.set_xlim(0,500)\n",
    "ax.set_ylabel('Number of buildings')\n",
    "plt.show()"
   ]
  },
  {
   "cell_type": "markdown",
   "metadata": {},
   "source": [
    "**Boxplot**\n",
    "\n",
    "Another plot that can be used to visualise the data is a boxplot. A boxplot gives a good indication of how the values in the data are spread out. \n",
    "\n",
    "Boxplots are a standardised way of displaying the distribution of data based on a five number summary:\n",
    "1. minimum value\n",
    "2. first quartile (Q1)\n",
    "3. median (Q2)\n",
    "4. third quartile (Q3)\n",
    "5. maximum value\n",
    "\n",
    "We can see these values for `site_eui` using the `describe()` method:"
   ]
  },
  {
   "cell_type": "code",
   "execution_count": null,
   "metadata": {},
   "outputs": [],
   "source": [
    "# print five number summary of site eui\n",
    "summary = wids_train['site_eui'].describe()\n",
    "print(summary)\n"
   ]
  },
  {
   "cell_type": "markdown",
   "metadata": {},
   "source": [
    "As you can see the first quartile is indicated as 25%, which means that 25% of the values are below 54.528601, and the median is 75.293716.\n",
    "\n",
    "Let's try to create a boxplot for the `site_eui`. "
   ]
  },
  {
   "cell_type": "code",
   "execution_count": null,
   "metadata": {
    "scrolled": false
   },
   "outputs": [],
   "source": [
    "# Create a basic boxplot\n",
    "fig, ax = plt.subplots()\n",
    "ax.boxplot(wids_train['site_eui'])\n",
    "ax.set_xlabel('Site EUI')\n",
    "plt.show()\n",
    "\n"
   ]
  },
  {
   "cell_type": "markdown",
   "metadata": {},
   "source": [
    "The black markers above the boxplot's 'whiskers' are considered *outliers* as they are values that are 1.5 times above the interquartile range. Let's try to take a closer look at the box and whiskers. \n",
    "\n",
    "We can do this by limiting the y-axis range."
   ]
  },
  {
   "cell_type": "code",
   "execution_count": null,
   "metadata": {
    "scrolled": false
   },
   "outputs": [],
   "source": [
    "# Create a basic boxplot\n",
    "fig, ax = plt.subplots()\n",
    "ax.boxplot(wids_train['site_eui'])\n",
    "ax.set_xlabel('Site EUI')\n",
    "\n",
    "# show y axis from 0 to 200 only to 'zoom in'\n",
    "ax.set_ylim(0, 200)\n",
    "\n",
    "# add annotation to mark interquartile range\n",
    "ax.annotate(xy=(0.90, summary['25%']), xytext=(0.55, summary['25%']), text='1st quartile', arrowprops=dict(arrowstyle='simple'))\n",
    "ax.annotate(xy=(0.90, summary['75%']), xytext=(0.55, summary['75%']), text='3rd quartile', arrowprops=dict(arrowstyle='simple'))\n",
    "ax.annotate(xy=(1.1, summary['50%']), xytext=(1.25, summary['50%']), text='Median', arrowprops=dict(arrowstyle='simple'))\n",
    "\n",
    "# calculate top of IQR\n",
    "capVal = 1.5 * (summary['75%']- summary['25%']) + summary['75%'] \n",
    "ax.annotate(xy=(1.05, capVal), xytext=(1.1, capVal), text='3rd Quartile + \\n(1.5 * Interquartile Range)', arrowprops=dict(arrowstyle='simple'))\n",
    "\n",
    "\n",
    "plt.show()\n",
    "print(summary)\n"
   ]
  },
  {
   "cell_type": "markdown",
   "metadata": {},
   "source": [
    "We can see the box more clearly now, and some annotation has been added to mark the important points on the boxplot.\n",
    "\n",
    "We can also make the boxplot horizontal by setting the `vert` (for vertical) argument to `False`."
   ]
  },
  {
   "cell_type": "code",
   "execution_count": null,
   "metadata": {
    "scrolled": true
   },
   "outputs": [],
   "source": [
    "# Create a horizontal boxplot\n",
    "fig, ax = plt.subplots(figsize=(20,3))\n",
    "ax.boxplot(wids_train['site_eui'], vert=False)\n",
    "ax.set_title('Distribution of site EUI')\n",
    "\n",
    "# add more tick marks\n",
    "ax.xaxis.set_major_locator(plt.MultipleLocator(50))\n",
    "plt.show()"
   ]
  },
  {
   "cell_type": "markdown",
   "metadata": {},
   "source": [
    "### Comparing Site EUI by State\n",
    "\n",
    "We can compare the distribution of `site_eui` for each state using boxplots, by plotting the states' respective `site_eui` values on the same plot. First we should check how many values there are for each state."
   ]
  },
  {
   "cell_type": "code",
   "execution_count": null,
   "metadata": {},
   "outputs": [],
   "source": [
    "# Check how many unique values there are for each state\n",
    "states = wids_train['State_Factor'].value_counts()\n",
    "print(states.index)\n",
    "print(states)"
   ]
  },
  {
   "cell_type": "markdown",
   "metadata": {},
   "source": [
    "Next we will separate the `site_eui` values for each state, and store them in a dictionary that uses the state name as the key. "
   ]
  },
  {
   "cell_type": "code",
   "execution_count": null,
   "metadata": {},
   "outputs": [],
   "source": [
    "# create a dictionary of for each state's site_eui\n",
    "statesList={}\n",
    "# For each state, store the series of site EUI  as the value and the name of the state as the key\n",
    "for state in states.index:\n",
    "    statesList[state]=wids_train[wids_train['State_Factor']==state]['site_eui']\n",
    "# show the dictionary\n",
    "statesList"
   ]
  },
  {
   "cell_type": "markdown",
   "metadata": {},
   "source": [
    "Now we can use Matplotlib to plot each of the state's `site_eui` values."
   ]
  },
  {
   "cell_type": "code",
   "execution_count": null,
   "metadata": {
    "scrolled": true
   },
   "outputs": [],
   "source": [
    "# plot the values stored in the dictionary, by state\n",
    "fig, ax = plt.subplots()\n",
    "ax.boxplot(statesList.values(), labels= statesList.keys())\n",
    "ax.set_ylim(0,200)\n",
    "ax.set_title(\"Distribution of site EUI by state\")\n",
    "plt.show()"
   ]
  },
  {
   "cell_type": "markdown",
   "metadata": {},
   "source": [
    "The plot shows the boxplots for each of the states, and this gives us an idea of the distribution of the site EUI by state.\n",
    "For example, we can see that State 10 has a smaller range of values, and state 11's site EUI values appear to be generally lower than those for state 6."
   ]
  },
  {
   "cell_type": "markdown",
   "metadata": {},
   "source": [
    "## Scatter Plots\n",
    "\n",
    "Scatter plots are useful for comparing numerical data. Each member of the dataset is plotted as a point.\n",
    "Scatterplots are useful for exploring and visualising correlations between data.\n",
    "\n",
    "We have previously created scatterplots using the `plot` method and hiding the lines. However, we can also create scatterplots using the `scatter` method in `Matplotlib`.\n",
    "\n",
    "Let's create one to compare the `energy_star_rating` and `site_eui` values.\n"
   ]
  },
  {
   "cell_type": "code",
   "execution_count": null,
   "metadata": {
    "scrolled": false
   },
   "outputs": [],
   "source": [
    "# Create a scatter plot\n",
    "fig, ax = plt.subplots(figsize=(10,5))\n",
    "ax.scatter(wids_train['energy_star_rating'], wids_train['site_eui'], alpha=0.3)  # alpha to set transparency\n",
    "ax.set_title('Site EUI by energy star rating')\n",
    "ax.set_xlabel('Energy Star Rating')\n",
    "ax.set_ylabel('Site EUI')\n",
    "plt.show()"
   ]
  },
  {
   "cell_type": "markdown",
   "metadata": {},
   "source": [
    "There are many points on this scatter plot, so the darker points indicate more overlap. Generally we can see that there is a slight decrease in the site EUI values for higher energy star rating values.\n",
    "\n",
    "### Note on specifying arguments\n",
    "\n",
    "We have been creating our plots by defining the x or y values using the column names in square brackets, like this: \n",
    "\n",
    "`ax.scatter(wids_train['energy_star_rating'], wids_train['site_eui'], alpha=0.3)`\n",
    "\n",
    "An alternative is to specify the `data=` keyword argument and then the x and y attributes.\n",
    "\n",
    "`ax.scatter(data = wids_train, x ='energy_star_rating', y='site_eui', alpha=0.3)`"
   ]
  },
  {
   "cell_type": "code",
   "execution_count": null,
   "metadata": {},
   "outputs": [],
   "source": [
    "# Create a scatter plot using data= keyword argument\n",
    "fig, ax = plt.subplots(figsize=(10,5))\n",
    "ax.scatter(data = wids_train, x ='energy_star_rating', y='site_eui', alpha=0.3)\n",
    "ax.set_title('Site EUI by energy star rating')\n",
    "plt.show()"
   ]
  },
  {
   "cell_type": "markdown",
   "metadata": {},
   "source": [
    "So far, we have created some plots to visualise the distribution of the Site EUI, with respect to the states and the energy star rating.\n",
    "\n",
    "Besides these comparisons, we want to compare the site EUI values based on the state, building class and facility type. \n",
    "\n",
    "In order to do this, we might need more sophisticated plotting functions.\n",
    "\n",
    "In the next notebook we will introduce the `Seaborn` library for quickly creating some plots to compare the data across categories."
   ]
  },
  {
   "cell_type": "markdown",
   "metadata": {},
   "source": [
    "## Exercises\n",
    "\n",
    "For this exercise we will use the data on bike rentals from [Capital Bike Share](https://www.capitalbikeshare.com/system-data). \n",
    "\n",
    "We have a set of cleaned data about January 2022 rentals in the `bikes_clean.csv` file.\n",
    "\n",
    "Let's read in the data first. We will *parse* the start and end dates so that they are read in as dates.\n"
   ]
  },
  {
   "cell_type": "code",
   "execution_count": null,
   "metadata": {},
   "outputs": [],
   "source": [
    "import pandas as pd\n",
    "import matplotlib.pyplot as plt\n",
    "# Reading in data and parsing the dates\n",
    "date_cols = ['started_at', 'ended_at']\n",
    "bikes = pd.read_csv('bikes_clean.csv', parse_dates = date_cols, dayfirst=True)\n",
    "bikes.head()"
   ]
  },
  {
   "cell_type": "markdown",
   "metadata": {},
   "source": [
    "###  Questions\n",
    "\n",
    "Q1. Create a histogram for the `duration_in_min` values from the `bikes` data set. \n",
    "- Put the data into 200 bins\n",
    "- adjust the x-axis limits so that the plot is clearer\n",
    "- Add a title for the figure."
   ]
  },
  {
   "cell_type": "code",
   "execution_count": null,
   "metadata": {},
   "outputs": [],
   "source": [
    "# Q1 Answer\n",
    "\n",
    "# Histogram showing distribution of bike rental duration\n",
    "fig, ax = plt.subplots()\n",
    "ax.hist(bikes['duration_in_min'], bins=200)\n",
    "ax.set_xlim(0,200)\n",
    "ax.set_title('Duration of Rental in Minutes')\n",
    "plt.show()"
   ]
  },
  {
   "cell_type": "markdown",
   "metadata": {},
   "source": [
    "Q2. Create a ***horizontal*** boxplot for the `duration_in_min` from the `bikes` data set, set the x-axis limits from 0 to 100 as it appears most of the data will be within this range."
   ]
  },
  {
   "cell_type": "code",
   "execution_count": null,
   "metadata": {},
   "outputs": [],
   "source": [
    "# Q2 Answer\n",
    "# Boxplot showing distribution of duration in minutes\n",
    "\n",
    "fig, ax = plt.subplots(figsize=(20,3))\n",
    "ax.boxplot(bikes['duration_in_min'], vert=False)           # Create a horizontal boxplot\n",
    "ax.set_title('Duration of Rental, in Minutes')\n",
    "ax.set_xlim(0,100)\n",
    "\n",
    "# add more tick marks\n",
    "#ax.xaxis.set_major_locator(plt.MultipleLocator(5))\n",
    "#plt.show()"
   ]
  },
  {
   "cell_type": "markdown",
   "metadata": {},
   "source": [
    "Q3. Create a scatterplot to compare the `start_lat` on the x-axis with the `start_lng` on the y-axis for the values in the `bikes` data set. Add suitable axis labels and a title. This would give us an idea of the popular locations that the bikes are being rented from."
   ]
  },
  {
   "cell_type": "code",
   "execution_count": null,
   "metadata": {
    "scrolled": true
   },
   "outputs": [],
   "source": [
    "# Q3 Answer\n",
    "# Create a scatter plot\n",
    "fig, ax = plt.subplots(figsize=(10,5))\n",
    "ax.scatter(data = bikes, x = 'start_lat',y='start_lng', alpha=0.2)  # alpha to set transparency\n",
    "ax.set_title('Starting Rental Locations')\n",
    "ax.set_xlabel('Latitude')\n",
    "ax.set_ylabel('longitude')\n",
    "plt.show()"
   ]
  },
  {
   "cell_type": "markdown",
   "metadata": {},
   "source": [
    "Q4. Let's check if there is any difference in the start locations between members and casual users. We have to separate the data into two. \n",
    "\n",
    "The set of casual users data is shown as an example. You are required to add the scatter plot for members with a different colour and show the legend.\n"
   ]
  },
  {
   "cell_type": "code",
   "execution_count": null,
   "metadata": {},
   "outputs": [],
   "source": [
    "# Q4 Answer\n",
    "# get casual users\n",
    "casual_data = bikes[bikes['member_casual']=='casual']\n",
    "\n",
    "\n",
    "# Enter your answer to get the member data\n",
    "member_data = bikes[bikes['member_casual']=='member']\n",
    "\n",
    "\n",
    "# Create a scatter plot \n",
    "fig, ax = plt.subplots(figsize=(10,5))\n",
    "ax.scatter(data = casual_data, x = 'start_lat',y='start_lng', alpha=0.2, c= 'pink',  label = 'Casual')  # alpha to set transparency\n",
    "\n",
    "# add the points for the member data\n",
    "ax.scatter(data = member_data, x = 'start_lat',y='start_lng', alpha=0.2, c = 'blue', label = 'Member')  # alpha to set transparency\n",
    "\n",
    "\n",
    "ax.set_title('Starting Rental Locations for casual vs members')\n",
    "ax.set_xlabel('Latitude')\n",
    "ax.set_ylabel('Longitude')\n",
    "\n",
    "# add a statement to show the legend\n",
    "plt.legend()\n",
    "\n",
    "# show the plot\n",
    "plt.show()"
   ]
  },
  {
   "cell_type": "markdown",
   "metadata": {},
   "source": [
    "You might find that the points tend to overlap on top of each other, so the lower layer of values is not clear. We can do this better with the `Seaborn` library, so we'll cover that in the next notebook."
   ]
  }
 ],
 "metadata": {
  "kernelspec": {
   "display_name": "Python 3 (ipykernel)",
   "language": "python",
   "name": "python3"
  },
  "language_info": {
   "codemirror_mode": {
    "name": "ipython",
    "version": 3
   },
   "file_extension": ".py",
   "mimetype": "text/x-python",
   "name": "python",
   "nbconvert_exporter": "python",
   "pygments_lexer": "ipython3",
   "version": "3.9.7"
  }
 },
 "nbformat": 4,
 "nbformat_minor": 4
}
