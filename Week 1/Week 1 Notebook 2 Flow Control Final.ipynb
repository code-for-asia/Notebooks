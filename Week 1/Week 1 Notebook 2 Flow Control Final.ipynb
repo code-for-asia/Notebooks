{
 "cells": [
  {
   "cell_type": "markdown",
   "metadata": {},
   "source": [
    "# Week 1 Notebook 2 Flow Control\n"
   ]
  },
  {
   "cell_type": "markdown",
   "metadata": {},
   "source": [
    "This notebook focuses upon three main concepts of flow control:\n",
    "1. Conditional statements, where a code section is executed when a condition is met.\n",
    "2. Iterative statements, which may mean:\n",
    "    - Repeating a code segment until a certain conditon holds true, or   \n",
    "    - Looping through a code segment for a specified number of iterations.\n",
    "3. Transfer statements that are used in loops. "
   ]
  },
  {
   "cell_type": "markdown",
   "metadata": {},
   "source": [
    "# Flow Control\n",
    "\n",
    "The concept of flow control is essential in programming. The control refers to which lines of code should be executed, and whether the execution should be repeated."
   ]
  },
  {
   "cell_type": "markdown",
   "metadata": {},
   "source": [
    "## Conditional Statements"
   ]
  },
  {
   "cell_type": "markdown",
   "metadata": {},
   "source": [
    "We start our discussion today by introducing `if`, `if`-`else` and `if`-`elif`-`else` statements. "
   ]
  },
  {
   "cell_type": "markdown",
   "metadata": {},
   "source": [
    "**Scenario**\n",
    "\n",
    "Let's begin by picturing a simple real world scenario! Say you are visiting Universal Studios in Singapore and you want to take the \"Jurassic Park River Adventure\" ride. However, there is a catch! The last ride is at 9:00 PM and it is currently 8:30 PM! <br>\n",
    "\n",
    "This leaves you with only one option: check if the waiting time for the ride is under 30 minutes. If it is under 30 minutes, hurray! You can take the ride in time. If not, unfortunately you will have to fulfill this wish of yours during your next visit."
   ]
  },
  {
   "cell_type": "markdown",
   "metadata": {},
   "source": [
    "The point being, sometimes in life certain things are only possible if certain conditions are met, otherwise you have to let go! \n",
    "\n",
    "The `if`-`else` clause captures the exact same concept in the programming world!"
   ]
  },
  {
   "cell_type": "markdown",
   "metadata": {},
   "source": [
    "In order to design these clauses, first it is essential to understand the problem at hand. It makes it easier to first define the variables and then check the conditions required."
   ]
  },
  {
   "cell_type": "markdown",
   "metadata": {},
   "source": [
    "### One-way condition with If\n",
    "\n",
    "Let's consider again whether you are able to take the Jurassic Park River Adventure ride. \n",
    "\n",
    "Since we have a very simple problem, we need to use only one variable for our purpose, i.e. `waiting_time`.\n",
    "\n",
    "We will use the `input()` function to allow you to type in a value.\n",
    "\n",
    "By default, it returns the user input in form of a string, so we will use the `int()` function to convert the input value into an integer.\n",
    "\n",
    "**Run the cell** below and **enter a number** to represent the waiting time. You will have to enter a numeric value so that it can be converted to integer."
   ]
  },
  {
   "cell_type": "code",
   "execution_count": null,
   "metadata": {},
   "outputs": [],
   "source": [
    "# Ask the user to enter the waiting time\n",
    "waiting_time = int(input(\"Enter waiting time, in minutes: \"))"
   ]
  },
  {
   "cell_type": "markdown",
   "metadata": {},
   "source": [
    "Our next step is to simply check the condition and print statements depending on the situation. \n",
    "\n",
    "Let's say we only want to print the statement **if** we can go on the ride, so this is a one-way condition.\n"
   ]
  },
  {
   "cell_type": "code",
   "execution_count": null,
   "metadata": {},
   "outputs": [],
   "source": [
    "# Check if you can go, based on the input in the cell above.\n",
    "if waiting_time < 30:\n",
    "    print(\"YES, I am going on the ride.\")"
   ]
  },
  {
   "cell_type": "markdown",
   "metadata": {},
   "source": [
    "Remember, indentation is important! Otherwise, it results in a `IndentationError` that you may recall from the previous lesson!\n",
    "\n",
    "Run the cell to ask the user for the waiting time again, and enter a different value. Will it print the statement?\n"
   ]
  },
  {
   "cell_type": "markdown",
   "metadata": {},
   "source": [
    "`If` statements can also be used for strings. For example, if we want to know if a string contains the letter 's', we can write it as follows:"
   ]
  },
  {
   "cell_type": "code",
   "execution_count": null,
   "metadata": {},
   "outputs": [],
   "source": [
    "if 's' in 'stardom':        # check if the string contains the character 's'\n",
    "    print('Life is goooood!')"
   ]
  },
  {
   "cell_type": "markdown",
   "metadata": {},
   "source": [
    "However, most of the time life is not easy! You will not be placed into only one decision making process. Sometimes, you will have multiple conditions to take care of.\n",
    "\n",
    "### Two-way conditions using If-Else\n",
    "\n",
    "For example, you go out grocery shopping, but you are on a tight budget.\n",
    "\n",
    "If apples cost you $10 or below you can buy them, otherwise you will settle for oranges which are known to be cheaper than apples. \n",
    "\n",
    "How will we go about it now? Any ideas?"
   ]
  },
  {
   "cell_type": "markdown",
   "metadata": {},
   "source": [
    "We would use an `if`-`else` clause now, because there are **two** ways to select what to print."
   ]
  },
  {
   "cell_type": "code",
   "execution_count": null,
   "metadata": {},
   "outputs": [],
   "source": [
    "# ask for the price of apples\n",
    "price = float(input(\"What is the price of apples? \"))\n",
    "\n",
    "# use if-else to determine what to buy\n",
    "if price <= 10:\n",
    "    print(\"I have bought apples.\")\n",
    "else:\n",
    "    print(\"Oranges are the new apples.\")"
   ]
  },
  {
   "cell_type": "markdown",
   "metadata": {},
   "source": [
    "### Multi-way conditions with If-Elif\n",
    "\n",
    "Sometimes more than two conditions arise, as is common in real life. \n",
    "\n",
    "For example, we might want to define categories of customers based on how many times they visit a store. \n",
    "\n",
    "We might use a table like this to define the customer type:\n",
    "\n",
    "| Number of visits per month \t| Customer Category \t|\n",
    "|----------------------------\t|--------------------\t|\n",
    "| 10 or more                  \t| Premium          \t    |\n",
    "| 5 - 9                      \t| Loyal    \t            |\n",
    "| 0 - 4                      \t| Casual  \t            |\n",
    "\n",
    "This means that:\n",
    "- if the customer visits the store 10 times or more a month, the customer category is \"Premium\".\n",
    "- if the customer visits the store between 5 and 9 times a month, the customer category is \"Loyal\".\n",
    "- if the customer visits the store between 0 and 4 times a month, the customer category is \"Casual\".\n",
    "\n",
    "We need to determine the **variable** that we will test the **condition** on.\n",
    "\n",
    "In this case, we can declare a variable called `num_visits` that records the number of visits per month. \n",
    "\n",
    "Now we can define the conditions based on the table, using **nested** `if`-`else` clauses."
   ]
  },
  {
   "cell_type": "code",
   "execution_count": null,
   "metadata": {},
   "outputs": [],
   "source": [
    "# Set the values of the variables\n",
    "num_visits = int(input(\"How many times does this customer visit in a month? \"))\n",
    "\n",
    "if num_visits >=10:                            # there are 10 or more visits per month\n",
    "    print(\"This is a Premium customer\")\n",
    "else:\n",
    "    if num_visits >= 5 and num_visits <=9:        # less than 10 visits, so check if number of visits is between 5 and 9\n",
    "        print(\"This is a Loyal customer\")\n",
    "    else:\n",
    "        if num_visits >= 0 and num_visits <=4:    # less than 5 visits, check if there are between 0 and 4 visits per month\n",
    "            print(\"This is a Casual customer\")\n",
    "        else:\n",
    "            print(\"Invalid value entered\")       # they entered value less than 0"
   ]
  },
  {
   "cell_type": "markdown",
   "metadata": {},
   "source": [
    "**if-elif-else**\n",
    "\n",
    "Instead of using nested `if`-`else`, we can write the conditions using **if-elif**, where `elif` is actually a short form for `else: if`. "
   ]
  },
  {
   "cell_type": "code",
   "execution_count": null,
   "metadata": {},
   "outputs": [],
   "source": [
    "# Set the values of the variables\n",
    "num_visits = int(input(\"How many times does this customer visit in a month? \"))\n",
    "\n",
    "if num_visits >=10: \n",
    "    print(\"This is a Premium customer\")\n",
    "elif num_visits >= 5 and num_visits <=9:     # else if the customer visits between 5 and 9 times\n",
    "    print(\"This is a Loyal customer\")\n",
    "elif num_visits >= 0 and num_visits <=4:     # another elif, check if the customer visits between 0 and 4 times\n",
    "    print(\"This is a Casual customer\")    \n",
    "else:\n",
    "    print(\"Invalid value entered\")           # does not match all the conditions above"
   ]
  },
  {
   "cell_type": "markdown",
   "metadata": {},
   "source": [
    "As you can see, using `elif` makes the code easier to read. \n",
    "\n",
    "Note that we have used the `and` relational operator to combine the conditions. \n",
    "\n",
    "Looking carefully at the values, however, we can see that if `num_visits >= 10` is false, we do not really have to check if `num_visits <=9` because it would be redundant. So, we could simplify the conditions:\n"
   ]
  },
  {
   "cell_type": "code",
   "execution_count": null,
   "metadata": {},
   "outputs": [],
   "source": [
    "# Set the values of the variables\n",
    "num_visits = int(input(\"How many times does this customer visit in a month? \"))\n",
    "\n",
    "if num_visits>=10:                          # check the upper boundary first\n",
    "    print(\"This is a Premium customer\")\n",
    "elif num_visits >= 5:                       # else num_visits would be less than 10, so just check if it's more than 5\n",
    "    print(\"This is a Loyal customer\")\n",
    "elif num_visits >=0:                        # similarly it would be less than 5, just check if more than 0\n",
    "    print(\"This is a Casual customer\")      \n",
    "else:\n",
    "    print(\"Invalid value entered\")           # does not match all the conditions above"
   ]
  },
  {
   "cell_type": "markdown",
   "metadata": {},
   "source": [
    "**Note** that the boundary values have to be arranged in order so that the conditions are checked systematically. Moreover, this makes the code easier to read.\n",
    "\n",
    "\n"
   ]
  },
  {
   "cell_type": "markdown",
   "metadata": {},
   "source": [
    "## Logical Errors\n",
    "\n",
    "When developing conditional statements, you have to consider the logic of the conditions and how they should be arranged, and to write the code in such a way that it is both clear and correct. Otherwise, we might get a **logical error**, where the code runs but the results are not as expected.\n",
    "\n",
    "Consider the following requirements:\n",
    "\n",
    "We want to reward our customer by giving them discounts based on the amount of purhcase, but Premium customers should get bigger discounts then Casual customers and Loyal customers. We have worked out the discounts to give based on the table below:\n",
    "\n",
    "\n",
    "|  Purchase Amount   \t| Premium Customer Discount \t| Loyal Customer Discount \t| Casual Customer Discount \t|\n",
    "|:------------------:\t|--------------------------:\t|------------------------:\t|-------------------------:\t|\n",
    "|     50 or less     \t|                        5% \t|                      0% \t|                       0% \t|\n",
    "| between 50 and 100 \t|                       10% \t|                      5% \t|                       0% \t|\n",
    "|     100 or more    \t|                       20% \t|                     10% \t|                       5% \t|\n",
    "\n",
    "\n",
    "Based on these requirements, we will have to write the conditional statements to test two variables:\n",
    "\n",
    "`purchase_amount` and `customer_type`\n",
    "\n",
    "In this case, we have to nest the conditional statements. The conditions for purchases up to, but not including SGD$100 have been prepared below. \n",
    "\n",
    "Run and test the code, then complete the statements for a purchase amount of SGD$100 and above.\n"
   ]
  },
  {
   "cell_type": "code",
   "execution_count": null,
   "metadata": {},
   "outputs": [],
   "source": [
    "# Declare variables with some sample values - try different values to check that it is logically correct!\n",
    "purchase_amount = 65.40\n",
    "customer_type = 'Premium'\n",
    "\n",
    "# Calculate discount to be given based on the variable values\n",
    "\n",
    "if purchase_amount <= 50:                  # first row of the table\n",
    "    if customer_type == 'Premium':\n",
    "        discount_given = 5\n",
    "    else:\n",
    "        discount_given = 0                 # Loyal and Casual customers don't get any discount\n",
    "elif purchase_amount <100:                 # second row, purchase amount is between 50 and 100, not inclusive\n",
    "    if customer_type == 'Premium':\n",
    "        discount_given = 10\n",
    "    elif customer_type == 'Loyal':\n",
    "        discount_given = 5\n",
    "    else:\n",
    "        discount_given = 0\n",
    "        \n",
    "# complete the code for the third row of the table\n",
    "\n",
    "print(\"The discount given is \" + str(discount_given) + \"%\")"
   ]
  },
  {
   "cell_type": "markdown",
   "metadata": {},
   "source": [
    "## Iterative Statements\n",
    "\n",
    "Iterative statements are blocks of code that are executed repeatedly. There are two types of loops used in Python:\n",
    "- `for` loops\n",
    "- `while` loops"
   ]
  },
  {
   "cell_type": "markdown",
   "metadata": {},
   "source": [
    "## For Loops"
   ]
  },
  {
   "cell_type": "markdown",
   "metadata": {},
   "source": [
    "A `for` loop is used to iterating through a sequence. Each element of the sequence will be processed in the loop."
   ]
  },
  {
   "cell_type": "markdown",
   "metadata": {},
   "source": [
    "The syntax of a **for** loop goes as follows: <br>\n",
    "    \n",
    "    for item in sequence:\n",
    "        # loop body statement \n",
    "        # loop body statement\n",
    "        \n",
    "The indentation is important to indicate which statements are part of the **loop body**."
   ]
  },
  {
   "cell_type": "markdown",
   "metadata": {},
   "source": [
    "The sequence can be generated using a Python built-in function. The most common one used is the `range()` function. \n",
    "\n",
    "The `range()` function takes in arguments for the *start*, *end* and *step* of a sequence. Similar to string slicing earlier, the *end* index is not a part of the iteration. The *end* index only specifies where we want to iterate up to.\n"
   ]
  },
  {
   "cell_type": "code",
   "execution_count": null,
   "metadata": {},
   "outputs": [],
   "source": [
    "# Print values from 1 to 9\n",
    "for i in range(1,10,1):\n",
    "    print(i)"
   ]
  },
  {
   "cell_type": "code",
   "execution_count": null,
   "metadata": {},
   "outputs": [],
   "source": [
    "# Print the even numbers from 0 to 10\n",
    "for i in range(0, 11, 2):\n",
    "    print(i)"
   ]
  },
  {
   "cell_type": "code",
   "execution_count": null,
   "metadata": {},
   "outputs": [],
   "source": [
    "# Counting down\n",
    "for i in range(5,0,-1):\n",
    "    print(i)"
   ]
  },
  {
   "cell_type": "markdown",
   "metadata": {},
   "source": [
    "There must be at least one argument given to `range()`, which is the *end* value. The default *start* value is  0 and the default *step* value is 1. \n"
   ]
  },
  {
   "cell_type": "code",
   "execution_count": null,
   "metadata": {},
   "outputs": [],
   "source": [
    "# Try different values for range, predict the output before you run\n",
    "# such as range(6)\n",
    "# or range(1,5)\n",
    "# or range(4, 10, -1)\n",
    "# or range (10, 4, -1)\n",
    "\n",
    "for i in range(6):       # change the arguments and run the cell\n",
    "    print(i)"
   ]
  },
  {
   "cell_type": "markdown",
   "metadata": {},
   "source": [
    "In the examples above, the variable `i` is used as a **counter** to keep track the number of times the loop body is being executed. \n",
    "\n",
    "\n",
    "This means that to repeat a block of code `n` times, we can use `range(n)`. For example, if we wanted to print \"Hello\" three times, we can use a loop with `range(3)` as it will count `i` from 0 to 2."
   ]
  },
  {
   "cell_type": "code",
   "execution_count": null,
   "metadata": {},
   "outputs": [],
   "source": [
    "for i in range(3):      # the loop will repeat for i values from 0 to 2.\n",
    "    print(\"Hello\")"
   ]
  },
  {
   "cell_type": "markdown",
   "metadata": {},
   "source": [
    "`i` is usually used by convention, as it represents the **index**. You can use any variable name you like for the loop counter. \n",
    "\n",
    "For example, using a variable called `counter`:\n",
    "\n",
    "```\n",
    "for counter in range(5):\n",
    "    print(counter)\n",
    "```\n"
   ]
  },
  {
   "cell_type": "markdown",
   "metadata": {},
   "source": [
    "**Loops on strings**\n",
    "\n",
    "Remember that we have used the index to refer to the position of a character in a string. \n",
    "\n",
    "\n",
    "|       \t| G \t| o \t| o \t| d \t|   \t| M \t| o \t| r \t| n \t| i \t|  n \t|  g \t|\n",
    "|:-----:\t|:-:\t|:-:\t|:-:\t|:-:\t|:-:\t|:-:\t|:-:\t|:-:\t|:-:\t|:-:\t|:--:\t|:--:\t|\n",
    "| index \t| 0 \t| 1 \t| 2 \t| 3 \t| 4 \t| 5 \t| 6 \t| 7 \t| 8 \t| 9 \t| 10 \t| 11 \t|\n",
    "\n",
    "\n",
    "\n",
    "The `len()` function can be used to find the length of a string, for example:"
   ]
  },
  {
   "cell_type": "code",
   "execution_count": null,
   "metadata": {},
   "outputs": [],
   "source": [
    "# Using the len() function\n",
    "greeting = \"Good Morning\"\n",
    "print(\"Number of characters (including spaces) in the string '\" + greeting + \"' is:\")\n",
    "print(len(greeting))    # use the greeting as an argument to the len() function"
   ]
  },
  {
   "cell_type": "markdown",
   "metadata": {},
   "source": [
    "Now we can use this length that we obtained as the argument for the range, and print out each character of the string on one line."
   ]
  },
  {
   "cell_type": "code",
   "execution_count": null,
   "metadata": {},
   "outputs": [],
   "source": [
    "# Create a loop to go through each character\n",
    "for i in range(len(greeting)):            # use the result of the len() function as the range\n",
    "    print(greeting[i])         # print the character at index i"
   ]
  },
  {
   "cell_type": "markdown",
   "metadata": {},
   "source": [
    "Python however gives us a convenient method for looping through strings. Remember that the `for` loop is used to go through each element of a sequence, and a string is a ***sequence of characters***!\n",
    "\n",
    "We can simplify the `for` loop to just repeat for each character in the string."
   ]
  },
  {
   "cell_type": "code",
   "execution_count": null,
   "metadata": {},
   "outputs": [],
   "source": [
    "# create a loop to go through each character\n",
    "greeting = \"Hello, how are you?\"                 \n",
    "for ch in greeting:            # 'ch' is a variable that represents each character of the string\n",
    "    print(ch)              # just have to print ch"
   ]
  },
  {
   "cell_type": "markdown",
   "metadata": {},
   "source": [
    "## While Loops"
   ]
  },
  {
   "cell_type": "markdown",
   "metadata": {},
   "source": [
    "A `while` loop is used when the number of iterations are unknown beforehand and we are dependant on a certain condition to hold `True`. The aim is to continue looping until the specified condition is no longer `True`."
   ]
  },
  {
   "cell_type": "markdown",
   "metadata": {},
   "source": [
    "The syntax of a `while` loop is quite simple and straightforward:<br>\n",
    "    \n",
    "    while <condition>:\n",
    "        # loop body statement\n",
    "        # loop body statement\n",
    "        \n",
    "The statements in the loop body will be executed as long as the condition is `True`.\n"
   ]
  },
  {
   "cell_type": "markdown",
   "metadata": {},
   "source": [
    "The `while` loop can be used for user interaction, where the loop will stop based on the user input.\n",
    "\n",
    "The loop below will keep repeating as long as the user enters 'Y' **or** 'y'. We have to use `or` so that we accept either a lowercase or uppercase 'y' value.  "
   ]
  },
  {
   "cell_type": "code",
   "execution_count": null,
   "metadata": {},
   "outputs": [],
   "source": [
    "answer = 'Y'  # set the value so that the condition will be True at first\n",
    "\n",
    "while answer == 'y' or answer == 'Y':\n",
    "    print(\"la la la la la la la\")\n",
    "    answer = input(\"Would you like me to sing again? Enter Y or N :\")\n",
    "\n",
    "print(\"I have stopped singing!\")\n",
    "    "
   ]
  },
  {
   "cell_type": "markdown",
   "metadata": {},
   "source": [
    "As you can see, we will not be able to plan in advance on how many times the loop statements will be repeated or iterated. It is important to ensure that the condition we use in the `while` loop will be updated by the loop statements in each execution, otherwise you will be stuck in an infinite loop. "
   ]
  },
  {
   "cell_type": "markdown",
   "metadata": {},
   "source": [
    "**Loops Containing Conditions**\n",
    "\n",
    "We can now combine loop statements with conditional statements.\n",
    "\n",
    "For example, you have some cash of SGD$100. Let's use a loop to determine whether you can afford to keep shopping."
   ]
  },
  {
   "cell_type": "markdown",
   "metadata": {},
   "source": [
    "Let's write a `while` loop for this purpose."
   ]
  },
  {
   "cell_type": "markdown",
   "metadata": {},
   "source": [
    "We will use three variables:\n",
    "- `cash` to denote the amount the user has \n",
    "- `price` to indicate the price of an item\n",
    "- `shop` to ask if the user wants to keep shopping \n",
    "\n",
    "Which variable should be used in the condition for the loop?\n",
    "\n",
    "First of all, if the user does not want to keep shopping, then the loop should stop. So, we need a condition that `shop == 'y' or shop == 'Y'` to keep looping (or shopping).\n",
    "\n",
    "Second, another reason to stop shopping is that the user has run out of money. So, we can keep shopping **while** `cash > 0`.\n",
    "\n",
    "Third, we need to use **both** of these conditions for the `while` loop:\n",
    "\n",
    "`while cash > 0 and (shop == 'Y' or shop == 'y')`\n",
    "\n",
    "Here, we need to put the `shop == 'Y' or shop == 'y'` in parentheses so that it is evaluated first,  because either a lowercase 'y' or uppercase 'Y' is accepted, **and** we also need to make sure we have enough cash to shop.\n"
   ]
  },
  {
   "cell_type": "code",
   "execution_count": null,
   "metadata": {},
   "outputs": [],
   "source": [
    "# Assume that the user wants to shop, at first\n",
    "shop = 'Y'\n",
    "cash = float(input('Enter how much cash you have :$'))\n",
    "\n",
    "# keep shopping as long as there is cash, and user wants to.\n",
    "while cash > 0 and (shop == 'Y' or shop == 'y'):\n",
    "    price = float(input('Enter the price of the item :$'))\n",
    "    if price <= cash:       # can pay for it\n",
    "        cash = cash - price                   # update the amount of cash \n",
    "        print(\"You have paid $\" + str(price))\n",
    "    else:\n",
    "        print(\"You can't afford this!\")\n",
    "    print('remaining cash is $' + str(cash))\n",
    "    shop = input('Do you want to shop some more? Y/N :')\n",
    "        \n"
   ]
  },
  {
   "cell_type": "markdown",
   "metadata": {},
   "source": [
    "Try running the code above with different ways to stop the loop: by running out of cash or by entering 'N' to stop shopping.\n",
    "\n",
    "Add a message to inform the user when they have run out of cash."
   ]
  },
  {
   "cell_type": "markdown",
   "metadata": {},
   "source": [
    "## Transfer Statements\n",
    "\n",
    "Transfer statements control how a loop is executed. There are 3 types of transfer statements: <br>\n",
    "- The `break` statement, which stops the loop execution and exits\n",
    "- The `continue` statement, which returns to the top of the loop \n",
    "- The `pass` statement which just allows the execution to go on normally\n",
    "\n",
    "For example, consider the statement below which prints each character of the string, one line at a time.\n"
   ]
  },
  {
   "cell_type": "code",
   "execution_count": null,
   "metadata": {},
   "outputs": [],
   "source": [
    "# print each character of the string\n",
    "for ch in 'Python':            # for each character in the string\n",
    "    print(ch)                  # print the character \n",
    "\n",
    "print('is a long snake')\n",
    "    "
   ]
  },
  {
   "cell_type": "markdown",
   "metadata": {},
   "source": [
    "**Break**\n",
    "\n",
    "Now we are going to check each of the characters, and if the character is 'h', then we will use the `break` statement to break out of the loop:"
   ]
  },
  {
   "cell_type": "code",
   "execution_count": null,
   "metadata": {},
   "outputs": [],
   "source": [
    "# Print each character of the string\n",
    "for ch in 'Python':\n",
    "    if (ch == 'h'):   # if the character is a 'h'\n",
    "        break         # leave the loop\n",
    "    print(ch)\n",
    "\n",
    "print('is a long snake')"
   ]
  },
  {
   "cell_type": "markdown",
   "metadata": {},
   "source": [
    "So, you can see that it goes into the loop and prints each character.\n",
    "\n",
    "For the first three characters, they do not meet the condition that it is a 'h', so the loop proceeds by printing the statement `print(ch)` in the loop body, then goes back to the top of the loop.\n",
    "\n",
    "But, when the character variable `ch` is equal to 'h', it will break out of the loop.\n",
    "\n",
    "**Continue**\n",
    "\n",
    "The `continue` statement will stop executing the remaining statements in the loop and go back to the top of the loop.\n",
    "\n",
    "Let's change the `break` to a `continue`. "
   ]
  },
  {
   "cell_type": "code",
   "execution_count": null,
   "metadata": {
    "scrolled": true
   },
   "outputs": [],
   "source": [
    "# Print each character of the string\n",
    "for ch in 'Python':\n",
    "    if (ch == 'h'):   # if the character is a 'h'\n",
    "        continue      # go back to the top of the loop\n",
    "    print(ch)         \n",
    "\n",
    "print('is a long snake')"
   ]
  },
  {
   "cell_type": "markdown",
   "metadata": {},
   "source": [
    "You can see that the `continue` statement will prevent the character 'h' from being printed, but it does not break out of the loop. Instead, it goes back to the top of the loop without executing the statement `print(ch)` but gets the next character, which is 'o' and will print that, and the loop proceeds. "
   ]
  },
  {
   "cell_type": "markdown",
   "metadata": {},
   "source": [
    "**Pass**\n",
    "\n"
   ]
  },
  {
   "cell_type": "code",
   "execution_count": null,
   "metadata": {},
   "outputs": [],
   "source": [
    "# Print each character of the string\n",
    "for ch in 'Python':\n",
    "    if (ch == 'h'):   # check if the character is a 'h'\n",
    "        pass          # but it's ok, don't do anything\n",
    "    print(ch)         # print the character\n",
    "\n",
    "print('is a long snake')"
   ]
  },
  {
   "cell_type": "markdown",
   "metadata": {},
   "source": [
    "You can see that the `pass` statement does not affect the loop execution."
   ]
  },
  {
   "cell_type": "markdown",
   "metadata": {},
   "source": [
    "If the `pass` statement does not do anything, when do we use it?\n",
    "\n",
    "We use the `pass` statement when we have an empty conditional statement or loop statement and we need to execute it. If we did not add `pass` statement, we will get a `IndentationError`."
   ]
  },
  {
   "cell_type": "code",
   "execution_count": null,
   "metadata": {},
   "outputs": [],
   "source": [
    "if customer_type == 'Premium':\n",
    "    "
   ]
  },
  {
   "cell_type": "markdown",
   "metadata": {},
   "source": [
    "Programmers might use a `pass` statement as a placeholder for code that they will write in the future, but may not have enough information yet for now."
   ]
  },
  {
   "cell_type": "code",
   "execution_count": null,
   "metadata": {},
   "outputs": [],
   "source": [
    "if customer_type == 'Premium':\n",
    "    pass              # waiting to confirm on discount rate\n",
    "elif customer_type == 'Loyal':\n",
    "    discount = 10     # discount is 10%\n",
    "    "
   ]
  },
  {
   "cell_type": "markdown",
   "metadata": {},
   "source": [
    "## Exercises"
   ]
  },
  {
   "cell_type": "markdown",
   "metadata": {},
   "source": [
    "Consider the code below that calculates the total sale for a customer. The user will enter the price of each item and the quantity purchased, then calculate the total price."
   ]
  },
  {
   "cell_type": "code",
   "execution_count": null,
   "metadata": {},
   "outputs": [],
   "source": [
    "grand_total = 0\n",
    "\n",
    "item_price = float(input(\"Enter item price :$\"))\n",
    "quantity = int(input(\"Enter quantity purchased :\"))\n",
    "total_price = item_price * quantity\n",
    "grand_total = grand_total + total_price\n",
    "   \n",
    "\n",
    "print(\"The grand total is $\" + str(grand_total))\n",
    "                       "
   ]
  },
  {
   "cell_type": "markdown",
   "metadata": {},
   "source": [
    "**Q1** Loop\n",
    "\n",
    "Use the code above in a loop, so that if the user wants to record another item, they will be asked to enter the item price and quantity purchased again. \n",
    "\n",
    "The grand total will be the total of all the items purchased.\n"
   ]
  },
  {
   "cell_type": "code",
   "execution_count": null,
   "metadata": {},
   "outputs": [],
   "source": [
    "# Q1 answer\n",
    "\n",
    "\n",
    "                       "
   ]
  },
  {
   "cell_type": "markdown",
   "metadata": {},
   "source": [
    "**Q2** Conditions\n",
    "\n",
    "Modify the code you have written to ask the user whether the customer is a \"Loyal\" customer or \"Premium\" customer. Loyal customers get a 10% discount and Premium customers get a 20% discount. If the customer is neither a \"Loyal\" nor \"Premium\" customer, then there is no discount. Display the final amount that the customer has to pay.\n"
   ]
  },
  {
   "cell_type": "code",
   "execution_count": null,
   "metadata": {},
   "outputs": [],
   "source": [
    "# Q2 answer\n",
    "\n"
   ]
  }
 ],
 "metadata": {
  "kernelspec": {
   "display_name": "Python 3 (ipykernel)",
   "language": "python",
   "name": "python3"
  },
  "language_info": {
   "codemirror_mode": {
    "name": "ipython",
    "version": 3
   },
   "file_extension": ".py",
   "mimetype": "text/x-python",
   "name": "python",
   "nbconvert_exporter": "python",
   "pygments_lexer": "ipython3",
   "version": "3.9.7"
  }
 },
 "nbformat": 4,
 "nbformat_minor": 2
}
