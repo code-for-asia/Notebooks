{
 "cells": [
  {
   "cell_type": "markdown",
   "metadata": {},
   "source": [
    "# Week 1 Notebook 1 Introduction to Python\n",
    "\n",
    "## Overview\n",
    "\n",
    "Welcome! In this lesson we will cover the following important concepts for getting started with Python:"
   ]
  },
  {
   "cell_type": "markdown",
   "metadata": {},
   "source": [
    "1. Variables in Python \n",
    "- Creating variables for storing data \n",
    "- Python data types (integers, floats, boolean, strings)\n",
    "- Assigning values to variables\n",
    "2. Errors encountered during programming\n",
    "- The different types of errors\n"
   ]
  },
  {
   "cell_type": "markdown",
   "metadata": {},
   "source": [
    "## Variable Creation"
   ]
  },
  {
   "cell_type": "markdown",
   "metadata": {},
   "source": [
    "Creating variables is an important practice in order to store and retrieve data. Data can be easily reused if stored and  the use of variabes prevents repetition of code. \n",
    "\n",
    "In Python, we can create a variable by simply assigning a value to it. The value assigned can be a number, a word or even an expression. \n",
    "\n",
    "For example, we can assign a value 20 to the variable `x`, as shown in the cell below. Click in the code cell, then click the 'Run' button to run the code."
   ]
  },
  {
   "cell_type": "code",
   "execution_count": 16,
   "metadata": {},
   "outputs": [],
   "source": [
    "# Click inside this cell, and then click the 'Run' button.\n",
    "x = 20"
   ]
  },
  {
   "cell_type": "markdown",
   "metadata": {},
   "source": [
    "After you run the cell, you will see a number in the `In[ ]` showing that it has been executed.\n",
    "\n",
    "If you have run the code successfully, you can check what has been stored in `x` by just typing the name of the variable. \n",
    "Try it by running the cell below:"
   ]
  },
  {
   "cell_type": "code",
   "execution_count": 17,
   "metadata": {
    "scrolled": true
   },
   "outputs": [
    {
     "data": {
      "text/plain": [
       "20"
      ]
     },
     "execution_count": 17,
     "metadata": {},
     "output_type": "execute_result"
    }
   ],
   "source": [
    "# You can also press Shift and Enter to run a cell\n",
    "x"
   ]
  },
  {
   "cell_type": "markdown",
   "metadata": {},
   "source": [
    " As you can see in the `Out[]`, the value of `x` is 20. Change the command to `print(x)` and you will find the same result. "
   ]
  },
  {
   "cell_type": "code",
   "execution_count": 21,
   "metadata": {},
   "outputs": [],
   "source": [
    "# Assigning a string to a variable\n",
    "name = \"Joe\""
   ]
  },
  {
   "cell_type": "markdown",
   "metadata": {},
   "source": [
    "In the code cell above, there is a comment, that starts with a #. \n",
    "This is just to explain what the code does to anyone who is reading it.\n",
    "It will not be executed. We can try to check the value of `name` using `print(name)`:"
   ]
  },
  {
   "cell_type": "code",
   "execution_count": 22,
   "metadata": {},
   "outputs": [
    {
     "name": "stdout",
     "output_type": "stream",
     "text": [
      "Joe\n"
     ]
    }
   ],
   "source": [
    "print(name)"
   ]
  },
  {
   "cell_type": "markdown",
   "metadata": {},
   "source": [
    "Try to change the value that has been assigned to `name` to your own name, then run both cells again.\n",
    "You can run more than one cell at a time using these steps:\n",
    "- click the outer part of a cell (near the `In [ ]`, so that it enters command mode. You will see the border of the cell change to blue.\n",
    "- hold down the SHIFT key\n",
    "- move to another cell and click on the outer part too \n",
    "- this changes the range of cells within your selection to blue\n",
    "- press SHIFT and ENTER to run, or click on the Run button."
   ]
  },
  {
   "cell_type": "markdown",
   "metadata": {},
   "source": [
    "An important aspect to keep in mind is that descriptive variable names help with the readibility and understanding of code. For example, if we wanted to record the age of a person, we should use\n",
    "\n",
    "`age = 20`\n",
    "\n",
    "This is a better alternative to `x = 20`, as you would be able to remember the purpose of the variable."
   ]
  },
  {
   "cell_type": "markdown",
   "metadata": {},
   "source": [
    "While naming your variables, remember a few key points: <br>\n",
    "    a) Variables cannot be any of the Python reserved words () <br>\n",
    "    b) Variables can start with letters or an underscore followed by letters, numbers or underscore. <br>\n",
    "    c) Python is a case-sensitive langauge so remember `age` is different from `Age`. <br>\n",
    "    d) Mathematical operators and special symbols are also prohibited to be used as variable names."
   ]
  },
  {
   "cell_type": "markdown",
   "metadata": {},
   "source": [
    "# Data Types in Python"
   ]
  },
  {
   "cell_type": "markdown",
   "metadata": {},
   "source": [
    "Python makes use of some basic data types and some slightly more advanced data types. The basic ones we wil be covering in this lesson are:\n",
    "    1. Integer\n",
    "    2. Float\n",
    "    3. Boolean\n",
    "    4. String"
   ]
  },
  {
   "cell_type": "markdown",
   "metadata": {},
   "source": [
    "Data types are important in establishing the kind of data that is stored in a variable and hence the kind of operations that can  be performed on this variable.\n",
    "\n",
    "For example, run the cell below."
   ]
  },
  {
   "cell_type": "code",
   "execution_count": 24,
   "metadata": {},
   "outputs": [
    {
     "ename": "TypeError",
     "evalue": "can only concatenate str (not \"int\") to str",
     "output_type": "error",
     "traceback": [
      "\u001b[1;31m---------------------------------------------------------------------------\u001b[0m",
      "\u001b[1;31mTypeError\u001b[0m                                 Traceback (most recent call last)",
      "\u001b[1;32m~\\AppData\\Local\\Temp/ipykernel_2004/2897936051.py\u001b[0m in \u001b[0;36m<module>\u001b[1;34m\u001b[0m\n\u001b[0;32m      1\u001b[0m \u001b[0mname\u001b[0m \u001b[1;33m=\u001b[0m \u001b[1;34m\"Mike\"\u001b[0m\u001b[1;33m\u001b[0m\u001b[1;33m\u001b[0m\u001b[0m\n\u001b[0;32m      2\u001b[0m \u001b[0mage\u001b[0m \u001b[1;33m=\u001b[0m \u001b[1;36m20\u001b[0m\u001b[1;33m\u001b[0m\u001b[1;33m\u001b[0m\u001b[0m\n\u001b[1;32m----> 3\u001b[1;33m \u001b[0mname\u001b[0m \u001b[1;33m+\u001b[0m \u001b[0mage\u001b[0m\u001b[1;33m\u001b[0m\u001b[1;33m\u001b[0m\u001b[0m\n\u001b[0m",
      "\u001b[1;31mTypeError\u001b[0m: can only concatenate str (not \"int\") to str"
     ]
    }
   ],
   "source": [
    "name = \"Mike\"\n",
    "age = 20\n",
    "name + age"
   ]
  },
  {
   "cell_type": "markdown",
   "metadata": {},
   "source": [
    "Why do we get this error?"
   ]
  },
  {
   "cell_type": "markdown",
   "metadata": {},
   "source": [
    "It is because `name` is a `str`, or string variable, and `age` is an `int`. \n",
    "The `+` operation means different things for integers and strings, so this results in a `TypeError`."
   ]
  },
  {
   "cell_type": "markdown",
   "metadata": {},
   "source": [
    "To check the data type of a variable, you can use the `type` function, as in the cell below."
   ]
  },
  {
   "cell_type": "code",
   "execution_count": 25,
   "metadata": {},
   "outputs": [
    {
     "data": {
      "text/plain": [
       "str"
      ]
     },
     "execution_count": 25,
     "metadata": {},
     "output_type": "execute_result"
    }
   ],
   "source": [
    "# The type function is used to check the data type of a variable\n",
    "type(name)"
   ]
  },
  {
   "cell_type": "markdown",
   "metadata": {},
   "source": [
    "Try to check the type of `age` too."
   ]
  },
  {
   "cell_type": "code",
   "execution_count": null,
   "metadata": {},
   "outputs": [],
   "source": [
    "# What is the data type of age? Enter the code here.\n"
   ]
  },
  {
   "cell_type": "markdown",
   "metadata": {},
   "source": [
    "Now let's start off with one of the most common data types in Python: Integers."
   ]
  },
  {
   "cell_type": "markdown",
   "metadata": {},
   "source": [
    "### Integers and Floats"
   ]
  },
  {
   "cell_type": "markdown",
   "metadata": {},
   "source": [
    "Integers and floats are numeric data types. \n",
    "- Integers (`int`) are used to represent whole numbers, that do not have decimal places. \n",
    "- Floating-point numbers (`float`) are those that have decimal places. \n",
    "\n",
    "Basic arithmetic operations are similar to those in mathematics. The numeric operators take operands on either side of the operator and return a result. Floating-point and integer values can be used for the operators except for the Quotient and Remainder operators. \n",
    "\n",
    "| Arithmetic Operator \t| Operation \t| Example \t| Result \t|\n",
    "|:---:\t|:---:\t|:---:\t|:---:\t|\n",
    "| + \t| Addition \t| 4 + 3.0 \t| 7.0 \t|\n",
    "| - \t| Subtraction \t| 9 - 3.5  \t| 5.5 \t|\n",
    "| * \t| Multiplication \t| 2 * 6 \t| 12 \t|\n",
    "| / \t| Division \t| 5 / 2 \t| 2.5 \t|\n",
    "| // \t| Quotient \t| 5 // 2 \t| 2 \t|\n",
    "| % \t| Remainder \t| 5 % 2 \t| 1 \t|\n",
    "| ** \t| Exponentiation (Power) \t| 2 ** 3 \t| 8 \t|\n",
    "\n",
    "\n",
    "\n",
    "\n",
    "You can run each of the cells below, or perform your own calculations. "
   ]
  },
  {
   "cell_type": "code",
   "execution_count": 4,
   "metadata": {
    "scrolled": false
   },
   "outputs": [
    {
     "data": {
      "text/plain": [
       "5.5"
      ]
     },
     "execution_count": 4,
     "metadata": {},
     "output_type": "execute_result"
    }
   ],
   "source": [
    "# Addition\n",
    "9 - 3.5"
   ]
  },
  {
   "cell_type": "code",
   "execution_count": 41,
   "metadata": {},
   "outputs": [
    {
     "data": {
      "text/plain": [
       "2.0"
      ]
     },
     "execution_count": 41,
     "metadata": {},
     "output_type": "execute_result"
    }
   ],
   "source": [
    "# Subtraction\n",
    "5 - 3.0"
   ]
  },
  {
   "cell_type": "code",
   "execution_count": 42,
   "metadata": {},
   "outputs": [
    {
     "data": {
      "text/plain": [
       "12.600000000000001"
      ]
     },
     "execution_count": 42,
     "metadata": {},
     "output_type": "execute_result"
    }
   ],
   "source": [
    "# Multiplication\n",
    "4.2 * 3"
   ]
  },
  {
   "cell_type": "code",
   "execution_count": 43,
   "metadata": {},
   "outputs": [
    {
     "data": {
      "text/plain": [
       "2.5"
      ]
     },
     "execution_count": 43,
     "metadata": {},
     "output_type": "execute_result"
    }
   ],
   "source": [
    "# Division\n",
    "5 / 2"
   ]
  },
  {
   "cell_type": "markdown",
   "metadata": {},
   "source": [
    "It is important to note that using the `/` for division returns a floating-point number as a result.\n",
    "\n",
    "Another operator that is used for integer division is `//`. This will return only the integer part of the answer. It is also called **floor division**."
   ]
  },
  {
   "cell_type": "code",
   "execution_count": 46,
   "metadata": {},
   "outputs": [
    {
     "data": {
      "text/plain": [
       "2"
      ]
     },
     "execution_count": 46,
     "metadata": {},
     "output_type": "execute_result"
    }
   ],
   "source": [
    "# Floor Division returns an integer result\n",
    "5 // 2"
   ]
  },
  {
   "cell_type": "markdown",
   "metadata": {},
   "source": [
    "The remainder from division can be calculated using the `%` operator, which is called the **modulo** operator."
   ]
  },
  {
   "cell_type": "code",
   "execution_count": 48,
   "metadata": {},
   "outputs": [
    {
     "data": {
      "text/plain": [
       "1"
      ]
     },
     "execution_count": 48,
     "metadata": {},
     "output_type": "execute_result"
    }
   ],
   "source": [
    "# modulo operator\n",
    "5 % 2"
   ]
  },
  {
   "cell_type": "markdown",
   "metadata": {},
   "source": [
    "Results of operations can also be stored in variables. "
   ]
  },
  {
   "cell_type": "code",
   "execution_count": 30,
   "metadata": {},
   "outputs": [
    {
     "data": {
      "text/plain": [
       "45"
      ]
     },
     "execution_count": 30,
     "metadata": {},
     "output_type": "execute_result"
    }
   ],
   "source": [
    "product = 5 * 9\n",
    "product"
   ]
  },
  {
   "cell_type": "markdown",
   "metadata": {},
   "source": [
    "We can also perform operations on variables, if they store numeric variables.\n"
   ]
  },
  {
   "cell_type": "code",
   "execution_count": 49,
   "metadata": {},
   "outputs": [
    {
     "name": "stdout",
     "output_type": "stream",
     "text": [
      "4.5\n"
     ]
    }
   ],
   "source": [
    "# Performing operations on variables\n",
    "a = 5\n",
    "b = 9.5\n",
    "\n",
    "print(b - a)"
   ]
  },
  {
   "cell_type": "markdown",
   "metadata": {},
   "source": [
    "### Type Conversion"
   ]
  },
  {
   "cell_type": "markdown",
   "metadata": {},
   "source": [
    "Values may be converted to different to a different data type, using **type casting**. For example, if we want to convert a floating-point value `4.6` to an integer, we can use the `int()` function."
   ]
  },
  {
   "cell_type": "code",
   "execution_count": 52,
   "metadata": {},
   "outputs": [
    {
     "data": {
      "text/plain": [
       "4"
      ]
     },
     "execution_count": 52,
     "metadata": {},
     "output_type": "execute_result"
    }
   ],
   "source": [
    "# Converting float to int\n",
    "int(4.6)"
   ]
  },
  {
   "cell_type": "markdown",
   "metadata": {},
   "source": [
    "Similarly we can *cast* an integer to a float. In this example, we have a variable which is an integer, and we will convert the value to a float."
   ]
  },
  {
   "cell_type": "code",
   "execution_count": 2,
   "metadata": {},
   "outputs": [
    {
     "name": "stdout",
     "output_type": "stream",
     "text": [
      "9\n",
      "9.0\n"
     ]
    }
   ],
   "source": [
    "value = 9\n",
    "newValue = float(value)  # cast the value as a float and save in a new variable\n",
    "print(value)\n",
    "print(newValue)"
   ]
  },
  {
   "cell_type": "markdown",
   "metadata": {},
   "source": [
    "Apart from casting `int` to `float` and `float` to `int`, we can also change the data type from numeric to strings. We will look at strings later in this note book, but we can also convert an integer to a string using the `str` function.\n",
    "Remember in the example above, we had a `TypeError` for the following code:"
   ]
  },
  {
   "cell_type": "code",
   "execution_count": 55,
   "metadata": {},
   "outputs": [
    {
     "ename": "TypeError",
     "evalue": "can only concatenate str (not \"int\") to str",
     "output_type": "error",
     "traceback": [
      "\u001b[1;31m---------------------------------------------------------------------------\u001b[0m",
      "\u001b[1;31mTypeError\u001b[0m                                 Traceback (most recent call last)",
      "\u001b[1;32m~\\AppData\\Local\\Temp/ipykernel_2004/364575876.py\u001b[0m in \u001b[0;36m<module>\u001b[1;34m\u001b[0m\n\u001b[0;32m      1\u001b[0m \u001b[0mname\u001b[0m \u001b[1;33m=\u001b[0m \u001b[1;34m\"Mike\"\u001b[0m\u001b[1;33m\u001b[0m\u001b[1;33m\u001b[0m\u001b[0m\n\u001b[0;32m      2\u001b[0m \u001b[0mage\u001b[0m \u001b[1;33m=\u001b[0m \u001b[1;36m20\u001b[0m\u001b[1;33m\u001b[0m\u001b[1;33m\u001b[0m\u001b[0m\n\u001b[1;32m----> 3\u001b[1;33m \u001b[0mprint\u001b[0m\u001b[1;33m(\u001b[0m\u001b[0mname\u001b[0m \u001b[1;33m+\u001b[0m \u001b[1;34m\"'s age is \"\u001b[0m \u001b[1;33m+\u001b[0m \u001b[0mage\u001b[0m\u001b[1;33m)\u001b[0m\u001b[1;33m\u001b[0m\u001b[1;33m\u001b[0m\u001b[0m\n\u001b[0m",
      "\u001b[1;31mTypeError\u001b[0m: can only concatenate str (not \"int\") to str"
     ]
    }
   ],
   "source": [
    "name = \"Mike\"\n",
    "age = 20\n",
    "print(name + age)"
   ]
  },
  {
   "cell_type": "markdown",
   "metadata": {},
   "source": [
    "The error actually says we can only concatenate `str` to `str`.\n",
    "We can correct the error by casting the `age` to a `str`:"
   ]
  },
  {
   "cell_type": "code",
   "execution_count": 57,
   "metadata": {},
   "outputs": [
    {
     "name": "stdout",
     "output_type": "stream",
     "text": [
      "Mike20\n"
     ]
    }
   ],
   "source": [
    "name = \"Mike\"\n",
    "age = 20\n",
    "print(name + str(age))"
   ]
  },
  {
   "cell_type": "markdown",
   "metadata": {},
   "source": [
    "### Operator Precedence"
   ]
  },
  {
   "cell_type": "markdown",
   "metadata": {},
   "source": [
    " \n",
    "Python uses PEMDAS to evaluate expressions with multiple operators.\n",
    "The \n",
    "- (P) - Parenthesis\n",
    "- (E) - Exponents\n",
    "- (M)(D) Multiplication & Division (from left to right)\n",
    "- (A)(S) Addition & Subtraction (from left to right) "
   ]
  },
  {
   "cell_type": "code",
   "execution_count": 58,
   "metadata": {},
   "outputs": [
    {
     "data": {
      "text/plain": [
       "7"
      ]
     },
     "execution_count": 58,
     "metadata": {},
     "output_type": "execute_result"
    }
   ],
   "source": [
    "# What do you think the result of this expression is?\n",
    "5 * 3 - 2 ** 3"
   ]
  },
  {
   "cell_type": "markdown",
   "metadata": {},
   "source": [
    "Did you get the right answer?\n",
    "In the cell above, the exponentiation operation `2 ** 3` is evaluated first, then the multiplication `5 * 3`, then the subtraction.\n",
    "\n",
    "Try another one:"
   ]
  },
  {
   "cell_type": "code",
   "execution_count": 3,
   "metadata": {},
   "outputs": [
    {
     "name": "stdout",
     "output_type": "stream",
     "text": [
      "3\n"
     ]
    }
   ],
   "source": [
    "# What will be printed?\n",
    "result = (10 - 2) // 3 + 1\n",
    "print(result)"
   ]
  },
  {
   "cell_type": "markdown",
   "metadata": {},
   "source": [
    "Remember that `//` gives the quotient value of integer division, so it is considered a division operator and will be evaluated after the parentheses `(10 - 2)`."
   ]
  },
  {
   "cell_type": "markdown",
   "metadata": {},
   "source": [
    "###  Comparison Operators"
   ]
  },
  {
   "cell_type": "markdown",
   "metadata": {},
   "source": [
    "Comparison operators are used to compare values. Two operands on either side of a comparison operator will form a **conditional statement**. The result of a comparison will be a Boolean value, `True` or `False`. \n",
    "\n",
    "| Comparison Operator \t| Comparison \t| Conditional Statement \t| Result \t|\n",
    "|:---:\t|:---:\t|:---:\t|:---:\t|\n",
    "| > \t| greater than \t| `5 > 2` \t| True \t|\n",
    "| >= \t| greater than or equal to \t| `4 >= 4` \t| True \t|\n",
    "| < \t| less than \t| `5 < 2` \t| False \t|\n",
    "| <= \t| less than or equal to \t| `3 <= 2` \t| False \t|\n",
    "| == \t| equal \t| `2 + 1 == 3 + 0` \t| True \t|\n",
    "| != \t| not equal \t| `2 + 1 != 3 + 0` \t| False \t|"
   ]
  },
  {
   "cell_type": "markdown",
   "metadata": {},
   "source": [
    "**Important!** To check whether two values are equal, we have to use `==`, a *double equals* sign. This is because Python already uses `=` to assign values to variables. So always remember that in Python:\n",
    "- `=` means assignment\n",
    "- `==` means equality"
   ]
  },
  {
   "cell_type": "code",
   "execution_count": 15,
   "metadata": {},
   "outputs": [],
   "source": [
    "# Exercise : Difference between = and ==\n",
    "# Remove the comment sign (#) from TWO of the lines below so that there is no error when you run the cell.\n",
    "\n",
    "#value = 7\n",
    "#print(value = 7)\n",
    "#print(value == 7)"
   ]
  },
  {
   "cell_type": "markdown",
   "metadata": {},
   "source": [
    "What will the output of the following lines of code be? Try to guess by writing your answer as a comment on the right of each line before running the cell."
   ]
  },
  {
   "cell_type": "code",
   "execution_count": 16,
   "metadata": {},
   "outputs": [
    {
     "name": "stdout",
     "output_type": "stream",
     "text": [
      "True\n",
      "False\n",
      "True\n",
      "False\n",
      "True\n"
     ]
    }
   ],
   "source": [
    "# Guess the output\n",
    "print(27 > 3)         # Your answer: \n",
    "print(16 < 16)        # Your answer:\n",
    "print(8 * 2 <= 16)    # Your answer:\n",
    "\n",
    "age = 18\n",
    "print (age >= 21)     # Your answer : \n",
    "\n",
    "years = 2\n",
    "print(age + years != 21)    # Your answer:"
   ]
  },
  {
   "cell_type": "markdown",
   "metadata": {},
   "source": [
    "## Boolean values"
   ]
  },
  {
   "cell_type": "markdown",
   "metadata": {},
   "source": [
    "The `bool` data type is used to represent Boolean values which evaluate to either `True` or `False`. \n",
    "\n",
    "For example lets assume it's raining today, and cloudy. \n",
    "\n",
    "We can assign a `True` value to a variable called `rainy` and a `False` value to a variable called `sunny`."
   ]
  },
  {
   "cell_type": "code",
   "execution_count": null,
   "metadata": {},
   "outputs": [],
   "source": [
    "rainy = True\n",
    "sunny = False"
   ]
  },
  {
   "cell_type": "markdown",
   "metadata": {},
   "source": [
    "Try to print whether is sunny. Follow the example for rainy."
   ]
  },
  {
   "cell_type": "code",
   "execution_count": 21,
   "metadata": {},
   "outputs": [
    {
     "name": "stdout",
     "output_type": "stream",
     "text": [
      "It is rainy :  True\n"
     ]
    }
   ],
   "source": [
    "# Print whether it is rainy\n",
    "print(\"It is rainy : \"\", rainy)\n",
    "\n",
    "# Now check if it is sunny\n"
   ]
  },
  {
   "cell_type": "markdown",
   "metadata": {},
   "source": [
    "In Python, values can also be assigned to multiple variables simultaneously with the condition that the number of values on the left and right side of the assignment statement are equal."
   ]
  },
  {
   "cell_type": "code",
   "execution_count": 18,
   "metadata": {},
   "outputs": [],
   "source": [
    "rainy, sunny, windy = True, False, True"
   ]
  },
  {
   "cell_type": "code",
   "execution_count": 19,
   "metadata": {},
   "outputs": [
    {
     "name": "stdout",
     "output_type": "stream",
     "text": [
      "Is it windy? True\n"
     ]
    }
   ],
   "source": [
    "print(\"Is it windy?\"\", windy)"
   ]
  },
  {
   "cell_type": "markdown",
   "metadata": {},
   "source": [
    "## Logical Operators\n",
    "\n",
    "Logical operators are used to combine conditional statements.\n",
    "\n",
    "There are three logical operators:\n",
    "- `and`: evaluates to `True` only if *both* conditional statements are `True`\n",
    "- `or`: evaluates to `True` if *either* condition is `True\n",
    "- `not`: negates `True` to `False`  and `False` to `True`\n",
    "\n",
    "This is summarized in the following table:\n",
    "\n",
    "|       Statement_A        \t|      Statement_B      \t| Statement_A `and` Statement_B \t| Statement_A `or` Statement_B \t| `not` Statement_A \t| `not` Statement_B \t|\n",
    "|:------------------------:\t|:---------------------:\t|:-----------------------------:\t|:----------------------------:\t|:-----------------:\t|:-----------------:\t|\n",
    "|           True           \t|          True         \t|              True             \t|             True             \t|       False       \t|       False       \t|\n",
    "|           True           \t|         False         \t|             False             \t|             True             \t|       False       \t|        True       \t|\n",
    "|           False          \t|          True         \t|             False             \t|             True             \t|        True       \t|       False       \t|\n",
    "|           False          \t|         False         \t|             False             \t|             False            \t|        True       \t|        True       \t|"
   ]
  },
  {
   "cell_type": "markdown",
   "metadata": {},
   "source": [
    "For example, we can use the operators with the Boolean variables `rainy`, `sunny` and `windy` defined above:\n",
    "    "
   ]
  },
  {
   "cell_type": "code",
   "execution_count": 28,
   "metadata": {},
   "outputs": [
    {
     "name": "stdout",
     "output_type": "stream",
     "text": [
      "It is rainy AND sunny:  False\n",
      "It is either rainy OR windy :  True\n",
      "It is NOT rainy : False\n"
     ]
    }
   ],
   "source": [
    "rainy, sunny, windy = True, False, True\n",
    "\n",
    "print(\"It is rainy AND sunny: \", rainy and sunny)\n",
    "print(\"It is either rainy OR windy : \", rainy or windy)\n",
    "print(\"It is NOT rainy :\", not rainy)"
   ]
  },
  {
   "cell_type": "markdown",
   "metadata": {},
   "source": [
    "The `not` operator has higher precedence than `and` and `or`, so a `not` operation will be evaluated first, then `and` or `or`, from left to right. Can you predict what will be displayed by the following code?"
   ]
  },
  {
   "cell_type": "code",
   "execution_count": null,
   "metadata": {},
   "outputs": [],
   "source": [
    "# Put in your answer in the comment on the right before running this cell\n",
    "rainy, sunny, windy = True, False, True\n",
    "\n",
    "print(not True and False)                  # Your answer:  \n",
    "print(not rainy and not sunny)             # Your answer:\n",
    "print(not windy or not rainy and sunny)    # Your answer:"
   ]
  },
  {
   "cell_type": "markdown",
   "metadata": {},
   "source": [
    "## Strings"
   ]
  },
  {
   "cell_type": "markdown",
   "metadata": {},
   "source": [
    "A string refers to an ordered sequence of characters. Strings in Python can be enclosed in single quotes or double quotes.\n",
    "\n",
    "They are useful in representing text and are one of the most popular data types used in Python! \n",
    "\n",
    "For example, we can store an employee's name as a string. "
   ]
  },
  {
   "cell_type": "code",
   "execution_count": null,
   "metadata": {},
   "outputs": [],
   "source": [
    "# printing a string\n",
    "print(\"Hi, my name is Ahad\")"
   ]
  },
  {
   "cell_type": "markdown",
   "metadata": {},
   "source": []
  },
  {
   "cell_type": "code",
   "execution_count": 33,
   "metadata": {},
   "outputs": [
    {
     "name": "stdout",
     "output_type": "stream",
     "text": [
      "Denver\n",
      "<class 'str'>\n"
     ]
    }
   ],
   "source": [
    "employee_name = 'Denver'\n",
    "print(employee_name)\n",
    "print(type(employee_name))   # check the type of the variable"
   ]
  },
  {
   "cell_type": "markdown",
   "metadata": {},
   "source": [
    "### Common String Operations:"
   ]
  },
  {
   "cell_type": "markdown",
   "metadata": {},
   "source": [
    "<b>a) Concatenation</b>"
   ]
  },
  {
   "cell_type": "markdown",
   "metadata": {},
   "source": [
    "Strings can be concatenated, or joined together, by simply using a '+' operator between strings. This helps us get a longer string."
   ]
  },
  {
   "cell_type": "code",
   "execution_count": null,
   "metadata": {},
   "outputs": [],
   "source": [
    "# concatenating three strings\n",
    "print(\"what do you do \" + \"in your \" + \"free time?\")"
   ]
  },
  {
   "cell_type": "code",
   "execution_count": 34,
   "metadata": {},
   "outputs": [
    {
     "name": "stdout",
     "output_type": "stream",
     "text": [
      "Good Morning! My name is Denver\n"
     ]
    }
   ],
   "source": [
    "# Concatenating a string with a string variable\n",
    "print(\"Good Morning! My name is \" + employee_name)"
   ]
  },
  {
   "cell_type": "code",
   "execution_count": 35,
   "metadata": {},
   "outputs": [
    {
     "name": "stdout",
     "output_type": "stream",
     "text": [
      "Mr.DenverMing\n"
     ]
    }
   ],
   "source": [
    "# Concatenating two string variables\n",
    "title = \"Mr.\"\n",
    "last_name = \"Ming\"\n",
    "print(title + employee_name + last_name)"
   ]
  },
  {
   "cell_type": "markdown",
   "metadata": {},
   "source": [
    "As you van see above, the concatenation just joins all the string variables together. Can you add a spaces between the title and the `employee_name` and `last_name`?\n"
   ]
  },
  {
   "cell_type": "code",
   "execution_count": null,
   "metadata": {},
   "outputs": [],
   "source": [
    "# Exercise: Add spaces so that the output is \"Mr. Denver Ming\"\n",
    "# Concatenating two string variables\n",
    "title = \"Mr.\"\n",
    "last_name = \"Ming\"\n",
    "print(title + employee_name + last_name)"
   ]
  },
  {
   "cell_type": "markdown",
   "metadata": {},
   "source": [
    "<b>b) Indexing</b>"
   ]
  },
  {
   "cell_type": "markdown",
   "metadata": {},
   "source": [
    "What if I desire to know the last character in a given string? Or I want to know the first character? Maybe I am even interested in knowing which alphabet sits on position 3! <br>\n",
    "To access a single character in a string in known as indexing. We simply write our string, followed by square brackets indicating which position we want. Lets try acessing the first character of a string."
   ]
  },
  {
   "cell_type": "code",
   "execution_count": null,
   "metadata": {},
   "outputs": [],
   "source": [
    "\"Python\"[1]"
   ]
  },
  {
   "cell_type": "markdown",
   "metadata": {},
   "source": [
    "Why did we not get the letter 'P'?"
   ]
  },
  {
   "cell_type": "markdown",
   "metadata": {},
   "source": [
    "This is because Python sequences are zero-indexed! \n",
    "\n",
    "This means the first character of a string has an index of zero, and the second one is index 1, up to the last character.\n",
    "\n",
    "|  \t| P \t| y \t| t \t| h \t| o \t| n \t|\n",
    "|-----------\t|:-:\t|---\t|---\t|---\t|---\t|---\t|\n",
    "| index     \t| 0 \t| 1 \t| 2 \t| 3 \t| 4 \t| 5 \t|\n",
    "\n"
   ]
  },
  {
   "cell_type": "code",
   "execution_count": 37,
   "metadata": {},
   "outputs": [
    {
     "data": {
      "text/plain": [
       "'P'"
      ]
     },
     "execution_count": 37,
     "metadata": {},
     "output_type": "execute_result"
    }
   ],
   "source": [
    "\"Python\"[0]"
   ]
  },
  {
   "cell_type": "code",
   "execution_count": 36,
   "metadata": {},
   "outputs": [
    {
     "data": {
      "text/plain": [
       "'o'"
      ]
     },
     "execution_count": 36,
     "metadata": {},
     "output_type": "execute_result"
    }
   ],
   "source": [
    "\"Python\"[4]"
   ]
  },
  {
   "cell_type": "markdown",
   "metadata": {},
   "source": [
    "What happens if you try to to access a index that is larger than the range of values?\n"
   ]
  },
  {
   "cell_type": "code",
   "execution_count": null,
   "metadata": {},
   "outputs": [],
   "source": [
    "# Exercise: what's the largest value that can be indexed?\n"
   ]
  },
  {
   "cell_type": "markdown",
   "metadata": {},
   "source": [
    "We can use indexing with string variables.\n",
    "\n"
   ]
  },
  {
   "cell_type": "code",
   "execution_count": 39,
   "metadata": {},
   "outputs": [
    {
     "name": "stdout",
     "output_type": "stream",
     "text": [
      "e\n"
     ]
    }
   ],
   "source": [
    "word = \"embezzlement\"\n",
    "print(word[0])"
   ]
  },
  {
   "cell_type": "code",
   "execution_count": null,
   "metadata": {},
   "outputs": [],
   "source": [
    "# Exercise: display the second 'z' from the word \"embezzlement\" using the variable defined above.\n",
    "\n"
   ]
  },
  {
   "cell_type": "markdown",
   "metadata": {},
   "source": [
    "**Negative Indexing**\n",
    "\n",
    "Additionally, Python also allows us to access elements from the back! However, an important aspect to remember is that it uses negative indices in this case. So the last element coresponds to an index of -1, second last element is -2 and so on."
   ]
  },
  {
   "cell_type": "code",
   "execution_count": 38,
   "metadata": {},
   "outputs": [
    {
     "data": {
      "text/plain": [
       "'n'"
      ]
     },
     "execution_count": 38,
     "metadata": {},
     "output_type": "execute_result"
    }
   ],
   "source": [
    "\"Python\"[-1]"
   ]
  },
  {
   "cell_type": "code",
   "execution_count": null,
   "metadata": {},
   "outputs": [],
   "source": [
    "# Exercise: Using negative indexing, display the FIRST character of \"Python\"\n"
   ]
  },
  {
   "cell_type": "markdown",
   "metadata": {},
   "source": [
    "<b> c) Slicing </b>"
   ]
  },
  {
   "cell_type": "code",
   "execution_count": null,
   "metadata": {},
   "outputs": [],
   "source": []
  },
  {
   "cell_type": "markdown",
   "metadata": {},
   "source": [
    "Maybe we now want to extract more than one letter from a string! How do we go about that?"
   ]
  },
  {
   "cell_type": "markdown",
   "metadata": {},
   "source": [
    "\n",
    "The answer to this is in slicing whereby segments of a string can be _sliced_ from the original string! \n",
    "\n",
    "The syntax for a slice is \\[ *start* : *stop* : *step* \\], where *start* means the index that you want to start at, *stop* is the index to slice up to, and *step* indicates the steps to increment by.\n",
    "\n",
    "For example, to select the chacters **ind** from the word \"mindblown\": \n",
    "\n",
    "\n",
    "|  \t| m \t| `i` \t| `n` \t| `d` \t| b \t| l \t| o \t| w \t| n \t|\n",
    "|-----------\t|:-:\t|---\t|---\t|---\t|---\t|---\t|---\t|---\t|---\t|\n",
    "| index     \t| 0 \t| 1 \t| 2 \t| 3 \t| 4 \t| 5 \t| 6 \t| 7 \t| 8 \t|\n",
    "\n",
    "The *start* is 1, the *end* is 4 and the *step* is 1, because we want each character between the *start* and *end*\n"
   ]
  },
  {
   "cell_type": "code",
   "execution_count": 42,
   "metadata": {},
   "outputs": [
    {
     "data": {
      "text/plain": [
       "'ind'"
      ]
     },
     "execution_count": 42,
     "metadata": {},
     "output_type": "execute_result"
    }
   ],
   "source": [
    "\"mindblown\"[1:4:1]"
   ]
  },
  {
   "cell_type": "markdown",
   "metadata": {},
   "source": [
    "Using a *step* of 2 will skip over one character each time. To select the characters 'i', 'd' and 'l':\n",
    "\n",
    "\n",
    "|  \t| m \t| `i` \t| n \t| `d` \t| b \t| `l` \t| o \t| w \t| n \t|\n",
    "|-----------\t|:-:\t|---\t|---\t|---\t|---\t|---\t|---\t|---\t|---\t|\n",
    "| index     \t| 0 \t| 1 \t| 2 \t| 3 \t| 4 \t| 5 \t| 6 \t| 7 \t| 8 \t|\n",
    "\n",
    "The *start* is 1, the *end* is 6 and the *step* is 2. Try it out!\n"
   ]
  },
  {
   "cell_type": "code",
   "execution_count": 43,
   "metadata": {},
   "outputs": [
    {
     "data": {
      "text/plain": [
       "'idl'"
      ]
     },
     "execution_count": 43,
     "metadata": {},
     "output_type": "execute_result"
    }
   ],
   "source": [
    "# Exercise: Try getting the characters i, d and l\n",
    "\"mindblown\"[1:6:2]"
   ]
  },
  {
   "cell_type": "markdown",
   "metadata": {},
   "source": [
    "Leaving out any of the values of *start*, *stop* and *step* allows Python to assume the default values.\n",
    "- *start* is assumed to be 0\n",
    "- *end* is assumed to be the end of the string\n",
    "- *step* is assumed to be 1 \n",
    "\n",
    "Remember that the space between words also takes up an index in a string!"
   ]
  },
  {
   "cell_type": "code",
   "execution_count": 58,
   "metadata": {
    "scrolled": true
   },
   "outputs": [
    {
     "name": "stdout",
     "output_type": "stream",
     "text": [
      "See y\n",
      "Hlowr\n",
      "Ph  pgmnlgg\n",
      "is is fun\n",
      "Google & Amazon\n",
      "\n",
      "mA & elgooG\n"
     ]
    }
   ],
   "source": [
    "# Exercise: what will be printed by the following lines? Enter your answers before running the cell.\n",
    "print(\"See you later\"[:5])                      # Your answer:\n",
    "print(\"Hello world again\"[:10:2])               # Your answer:\n",
    "print(\"Python is a programming language\"[::3])  # Your answer:\n",
    "print(\"This is fun\"[2::])                       # Your answer:\n",
    "print(\"Google & Amazon\"[::])                    # Your answer:\n",
    "print(\"Google & Amazon\"[10::-1])                # Your answer:     "
   ]
  },
  {
   "cell_type": "markdown",
   "metadata": {},
   "source": [
    "For the last one, notice that we are using a *step* of -1, so the slice is obtained **backwards** from the *start*. However, you must be careful that if the *step* is positive, that the *start* index must be **before** the *stop* index."
   ]
  },
  {
   "cell_type": "code",
   "execution_count": 66,
   "metadata": {},
   "outputs": [
    {
     "data": {
      "text/plain": [
       "''"
      ]
     },
     "execution_count": 66,
     "metadata": {},
     "output_type": "execute_result"
    }
   ],
   "source": [
    "# Exercise: What happens when you run this? Correct the error so that it displays \"oge&Aao\"\n",
    "\"Google & Amazon\"[10:1:2]"
   ]
  },
  {
   "cell_type": "markdown",
   "metadata": {},
   "source": [
    "**Some String Methods**"
   ]
  },
  {
   "cell_type": "markdown",
   "metadata": {},
   "source": [
    "There are several Python string methods which can be used to return a modified version of a string.\n",
    "\n",
    "Some useful ones are listed below: <br>\n",
    "\n",
    "    \n",
    "| String Method \t| description                                                                \t|\n",
    "|:-----------------\t|:----------------------------------------------------------------------------\t|\n",
    "| upper()         \t| Converts a string to all uppercase                                         \t|\n",
    "| lower()         \t| Converts a string to all lowercase                                         \t|\n",
    "| capitalize()    \t| Capitalizes the first letter of a string                                   \t|\n",
    "| title()         \t| Capitalizes the first letter of each word in a string                      \t|\n",
    "| strip()         \t| Removes whitespace (such as the space character, or tab) from a string     \t|\n",
    "| lstrip()        \t| Removes whitespace from the left up to the first non-whitespace character  \t|\n",
    "| rstrip()        \t| Removes whitespace from the right up to the first non-whitespace character \t|\n",
    "    \n",
    "    \n",
    "For example, we can use the lstrip() method to return a string with the spaces from the left side of the string removed. \n",
    "\n"
   ]
  },
  {
   "cell_type": "code",
   "execution_count": 78,
   "metadata": {},
   "outputs": [
    {
     "name": "stdout",
     "output_type": "stream",
     "text": [
      "data science   \n",
      "   data science   \n"
     ]
    }
   ],
   "source": [
    "# Using string methods\n",
    "name = \"   data science   \"\n",
    "print(name.lstrip())            # trimmed of whitespaces\n",
    "print(name)                     # original string\n"
   ]
  },
  {
   "cell_type": "markdown",
   "metadata": {},
   "source": [
    "As you can see, the original string is not modified. You can save it in a new string, or replace the original."
   ]
  },
  {
   "cell_type": "code",
   "execution_count": 77,
   "metadata": {},
   "outputs": [
    {
     "name": "stdout",
     "output_type": "stream",
     "text": [
      "data science   \n",
      "data science   \n"
     ]
    }
   ],
   "source": [
    "# Using string methods\n",
    "name = \"   data science   \"\n",
    "\n",
    "new_name = name.lstrip()        # need to save the results in a variable\n",
    "print(new_name)\n",
    "\n",
    "name = name.lstrip()            # replace the original variable\n",
    "print(name)"
   ]
  },
  {
   "cell_type": "markdown",
   "metadata": {},
   "source": [
    "Try to use the string methods to convert the string below."
   ]
  },
  {
   "cell_type": "code",
   "execution_count": null,
   "metadata": {},
   "outputs": [],
   "source": [
    "title = \"   data science for good   \"\n",
    "# 1. remove the whitespaces from both sides and store in a new variable called new_title\n",
    "\n",
    "# 2. Change the new variable to Title Case: \"Data Science For Good\", and store it back in the same variable\n",
    "\n",
    "# 3. Print the resulting string"
   ]
  },
  {
   "cell_type": "markdown",
   "metadata": {},
   "source": [
    "# Errors Encountered During Programming"
   ]
  },
  {
   "cell_type": "markdown",
   "metadata": {},
   "source": [
    "It is inevitable to avoid errors during programming! Hence it is essential to know some of the common ones beforehand so that we can easily rectify them. "
   ]
  },
  {
   "cell_type": "markdown",
   "metadata": {},
   "source": [
    "## Syntax Error"
   ]
  },
  {
   "cell_type": "markdown",
   "metadata": {},
   "source": [
    "A syntax error is one of the most common errors! There's a high chance you wont even realise during coding that you've made this error! <br>\n",
    "Code needs to syntactically correct for the Python interpreter to convert the commands into machine readable format. \n",
    "\n",
    "Syntax Errors are are easily corrected by making sure you follow the Python syntax.\n",
    "\n",
    "Run the following code to view the error messages.\n",
    "    "
   ]
  },
  {
   "cell_type": "code",
   "execution_count": 79,
   "metadata": {},
   "outputs": [
    {
     "ename": "SyntaxError",
     "evalue": "EOL while scanning string literal (Temp/ipykernel_8880/3156166228.py, line 1)",
     "output_type": "error",
     "traceback": [
      "\u001b[1;36m  File \u001b[1;32m\"C:\\Users\\ng_sm\\AppData\\Local\\Temp/ipykernel_8880/3156166228.py\"\u001b[1;36m, line \u001b[1;32m1\u001b[0m\n\u001b[1;33m    \"My brother works at NASA\u001b[0m\n\u001b[1;37m                             ^\u001b[0m\n\u001b[1;31mSyntaxError\u001b[0m\u001b[1;31m:\u001b[0m EOL while scanning string literal\n"
     ]
    }
   ],
   "source": [
    "\"My brother works at NASA"
   ]
  },
  {
   "cell_type": "markdown",
   "metadata": {},
   "source": [
    "The Python interpreter tells us there is a `SyntaxError`.\n",
    "The reason is the missing quotation mark at the end of the line (EOL). "
   ]
  },
  {
   "cell_type": "code",
   "execution_count": 80,
   "metadata": {},
   "outputs": [
    {
     "ename": "SyntaxError",
     "evalue": "invalid syntax (Temp/ipykernel_8880/2746549684.py, line 1)",
     "output_type": "error",
     "traceback": [
      "\u001b[1;36m  File \u001b[1;32m\"C:\\Users\\ng_sm\\AppData\\Local\\Temp/ipykernel_8880/2746549684.py\"\u001b[1;36m, line \u001b[1;32m1\u001b[0m\n\u001b[1;33m    while i < 10\u001b[0m\n\u001b[1;37m                ^\u001b[0m\n\u001b[1;31mSyntaxError\u001b[0m\u001b[1;31m:\u001b[0m invalid syntax\n"
     ]
    }
   ],
   "source": [
    "while i < 10\n",
    "    print(i)"
   ]
  },
  {
   "cell_type": "markdown",
   "metadata": {},
   "source": [
    "Reason: Missing colon"
   ]
  },
  {
   "cell_type": "markdown",
   "metadata": {},
   "source": [
    "What is the error in the code snippet below?\n",
    "    "
   ]
  },
  {
   "cell_type": "code",
   "execution_count": 82,
   "metadata": {},
   "outputs": [
    {
     "ename": "SyntaxError",
     "evalue": "invalid syntax (Temp/ipykernel_8880/1602677680.py, line 1)",
     "output_type": "error",
     "traceback": [
      "\u001b[1;36m  File \u001b[1;32m\"C:\\Users\\ng_sm\\AppData\\Local\\Temp/ipykernel_8880/1602677680.py\"\u001b[1;36m, line \u001b[1;32m1\u001b[0m\n\u001b[1;33m    if x = 5:\u001b[0m\n\u001b[1;37m         ^\u001b[0m\n\u001b[1;31mSyntaxError\u001b[0m\u001b[1;31m:\u001b[0m invalid syntax\n"
     ]
    }
   ],
   "source": [
    "if x = 5:\n",
    "        print(\"pass\")\n",
    "else:\n",
    "        print(\"fail\")"
   ]
  },
  {
   "cell_type": "markdown",
   "metadata": {},
   "source": [
    "Take a look at where the error is highlighted. Recall that a single equals sign is used for variable assignment, and in this case we want to check for equality."
   ]
  },
  {
   "cell_type": "markdown",
   "metadata": {},
   "source": [
    "It is also important to note that more often than not, Python is not efficient enough to correctly call out the line of error! This can occur due to multiple errors in the code. \n",
    "\n",
    "In that case, Python will only point out your first error. It is therefore your job to figure it out by close inspection instead of fully relying on the Python interpretor to point it out for you!"
   ]
  },
  {
   "cell_type": "markdown",
   "metadata": {},
   "source": [
    "**Indentation Error** is also a type of syntax error! Python is very particular about it's indentation & requires lines of code to be correctly alligned."
   ]
  },
  {
   "cell_type": "code",
   "execution_count": 83,
   "metadata": {},
   "outputs": [
    {
     "ename": "IndentationError",
     "evalue": "expected an indented block (Temp/ipykernel_8880/145883633.py, line 2)",
     "output_type": "error",
     "traceback": [
      "\u001b[1;36m  File \u001b[1;32m\"C:\\Users\\ng_sm\\AppData\\Local\\Temp/ipykernel_8880/145883633.py\"\u001b[1;36m, line \u001b[1;32m2\u001b[0m\n\u001b[1;33m    print(\"Does not meet age limit\")\u001b[0m\n\u001b[1;37m    ^\u001b[0m\n\u001b[1;31mIndentationError\u001b[0m\u001b[1;31m:\u001b[0m expected an indented block\n"
     ]
    }
   ],
   "source": [
    "if age < 20:\n",
    "print(\"Does not meet age limit\")"
   ]
  },
  {
   "cell_type": "markdown",
   "metadata": {},
   "source": [
    "## Name Error"
   ]
  },
  {
   "cell_type": "markdown",
   "metadata": {},
   "source": [
    "Variables require initialisation before usage. A `NameError` occurs when the called object does not exist yet."
   ]
  },
  {
   "cell_type": "code",
   "execution_count": 84,
   "metadata": {},
   "outputs": [
    {
     "ename": "NameError",
     "evalue": "name 'doctor' is not defined",
     "output_type": "error",
     "traceback": [
      "\u001b[1;31m---------------------------------------------------------------------------\u001b[0m",
      "\u001b[1;31mNameError\u001b[0m                                 Traceback (most recent call last)",
      "\u001b[1;32m~\\AppData\\Local\\Temp/ipykernel_8880/2473491559.py\u001b[0m in \u001b[0;36m<module>\u001b[1;34m\u001b[0m\n\u001b[1;32m----> 1\u001b[1;33m \u001b[0mprint\u001b[0m\u001b[1;33m(\u001b[0m\u001b[0mdoctor\u001b[0m\u001b[1;33m)\u001b[0m\u001b[1;33m\u001b[0m\u001b[1;33m\u001b[0m\u001b[0m\n\u001b[0m",
      "\u001b[1;31mNameError\u001b[0m: name 'doctor' is not defined"
     ]
    }
   ],
   "source": [
    "print(doctor)"
   ]
  },
  {
   "cell_type": "markdown",
   "metadata": {},
   "source": [
    "## Index Error"
   ]
  },
  {
   "cell_type": "markdown",
   "metadata": {},
   "source": [
    "Index Errors occur when the specified index does not exist"
   ]
  },
  {
   "cell_type": "code",
   "execution_count": 85,
   "metadata": {},
   "outputs": [
    {
     "ename": "IndexError",
     "evalue": "string index out of range",
     "output_type": "error",
     "traceback": [
      "\u001b[1;31m---------------------------------------------------------------------------\u001b[0m",
      "\u001b[1;31mIndexError\u001b[0m                                Traceback (most recent call last)",
      "\u001b[1;32m~\\AppData\\Local\\Temp/ipykernel_8880/519627707.py\u001b[0m in \u001b[0;36m<module>\u001b[1;34m\u001b[0m\n\u001b[1;32m----> 1\u001b[1;33m \u001b[1;34m\"elephant\"\u001b[0m\u001b[1;33m[\u001b[0m\u001b[1;36m8\u001b[0m\u001b[1;33m]\u001b[0m\u001b[1;33m\u001b[0m\u001b[1;33m\u001b[0m\u001b[0m\n\u001b[0m",
      "\u001b[1;31mIndexError\u001b[0m: string index out of range"
     ]
    }
   ],
   "source": [
    "\"elephant\"[8]"
   ]
  },
  {
   "cell_type": "markdown",
   "metadata": {},
   "source": [
    "## Type Error"
   ]
  },
  {
   "cell_type": "markdown",
   "metadata": {},
   "source": [
    "A `TypeError` relates back to the concept of data types we studied above. Every data type has its specific operations that can be performed on it. We may encounter an error if we try performing an operation on two different data types."
   ]
  },
  {
   "cell_type": "code",
   "execution_count": 88,
   "metadata": {},
   "outputs": [
    {
     "ename": "TypeError",
     "evalue": "unsupported operand type(s) for +: 'int' and 'str'",
     "output_type": "error",
     "traceback": [
      "\u001b[1;31m---------------------------------------------------------------------------\u001b[0m",
      "\u001b[1;31mTypeError\u001b[0m                                 Traceback (most recent call last)",
      "\u001b[1;32m~\\AppData\\Local\\Temp/ipykernel_8880/3978187566.py\u001b[0m in \u001b[0;36m<module>\u001b[1;34m\u001b[0m\n\u001b[1;32m----> 1\u001b[1;33m \u001b[1;36m1\u001b[0m \u001b[1;33m+\u001b[0m \u001b[1;34m\"omicron\"\u001b[0m\u001b[1;33m\u001b[0m\u001b[1;33m\u001b[0m\u001b[0m\n\u001b[0m",
      "\u001b[1;31mTypeError\u001b[0m: unsupported operand type(s) for +: 'int' and 'str'"
     ]
    }
   ],
   "source": [
    "1 + \"omicron\""
   ]
  },
  {
   "cell_type": "markdown",
   "metadata": {},
   "source": [
    "Even if the data types are the same, we could also get a `TypeError` if the operation is not supported by the data types."
   ]
  },
  {
   "cell_type": "code",
   "execution_count": 87,
   "metadata": {},
   "outputs": [
    {
     "ename": "TypeError",
     "evalue": "unsupported operand type(s) for //: 'str' and 'str'",
     "output_type": "error",
     "traceback": [
      "\u001b[1;31m---------------------------------------------------------------------------\u001b[0m",
      "\u001b[1;31mTypeError\u001b[0m                                 Traceback (most recent call last)",
      "\u001b[1;32m~\\AppData\\Local\\Temp/ipykernel_8880/1641457756.py\u001b[0m in \u001b[0;36m<module>\u001b[1;34m\u001b[0m\n\u001b[1;32m----> 1\u001b[1;33m \u001b[1;34m\"delta\"\u001b[0m\u001b[1;33m//\u001b[0m\u001b[1;34m\"beta\"\u001b[0m\u001b[1;33m\u001b[0m\u001b[1;33m\u001b[0m\u001b[0m\n\u001b[0m",
      "\u001b[1;31mTypeError\u001b[0m: unsupported operand type(s) for //: 'str' and 'str'"
     ]
    }
   ],
   "source": [
    "\"delta\"//\"beta\""
   ]
  },
  {
   "cell_type": "markdown",
   "metadata": {},
   "source": [
    "## Value Error"
   ]
  },
  {
   "cell_type": "markdown",
   "metadata": {},
   "source": [
    "This occurs when the value cannot be operated upon by a function."
   ]
  },
  {
   "cell_type": "code",
   "execution_count": 89,
   "metadata": {},
   "outputs": [
    {
     "ename": "ValueError",
     "evalue": "could not convert string to float: 'power sector'",
     "output_type": "error",
     "traceback": [
      "\u001b[1;31m---------------------------------------------------------------------------\u001b[0m",
      "\u001b[1;31mValueError\u001b[0m                                Traceback (most recent call last)",
      "\u001b[1;32m~\\AppData\\Local\\Temp/ipykernel_8880/3196986431.py\u001b[0m in \u001b[0;36m<module>\u001b[1;34m\u001b[0m\n\u001b[1;32m----> 1\u001b[1;33m \u001b[0mfloat\u001b[0m\u001b[1;33m(\u001b[0m\u001b[1;34m\"power sector\"\u001b[0m\u001b[1;33m)\u001b[0m\u001b[1;33m\u001b[0m\u001b[1;33m\u001b[0m\u001b[0m\n\u001b[0m",
      "\u001b[1;31mValueError\u001b[0m: could not convert string to float: 'power sector'"
     ]
    }
   ],
   "source": [
    "float(\"power sector\")"
   ]
  },
  {
   "cell_type": "markdown",
   "metadata": {},
   "source": [
    "## Attribute Error"
   ]
  },
  {
   "cell_type": "markdown",
   "metadata": {},
   "source": [
    "When an attribute does not exist in an object we are met by an attribute error. For example, if we try to use a string method on an integer:"
   ]
  },
  {
   "cell_type": "code",
   "execution_count": 96,
   "metadata": {},
   "outputs": [
    {
     "ename": "AttributeError",
     "evalue": "'int' object has no attribute 'upper'",
     "output_type": "error",
     "traceback": [
      "\u001b[1;31m---------------------------------------------------------------------------\u001b[0m",
      "\u001b[1;31mAttributeError\u001b[0m                            Traceback (most recent call last)",
      "\u001b[1;32m~\\AppData\\Local\\Temp/ipykernel_8880/2685070490.py\u001b[0m in \u001b[0;36m<module>\u001b[1;34m\u001b[0m\n\u001b[0;32m      1\u001b[0m \u001b[0mx\u001b[0m \u001b[1;33m=\u001b[0m \u001b[1;36m10\u001b[0m\u001b[1;33m\u001b[0m\u001b[1;33m\u001b[0m\u001b[0m\n\u001b[1;32m----> 2\u001b[1;33m \u001b[0mx\u001b[0m\u001b[1;33m.\u001b[0m\u001b[0mupper\u001b[0m\u001b[1;33m\u001b[0m\u001b[1;33m\u001b[0m\u001b[0m\n\u001b[0m",
      "\u001b[1;31mAttributeError\u001b[0m: 'int' object has no attribute 'upper'"
     ]
    }
   ],
   "source": [
    "x = 10\n",
    "x.upper"
   ]
  },
  {
   "cell_type": "markdown",
   "metadata": {},
   "source": [
    "These are just some of the common errors, but don't worry, when you get an error, read the error message and check your code. "
   ]
  },
  {
   "cell_type": "markdown",
   "metadata": {},
   "source": [
    "## Exercises"
   ]
  },
  {
   "cell_type": "markdown",
   "metadata": {},
   "source": [
    "A small business buys coffee in bulk and repackages them into smaller packs. They would like to calculate the profit for the last week. The cost of buying the coffee was SGD$200. They packed the coffee into 50 smaller packs and have sold 20 packs for SGD$7.50 each.\n",
    "\n",
    "The data was recorded into variables and they would like you to help them calculate their profit."
   ]
  },
  {
   "cell_type": "code",
   "execution_count": 25,
   "metadata": {},
   "outputs": [],
   "source": [
    "# Original variables\n",
    "\n",
    "product_name_str = \"hazelnut coffee\"\n",
    "product_description_str = \"premium coffee mixed with hazelnut essence\"\n",
    "cost_price_str = \"SGD$200\"\n",
    "num_packs_prepared = 50\n",
    "num_packs_sold = 20\n",
    "sale_price_str = \"SGD$7.50\""
   ]
  },
  {
   "cell_type": "markdown",
   "metadata": {},
   "source": [
    "Q1. Convert the `product_name_str` into \"Title Case\" where the first letter of each word is capitalized. Save the result into a variable `product_name`."
   ]
  },
  {
   "cell_type": "code",
   "execution_count": 26,
   "metadata": {},
   "outputs": [
    {
     "data": {
      "text/plain": [
       "'Hazelnut Coffee'"
      ]
     },
     "execution_count": 26,
     "metadata": {},
     "output_type": "execute_result"
    }
   ],
   "source": [
    "# Q1 Answer here\n",
    "# Hint: if you find the variable names very long, start typing a few letters then press the TAB key to select the correct name.\n",
    "product_name = product_name_str.title()\n",
    "product_name"
   ]
  },
  {
   "cell_type": "markdown",
   "metadata": {},
   "source": [
    "Q2. Capitalize the first letter of the `product_description_str` and save the result into a variable `product_description`."
   ]
  },
  {
   "cell_type": "code",
   "execution_count": 27,
   "metadata": {},
   "outputs": [
    {
     "data": {
      "text/plain": [
       "'Premium coffee mixed with hazelnut essence'"
      ]
     },
     "execution_count": 27,
     "metadata": {},
     "output_type": "execute_result"
    }
   ],
   "source": [
    "# Q2 Answer here\n",
    "product_description = product_description_str.capitalize()\n",
    "product_description\n"
   ]
  },
  {
   "cell_type": "markdown",
   "metadata": {},
   "source": [
    "Q3. Extract the characters after the '$' in `cost_price_str` using slicing, and then cast the result into a floating-point number. Store the final value in a variable called `cost_price`"
   ]
  },
  {
   "cell_type": "code",
   "execution_count": 28,
   "metadata": {},
   "outputs": [
    {
     "data": {
      "text/plain": [
       "200.0"
      ]
     },
     "execution_count": 28,
     "metadata": {},
     "output_type": "execute_result"
    }
   ],
   "source": [
    "# Q3 answer here\n",
    "cost_price=float(cost_price_str[4:])\n",
    "cost_price"
   ]
  },
  {
   "cell_type": "markdown",
   "metadata": {},
   "source": [
    "Q4. Also extract the floating-point value from `sale_price_str` into a variable valled `sale_price`"
   ]
  },
  {
   "cell_type": "code",
   "execution_count": 29,
   "metadata": {},
   "outputs": [
    {
     "data": {
      "text/plain": [
       "7.5"
      ]
     },
     "execution_count": 29,
     "metadata": {},
     "output_type": "execute_result"
    }
   ],
   "source": [
    "# Q4 amswer here\n",
    "sale_price=float(sale_price_str[4:])\n",
    "sale_price"
   ]
  },
  {
   "cell_type": "markdown",
   "metadata": {},
   "source": [
    "Q5. Calculate the cost of each small pack of coffee, by dividing the `cost_price` by `num_packs_prepared`. Store the result in a variable `cost_per_pack`. "
   ]
  },
  {
   "cell_type": "code",
   "execution_count": 30,
   "metadata": {},
   "outputs": [
    {
     "data": {
      "text/plain": [
       "4.0"
      ]
     },
     "execution_count": 30,
     "metadata": {},
     "output_type": "execute_result"
    }
   ],
   "source": [
    "# Q5 Answer here\n",
    "cost_per_pack = cost_price / num_packs_prepared\n",
    "cost_per_pack"
   ]
  },
  {
   "cell_type": "markdown",
   "metadata": {},
   "source": [
    "Q6. Calculate the total sales by multiplying the `sale_price` by the `num_packs_sold`. Store the result in a variable `total_sales`\n"
   ]
  },
  {
   "cell_type": "code",
   "execution_count": 31,
   "metadata": {},
   "outputs": [
    {
     "data": {
      "text/plain": [
       "150.0"
      ]
     },
     "execution_count": 31,
     "metadata": {},
     "output_type": "execute_result"
    }
   ],
   "source": [
    "# Q6 Answer here\n",
    "total_sales = sale_price * num_packs_sold\n",
    "total_sales\n"
   ]
  },
  {
   "cell_type": "markdown",
   "metadata": {},
   "source": [
    "Q7. Create a variable `has_profit` that compares the `total_sales` with `cost_price` and returns `True` if `total_sales` is greater than `cost_price`, and `False` if it is not."
   ]
  },
  {
   "cell_type": "code",
   "execution_count": 32,
   "metadata": {},
   "outputs": [
    {
     "data": {
      "text/plain": [
       "False"
      ]
     },
     "execution_count": 32,
     "metadata": {},
     "output_type": "execute_result"
    }
   ],
   "source": [
    "# Q7\n",
    "has_profit = total_sales > cost_price\n",
    "has_profit"
   ]
  },
  {
   "cell_type": "markdown",
   "metadata": {},
   "source": [
    "Q8. Now put it all together by printing four lines that look like the following, using the variables you have created. \n",
    "\n",
    "```\n",
    "Hazelnut Coffee : Premium cofee mixed with hazelnut essence\n",
    "Original cost was SGD$200\n",
    "Total sales was SGD$150.0\n",
    "Has Profit ? False\n",
    "```"
   ]
  },
  {
   "cell_type": "code",
   "execution_count": 33,
   "metadata": {},
   "outputs": [
    {
     "name": "stdout",
     "output_type": "stream",
     "text": [
      "Hazelnut Coffee : Premium coffee mixed with hazelnut essence\n",
      "Original cost was SGD$200\n",
      "Total sales was SGD$150.0\n",
      "Has Profit ? False\n"
     ]
    }
   ],
   "source": [
    "#Q8 ANswer here\n",
    "print(product_name + \" : \" + product_description)\n",
    "print('Original cost was ' + cost_price_str)\n",
    "print('Total sales was SGD$' + str(total_sales))\n",
    "print('Has Profit ? ' + str(has_profit))"
   ]
  },
  {
   "cell_type": "markdown",
   "metadata": {},
   "source": [
    "Great job! Now you can change the original variable values for other products!\n"
   ]
  },
  {
   "cell_type": "markdown",
   "metadata": {},
   "source": [
    "For help on Python, you can actually just type help() and run the cell. Try it below. In the text box that appears, you can type `keywords` to get the list of keywords that are used in Python. You will not be able to use the keywords as variable names."
   ]
  },
  {
   "cell_type": "code",
   "execution_count": null,
   "metadata": {},
   "outputs": [
    {
     "name": "stdout",
     "output_type": "stream",
     "text": [
      "\n",
      "Welcome to Python 3.9's help utility!\n",
      "\n",
      "If this is your first time using Python, you should definitely check out\n",
      "the tutorial on the Internet at https://docs.python.org/3.9/tutorial/.\n",
      "\n",
      "Enter the name of any module, keyword, or topic to get help on writing\n",
      "Python programs and using Python modules.  To quit this help utility and\n",
      "return to the interpreter, just type \"quit\".\n",
      "\n",
      "To get a list of available modules, keywords, symbols, or topics, type\n",
      "\"modules\", \"keywords\", \"symbols\", or \"topics\".  Each module also comes\n",
      "with a one-line summary of what it does; to list the modules whose name\n",
      "or summary contain a given string such as \"spam\", type \"modules spam\".\n",
      "\n",
      "help> keywords\n",
      "\n",
      "Here is a list of the Python keywords.  Enter any keyword to get more help.\n",
      "\n",
      "False               break               for                 not\n",
      "None                class               from                or\n",
      "True                continue            global              pass\n",
      "__peg_parser__      def                 if                  raise\n",
      "and                 del                 import              return\n",
      "as                  elif                in                  try\n",
      "assert              else                is                  while\n",
      "async               except              lambda              with\n",
      "await               finally             nonlocal            yield\n",
      "\n"
     ]
    }
   ],
   "source": [
    "help()"
   ]
  },
  {
   "cell_type": "code",
   "execution_count": null,
   "metadata": {},
   "outputs": [],
   "source": []
  }
 ],
 "metadata": {
  "kernelspec": {
   "display_name": "Python 3 (ipykernel)",
   "language": "python",
   "name": "python3"
  },
  "language_info": {
   "codemirror_mode": {
    "name": "ipython",
    "version": 3
   },
   "file_extension": ".py",
   "mimetype": "text/x-python",
   "name": "python",
   "nbconvert_exporter": "python",
   "pygments_lexer": "ipython3",
   "version": "3.9.7"
  }
 },
 "nbformat": 4,
 "nbformat_minor": 2
}
