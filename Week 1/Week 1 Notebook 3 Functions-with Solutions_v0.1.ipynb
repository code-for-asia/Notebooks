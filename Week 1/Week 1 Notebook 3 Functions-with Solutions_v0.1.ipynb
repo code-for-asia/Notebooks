{
 "cells": [
  {
   "cell_type": "markdown",
   "metadata": {},
   "source": [
    "# Week 1 Notebook 3 Functions"
   ]
  },
  {
   "cell_type": "markdown",
   "metadata": {},
   "source": [
    "We have been executing our code in notebook cells, and re-running them when we want to make some changes. \n",
    "\n",
    "In this lesson, we will learn how to write our own mini-programs to execute particular tasks.\n",
    "\n",
    "This lesson will covers:\n",
    "- defining functions\n",
    "- function arguments\n",
    "- returning values\n",
    "- calling functions\n"
   ]
  },
  {
   "cell_type": "markdown",
   "metadata": {},
   "source": [
    "# Functions"
   ]
  },
  {
   "cell_type": "markdown",
   "metadata": {},
   "source": [
    "A function is a block of code that we defined to perform a certain task.\n",
    "Then we can execute the block of code again simply by using the function name. \n",
    "\n",
    "We have used Python built-in functions in our previous notebooks:\n"
   ]
  },
  {
   "cell_type": "code",
   "execution_count": 1,
   "metadata": {},
   "outputs": [
    {
     "name": "stdout",
     "output_type": "stream",
     "text": [
      "What is your name? Jim\n",
      "Hello\n",
      "Jim\n"
     ]
    }
   ],
   "source": [
    "# Using the input() function\n",
    "name = input(\"What is your name? \")\n",
    "\n",
    "# using the print() function\n",
    "print(\"Hello\")   # printing a string\n",
    "print(name)      # printing a variable value"
   ]
  },
  {
   "cell_type": "markdown",
   "metadata": {},
   "source": [
    "We define a function using the `def` keyword and the function name. Function name should easily describe the purpose of the function and follow rules similar to variable names, that is:\n",
    "- start with a letter or underscore `_`\n",
    "- can contain numbers\n",
    "- cannot be a Python reserved word.\n",
    "\n",
    "In addition, functions *always* come with parentheses `()`. It helps Python to identify whether a particular identifier refers to a variable or a function. \n",
    "\n",
    "For example, here is a function that will print an address.\n"
   ]
  },
  {
   "cell_type": "code",
   "execution_count": 2,
   "metadata": {},
   "outputs": [],
   "source": [
    "# A function that prints an address\n",
    "def print_address():\n",
    "    \"prints address of Apple HQ\"\n",
    "    print('1 Infinite Loop')\n",
    "    print('Cupertino')\n",
    "    print('CA 95014')\n",
    "    print('USA')"
   ]
  },
  {
   "cell_type": "markdown",
   "metadata": {},
   "source": [
    "Let's take a closer look at our function.\n",
    "\n",
    "The string below the function is the function `docstring`, which is used to explain what the function does. It is a good practice to document the purpose of the function in the `docstring`.\n",
    "\n",
    "We can see how useful the `docstring` is when we use the `help` function with our function name as the argument:"
   ]
  },
  {
   "cell_type": "code",
   "execution_count": 3,
   "metadata": {},
   "outputs": [
    {
     "name": "stdout",
     "output_type": "stream",
     "text": [
      "Help on function print_address in module __main__:\n",
      "\n",
      "print_address()\n",
      "    prints address of Apple HQ\n",
      "\n"
     ]
    }
   ],
   "source": [
    "help(print_address)"
   ]
  },
  {
   "cell_type": "markdown",
   "metadata": {},
   "source": [
    "When we run a code cell with the function definition, nothing will happens. \n",
    "\n",
    "However, when we want to print the address, we can just *call* our function by using the name that we defined. Do not forget the parentheses! "
   ]
  },
  {
   "cell_type": "code",
   "execution_count": 4,
   "metadata": {},
   "outputs": [
    {
     "name": "stdout",
     "output_type": "stream",
     "text": [
      "1 Infinite Loop\n",
      "Cupertino\n",
      "CA 95014\n",
      "USA\n"
     ]
    }
   ],
   "source": [
    "print_address()"
   ]
  },
  {
   "cell_type": "markdown",
   "metadata": {},
   "source": [
    "## Function Arguments\n",
    "\n",
    "Functions usually receives inputs, processes it and returns outputs. The inputs are referred as an arguments or parameters.\n",
    "\n",
    "The arguments/parameters are defined inside the parentheses of the function definition.\n",
    "\n",
    "For example, let's write another function to format an address: if we know the street name, postcode, state and country, we can format them in a correct manner. We will call this one `print_any_address`."
   ]
  },
  {
   "cell_type": "code",
   "execution_count": 5,
   "metadata": {},
   "outputs": [],
   "source": [
    "# A function that prints an address\n",
    "def print_any_address(street_address, city, zipcode, state, country):\n",
    "    \"prints address in US-style format\"\n",
    "    print(street_address)\n",
    "    print(city)\n",
    "    print(state + ' ' + zipcode)\n",
    "    print(country) "
   ]
  },
  {
   "cell_type": "markdown",
   "metadata": {},
   "source": [
    "To call this function, we can insert the arguments value in the same order as in the function definition:"
   ]
  },
  {
   "cell_type": "code",
   "execution_count": 6,
   "metadata": {},
   "outputs": [
    {
     "name": "stdout",
     "output_type": "stream",
     "text": [
      "1600 Pennsylvania Ave\n",
      "Washington\n",
      "DC 20500\n",
      "USA\n"
     ]
    }
   ],
   "source": [
    "# Residence of President of USA\n",
    "print_any_address('1600 Pennsylvania Ave', 'Washington', '20500', 'DC', 'USA')\n"
   ]
  },
  {
   "cell_type": "markdown",
   "metadata": {},
   "source": [
    "Alternatively, we can insert the arguments value by specifying the arguments name. In this method, the arguments value inserted does not has to be in the same order as in the function definition."
   ]
  },
  {
   "cell_type": "code",
   "execution_count": 7,
   "metadata": {},
   "outputs": [
    {
     "name": "stdout",
     "output_type": "stream",
     "text": [
      "1 Infinite Loop\n",
      "Cupertino\n",
      "CA 95014\n",
      "USA\n"
     ]
    }
   ],
   "source": [
    "# Example of calling function using named arguments \n",
    "print_any_address(city = 'Cupertino', zipcode =  '95014', state = 'CA', country ='USA' , street_address = '1 Infinite Loop', )"
   ]
  },
  {
   "cell_type": "markdown",
   "metadata": {},
   "source": [
    "## Returning Values\n",
    "\n",
    "Functions can also returns values. This allows the function processing result to be used in other blocks of code.\n",
    "\n",
    "Values are returned by function using the `return` keyword.\n",
    "Let's look at an example comparing two functions."
   ]
  },
  {
   "cell_type": "code",
   "execution_count": 8,
   "metadata": {},
   "outputs": [],
   "source": [
    "# Function that returns a value\n",
    "def double_up(value):\n",
    "    return value * 2\n"
   ]
  },
  {
   "cell_type": "markdown",
   "metadata": {},
   "source": [
    "After running the cell, we can use the function by passing in a value, as before. The displayed output/result is the result of the function processing.\n",
    "\n"
   ]
  },
  {
   "cell_type": "code",
   "execution_count": 9,
   "metadata": {},
   "outputs": [
    {
     "data": {
      "text/plain": [
       "10"
      ]
     },
     "execution_count": 9,
     "metadata": {},
     "output_type": "execute_result"
    }
   ],
   "source": [
    "double_up(5)"
   ]
  },
  {
   "cell_type": "markdown",
   "metadata": {},
   "source": [
    "However, what makes this function really useful is that we can store the returned value and process it further."
   ]
  },
  {
   "cell_type": "code",
   "execution_count": 10,
   "metadata": {},
   "outputs": [
    {
     "name": "stdout",
     "output_type": "stream",
     "text": [
      "Two times 5 is 10\n",
      "20\n"
     ]
    }
   ],
   "source": [
    "# Store the value that is returned by the function\n",
    "twice_5 = double_up(5)\n",
    "\n",
    "# Now we can print it out\n",
    "print('Two times 5 is ' + str(twice_5))\n",
    "\n",
    "# We can even nest the function call to use the result as an argument:\n",
    "print(double_up(double_up(5)))"
   ]
  },
  {
   "cell_type": "markdown",
   "metadata": {},
   "source": [
    "## Exercises"
   ]
  },
  {
   "cell_type": "markdown",
   "metadata": {},
   "source": [
    "**Q1 Writing a Function ** \n",
    "\n",
    "Write a function called `print_info` that prints your name and email address."
   ]
  },
  {
   "cell_type": "code",
   "execution_count": 16,
   "metadata": {},
   "outputs": [],
   "source": [
    "# Q1 write the function\n",
    "def print_info():\n",
    "    print(\"Name : Bill Gates\")\n",
    "    print(\"Email : Bill@Microsoft.com\")"
   ]
  },
  {
   "cell_type": "markdown",
   "metadata": {},
   "source": [
    "Let's test the function you have defined."
   ]
  },
  {
   "cell_type": "code",
   "execution_count": 17,
   "metadata": {},
   "outputs": [
    {
     "name": "stdout",
     "output_type": "stream",
     "text": [
      "Name : Bill Gates\n",
      "Email : Bill@Microsoft.com\n"
     ]
    }
   ],
   "source": [
    "print_info()"
   ]
  },
  {
   "cell_type": "markdown",
   "metadata": {},
   "source": [
    "**Q2 Function with Argument**\n",
    "\n",
    "Write a function called `count_to(x)` that receives a number and prints the values from 0 up to the number x:"
   ]
  },
  {
   "cell_type": "code",
   "execution_count": 20,
   "metadata": {},
   "outputs": [],
   "source": [
    "# Q2 Write the function count_to that receives a number\n",
    "def count_to(x):\n",
    "    for i in range(x+1):\n",
    "        print(i)"
   ]
  },
  {
   "cell_type": "markdown",
   "metadata": {},
   "source": [
    "Now, let's test the `count_to()` function:"
   ]
  },
  {
   "cell_type": "code",
   "execution_count": 22,
   "metadata": {},
   "outputs": [
    {
     "name": "stdout",
     "output_type": "stream",
     "text": [
      "counting to 5\n",
      "0\n",
      "1\n",
      "2\n",
      "3\n",
      "4\n",
      "5\n",
      "counting to 100\n",
      "0\n",
      "1\n",
      "2\n",
      "3\n",
      "4\n",
      "5\n",
      "6\n",
      "7\n",
      "8\n",
      "9\n",
      "10\n",
      "11\n",
      "12\n",
      "13\n",
      "14\n",
      "15\n",
      "16\n",
      "17\n",
      "18\n",
      "19\n",
      "20\n",
      "21\n",
      "22\n",
      "23\n",
      "24\n",
      "25\n",
      "26\n",
      "27\n",
      "28\n",
      "29\n",
      "30\n",
      "31\n",
      "32\n",
      "33\n",
      "34\n",
      "35\n",
      "36\n",
      "37\n",
      "38\n",
      "39\n",
      "40\n",
      "41\n",
      "42\n",
      "43\n",
      "44\n",
      "45\n",
      "46\n",
      "47\n",
      "48\n",
      "49\n",
      "50\n",
      "51\n",
      "52\n",
      "53\n",
      "54\n",
      "55\n",
      "56\n",
      "57\n",
      "58\n",
      "59\n",
      "60\n",
      "61\n",
      "62\n",
      "63\n",
      "64\n",
      "65\n",
      "66\n",
      "67\n",
      "68\n",
      "69\n",
      "70\n",
      "71\n",
      "72\n",
      "73\n",
      "74\n",
      "75\n",
      "76\n",
      "77\n",
      "78\n",
      "79\n",
      "80\n",
      "81\n",
      "82\n",
      "83\n",
      "84\n",
      "85\n",
      "86\n",
      "87\n",
      "88\n",
      "89\n",
      "90\n",
      "91\n",
      "92\n",
      "93\n",
      "94\n",
      "95\n",
      "96\n",
      "97\n",
      "98\n",
      "99\n",
      "100\n"
     ]
    }
   ],
   "source": [
    "print(\"counting to 5\")\n",
    "count_to(5)\n",
    "\n",
    "print(\"counting to 100\")\n",
    "count_to(100)\n",
    "\n",
    "# Try other values"
   ]
  },
  {
   "cell_type": "markdown",
   "metadata": {},
   "source": [
    "**Q3 Function that Returns a Value**\n",
    "\n",
    "Complete the function `is_senior(age)` below that returns `True` if the age is greater than or equal to 55 and returns `False` otherwise."
   ]
  },
  {
   "cell_type": "code",
   "execution_count": 23,
   "metadata": {},
   "outputs": [],
   "source": [
    "# Q3 complete the function\n",
    "\n",
    "def is_senior(age):\n",
    "    \"returns True if the age is greater than or equal to 55 and False otherwise\"\n",
    "    # complete the function\n",
    "    if (age >= 55):\n",
    "        return True\n",
    "    else:\n",
    "        return False"
   ]
  },
  {
   "cell_type": "markdown",
   "metadata": {},
   "source": [
    "Then, we can further process this function by asking for the age of a person. If the person is a senior, then print 'Please proceed to the priority queue'."
   ]
  },
  {
   "cell_type": "code",
   "execution_count": 24,
   "metadata": {},
   "outputs": [
    {
     "name": "stdout",
     "output_type": "stream",
     "text": [
      "Please enter your age :55\n",
      "Please proceed to the priority queue\n"
     ]
    }
   ],
   "source": [
    "age_input = int(input(\"Please enter your age :\"))\n",
    "\n",
    "if (is_senior(age_input)):           # calling the function witht the value entered by the user\n",
    "    print(\"Please proceed to the priority queue\")\n",
    "else:\n",
    "    print(\"Please join the regular queue\")"
   ]
  },
  {
   "cell_type": "markdown",
   "metadata": {},
   "source": [
    "**Q4 Calling Function**\n",
    "\n",
    "One of the advantages of using functions is that we can re-use them for other purposes.\n",
    "Complete the code below to calculate the bus fare, where seniors get a 50% discount. \n",
    "Use the `is_senior()` function that you have written above!"
   ]
  },
  {
   "cell_type": "code",
   "execution_count": 26,
   "metadata": {},
   "outputs": [
    {
     "name": "stdout",
     "output_type": "stream",
     "text": [
      "Please enter passenger's age :34\n",
      "the fare is $5\n"
     ]
    }
   ],
   "source": [
    "# Q4 Call the is_senior() function again\n",
    "# normal fare is $5\n",
    "\n",
    "fare = 5\n",
    "\n",
    "age_input = int(input(\"Please enter passenger's age :\"))\n",
    "\n",
    "# Complete the code to show how much the fare should be.\n",
    "# if the passenger is a senior, there's a 50% discount\n",
    "if (is_senior(age_input)):\n",
    "    fare = 5/2\n",
    "\n",
    "print(\"the fare is $\" + str(fare))"
   ]
  }
 ],
 "metadata": {
  "kernelspec": {
   "display_name": "Python 3 (ipykernel)",
   "language": "python",
   "name": "python3"
  },
  "language_info": {
   "codemirror_mode": {
    "name": "ipython",
    "version": 3
   },
   "file_extension": ".py",
   "mimetype": "text/x-python",
   "name": "python",
   "nbconvert_exporter": "python",
   "pygments_lexer": "ipython3",
   "version": "3.9.6"
  }
 },
 "nbformat": 4,
 "nbformat_minor": 2
}
