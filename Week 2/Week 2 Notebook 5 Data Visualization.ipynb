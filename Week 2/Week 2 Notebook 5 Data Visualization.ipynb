{
 "cells": [
  {
   "cell_type": "markdown",
   "id": "e4547919",
   "metadata": {},
   "source": [
    "# Week 2 Notebook 5 Data Visualization\n",
    "\n",
    "Now that we have been able to read in our data and perform some basic data exploration and wrangling, let's see how we can visualize it.\n",
    "\n",
    "We are going to continue using the palmerpenguins data set to perform some data visualization using `matplotlib`.\n",
    "\n",
    "In this notebook we will cover:\n",
    "1. Getting started with Matplotlib\n",
    "2. Creating Scatter Plots\n",
    "3. Other plots\n",
    "    * Pie Chart\n",
    "    * Bar Chart"
   ]
  },
  {
   "cell_type": "markdown",
   "id": "b922634a",
   "metadata": {},
   "source": [
    "### Matplotlib\n",
    "\n",
    "Matplotlib is a data science library for plotting data visualizations from simple to complex plots.\n",
    "\n",
    "It contains the `pyplot` module which contains functions for basic plots, and this is how we will be creating our plots in this notebook.\n",
    "\n",
    "Let's start by importing the `pyplot` module."
   ]
  },
  {
   "cell_type": "code",
   "execution_count": null,
   "id": "ed063cd2",
   "metadata": {},
   "outputs": [],
   "source": [
    "# import the pyplot module from matplotlib\n",
    "import matplotlib.pyplot as plt\n",
    "\n",
    "# make the plots appear in this notebook\n",
    "%matplotlib inline\n"
   ]
  },
  {
   "cell_type": "markdown",
   "id": "76feecf5",
   "metadata": {},
   "source": [
    "Let's create a simple plot. Let's say we have some data about the monthly average daytime temperature (in Celcius) in New Delhi. \n",
    "\n",
    "The months data can be stored as a `tuple`, while the temperature values are stored as a `list`."
   ]
  },
  {
   "cell_type": "code",
   "execution_count": null,
   "id": "8a0baa5c",
   "metadata": {},
   "outputs": [],
   "source": [
    "# Define the data\n",
    "month = ('Jan', 'Feb', 'Mar', 'Apr', 'May', 'Jun', 'Jul', 'Aug', 'Sep', 'Oct', 'Nov', 'Dec')\n",
    "temp = [21, 25, 31, 37, 40, 39, 36, 35, 34, 33, 28, 23]"
   ]
  },
  {
   "cell_type": "markdown",
   "id": "50ef470e",
   "metadata": {},
   "source": [
    "We can plot this data very quickly using the pyplot `plot()` function by passing the data to the `x` and `y` arguments.\n"
   ]
  },
  {
   "cell_type": "code",
   "execution_count": null,
   "id": "8b943ac4",
   "metadata": {},
   "outputs": [],
   "source": [
    "# plot the data\n",
    "plt.plot(month, temp)"
   ]
  },
  {
   "cell_type": "markdown",
   "id": "a6ee2191",
   "metadata": {},
   "source": [
    "Let's resize the figure, set the y-limits and put in some nice labels.\n",
    "We will also use the `show()` function to show the plot, without showing the content of the last statement."
   ]
  },
  {
   "cell_type": "code",
   "execution_count": null,
   "id": "006f9378",
   "metadata": {},
   "outputs": [],
   "source": [
    "# Plot nicely\n",
    "plt.figure(figsize = (10, 3))     # size to 10 inches wide and 3 inches tall\n",
    "plt.xlabel('Month')\n",
    "plt.ylabel('Average Daily Temp')\n",
    "plt.title('Temperature in New Delhi')\n",
    "plt.plot(month, temp)             # Don't forget the data!\n",
    "plt.ylim(10, 50)                  # set y-axis limits\n",
    "plt.show()"
   ]
  },
  {
   "cell_type": "markdown",
   "id": "8853cf76",
   "metadata": {},
   "source": [
    "We can also add markers to the plot, and change the linestyle and color."
   ]
  },
  {
   "cell_type": "code",
   "execution_count": null,
   "id": "82b52b9a",
   "metadata": {},
   "outputs": [],
   "source": [
    "# Plot with different colors\n",
    "plt.figure(figsize = (10, 3))     # size to 10 inches wide and 3 inches tall\n",
    "plt.xlabel('Month')\n",
    "plt.ylabel('Average Daily Temp')\n",
    "plt.title('Temperature in New Delhi')\n",
    "# show the markers and change the color and linestyle\n",
    "plt.plot(month, temp, color = 'red', marker = 'h', linestyle = ':')\n",
    "plt.ylim(10, 50)                  # set y-axis limit\n",
    "plt.show()"
   ]
  },
  {
   "cell_type": "markdown",
   "id": "915bfa46",
   "metadata": {},
   "source": [
    "You can try different markers, refer to the list here: https://matplotlib.org/stable/api/markers_api.html\n"
   ]
  },
  {
   "cell_type": "markdown",
   "id": "6ccdcc47",
   "metadata": {},
   "source": [
    "For linestyles, refer to https://matplotlib.org/stable/api/_as_gen/matplotlib.lines.Line2D.html#matplotlib.lines.Line2D.set_linestyle\n",
    "    "
   ]
  },
  {
   "cell_type": "markdown",
   "id": "c01c49f6",
   "metadata": {},
   "source": [
    "## Plotting Penguins\n",
    "\n",
    "Now let's try to plot the penguins data set. We will import `pandas` so that we can read in the data easily and perform some data exploration."
   ]
  },
  {
   "cell_type": "code",
   "execution_count": null,
   "id": "1e6b2024",
   "metadata": {},
   "outputs": [],
   "source": [
    "# import pandas\n",
    "import pandas as pd\n",
    "\n",
    "# read in the data set, which is in the same directory as this notebook file\n",
    "df = pd.read_csv('penguins_size.csv')"
   ]
  },
  {
   "cell_type": "markdown",
   "id": "be009ee3",
   "metadata": {},
   "source": [
    "Check the data frame, to review what kind of data there is."
   ]
  },
  {
   "cell_type": "code",
   "execution_count": null,
   "id": "49668214",
   "metadata": {
    "scrolled": false
   },
   "outputs": [],
   "source": [
    "df.head()"
   ]
  },
  {
   "cell_type": "markdown",
   "id": "97504102",
   "metadata": {},
   "source": [
    "Looking at the data, it's not suitable to create a line plot as they are not in sequence. Let's see what happens if we try to plot the culmen lengths by the culmen depths. "
   ]
  },
  {
   "cell_type": "code",
   "execution_count": null,
   "id": "f79eae1c",
   "metadata": {},
   "outputs": [],
   "source": [
    "# Create a line plot \n",
    "\n",
    "plt.figure(figsize = (5,3))\n",
    "plt.plot(df['culmen_length_mm'], df['culmen_depth_mm'])\n",
    "plt.show()\n"
   ]
  },
  {
   "cell_type": "markdown",
   "id": "7d5c70c2",
   "metadata": {},
   "source": [
    "It looks rather messy! But we can actually see three \"clumps\" of data. The line plot just plots each x=culmen length and y = culmen depth value as a point (x,y) then draws a line to join one point to another. \n",
    "\n",
    "Let's remove the lines and just show the markers, using 'o' for a point and a space, 'o' for the linestyle."
   ]
  },
  {
   "cell_type": "code",
   "execution_count": null,
   "id": "199dcb5a",
   "metadata": {
    "scrolled": true
   },
   "outputs": [],
   "source": [
    "# Create a scatter plot using plot()\n",
    "\n",
    "plt.figure(figsize = (5,3))\n",
    "plt.plot(df['culmen_length_mm'], df['culmen_depth_mm'], marker = 'o', linestyle=' ')\n",
    "plt.xlabel('culmen length in mm')\n",
    "plt.ylabel('culmen depth in mm')\n",
    "plt.show()"
   ]
  },
  {
   "cell_type": "markdown",
   "id": "d1af0d2b",
   "metadata": {},
   "source": [
    "Instead of specifying the parameters `marker=`, `linestyle=` and '`color=`, we can use the shortcut by passing in a format string in the form `[marker][line][color]`, so the following two lines are equivalent:\n",
    "\n",
    "* `plt.plot(df['culmen_length_mm'], df['culmen_depth_mm'], marker = 'o', linestyle=' ', color = 'b)`\n",
    "* `plt.plot(df['culmen_length_mm'], df['culmen_depth_mm'], fmt = 'o b')`\n",
    "\n",
    "\n",
    "\n"
   ]
  },
  {
   "cell_type": "code",
   "execution_count": null,
   "id": "7f94d4e4",
   "metadata": {
    "scrolled": true
   },
   "outputs": [],
   "source": [
    "# Create a scatter plot using plot() and the format string \n",
    "# equivalent to marker = '*', linestyle = ' ', color = 'r' \n",
    "\n",
    "plt.figure(figsize = (5,3))\n",
    "plt.plot(df['culmen_length_mm'], df['culmen_depth_mm'],'* r')\n",
    "plt.xlabel('culmen length in mm')\n",
    "plt.ylabel('culmen depth in mm')\n",
    "plt.show()"
   ]
  },
  {
   "cell_type": "markdown",
   "id": "ed3072d0",
   "metadata": {},
   "source": [
    "### Plotting Different Data Sets in the Same Axes\n",
    "\n",
    "As we can see from the plots above, there appears to be three groups of points. As there are three species of penguins, it would be interesting to see if the three groups correspond to the three species.\n",
    "\n",
    "Let's execute the `value_counts()` function to view the three species of penguins:"
   ]
  },
  {
   "cell_type": "code",
   "execution_count": null,
   "id": "5681cea5",
   "metadata": {},
   "outputs": [],
   "source": [
    "df['species'].value_counts()"
   ]
  },
  {
   "cell_type": "markdown",
   "id": "2fd8db62",
   "metadata": {},
   "source": [
    "We want to separate the original data set into three groups\n",
    "* Adelie penguins\n",
    "* Gentoo penguins\n",
    "* Chinstrap penguins\n",
    "\n",
    "Let's first filter the data frame so that we only select the penguins which are of species 'Adelie'."
   ]
  },
  {
   "cell_type": "code",
   "execution_count": null,
   "id": "85038d07",
   "metadata": {},
   "outputs": [],
   "source": [
    "# use the boolean condition on the 'species' column to check which rows equal 'Adelie'\n",
    "isAdelie = df['species'] == 'Adelie'\n",
    "print(isAdelie)\n",
    "\n",
    "# now select the rows where the condition is True and store in a new data frame\n",
    "adPenguins = df[isAdelie]\n"
   ]
  },
  {
   "cell_type": "markdown",
   "id": "cee6d223",
   "metadata": {},
   "source": [
    "When we print the contents of `isAdelie`, we get a data frame that only contains a column of Boolean values. The values are either `True` or `False` depending on whether the original data frame matched the condition that the column value is 'Adelie'.\n",
    "\n",
    "Next, we used the `isAdelie` to only select the values which are `True`, and stored the results in a new data frame called `adPenguins`."
   ]
  },
  {
   "cell_type": "code",
   "execution_count": null,
   "id": "b5f26984",
   "metadata": {},
   "outputs": [],
   "source": [
    "# use the boolean condition on the 'species' column to check which rows equal 'Adelie'\n",
    "isAdelie = df['species'] == 'Adelie'\n",
    "print(isAdelie)\n",
    "\n",
    "# now select the rows where the condition is True and store in a new data frame\n",
    "adPenguins = df[isAdelie]\n",
    "\n",
    "# check the species in the adPenguins data frame\n",
    "print('\\nChecking species count')\n",
    "print(adPenguins['species'].value_counts())"
   ]
  },
  {
   "cell_type": "markdown",
   "id": "2fe979ab",
   "metadata": {},
   "source": [
    "As you can see, now there are only Adelie penguins in the data frame called `adPenguins`. Let's do the same for the Gentoo and Chinstrap penguins:"
   ]
  },
  {
   "cell_type": "code",
   "execution_count": null,
   "id": "81f8a574",
   "metadata": {},
   "outputs": [],
   "source": [
    "# Gentoo Penguins\n",
    "isGentoo = df['species']=='Gentoo'\n",
    "gtPenguins = df[isGentoo]\n",
    "\n",
    "# Chinstrap Penguins - combine the steps into one statement\n",
    "csPenguins = df[df['species']=='Chinstrap']"
   ]
  },
  {
   "cell_type": "markdown",
   "id": "0abed935",
   "metadata": {},
   "source": [
    "Now that we have separated into three data frames, we can use the data from each into the same plot. "
   ]
  },
  {
   "cell_type": "code",
   "execution_count": null,
   "id": "668ea52a",
   "metadata": {},
   "outputs": [],
   "source": [
    "#plot the three types of penguins\n",
    "\n",
    "plt.figure(figsize = (6,5))\n",
    "# plot the Adelie Penguins data with green dots\n",
    "plt.plot(adPenguins['culmen_length_mm'], adPenguins['culmen_depth_mm'], 'o g')\n",
    "\n",
    "# plot the Gentoo Penguins data with blue squares\n",
    "plt.plot(gtPenguins['culmen_length_mm'], gtPenguins['culmen_depth_mm'], 's b')\n",
    "\n",
    "# plot the Chinstrap Penguins data with red hexagons\n",
    "plt.plot(csPenguins['culmen_length_mm'], csPenguins['culmen_depth_mm'], 'h r')\n",
    "plt.xlabel('Culmen Length in mm')\n",
    "plt.ylabel('Culmen Depth in mm')\n",
    "plt.title('Comparing Palmer Penguins Culmen Size')\n",
    "plt.show()"
   ]
  },
  {
   "cell_type": "markdown",
   "id": "d97d7396",
   "metadata": {},
   "source": [
    "Now we can see that the three groups do match the three penguin species. However, it is difficult to remember which set of points match which species. We need to add a legend, and also to make the points slightly transparent to view if there are any overlapping points."
   ]
  },
  {
   "cell_type": "code",
   "execution_count": null,
   "id": "52d6d2be",
   "metadata": {},
   "outputs": [],
   "source": [
    "#plot the three types of penguins, with legend\n",
    "\n",
    "plt.figure(figsize = (6,5))\n",
    "# add legends by using the labels parameter and make alpha = 0.5 \n",
    "plt.plot(adPenguins['culmen_length_mm'], adPenguins['culmen_depth_mm'], 'og ', alpha = 0.5, label = 'Adelie')\n",
    "plt.plot(gtPenguins['culmen_length_mm'], gtPenguins['culmen_depth_mm'], 'sb ', alpha = 0.5, label = 'Gentoo')\n",
    "plt.plot(csPenguins['culmen_length_mm'], csPenguins['culmen_depth_mm'], 'hr ', alpha = 0.5, label = 'Chinstrap')\n",
    "plt.xlabel('Culmen Length in mm')\n",
    "plt.ylabel('Culmen Depth in mm')\n",
    "plt.title('Comparing Palmer Penguins Culmen Size')\n",
    "plt.legend()\n",
    "\n",
    "plt.show()"
   ]
  },
  {
   "cell_type": "markdown",
   "id": "fd306b79",
   "metadata": {},
   "source": [
    "Now we can see clearly the points that represent each species type.\n",
    "\n",
    "For example, we can see that Adelie penguins have lower values for culmen length than the other two species, but higher values for culmen depth than Gentoo penguins.\n",
    "\n",
    "You can try the same plots with the other columns, `body_mass_g`, `flipper_length_mm` to explore if there are any differences in these.\n",
    "\n",
    "Let's try some other types of plots."
   ]
  },
  {
   "cell_type": "markdown",
   "id": "efba64f3",
   "metadata": {},
   "source": [
    "## Pie Chart\n",
    "\n",
    "A pie chart is used to visualize the percentage out of a total. However, it is usually not recommended for more than three categories. As we have exactly three species of penguins, we can try to visualize the proportions of each.\n",
    "\n",
    "First, remember that we could view the count of each species using `value_counts()`. Let's store the results so that we can use them."
   ]
  },
  {
   "cell_type": "code",
   "execution_count": null,
   "id": "97bb346c",
   "metadata": {},
   "outputs": [],
   "source": [
    "# store the result of value counts\n",
    "species_count = df['species'].value_counts()\n",
    "print(type(species_count))\n"
   ]
  },
  {
   "cell_type": "markdown",
   "id": "fd8fea5f",
   "metadata": {},
   "source": [
    "The `type` of species_count is series, and and we can extract the names of each of the species using the index of species_count as above."
   ]
  },
  {
   "cell_type": "code",
   "execution_count": null,
   "id": "6ef1b3b5",
   "metadata": {},
   "outputs": [],
   "source": [
    "print(species_count)\n",
    "print(species_count.index)"
   ]
  },
  {
   "cell_type": "markdown",
   "id": "f12bc3ee",
   "metadata": {},
   "source": [
    "Now we can plot the pie chart:"
   ]
  },
  {
   "cell_type": "code",
   "execution_count": null,
   "id": "77e13ef5",
   "metadata": {},
   "outputs": [],
   "source": [
    "# Create a simple pie chart\n",
    "\n",
    "# extract the names of the species from the species_count\n",
    "species_names = species_count.index\n",
    "\n",
    "# plot the pie and show data labels\n",
    "plt.pie(species_count, labels = species_names, autopct='%.1f%%')\n",
    "plt.title(\"Penguins Recorded\")\n",
    "plt.show()"
   ]
  },
  {
   "cell_type": "markdown",
   "id": "217c0b21",
   "metadata": {},
   "source": [
    "We can enhance the pie chart by setting the colors for each penguin and exploding the slice which is the largest.\n",
    "\n"
   ]
  },
  {
   "cell_type": "code",
   "execution_count": null,
   "id": "c2f40fe3",
   "metadata": {},
   "outputs": [],
   "source": [
    "# Enhancing pie chart with colors\n",
    "\n",
    "# extract the names of the species from the species_count\n",
    "species_names = species_count.index\n",
    "\n",
    "# set colors\n",
    "species_colors = ['palegreen', 'skyblue', 'firebrick']\n",
    "\n",
    "# explode the first slice by 0.1\n",
    "exp = (0.1, 0, 0)\n",
    "\n",
    "# plot the pie and show data labels\n",
    "plt.pie(species_count, labels = species_names, autopct='%.1f%%', colors = species_colors, explode = exp)\n",
    "plt.title(\"Penguins Recorded\")\n",
    "plt.show()"
   ]
  },
  {
   "cell_type": "markdown",
   "id": "39028b44",
   "metadata": {},
   "source": [
    "View more colours here: https://matplotlib.org/stable/gallery/color/named_colors.html"
   ]
  },
  {
   "cell_type": "markdown",
   "id": "3a3ec4cc",
   "metadata": {},
   "source": [
    "### Bar Chart\n",
    "\n",
    "An alternative to a pie chart is a bar chart, as it is provides a clearer comparison and can be used for multiple groups. \n",
    "\n",
    "Consider the simple bar chart to plot the count of each species of penguin."
   ]
  },
  {
   "cell_type": "code",
   "execution_count": null,
   "id": "fd89372a",
   "metadata": {},
   "outputs": [],
   "source": [
    "# Plotting the species_count data as a bar chart\n",
    "# using the same colors defined above\n",
    "plt.bar(species_count.index, species_count, color = species_colors)\n",
    "plt.title(\"Penguins Recorded\")\n",
    "plt.xlabel(\"Species\")\n",
    "plt.ylabel(\"Count\")\n",
    "plt.show()"
   ]
  },
  {
   "cell_type": "markdown",
   "id": "eefdd151",
   "metadata": {},
   "source": [
    "A bar chart is also useful for comparing values within categories. \n",
    "For example, we could compare the mean body_mass of each species of penguin.\n",
    "\n",
    "First we would have to use the `groupby()` function to calculate the mean body mass of each group of species."
   ]
  },
  {
   "cell_type": "code",
   "execution_count": null,
   "id": "691d4eb0",
   "metadata": {},
   "outputs": [],
   "source": [
    "mean_body_mass = df.groupby(['species'])['body_mass_g'].mean()\n",
    "print(mean_body_mass)"
   ]
  },
  {
   "cell_type": "code",
   "execution_count": null,
   "id": "d49bd34f",
   "metadata": {},
   "outputs": [],
   "source": [
    "# Using the same type of plot but with the mean_body_mass data\n",
    "# using the same colors defined above\n",
    "plt.bar(mean_body_mass.index, mean_body_mass, color = species_colors)\n",
    "plt.title(\"Body Mass By Species\")\n",
    "plt.xlabel(\"Species\")\n",
    "plt.ylabel(\"Body Mass, gms\")\n",
    "plt.show()"
   ]
  },
  {
   "cell_type": "markdown",
   "id": "0cc950b3",
   "metadata": {},
   "source": [
    "Let's try to compare the weight for the males and females of each species. This means we would have to group by yet another level.\n",
    "\n",
    "In the previous notebook we identified that there was an error with one of the values of sex, so we should correct it first."
   ]
  },
  {
   "cell_type": "code",
   "execution_count": null,
   "id": "8c107c64",
   "metadata": {},
   "outputs": [],
   "source": [
    "# identify the row where the sex was coded wrongly and set it to MALE\n",
    "df.loc[df['sex'] == '.', 'sex'] = 'MALE'\n",
    "\n",
    "# group by sex, then species\n",
    "meanWeightBySex = df.groupby(['sex', 'species'])['body_mass_g'].mean()\n",
    "# show the result\n",
    "print(meanWeightBySex)\n",
    "\n",
    "# unstack so that the species are the column headers\n",
    "meanWeight = meanWeightBySex.unstack()\n",
    "print(meanWeight)"
   ]
  },
  {
   "cell_type": "markdown",
   "id": "ecb68dfe",
   "metadata": {},
   "source": [
    "Performing the `groupby()`, and then `unstack()` creates the data frame in the last output above, where the index is the sex, 'FEMALE' or 'MALE', and the columns are the species. \n",
    "\n",
    "An easy way to plot the bar chart now is to use the `plot.bar()` function on the **data frame** `meanWeight`. "
   ]
  },
  {
   "cell_type": "code",
   "execution_count": null,
   "id": "439bb6ba",
   "metadata": {},
   "outputs": [],
   "source": [
    "# use the plot function on the data frame\n",
    "meanWeight.plot.bar(color = species_colors)\n",
    "plt.title('Mean Body Mass by Sex')\n",
    "plt.show()"
   ]
  },
  {
   "cell_type": "markdown",
   "id": "32d8fccb",
   "metadata": {},
   "source": [
    "This automatically creates the legend with the correct columns. "
   ]
  },
  {
   "cell_type": "markdown",
   "id": "24ecb4b5",
   "metadata": {},
   "source": [
    "Now we can see that the females of the species have lower values of body mass than the males, but for Gentoo penguins even the females have higher body mass than the males of the other two species.\n",
    "\n",
    "This is just the basics of matplotlib, there are many other types of plots and arrangements we can create but make sure you are familiar with the basic structure and ideas.\n",
    "\n",
    "You can try to create the same plots by editing the data to be plotted or changing the other arguments. "
   ]
  },
  {
   "cell_type": "markdown",
   "id": "8cc11e40",
   "metadata": {},
   "source": [
    "## Exercises\n",
    "\n",
    "Let's try some exercises with the `Iris` data set."
   ]
  },
  {
   "cell_type": "code",
   "execution_count": null,
   "id": "7e63eef2",
   "metadata": {},
   "outputs": [],
   "source": [
    "import pandas as pd\n",
    "import matplotlib.pyplot as plt\n",
    "%matplotlib inline\n",
    "\n",
    "# read the data into a dataframe called irisdf\n",
    "irisdf = pd.read_csv('iris_csv.csv')\n",
    "irisdf.head()"
   ]
  },
  {
   "cell_type": "markdown",
   "id": "282c4d57",
   "metadata": {},
   "source": [
    "**Q1. Basic Scatter Plot**\n",
    "\n",
    "Create a scatter plot with `sepallength` data on the x-axis and `sepalwidth` data on the y-axis, with red dots and no lines. \n",
    "\n",
    "Add a title and label the x-axis and y-axis accordingly."
   ]
  },
  {
   "cell_type": "code",
   "execution_count": null,
   "id": "136fba32",
   "metadata": {},
   "outputs": [],
   "source": [
    "# Q1 answer\n"
   ]
  },
  {
   "cell_type": "markdown",
   "id": "e499dd27",
   "metadata": {},
   "source": [
    "Let's use the `value_counts()` function to determine the number of `class` of Iris in the data frame."
   ]
  },
  {
   "cell_type": "code",
   "execution_count": null,
   "id": "0560a339",
   "metadata": {},
   "outputs": [],
   "source": [
    "irisdf['class'].value_counts()\n"
   ]
  },
  {
   "cell_type": "markdown",
   "id": "8686b38a",
   "metadata": {},
   "source": [
    "**Q2. Create Subsets** \n",
    "\n",
    "Separate the three classes into three data sets, `setosa`, `versicolor`, and  `virginica`"
   ]
  },
  {
   "cell_type": "code",
   "execution_count": null,
   "id": "4e0a242f",
   "metadata": {},
   "outputs": [],
   "source": [
    "# Q2 answer\n"
   ]
  },
  {
   "cell_type": "markdown",
   "id": "90dc106c",
   "metadata": {},
   "source": [
    "**Q3. Create Scatter Plot**\n",
    "\n",
    "Create the scatter plot to compare the `sepallength` and `sepalwidth` of the three clases. \n",
    "\n",
    "Make the points semi-transparent by setting an alpha value less than 1.\n",
    "\n",
    "Add a legend to show the names of the three classes."
   ]
  },
  {
   "cell_type": "code",
   "execution_count": null,
   "id": "e96c4dbf",
   "metadata": {},
   "outputs": [],
   "source": [
    "# Q3 answer\n"
   ]
  }
 ],
 "metadata": {
  "kernelspec": {
   "display_name": "Python 3 (ipykernel)",
   "language": "python",
   "name": "python3"
  },
  "language_info": {
   "codemirror_mode": {
    "name": "ipython",
    "version": 3
   },
   "file_extension": ".py",
   "mimetype": "text/x-python",
   "name": "python",
   "nbconvert_exporter": "python",
   "pygments_lexer": "ipython3",
   "version": "3.9.7"
  }
 },
 "nbformat": 4,
 "nbformat_minor": 5
}
