{
 "cells": [
  {
   "cell_type": "markdown",
   "id": "ac924406",
   "metadata": {},
   "source": [
    "# Week 2 Notebook 4 Data Wrangling with Pandas\n",
    "\n",
    "Now we want to do some data wrangling with the `Pandas` library using the same penguins data set.\n",
    "\n",
    "Data wrangling involves cleaning up our data which may not have been recorded correctly, or missing. First we will have to check to see how many \"messy\" data we have.\n",
    "\n",
    "In this notebook we are going to perform the following basic data wrangling tasks;\n",
    "\n",
    "- Exploring data\n",
    "    - check for missing data\n",
    "    - check for duplicates\n",
    "- Cleaning data\n",
    "    - remove missing data\n",
    "    - replace missing data with new values\n",
    "    - replace incorrect data\n",
    "    - remove duplicate data\n",
    "\n",
    "First let's read the data into a data frame using `Pandas`."
   ]
  },
  {
   "cell_type": "code",
   "execution_count": null,
   "id": "b025e2d2",
   "metadata": {},
   "outputs": [],
   "source": [
    "# import the pandas library and read into the data frame\n",
    "import pandas as pd\n",
    "df = pd.read_csv('penguins_size.csv')"
   ]
  },
  {
   "cell_type": "markdown",
   "id": "81da33ec",
   "metadata": {},
   "source": [
    "Check that the data was read in successfully:"
   ]
  },
  {
   "cell_type": "code",
   "execution_count": null,
   "id": "de94c8c3",
   "metadata": {},
   "outputs": [],
   "source": [
    "df.head()"
   ]
  },
  {
   "cell_type": "markdown",
   "id": "97ea1513",
   "metadata": {},
   "source": [
    "Notice that we had missing data in the row with index 3.\n",
    "\n",
    "Running `info()` will show us how many are actually missing.\n"
   ]
  },
  {
   "cell_type": "code",
   "execution_count": null,
   "id": "62d9cbeb",
   "metadata": {},
   "outputs": [],
   "source": [
    "# Show info about the data frame\n",
    "df.info()"
   ]
  },
  {
   "cell_type": "markdown",
   "id": "1bcf620f",
   "metadata": {},
   "source": [
    "So out of the 344 entries, there are null values recorded for `culmen_length_mm`, `culmen_depth_mm`, `flipper_length_mm` and `body_mass_g`, (2 null values for each of the columns), which means the data is missing.  \n",
    "\n",
    "For the `sex` column there are 10 missing values.\n",
    "\n",
    "\n",
    "\n",
    "\n"
   ]
  },
  {
   "cell_type": "markdown",
   "id": "3f13c06f",
   "metadata": {},
   "source": [
    "## Finding Missing Values\n",
    "\n",
    "To find out which rows have missing values, we have to filter the data frame.\n",
    "\n",
    "First we check which cells have missing values using the `isna()` method, which returns `True` is there is a missing value for each cell and `False` is the value is not null."
   ]
  },
  {
   "cell_type": "code",
   "execution_count": null,
   "id": "53f3a69e",
   "metadata": {},
   "outputs": [],
   "source": [
    "# The isna() function checks whether each cell has a missing value\n",
    "df.isna()\n"
   ]
  },
  {
   "cell_type": "markdown",
   "id": "abfa7604",
   "metadata": {},
   "source": [
    "This will evaluate each row of the dataframe and check if there are any null values in any of the cells.\n",
    "\n",
    "Next, we may want to check which rows actually have the null values."
   ]
  },
  {
   "cell_type": "code",
   "execution_count": null,
   "id": "b1fb6e18",
   "metadata": {},
   "outputs": [],
   "source": [
    "# Find the rows with any 'na' values, by row (axis = 1 indicates to check row by row)\n",
    "rows_with_na = df[df.isna().any(axis=1)]\n",
    "\n",
    "# then display the rows\n",
    "rows_with_na"
   ]
  },
  {
   "cell_type": "markdown",
   "id": "c3e131dc",
   "metadata": {},
   "source": [
    "The output above shows the 10 rows which have missing values. Let's see how we can handle these missing values."
   ]
  },
  {
   "cell_type": "markdown",
   "id": "771778de",
   "metadata": {},
   "source": [
    "# Handling Missing Values\n",
    "\n",
    "### Dropping rows with missing values\n",
    "\n",
    "One way of handling the missing values is just to remove them. For example, we might consider that the 10 rows will not affect the analysis of our data.\n",
    "\n",
    "We can do this using the pandas `dropna()` method which just drops all rows containing *any* missing values, by default.\n"
   ]
  },
  {
   "cell_type": "code",
   "execution_count": null,
   "id": "ed9499ff",
   "metadata": {},
   "outputs": [],
   "source": [
    "# drop rows that contain missing values in any column\n",
    "new_df = df.dropna()\n",
    "\n",
    "# check info on new_df\n",
    "new_df.info()"
   ]
  },
  {
   "cell_type": "markdown",
   "id": "0a8ed703",
   "metadata": {},
   "source": [
    "There were 10 rows with missing data, so they have been dropped and the new data frame new_df only contains 334 rows.\n",
    "\n",
    "### Replacing Values\n",
    "\n",
    "Another option is to replace the missing values with new values. This is known as **imputation** .\n",
    "\n",
    "The value to be imputed for numeric values is usually the mean or median, and for categorical values we might use the mode, or most frequently occurring value."
   ]
  },
  {
   "cell_type": "code",
   "execution_count": null,
   "id": "74b51104",
   "metadata": {},
   "outputs": [],
   "source": [
    "# find the mean culmen length \n",
    "mean_culmen_length = df[\"culmen_length_mm\"].mean()\n",
    "\n",
    "# replace this mean value into the missing values, and modify the original data frame using inplace=True\n",
    "df[\"culmen_length_mm\"].fillna(mean_culmen_length, inplace = True)\n"
   ]
  },
  {
   "cell_type": "markdown",
   "id": "e9a2a8e0",
   "metadata": {},
   "source": [
    "We can combine the two lines in one:"
   ]
  },
  {
   "cell_type": "code",
   "execution_count": null,
   "id": "9f8dd503",
   "metadata": {},
   "outputs": [],
   "source": [
    "# do the same for culmen_depth_mm, in one line\n",
    "df[\"culmen_depth_mm\"].fillna(df[\"culmen_depth_mm\"].mean(), inplace = True)\n",
    "\n",
    "# repeat for flipper_length_mm\n",
    "df[\"flipper_length_mm\"].fillna(df[\"flipper_length_mm\"].mean(), inplace = True)\n",
    "\n",
    "# and body_mass_g\n",
    "df[\"body_mass_g\"].fillna(df[\"body_mass_g\"].mean(), inplace = True)\n"
   ]
  },
  {
   "cell_type": "code",
   "execution_count": null,
   "id": "afb70c2b",
   "metadata": {},
   "outputs": [],
   "source": [
    "# Check which rows still have missing data in any column\n",
    "rows_with_na = df[df.isna().any(axis=1)]\n",
    "\n",
    "# then display the rows\n",
    "rows_with_na"
   ]
  },
  {
   "cell_type": "markdown",
   "id": "baeb9487",
   "metadata": {},
   "source": [
    "Now we only have the missing data for the `sex` column. We could replace them all with either 'MALE' or 'FEMALE', or we might consider which type they probably are and put the most probable case.\n",
    "\n",
    "Remember that we could group the data by `species` and `sex`, so let's do that again to explore the data.\n"
   ]
  },
  {
   "cell_type": "code",
   "execution_count": null,
   "id": "a6b87cda",
   "metadata": {},
   "outputs": [],
   "source": [
    "# group the data frame by species, then sex\n",
    "df.groupby(['species', 'sex']).mean()"
   ]
  },
  {
   "cell_type": "markdown",
   "id": "2a8aa470",
   "metadata": {},
   "source": [
    "Let's just compare the body mass for each species by sex:"
   ]
  },
  {
   "cell_type": "code",
   "execution_count": null,
   "id": "645c63d0",
   "metadata": {},
   "outputs": [],
   "source": [
    "# group by sex and species and view the body mass\n",
    "df.groupby(['species', 'sex'])['body_mass_g'].mean()"
   ]
  },
  {
   "attachments": {
    "image.png": {
     "image/png": "[encoded data removed]"
    }
   },
   "cell_type": "markdown",
   "id": "70d570ff",
   "metadata": {},
   "source": [
    "Now we can compare these values with the body mass of the penguins with missing 'sex' values.\n",
    "![image.png](attachment:image.png)\n",
    "\n",
    "We might assume that for the Adelie penguins with body mass of 4000g and above, they are 'MALE' and those below are 'FEMALE'. \n",
    "\n",
    "For the Gentoo penguins, those with missing values all have body mass below 5000g, so we will assume they are all 'FEMALE'.\n",
    "\n",
    "If there are only a few values, we could specify exactly which rows we want to replace.\n",
    "\n",
    "For example, for the Gentoo penguin, one of the observations has the sex recorded as a `.` \n",
    "\n",
    "First we have to find which one it is."
   ]
  },
  {
   "cell_type": "code",
   "execution_count": null,
   "id": "8c25b1ec",
   "metadata": {},
   "outputs": [],
   "source": [
    "# find the line with the incorrect value,\n",
    "# display the rows of the dataframe where the value is coded as .\n",
    "df[df['sex'] == '.']\n"
   ]
  },
  {
   "cell_type": "markdown",
   "id": "114a300c",
   "metadata": {},
   "source": [
    "It's the row with index 336 that has the `sex` recorded as `.`. Since the body mass of this observation is 4875 and the mean body mass of Gentoo penguins is 4679 for females and 5484 for males, we could assume that this is actually a female. \n",
    "\n",
    "We use the `loc` attribute to specify the row and column to replace the value:"
   ]
  },
  {
   "cell_type": "code",
   "execution_count": null,
   "id": "d7deebb9",
   "metadata": {},
   "outputs": [],
   "source": [
    "# use loc to specify the row and column to replace the value\n",
    "\n",
    "df.loc[336, 'sex'] = 'FEMALE'"
   ]
  },
  {
   "cell_type": "markdown",
   "id": "07e6bed2",
   "metadata": {},
   "source": [
    "If you run the `groupby()` again, you will find that the value has been replaced.\n",
    "\n",
    "Similarly, we use the `loc` attribute with the rows that we want to change from missing values to 'MALE' and 'FEMALE' respectively.\n",
    "\n",
    "Looking at the list, we identify the Adelie penguins with body mass that indicate they are most probably MALE or FEMALE."
   ]
  },
  {
   "cell_type": "code",
   "execution_count": null,
   "id": "39577c7c",
   "metadata": {},
   "outputs": [],
   "source": [
    "# replace the sex of rows with index 3 and 9 with 'MALE'\n",
    "# because the body mass is greater than 4000\n",
    "\n",
    "df.loc[[3,9],'sex'] = 'MALE'\n",
    "\n",
    "# replace the sex of rows with index 8, 10, 11, 47 with 'FEMALE' because the body mass is less than 4000\n",
    "df.loc[[8, 10, 11, 47],'sex'] = 'FEMALE'"
   ]
  },
  {
   "cell_type": "markdown",
   "id": "e0d837b0",
   "metadata": {},
   "source": [
    "If there are many rows to replace, we could use a conditional expression to find the rows, then replace those rows that match the condition. For the `Gentoo` penguins, let's assume that all of them are 'FEMALE'. So we are going to replace all those which have missing values for `sex` to be FEMALE.\n",
    "\n",
    "The condition that we want would be:\n",
    "\n",
    "'species is Gentoo' and 'sex is NULL'\n",
    "\n",
    "This is written in `pandas`:\n"
   ]
  },
  {
   "cell_type": "code",
   "execution_count": null,
   "id": "59a55af9",
   "metadata": {},
   "outputs": [],
   "source": [
    "# First check whether we can identify the Gentoo and missing 'sex' value\n",
    "(df['species']=='Gentoo') & (df['sex'].isna())\n"
   ]
  },
  {
   "cell_type": "markdown",
   "id": "f4b12219",
   "metadata": {},
   "source": [
    "Now we use this condition to filter the data frame to find the rows that match this condition."
   ]
  },
  {
   "cell_type": "code",
   "execution_count": null,
   "id": "3cc2a77f",
   "metadata": {},
   "outputs": [],
   "source": [
    "# Find the indices of the rows that match this condition \n",
    "foundrows = df[(df['species']=='Gentoo') & (df['sex'].isna())].index\n",
    "\n",
    "\n",
    "print(\"Missing values for sex and species = 'Gentoo' found here\")\n",
    "foundrows\n"
   ]
  },
  {
   "cell_type": "code",
   "execution_count": null,
   "id": "edf9f356",
   "metadata": {},
   "outputs": [],
   "source": [
    "# Finally, replace these values at the foundrows\n",
    "\n",
    "df.loc[foundrows,'sex'] = 'FEMALE'"
   ]
  },
  {
   "cell_type": "markdown",
   "id": "c637405c",
   "metadata": {},
   "source": [
    "### Duplicates\n",
    "\n",
    "Another thing we can do is to remove duplicate data easily. Suppose we add the row at index 1 again to the data frame at the end, and save it to a new data frame called `new_df2`."
   ]
  },
  {
   "cell_type": "code",
   "execution_count": null,
   "id": "14c48c24",
   "metadata": {},
   "outputs": [],
   "source": [
    "# append the row at location with index 1 to the original df and save it to a new data frame\n",
    "\n",
    "new_df2 = df.append(df.loc[1])\n",
    "new_df2"
   ]
  },
  {
   "cell_type": "markdown",
   "id": "4bb3ac26",
   "metadata": {},
   "source": [
    "Notice that the new data frame has an extra row now, but it is also indexed 1.\n",
    "We can add the new row with `ignore_index = True`, to add to the index count.\n"
   ]
  },
  {
   "cell_type": "code",
   "execution_count": null,
   "id": "88efb399",
   "metadata": {},
   "outputs": [],
   "source": [
    "# append the row at location with index 1 to the original df and save it to a new data frame\n",
    "\n",
    "new_df2 = df.append(df.loc[1], ignore_index = True)\n",
    "new_df2"
   ]
  },
  {
   "cell_type": "markdown",
   "id": "bba13ff1",
   "metadata": {},
   "source": [
    "Now we can check if we have duplicate data (and we should, because we copied the first row and put it at the end)"
   ]
  },
  {
   "cell_type": "code",
   "execution_count": null,
   "id": "8681eae8",
   "metadata": {},
   "outputs": [],
   "source": [
    "# Check if any of the rows are duplicated\n",
    "new_df2.duplicated()"
   ]
  },
  {
   "cell_type": "markdown",
   "id": "2598f4ff",
   "metadata": {},
   "source": [
    "Notice that running the operation to check whether any row is duplicated returns true for the last row. So we want to remove the duplicated row.\n"
   ]
  },
  {
   "cell_type": "code",
   "execution_count": null,
   "id": "d132bdf9",
   "metadata": {},
   "outputs": [],
   "source": [
    "# print the duplicated row\n",
    "new_df2[new_df2.duplicated()]"
   ]
  },
  {
   "cell_type": "code",
   "execution_count": null,
   "id": "b35828da",
   "metadata": {},
   "outputs": [],
   "source": [
    "# drop the duplicated row\n",
    "new_df2.drop_duplicates(inplace = True)\n",
    "new_df2"
   ]
  },
  {
   "cell_type": "markdown",
   "id": "053c4c72",
   "metadata": {},
   "source": [
    "Now you can see the duplicated row 344 has been removed.\n",
    "\n",
    "We have covered some of the basic methods of cleaning data. There are many more, of course, and data scientists do spend a lot of time exploring and wrangling data before they can create their models.\n",
    "\n",
    "Let's do some exercises to review."
   ]
  },
  {
   "cell_type": "markdown",
   "id": "7418302b",
   "metadata": {},
   "source": [
    "## Exercises"
   ]
  },
  {
   "cell_type": "markdown",
   "id": "d50f0b43",
   "metadata": {},
   "source": [
    "Let's try out these data wrangling operations with the Iris dataset.\n",
    "\n",
    "You should have downloaded the iris_csv.csv dataset into your working directory from the previous exercise. "
   ]
  },
  {
   "cell_type": "code",
   "execution_count": null,
   "id": "8ec24985",
   "metadata": {},
   "outputs": [],
   "source": [
    "# We should always start with the import, although it may have been run above\n",
    "import pandas as pd"
   ]
  },
  {
   "cell_type": "code",
   "execution_count": null,
   "id": "a6b77668",
   "metadata": {},
   "outputs": [],
   "source": [
    "# read the data into a dataframe called irisdf\n",
    "irisdf = pd.read_csv('iris_csv.csv')"
   ]
  },
  {
   "cell_type": "markdown",
   "id": "bd1d1f8f",
   "metadata": {},
   "source": [
    "**Q1. Missing Values**\n",
    "\n",
    "Check if there are any missing values in the `irisdf` data set."
   ]
  },
  {
   "cell_type": "code",
   "execution_count": null,
   "id": "d80fb5ed",
   "metadata": {},
   "outputs": [],
   "source": [
    "# Q1 Answer\n"
   ]
  },
  {
   "cell_type": "markdown",
   "id": "67c27f80",
   "metadata": {},
   "source": [
    "**Q2. Find Duplicates**\n",
    "\n",
    "There are three duplicate rows, display the rows."
   ]
  },
  {
   "cell_type": "code",
   "execution_count": null,
   "id": "8f44ec03",
   "metadata": {},
   "outputs": [],
   "source": [
    "#Q2 Answer\n"
   ]
  },
  {
   "cell_type": "markdown",
   "id": "1c781735",
   "metadata": {},
   "source": [
    "**Q3. Calculate Mean**\n",
    "\n",
    "Find the mean `sepallength` and store it in a variable called `mean_sepallength`"
   ]
  },
  {
   "cell_type": "code",
   "execution_count": null,
   "id": "1c0e6969",
   "metadata": {},
   "outputs": [],
   "source": [
    "#Q3 answer\n"
   ]
  },
  {
   "cell_type": "markdown",
   "id": "2b0a2189",
   "metadata": {},
   "source": [
    "**Q4. Set Value**\n",
    "\n",
    "Set the `sepallength` of the row with index 34 to the mean value found."
   ]
  },
  {
   "cell_type": "code",
   "execution_count": null,
   "id": "79f69216",
   "metadata": {},
   "outputs": [],
   "source": [
    "# Q4 Answer\n"
   ]
  },
  {
   "cell_type": "markdown",
   "id": "de6ccd50",
   "metadata": {},
   "source": [
    "Check whether the number of duplicate rows has decreased by displaying the duplicated rows again. You can execute your answer to Q2 again) "
   ]
  },
  {
   "cell_type": "markdown",
   "id": "ce55efd1",
   "metadata": {},
   "source": [
    "**Q5. Drop Duplicates**\n",
    "\n",
    "Drop the rows with duplicates"
   ]
  },
  {
   "cell_type": "code",
   "execution_count": null,
   "id": "49f22dd9",
   "metadata": {},
   "outputs": [],
   "source": [
    "# Q5 answer\n"
   ]
  },
  {
   "cell_type": "markdown",
   "id": "2bec62a9",
   "metadata": {},
   "source": [
    "Now check if there are any more duplicate values by running your answer to Q2 again."
   ]
  },
  {
   "cell_type": "markdown",
   "id": "d3b063f1",
   "metadata": {},
   "source": [
    "**Q6. Set as NA**\n",
    "\n",
    "Set the `sepalwidth` of the row with index 34 to `pd.NA` (which is pandas for NULL value)"
   ]
  },
  {
   "cell_type": "code",
   "execution_count": null,
   "id": "a02c4be6",
   "metadata": {},
   "outputs": [],
   "source": [
    "# Q6 Answer\n"
   ]
  },
  {
   "cell_type": "markdown",
   "id": "34a740f9",
   "metadata": {},
   "source": [
    "We should be able to view the contents of the row with index 34 using the `loc` attribute:"
   ]
  },
  {
   "cell_type": "code",
   "execution_count": null,
   "id": "5e7f8d6e",
   "metadata": {},
   "outputs": [],
   "source": [
    "irisdf.loc[34]"
   ]
  },
  {
   "cell_type": "markdown",
   "id": "289d4ff9",
   "metadata": {},
   "source": [
    "**Q7. Find Rows with Missing Values**\n",
    "\n",
    "Find the rows with *any* NA values"
   ]
  },
  {
   "cell_type": "code",
   "execution_count": null,
   "id": "de296f90",
   "metadata": {},
   "outputs": [],
   "source": [
    "# Q7 Answer\n",
    "# Find the rows with any 'na' values, by row (axis = 1 indicates to check row by row)\n",
    "\n"
   ]
  },
  {
   "cell_type": "markdown",
   "id": "6fcd7520",
   "metadata": {},
   "source": [
    "**Q8. Drop Rows with Missing Values**\n",
    "\n",
    "Now drop the rows with missing values with the argument `inplace = True`"
   ]
  },
  {
   "cell_type": "code",
   "execution_count": null,
   "id": "45548974",
   "metadata": {},
   "outputs": [],
   "source": [
    "# Q8 answer\n"
   ]
  },
  {
   "cell_type": "markdown",
   "id": "55cf88ff",
   "metadata": {},
   "source": [
    "Check whether there are any more rows with NA values by running your answer to Q7 again."
   ]
  }
 ],
 "metadata": {
  "kernelspec": {
   "display_name": "Python 3 (ipykernel)",
   "language": "python",
   "name": "python3"
  },
  "language_info": {
   "codemirror_mode": {
    "name": "ipython",
    "version": 3
   },
   "file_extension": ".py",
   "mimetype": "text/x-python",
   "name": "python",
   "nbconvert_exporter": "python",
   "pygments_lexer": "ipython3",
   "version": "3.9.7"
  }
 },
 "nbformat": 4,
 "nbformat_minor": 5
}
