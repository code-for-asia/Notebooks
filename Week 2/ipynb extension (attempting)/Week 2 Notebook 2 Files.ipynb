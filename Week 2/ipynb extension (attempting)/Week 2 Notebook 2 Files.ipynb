{
 "cells": [
  {
   "cell_type": "markdown",
   "id": "292c0605",
   "metadata": {},
   "source": [
    "## Overview\n",
    "\n",
    "The Python standard library contains many useful functions, including to read and write files. In this lesson we will cover:\n",
    "* how to open a file and read data from it\n",
    "* how to write text to a file"
   ]
  },
  {
   "cell_type": "markdown",
   "id": "de3c23b1",
   "metadata": {},
   "source": [
    "### Basic Directory Commands\n",
    "\n",
    "In Jupyter notebooks, you can use Unix commands in a cell.\n",
    "`pwd` will show the present working directory."
   ]
  },
  {
   "cell_type": "code",
   "execution_count": 3,
   "id": "c3f472a0",
   "metadata": {},
   "outputs": [
    {
     "data": {
      "text/plain": [
       "'C:\\\\Users\\\\ng_sm\\\\Documents\\\\CodeForasia\\\\Week 2 Notebooks'"
      ]
     },
     "execution_count": 3,
     "metadata": {},
     "output_type": "execute_result"
    }
   ],
   "source": [
    "pwd"
   ]
  },
  {
   "cell_type": "markdown",
   "id": "107bd90b",
   "metadata": {},
   "source": [
    "You can use `ls` to **list** the contents of the present working directory."
   ]
  },
  {
   "cell_type": "code",
   "execution_count": 2,
   "id": "7cc9903d",
   "metadata": {},
   "outputs": [
    {
     "name": "stdout",
     "output_type": "stream",
     "text": [
      " Volume in drive C is Windows\n",
      " Volume Serial Number is A097-F9F5\n",
      "\n",
      " Directory of C:\\Users\\ng_sm\\Documents\\CodeForasia\\Week 2 Notebooks\n",
      "\n",
      "08/01/2022  16:26    <DIR>          .\n",
      "07/01/2022  15:23    <DIR>          ..\n",
      "08/01/2022  14:21    <DIR>          .ipynb_checkpoints\n",
      "12/12/2021  22:38                98 13002.txt\n",
      "08/01/2022  11:20            17,338 Week 2 Notebook 1 Collections.ipynb\n",
      "08/01/2022  16:26             6,923 Week 2 Notebook 2 Files.ipynb\n",
      "               3 File(s)         24,359 bytes\n",
      "               3 Dir(s)  339,150,520,320 bytes free\n"
     ]
    }
   ],
   "source": [
    "ls\n"
   ]
  },
  {
   "cell_type": "markdown",
   "id": "b7aecd58",
   "metadata": {},
   "source": [
    "In the same directory as this notebook file, you should have downloaded and saved a text file `13002.txt`, and it should appear in the listing of files above.\n",
    "\n",
    "If not, save it into this directory so that you can read it in easily.\n",
    "\n",
    "You can open the file using Jupyter, using the File->Open command in the menu above. You will find that it contains information about an invoice, written in plain text. Let's try to read in the data using Python."
   ]
  },
  {
   "cell_type": "markdown",
   "id": "3a4fccbf",
   "metadata": {},
   "source": [
    "## Reading Files\n"
   ]
  },
  {
   "cell_type": "markdown",
   "id": "88a09ec0",
   "metadata": {},
   "source": [
    "To access a file, you can just use the Python standard library function `open()`. \n",
    "\n",
    "The default mode is for reading."
   ]
  },
  {
   "cell_type": "code",
   "execution_count": 13,
   "id": "098f34c9",
   "metadata": {},
   "outputs": [],
   "source": [
    "#open a file for reading, with default mode\n",
    "myfile = open('13002.txt')\n"
   ]
  },
  {
   "cell_type": "code",
   "execution_count": 9,
   "id": "48f5ae85",
   "metadata": {},
   "outputs": [
    {
     "name": "stdout",
     "output_type": "stream",
     "text": [
      "<_io.TextIOWrapper name='13002.txt' mode='r' encoding='cp1252'>\n"
     ]
    }
   ],
   "source": [
    "print(myfile)"
   ]
  },
  {
   "cell_type": "markdown",
   "id": "b7e57907",
   "metadata": {},
   "source": [
    "You can see that when we print `myfile`, it gives us the filename and the mode.\n",
    "\n",
    "To read the data from the file, you can use the `readline()` function on the object `myfile`."
   ]
  },
  {
   "cell_type": "code",
   "execution_count": 154,
   "id": "b30ebb79",
   "metadata": {},
   "outputs": [
    {
     "ename": "ValueError",
     "evalue": "I/O operation on closed file.",
     "output_type": "error",
     "traceback": [
      "\u001b[1;31m---------------------------------------------------------------------------\u001b[0m",
      "\u001b[1;31mValueError\u001b[0m                                Traceback (most recent call last)",
      "\u001b[1;32m~\\AppData\\Local\\Temp/ipykernel_12056/1520544142.py\u001b[0m in \u001b[0;36m<module>\u001b[1;34m\u001b[0m\n\u001b[0;32m      1\u001b[0m \u001b[1;31m# Execute this cell again to read another line\u001b[0m\u001b[1;33m\u001b[0m\u001b[1;33m\u001b[0m\u001b[0m\n\u001b[1;32m----> 2\u001b[1;33m \u001b[0mmydataAsLines\u001b[0m \u001b[1;33m=\u001b[0m \u001b[0mmyfile\u001b[0m\u001b[1;33m.\u001b[0m\u001b[0mreadline\u001b[0m\u001b[1;33m(\u001b[0m\u001b[1;33m)\u001b[0m\u001b[1;33m\u001b[0m\u001b[1;33m\u001b[0m\u001b[0m\n\u001b[0m\u001b[0;32m      3\u001b[0m \u001b[0mprint\u001b[0m\u001b[1;33m(\u001b[0m\u001b[0mmydataAsLines\u001b[0m\u001b[1;33m)\u001b[0m\u001b[1;33m\u001b[0m\u001b[1;33m\u001b[0m\u001b[0m\n",
      "\u001b[1;31mValueError\u001b[0m: I/O operation on closed file."
     ]
    }
   ],
   "source": [
    "# Execute this cell again to read another line\n",
    "mydataAsLines = myfile.readline()\n",
    "print(mydataAsLines)"
   ]
  },
  {
   "cell_type": "markdown",
   "id": "e689294e",
   "metadata": {},
   "source": [
    "As you can see, it has read one line of the data. If you run the line in the cell above again, you will see that it will read another line. If there are no more lines to read there will be no output.\n",
    "\n",
    "You can also read a specific number of characters (bytes) by using the `read()` function. "
   ]
  },
  {
   "cell_type": "code",
   "execution_count": 41,
   "id": "cd486dc8",
   "metadata": {},
   "outputs": [
    {
     "data": {
      "text/plain": [
       "'Invo'"
      ]
     },
     "execution_count": 41,
     "metadata": {},
     "output_type": "execute_result"
    }
   ],
   "source": [
    "# close the file before reopening \n",
    "myfile.close()\n",
    "\n",
    "# open the file again\n",
    "myfile = open('13002.txt', 'r')\n",
    "\n",
    "# read 4 characters. \n",
    "myfile.read(4)"
   ]
  },
  {
   "cell_type": "markdown",
   "id": "fc16b119",
   "metadata": {},
   "source": [
    "Try to change the argument value to read more characters. If the argument is -1 or left blank, the whole file will be read. "
   ]
  },
  {
   "cell_type": "code",
   "execution_count": 44,
   "id": "aaac2d2e",
   "metadata": {},
   "outputs": [
    {
     "data": {
      "text/plain": [
       "'Invoice No: 13002\\nCustomer Name: Lighthouse Entertainment\\nDate: 13 Jan 2020\\nInvoice Amount: $45.60'"
      ]
     },
     "execution_count": 44,
     "metadata": {},
     "output_type": "execute_result"
    }
   ],
   "source": [
    "# close the file from the previous open\n",
    "myfile.close()\n",
    "\n",
    "# myfile.read() will read the whole file.\n",
    "myfile = open('13002.txt', 'r')\n",
    "myfile.read()\n",
    "\n",
    "# then close the file\n",
    "myfile.close()"
   ]
  },
  {
   "cell_type": "markdown",
   "id": "8f568936",
   "metadata": {},
   "source": [
    "You can see that the file is read as a single string, including the newline character, `\\n` at the end of each line. \n",
    "\n",
    "You can use the `print()` function to print out the string."
   ]
  },
  {
   "cell_type": "code",
   "execution_count": 56,
   "id": "a201f6a2",
   "metadata": {},
   "outputs": [
    {
     "name": "stdout",
     "output_type": "stream",
     "text": [
      "Invoice No: 13002\n",
      "Customer Name: Lighthouse Entertainment\n",
      "Date: 13 Jan 2020\n",
      "Invoice Amount: $45.60\n"
     ]
    }
   ],
   "source": [
    "# myfile.read() will read the whole file.\n",
    "myfile = open('13002.txt', 'r')\n",
    "\n",
    "# using the print() function will print the string that is read\n",
    "print(myfile.read())\n",
    "\n",
    "myfile.close()"
   ]
  },
  {
   "cell_type": "markdown",
   "id": "251e0978",
   "metadata": {},
   "source": [
    "You can also read *all* the lines, using the `readlines()` function. This will store all the lines as elements of a list.\n"
   ]
  },
  {
   "cell_type": "code",
   "execution_count": 59,
   "id": "0940fdb4",
   "metadata": {},
   "outputs": [
    {
     "name": "stdout",
     "output_type": "stream",
     "text": [
      "['Invoice No: 13002\\n', 'Customer Name: Lighthouse Entertainment\\n', 'Date: 13 Jan 2020\\n', 'Invoice Amount: $45.60']\n"
     ]
    }
   ],
   "source": [
    "# myfile.read() will read the whole file.\n",
    "myfile = open('13002.txt', 'r')\n",
    "\n",
    "# using the readlines() function. \n",
    "mydata = myfile.readlines()\n",
    "\n",
    "# This stores line as an element in a list.\n",
    "print(mydata)\n",
    "\n",
    "myfile.close()"
   ]
  },
  {
   "cell_type": "markdown",
   "id": "82d7a613",
   "metadata": {},
   "source": [
    "This time, the data is stored as a list, where the first element in index 0 is `'Invoice No: 13002\\n'`. \n",
    "\n",
    "You can also process each line of the file using a `for` loop."
   ]
  },
  {
   "cell_type": "code",
   "execution_count": 155,
   "id": "3f29b7f7",
   "metadata": {},
   "outputs": [
    {
     "name": "stdout",
     "output_type": "stream",
     "text": [
      "['Invoice No', ' 13002\\n']\n",
      " 13002\n",
      "\n",
      "['Customer Name', ' Lighthouse Entertainment\\n']\n",
      " Lighthouse Entertainment\n",
      "\n",
      "['Date', ' 13 Jan 2020\\n']\n",
      " 13 Jan 2020\n",
      "\n",
      "['Invoice Amount', ' $45.60']\n",
      " $45.60\n"
     ]
    }
   ],
   "source": [
    "# open the file\n",
    "myfile = open('13002.txt', 'r')\n",
    "\n",
    "# process each line\n",
    "for line in myfile:\n",
    "    # separate the line at the colon\n",
    "    parts = line.split(\":\")\n",
    "    \n",
    "    # print the split parts \n",
    "    print(parts)\n",
    "    \n",
    "    # print only the data\n",
    "    print(parts[1])\n",
    "\n",
    "myfile.close()\n",
    "    "
   ]
  },
  {
   "cell_type": "markdown",
   "id": "52895c9d",
   "metadata": {},
   "source": [
    "## Writing to Files\n",
    "\n",
    "You can also open files for writing, using `mode = 'w'`. If the file does not exist, it will be created. "
   ]
  },
  {
   "cell_type": "code",
   "execution_count": 80,
   "id": "0765a7c9",
   "metadata": {},
   "outputs": [],
   "source": [
    "#open a file for writing\n",
    "anotherfile= open('sample.txt', 'w')\n",
    "anotherfile.write('Invoice No: 13003\\n')\n",
    "anotherfile.close()\n"
   ]
  },
  {
   "cell_type": "markdown",
   "id": "f4933f02",
   "metadata": {},
   "source": [
    "Let's check the file contents by reading it.  "
   ]
  },
  {
   "cell_type": "code",
   "execution_count": 81,
   "id": "fd4f2751",
   "metadata": {},
   "outputs": [
    {
     "name": "stdout",
     "output_type": "stream",
     "text": [
      "Invoice No: 13003\n",
      "\n"
     ]
    }
   ],
   "source": [
    "anotherfile = open('sample.txt','r')\n",
    "print(anotherfile.readline())\n",
    "anotherfile.close()"
   ]
  },
  {
   "cell_type": "markdown",
   "id": "cd2b1748",
   "metadata": {},
   "source": [
    "However, if you open an existing file for writing again, the contents will be deleted."
   ]
  },
  {
   "cell_type": "code",
   "execution_count": 118,
   "id": "3fb5fd7f",
   "metadata": {},
   "outputs": [],
   "source": [
    "# open the file for writing, again\n",
    "anotherfile= open('sample.txt', 'w')\n",
    "anotherfile.write('testing')\n",
    "anotherfile.close()"
   ]
  },
  {
   "cell_type": "code",
   "execution_count": 119,
   "id": "5bdaf4c0",
   "metadata": {},
   "outputs": [
    {
     "name": "stdout",
     "output_type": "stream",
     "text": [
      "testing\n"
     ]
    }
   ],
   "source": [
    "# check the file contents again\n",
    "anotherfile = open('sample.txt','r')\n",
    "print(anotherfile.readline())\n",
    "anotherfile.close()"
   ]
  },
  {
   "cell_type": "markdown",
   "id": "6ced474d",
   "metadata": {},
   "source": [
    "### Appending Data\n",
    "\n",
    "If you do not want to overwrite an existing file, you can *append* lines to it. \n",
    "\n",
    "In order to append data to the file, we use `mode = 'a'`. This means that data will be added to the end of the file.\n",
    "\n",
    "Let's say we have an existing file, 'invoices.csv'. Let's read the file to check it's contents first.\n"
   ]
  },
  {
   "cell_type": "code",
   "execution_count": 144,
   "id": "603cdd77",
   "metadata": {},
   "outputs": [
    {
     "name": "stdout",
     "output_type": "stream",
     "text": [
      "Invoice No, Customer Name, Date, Invoice Amount\n",
      "13002, Lighthouse Entertainment, 13 Jan 2020, $45.60\n",
      "13003, Main Street News, 13 Jan 2020, $100.20\n",
      "13003, Lee Enterprise, 14 Jan 2020, $30.00\n",
      "13004, Raju Store, 14 Jan 2020, $300.2013005, One more row, 15 Jan 2020, $250.30\n",
      "13005, One more row, 15 Jan 2020, $250.30\n",
      "\n"
     ]
    }
   ],
   "source": [
    "# open the file for reading\n",
    "myfile = open('invoices.csv', 'r')\n",
    "print(myfile.read())\n",
    "myfile.close()"
   ]
  },
  {
   "cell_type": "markdown",
   "id": "c0d8e416",
   "metadata": {},
   "source": [
    "We will open the file to append, by setting the mode to 'a'. The file pointer will be set at the end of the file."
   ]
  },
  {
   "cell_type": "code",
   "execution_count": 140,
   "id": "e0c3d07b",
   "metadata": {},
   "outputs": [],
   "source": [
    "# Open the file to append data\n",
    "myfile = open('invoices.csv', 'a')\n",
    "myfile.write('13005, Additional Row, 14 Jan 2020, $100.00\\n')\n",
    "myfile.close()"
   ]
  },
  {
   "cell_type": "markdown",
   "id": "17e4e6e0",
   "metadata": {},
   "source": [
    "You can open a file for a combination of reading and writing by specifying the mode. \n",
    "* `mode = 'r+'` opens the file for reading and writing, by setting the file pointer at the beginning of the file, ready to read.\n",
    "* `mode = 'a+'` opens the file for appending and reading, by setting the file pointer at the end of the file, ready for adding more data\n",
    "* `mode = 'w+'` opens the file for writing and reading, by setting the file pointer at the beginning of the file, ready to write and thus overwriting existing data.\n",
    "* `file.seek(0)` will set the pointer back to the beginning of the file."
   ]
  },
  {
   "cell_type": "code",
   "execution_count": 153,
   "id": "6ba055db",
   "metadata": {},
   "outputs": [
    {
     "name": "stdout",
     "output_type": "stream",
     "text": [
      "Before appending new data\n",
      "Invoice No, Customer Name, Date, Invoice Amount\n",
      "13002, Lighthouse Entertainment, 13 Jan 2020, $45.60\n",
      "13003, Main Street News, 13 Jan 2020, $100.20\n",
      "13003, Lee Enterprise, 14 Jan 2020, $30.00\n",
      "13004, Raju Store, 14 Jan 2020, $300.20\n",
      "\n",
      "After appending new data\n",
      "Invoice No, Customer Name, Date, Invoice Amount\n",
      "13002, Lighthouse Entertainment, 13 Jan 2020, $45.60\n",
      "13003, Main Street News, 13 Jan 2020, $100.20\n",
      "13003, Lee Enterprise, 14 Jan 2020, $30.00\n",
      "13004, Raju Store, 14 Jan 2020, $300.20\n",
      "13005, One more row, 15 Jan 2020, $250.30\n",
      "\n"
     ]
    }
   ],
   "source": [
    "#open the file again, this time to read and write.\n",
    "# mode = 'r+' will start with the file handle at the beginning of the file, \n",
    "# so that you can read first\n",
    "# open with mode = 'r+' will point at the beginning of the file\n",
    "myfile = open('invoices.csv', 'r+')\n",
    "\n",
    "# read the file and print its contents\n",
    "print('Before appending new data')\n",
    "print(myfile.read())\n",
    "\n",
    "# write one more row\n",
    "myfile.write('13005, One more row, 15 Jan 2020, $250.30\\n')\n",
    "\n",
    "# go back to the beginning of the file\n",
    "myfile.seek(0)\n",
    "\n",
    "# read again\n",
    "print('After appending new data')\n",
    "print(myfile.read())\n",
    "\n",
    "myfile.close()\n"
   ]
  },
  {
   "cell_type": "markdown",
   "id": "d51d3e0a",
   "metadata": {},
   "source": [
    "## Exercise\n",
    "\n",
    "Write the code to open the 'invoices.csv' file for reading, and then print only the heading 'Invoice No' and the data for the invoice numbers.\n",
    "\n",
    "Use the following comments to guide you"
   ]
  },
  {
   "cell_type": "code",
   "execution_count": 152,
   "id": "57fbc0fb",
   "metadata": {},
   "outputs": [
    {
     "name": "stdout",
     "output_type": "stream",
     "text": [
      "Invoice No\n",
      "13002\n",
      "13003\n",
      "13003\n",
      "13004\n",
      "13005\n",
      "13005\n"
     ]
    }
   ],
   "source": [
    "# open the file for reading\n",
    "myfile = open('invoices.csv', 'r')\n",
    "\n",
    "# read all the lines\n",
    "lines = myfile.readlines()\n",
    "\n",
    "# header is the first element in the list of lines\n",
    "header = lines[0]\n",
    "\n",
    "# use a split() function to separate the header names by the comma\n",
    "headerNames = header.split(',')\n",
    "\n",
    "# print the first element of the header names after splitting\n",
    "print(headerNames[0])\n",
    "\n",
    "# use a for loop (with a slice starting at index 1) for the rest of the lines\n",
    "for line in lines[1:]:\n",
    "    # split at the comma\n",
    "    data = line.split(',')     \n",
    "    \n",
    "    # print the first element\n",
    "    print(data[0])                 \n",
    "    \n",
    "# close the file\n",
    "myfile.close()"
   ]
  },
  {
   "cell_type": "markdown",
   "id": "071d6725",
   "metadata": {},
   "source": [
    "Being able to extract just the invoice numbers is useful, because it will help us to keep track of the running number.\n",
    "\n",
    "In this lesson, we have learned how to read and write from files. However, there are many data science libraries that have simplified these operations, and we will make use of the pandas library to read CSV files.\n",
    "\n"
   ]
  }
 ],
 "metadata": {
  "kernelspec": {
   "display_name": "Python 3 (ipykernel)",
   "language": "python",
   "name": "python3"
  },
  "language_info": {
   "codemirror_mode": {
    "name": "ipython",
    "version": 3
   },
   "file_extension": ".py",
   "mimetype": "text/x-python",
   "name": "python",
   "nbconvert_exporter": "python",
   "pygments_lexer": "ipython3",
   "version": "3.9.7"
  }
 },
 "nbformat": 4,
 "nbformat_minor": 5
}
