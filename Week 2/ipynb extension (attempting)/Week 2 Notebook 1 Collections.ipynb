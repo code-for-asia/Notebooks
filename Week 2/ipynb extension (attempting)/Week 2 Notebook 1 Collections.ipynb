{
 "cells": [
  {
   "cell_type": "markdown",
   "metadata": {},
   "source": [
    "# Week 2 Notebook 1 Overview\n",
    "\n",
    "## Collections\n",
    "\n",
    "This week we will start by exploring three types of collection structures in Python:\n",
    "1. Lists\n",
    "2. Tuples\n",
    "3. Sets\n",
    "\n"
   ]
  },
  {
   "cell_type": "markdown",
   "metadata": {},
   "source": [
    "## Lists"
   ]
  },
  {
   "cell_type": "markdown",
   "metadata": {},
   "source": [
    "We have been creating variables to store one value at a time. However, we usually have collections of data to manipulate and explore. One of the data types that we can use to store a collection is a list.\n",
    "\n",
    "We can create lists to store data of the same type, or of different types.\n",
    "Here are three examples.\n"
   ]
  },
  {
   "cell_type": "code",
   "execution_count": 2,
   "metadata": {},
   "outputs": [],
   "source": [
    "# A list of names\n",
    "names = [\"Mary\", \"Ali\", \"Ying\"]\n",
    "\n",
    "# A list of numbers\n",
    "numbers = [100, 101, 102, 103, 104, 105, 106, 107, 108, 109, 110]\n",
    "\n",
    "# A list with mixed types\n",
    "mixed_list = ['one', 2, 3, 5, True]\n"
   ]
  },
  {
   "cell_type": "markdown",
   "metadata": {},
   "source": [
    "Let's check the type of each of `names`"
   ]
  },
  {
   "cell_type": "code",
   "execution_count": 26,
   "metadata": {},
   "outputs": [
    {
     "data": {
      "text/plain": [
       "list"
      ]
     },
     "execution_count": 26,
     "metadata": {},
     "output_type": "execute_result"
    }
   ],
   "source": [
    "type(names)"
   ]
  },
  {
   "cell_type": "markdown",
   "metadata": {},
   "source": [
    "To view the contents of the list, you can just type the name of the variable, or use the `print()` function:"
   ]
  },
  {
   "cell_type": "code",
   "execution_count": 27,
   "metadata": {},
   "outputs": [
    {
     "data": {
      "text/plain": [
       "['Mary', 'Ali', 'Ying']"
      ]
     },
     "execution_count": 27,
     "metadata": {},
     "output_type": "execute_result"
    }
   ],
   "source": [
    "names"
   ]
  },
  {
   "cell_type": "code",
   "execution_count": 4,
   "metadata": {},
   "outputs": [
    {
     "name": "stdout",
     "output_type": "stream",
     "text": [
      "[100, 101, 102, 103, 104, 105, 106, 107, 108, 109, 110]\n"
     ]
    }
   ],
   "source": [
    "print(numbers)"
   ]
  },
  {
   "cell_type": "markdown",
   "metadata": {},
   "source": [
    "You can also access each element of the list, using its index, which are numbered starting from 0."
   ]
  },
  {
   "cell_type": "code",
   "execution_count": 28,
   "metadata": {},
   "outputs": [
    {
     "name": "stdout",
     "output_type": "stream",
     "text": [
      "The name that appears first is Mary\n"
     ]
    }
   ],
   "source": [
    "print('The name that appears first is ' + names[0])"
   ]
  },
  {
   "cell_type": "markdown",
   "metadata": {},
   "source": [
    "As you can see, the first element is at index 0.\n",
    "\n",
    "This means for the list called `names`, the indices are from 0 up to 2. What happens if you enter a number that is more than 2?\n"
   ]
  },
  {
   "cell_type": "code",
   "execution_count": 29,
   "metadata": {},
   "outputs": [
    {
     "name": "stdout",
     "output_type": "stream",
     "text": [
      "Ali\n"
     ]
    },
    {
     "ename": "IndexError",
     "evalue": "list index out of range",
     "output_type": "error",
     "traceback": [
      "\u001b[1;31m---------------------------------------------------------------------------\u001b[0m",
      "\u001b[1;31mIndexError\u001b[0m                                Traceback (most recent call last)",
      "\u001b[1;32m~\\AppData\\Local\\Temp/ipykernel_8184/4230047900.py\u001b[0m in \u001b[0;36m<module>\u001b[1;34m\u001b[0m\n\u001b[0;32m      1\u001b[0m \u001b[1;31m# Try entering a different value for the index\u001b[0m\u001b[1;33m\u001b[0m\u001b[1;33m\u001b[0m\u001b[0m\n\u001b[0;32m      2\u001b[0m \u001b[0mprint\u001b[0m\u001b[1;33m(\u001b[0m\u001b[0mnames\u001b[0m\u001b[1;33m[\u001b[0m\u001b[1;36m1\u001b[0m\u001b[1;33m]\u001b[0m\u001b[1;33m)\u001b[0m\u001b[1;33m\u001b[0m\u001b[1;33m\u001b[0m\u001b[0m\n\u001b[1;32m----> 3\u001b[1;33m \u001b[0mprint\u001b[0m\u001b[1;33m(\u001b[0m\u001b[0mnames\u001b[0m\u001b[1;33m[\u001b[0m\u001b[1;36m3\u001b[0m\u001b[1;33m]\u001b[0m\u001b[1;33m)\u001b[0m\u001b[1;33m\u001b[0m\u001b[1;33m\u001b[0m\u001b[0m\n\u001b[0m",
      "\u001b[1;31mIndexError\u001b[0m: list index out of range"
     ]
    }
   ],
   "source": [
    "# Try entering a different value for the index\n",
    "print(names[1])\n",
    "print(names[3])\n"
   ]
  },
  {
   "cell_type": "markdown",
   "metadata": {},
   "source": [
    "As you can see, you will get an out of range error if you try to use a number for the index that exceeds the length of the list.\n",
    "\n",
    "To check the length of a list, you can use the `len()` function\n",
    "\n",
    "The index will be a value between 0 and (length - 1)"
   ]
  },
  {
   "cell_type": "code",
   "execution_count": 30,
   "metadata": {},
   "outputs": [
    {
     "data": {
      "text/plain": [
       "3"
      ]
     },
     "execution_count": 30,
     "metadata": {},
     "output_type": "execute_result"
    }
   ],
   "source": [
    "len(names)"
   ]
  },
  {
   "cell_type": "markdown",
   "metadata": {},
   "source": [
    "An easy way to get the last element of the list though is to use -1 as the index:"
   ]
  },
  {
   "cell_type": "code",
   "execution_count": 31,
   "metadata": {},
   "outputs": [
    {
     "name": "stdout",
     "output_type": "stream",
     "text": [
      "Ying\n",
      "109\n"
     ]
    }
   ],
   "source": [
    "# get the last element of the names list\n",
    "print(names[-1])\n",
    "\n",
    "# get the second last element of the numbers list\n",
    "print(numbers[-2])"
   ]
  },
  {
   "cell_type": "markdown",
   "metadata": {},
   "source": [
    "To get a *slice*, or part, of a list, you can use slice operator, `[:]`\n",
    "\n",
    "The syntax for a slice is \\[ *start* : *stop* : *step* \\], where *start* means the index that you want to start at, *stop* is the index to slice up to, and *step* indicates the steps to increment by.\n",
    "\n",
    "For example, remember that the list of numbers consisted of the numbers 1 to 10."
   ]
  },
  {
   "cell_type": "code",
   "execution_count": 33,
   "metadata": {},
   "outputs": [
    {
     "name": "stdout",
     "output_type": "stream",
     "text": [
      "[100, 101, 102, 103, 104, 105, 106, 107, 108, 109, 110]\n",
      "The indices are from 0 up to 10\n",
      "[101, 102, 103, 104, 105, 106]\n",
      "[101, 103, 105]\n"
     ]
    }
   ],
   "source": [
    "# print the list\n",
    "print(numbers)\n",
    "print(\"The indices are from 0 up to \" + str(len(numbers)-1))\n",
    "\n",
    "# print the slice from index 1 up to (but not including 7), step by 1\n",
    "print(numbers[1:7:1])\n",
    "\n",
    "# print the slice from index 1 up to (but not including 7), step by 2\n",
    "print(numbers[1:7:2])\n"
   ]
  },
  {
   "cell_type": "markdown",
   "metadata": {},
   "source": [
    "You can use default values for *start*, *stop* and *end* by not specifying them:"
   ]
  },
  {
   "cell_type": "code",
   "execution_count": 34,
   "metadata": {},
   "outputs": [
    {
     "name": "stdout",
     "output_type": "stream",
     "text": [
      "[102, 103, 104]\n",
      "[100, 102, 104]\n",
      "[101, 104, 107, 110]\n",
      "[100, 103, 106, 109]\n"
     ]
    }
   ],
   "source": [
    "# print the numbers from 2 to 5, default step by 1\n",
    "print(numbers[2:5])\n",
    "\n",
    "# start from default of 0, stop at 5 and step by 2\n",
    "print(numbers[:5:2])\n",
    "\n",
    "# start from 1, stop at the end, step by 3\n",
    "print(numbers[1::3])\n",
    "\n",
    "# start from 0, stop at the end, step by 3\n",
    "print(numbers[::3])"
   ]
  },
  {
   "cell_type": "markdown",
   "metadata": {},
   "source": [
    "You can also *iterate* through the list, which means to access the element one at a time, using a for loop.\n",
    "\n",
    "For example, we want to go through the elements in the `numbers` list and multiply each element by 2.\n"
   ]
  },
  {
   "cell_type": "code",
   "execution_count": 11,
   "metadata": {},
   "outputs": [
    {
     "name": "stdout",
     "output_type": "stream",
     "text": [
      "200\n",
      "202\n",
      "204\n",
      "206\n",
      "208\n",
      "210\n",
      "212\n",
      "214\n",
      "216\n",
      "218\n",
      "220\n",
      "rice\n",
      "noodles\n",
      "bread\n"
     ]
    }
   ],
   "source": [
    "# using a for loop to iterate through the list called 'numbers'\n",
    "for num in numbers:\n",
    "    print(num * 2)\n",
    "    "
   ]
  },
  {
   "cell_type": "markdown",
   "metadata": {},
   "source": [
    "### Properties of Lists\n",
    "\n",
    "Lists in Python have the following properties\n",
    "- The order of elements is important\n",
    "- There can be duplicate elements\n",
    "- The elements in a list can be changed\n",
    "- The list can be resized, that means it can grow or shrink as elements are added or removed.\n",
    "\n",
    "We have seen that the position of the elements allows us to access each element using an index.\n",
    "\n",
    "Let's see how we can add or remove elements.\n"
   ]
  },
  {
   "cell_type": "markdown",
   "metadata": {},
   "source": [
    "### Adding elements\n",
    "\n",
    "We can add elements to a list:\n",
    "- by appending the element to the end of the list\n",
    "- or inserting an element before an existing element\n",
    "\n",
    "Run the following examples:"
   ]
  },
  {
   "cell_type": "code",
   "execution_count": 36,
   "metadata": {},
   "outputs": [
    {
     "name": "stdout",
     "output_type": "stream",
     "text": [
      "append means to add to the end of the list\n",
      "['Mary', 'Joe', 'Ali', 'Ying', 'Raj', 'Raj']\n",
      "\n",
      "or you can insert, for example at index 1\n",
      "['Mary', 'Joe', 'Joe', 'Ali', 'Ying', 'Raj', 'Raj']\n"
     ]
    }
   ],
   "source": [
    "# adding a name to the end of the list\n",
    "names.append(\"Raj\")\n",
    "print(\"append means to add to the end of the list\")\n",
    "print(names)\n",
    "\n",
    "# inserting at index 1\n",
    "names.insert(1, \"Joe\")\n",
    "print(\"\\nor you can insert, for example at index 1\")\n",
    "print(names)"
   ]
  },
  {
   "cell_type": "markdown",
   "metadata": {},
   "source": [
    "You can also replace elements the list by specifying the index at which you want to change to a new element.\n",
    "\n",
    "\n"
   ]
  },
  {
   "cell_type": "code",
   "execution_count": 39,
   "metadata": {},
   "outputs": [
    {
     "name": "stdout",
     "output_type": "stream",
     "text": [
      "original list\n",
      "['Mary', 'Hari', 'Joe', 'Ali', 'Ying', 'Raj', 'Raj']\n",
      "\n",
      " replaced list\n",
      "['Mary', 'Hari', 'Joe', 'Ali', 'Ying', 'Raj', 'Raj']\n"
     ]
    }
   ],
   "source": [
    "print(\"original list\")\n",
    "print(names)\n",
    "\n",
    "# swap the element at index 1\n",
    "names[1] = \"Hari\"\n",
    "print('\\n replaced list')\n",
    "print(names)\n"
   ]
  },
  {
   "cell_type": "markdown",
   "metadata": {},
   "source": [
    "We can also remove elements from the list, using the `remove()` or `pop()` functions:\n",
    "\n"
   ]
  },
  {
   "cell_type": "code",
   "execution_count": 40,
   "metadata": {},
   "outputs": [
    {
     "name": "stdout",
     "output_type": "stream",
     "text": [
      "After removing Ali\n",
      "['Mary', 'Hari', 'Joe', 'Ying', 'Raj', 'Raj']\n",
      "\n",
      "After using pop()\n",
      "['Mary', 'Hari', 'Joe', 'Ying', 'Raj']\n",
      "\n",
      "After using clear()\n",
      "[]\n"
     ]
    }
   ],
   "source": [
    "# remove() function removes the element specified, if it is in the list\n",
    "names.remove(\"Ali\")\n",
    "\n",
    "print(\"After removing Ali\")\n",
    "print(names)\n",
    "\n",
    "# pop() function removes the last element from the list.\n",
    "names.pop()\n",
    "print(\"\\nAfter using pop()\")\n",
    "print(names)\n",
    "\n",
    "# clear() function removes all elements\n",
    "names.clear()\n",
    "print(\"\\nAfter using clear()\")\n",
    "print(names)"
   ]
  },
  {
   "cell_type": "markdown",
   "metadata": {},
   "source": [
    "## Tuples \n",
    "\n",
    "Another type of collection object is a tuple. A tuple is similar to list, except it cannot be changed, so we would say\n",
    "- a list is a collection of ordered elements that is **mutable**\n",
    "- a tuple is a collection of ordered element that is **immutable**\n",
    "\n",
    "Let's see what it means to be immutable.\n",
    "\n",
    "A tuple is created using parentheses.\n"
   ]
  },
  {
   "cell_type": "code",
   "execution_count": 6,
   "metadata": {},
   "outputs": [
    {
     "data": {
      "text/plain": [
       "tuple"
      ]
     },
     "execution_count": 6,
     "metadata": {},
     "output_type": "execute_result"
    }
   ],
   "source": [
    "# creating a tuple of names, using parentheses\n",
    "names_tuple = (\"Mary\", \"Ali\", \"Ying\")\n",
    "\n",
    "# check the type of names\n",
    "type(names_tuple)"
   ]
  },
  {
   "cell_type": "markdown",
   "metadata": {},
   "source": [
    "You can access the elements of the tuple the same way as a list, using the index and slicing:"
   ]
  },
  {
   "cell_type": "code",
   "execution_count": 46,
   "metadata": {},
   "outputs": [
    {
     "name": "stdout",
     "output_type": "stream",
     "text": [
      "Mary\n",
      "('Ali', 'Ying')\n",
      "Ying\n"
     ]
    }
   ],
   "source": [
    "# get the first element\n",
    "print(names_tuple[0])\n",
    "\n",
    "# get a slice\n",
    "print(names_tuple[1:3])\n",
    "\n",
    "# get the last element\n",
    "print(names_tuple[-1])\n"
   ]
  },
  {
   "cell_type": "markdown",
   "metadata": {},
   "source": [
    "However, if you try to add or remove elements, you will get errors:\n"
   ]
  },
  {
   "cell_type": "code",
   "execution_count": 47,
   "metadata": {},
   "outputs": [
    {
     "ename": "AttributeError",
     "evalue": "'tuple' object has no attribute 'add'",
     "output_type": "error",
     "traceback": [
      "\u001b[1;31m---------------------------------------------------------------------------\u001b[0m",
      "\u001b[1;31mAttributeError\u001b[0m                            Traceback (most recent call last)",
      "\u001b[1;32m~\\AppData\\Local\\Temp/ipykernel_8184/1843476353.py\u001b[0m in \u001b[0;36m<module>\u001b[1;34m\u001b[0m\n\u001b[1;32m----> 1\u001b[1;33m \u001b[0mnames_tuple\u001b[0m\u001b[1;33m.\u001b[0m\u001b[0madd\u001b[0m\u001b[1;33m(\u001b[0m\u001b[1;34m\"test\"\u001b[0m\u001b[1;33m)\u001b[0m\u001b[1;33m\u001b[0m\u001b[1;33m\u001b[0m\u001b[0m\n\u001b[0m",
      "\u001b[1;31mAttributeError\u001b[0m: 'tuple' object has no attribute 'add'"
     ]
    }
   ],
   "source": [
    "names_tuple.add(\"test\")"
   ]
  },
  {
   "cell_type": "markdown",
   "metadata": {},
   "source": [
    "To view what operations you can use with the tuple object, type the variable name and a dot (.), then press the TAB key.\n"
   ]
  },
  {
   "cell_type": "code",
   "execution_count": 54,
   "metadata": {},
   "outputs": [
    {
     "name": "stdout",
     "output_type": "stream",
     "text": [
      "Help on built-in function count:\n",
      "\n",
      "count(value, /) method of builtins.tuple instance\n",
      "    Return number of occurrences of value.\n",
      "\n"
     ]
    }
   ],
   "source": [
    "# position your cursor after the dot and press the TAB key\n",
    "names_tuple.\n",
    "\n",
    "# try it with the list, names\n",
    "names."
   ]
  },
  {
   "cell_type": "markdown",
   "metadata": {},
   "source": [
    "You can see that for the tuple object, there are only two functions, `count()` and `index()`, and the operations for adding and removing elements from lists are not available for the tuple.\n",
    "\n",
    "So why would we create tuples?\n",
    "\n",
    "If we wanted a list of elements that would not be changed, a tuple is useful. This could be used to define categories in our data, for example, we could create a tuple to record the days of the week:\n",
    "\n"
   ]
  },
  {
   "cell_type": "code",
   "execution_count": 13,
   "metadata": {},
   "outputs": [
    {
     "name": "stdout",
     "output_type": "stream",
     "text": [
      "Sunday\n",
      "Monday\n",
      "Tuesday\n",
      "Wednesday\n",
      "Thursday\n",
      "Friday\n",
      "Saturday\n"
     ]
    }
   ],
   "source": [
    "days = ('Sunday', 'Monday', 'Tuesday', 'Wednesday', 'Thursday', 'Friday', 'Saturday')\n",
    "\n",
    "for d in days:\n",
    "    print(d)"
   ]
  },
  {
   "cell_type": "markdown",
   "metadata": {},
   "source": [
    "## Sets\n",
    "\n",
    "The third type of collection we will consider in this lesson is a set. \n",
    "\n",
    "Properties of sets are:\n",
    "- order doesn't matter\n",
    "- and duplicates are not allowed\n",
    "- elements can be added and removed\n",
    "\n",
    "A set is created using curly braces, {}.\n",
    "\n",
    "Let's say we want to record the menuitems available in a restaurant.\n"
   ]
  },
  {
   "cell_type": "code",
   "execution_count": 17,
   "metadata": {},
   "outputs": [
    {
     "data": {
      "text/plain": [
       "set"
      ]
     },
     "execution_count": 17,
     "metadata": {},
     "output_type": "execute_result"
    }
   ],
   "source": [
    "# a set of menuitems, note the curly braces\n",
    "menuitems = {'noodles', 'bread', 'rice'}\n",
    "\n",
    "# check the type\n",
    "type(menuitems)\n"
   ]
  },
  {
   "cell_type": "markdown",
   "metadata": {},
   "source": [
    "You can modify a set by adding and removing items:"
   ]
  },
  {
   "cell_type": "code",
   "execution_count": 18,
   "metadata": {},
   "outputs": [
    {
     "name": "stdout",
     "output_type": "stream",
     "text": [
      "After adding banana\n",
      "{'rice', 'noodles', 'banana', 'bread'}\n",
      "\n",
      "After removing rice\n",
      "{'noodles', 'banana', 'bread'}\n",
      "\n",
      "After adding another banana\n",
      "{'noodles', 'banana', 'bread'}\n"
     ]
    }
   ],
   "source": [
    "# add an item to the set\n",
    "menuitems.add('banana')\n",
    "print('After adding banana')\n",
    "print(menuitems)\n",
    "\n",
    "# remove an item from the set, if it exists\n",
    "menuitems.remove('rice')\n",
    "print('\\nAfter removing rice')\n",
    "print(menuitems)\n",
    "\n",
    "# add another banana\n",
    "menuitems.add('banana')\n",
    "print('\\nAfter adding another banana')\n",
    "print(menuitems)\n"
   ]
  },
  {
   "cell_type": "markdown",
   "metadata": {},
   "source": [
    "You can see that adding a duplicate item does not change the set.\n",
    "\n",
    "You can also perform set operations, such as intersect and union.\n",
    "\n"
   ]
  },
  {
   "cell_type": "code",
   "execution_count": 19,
   "metadata": {},
   "outputs": [
    {
     "name": "stdout",
     "output_type": "stream",
     "text": [
      "apple\n",
      "banana\n",
      "orange\n",
      "{'banana'}\n",
      "{'orange', 'banana', 'noodles', 'apple', 'bread'}\n"
     ]
    }
   ],
   "source": [
    "# create another set\n",
    "fruit = {'banana', 'orange', 'apple'}\n",
    "\n",
    "# list all the items using a for loop\n",
    "print(\"fruit set contains:\")\n",
    "for f in fruit:\n",
    "    print(f)\n",
    "\n",
    "# find the intersection\n",
    "print(\"\\nResult of intersection iwht\")\n",
    "print(menuitems.intersection(fruit))\n",
    "\n",
    "# find the union\n",
    "print(\"\\nResult of union\")\n",
    "print(menuitems.union(fruit))"
   ]
  },
  {
   "cell_type": "markdown",
   "metadata": {},
   "source": [
    "## Wrap-up\n",
    "\n",
    "In this notebook we have covered three types of collections\n",
    "1. lists, which are created using square brackets\n",
    "    * the elements are ordered by index\n",
    "    * the list is mutable: elements can be replaced, added or removed\n",
    "    * elements with duplicate values are allowed\n",
    "2. tuples, which are created using parentheses\n",
    "    * the elements are ordered by index\n",
    "    * the tuple is immutable, which means it cannot be changed once created\n",
    "    * elements with duplicate values are allowed\n",
    "3. sets, which are created using curly braces\n",
    "    * the elements are not ordered\n",
    "    * duplicate elements are not allowed\n",
    "    * elements can be added or removed\n",
    "\n"
   ]
  },
  {
   "cell_type": "markdown",
   "metadata": {},
   "source": [
    "## Exercises"
   ]
  },
  {
   "cell_type": "markdown",
   "metadata": {},
   "source": [
    "Consider the list that has been created below:\n",
    "\n"
   ]
  },
  {
   "cell_type": "code",
   "execution_count": null,
   "metadata": {},
   "outputs": [],
   "source": [
    "languages = [\"Java\", \"Python\", \"C++\", \"Kotlin\"]\n"
   ]
  },
  {
   "cell_type": "markdown",
   "metadata": {},
   "source": [
    "Print the second element in the list using its index."
   ]
  },
  {
   "cell_type": "code",
   "execution_count": null,
   "metadata": {},
   "outputs": [],
   "source": []
  },
  {
   "cell_type": "markdown",
   "metadata": {},
   "source": [
    "Print the last element in the list."
   ]
  },
  {
   "cell_type": "code",
   "execution_count": null,
   "metadata": {},
   "outputs": [],
   "source": []
  },
  {
   "cell_type": "markdown",
   "metadata": {},
   "source": [
    "Using slicing, print the elements \"Java\" and \"C++\""
   ]
  },
  {
   "cell_type": "code",
   "execution_count": null,
   "metadata": {},
   "outputs": [],
   "source": []
  },
  {
   "cell_type": "markdown",
   "metadata": {},
   "source": [
    "Add the language \"R\" in the list so that it appears *before* \"Python\""
   ]
  },
  {
   "cell_type": "code",
   "execution_count": null,
   "metadata": {},
   "outputs": [],
   "source": []
  },
  {
   "cell_type": "markdown",
   "metadata": {},
   "source": [
    "Remove the last element in the list."
   ]
  },
  {
   "cell_type": "code",
   "execution_count": null,
   "metadata": {},
   "outputs": [],
   "source": []
  },
  {
   "cell_type": "markdown",
   "metadata": {},
   "source": [
    "Change the list to a tuple and run the cells for the rest of the commands that you have written. Which ones can execute without errors?\n"
   ]
  },
  {
   "cell_type": "code",
   "execution_count": null,
   "metadata": {},
   "outputs": [],
   "source": []
  },
  {
   "cell_type": "markdown",
   "metadata": {},
   "source": [
    "Change the list of a set and run the commands for the rest of the commands that you have written. Which ones can execute without errors? "
   ]
  }
 ],
 "metadata": {
  "kernelspec": {
   "display_name": "Python 3 (ipykernel)",
   "language": "python",
   "name": "python3"
  },
  "language_info": {
   "codemirror_mode": {
    "name": "ipython",
    "version": 3
   },
   "file_extension": ".py",
   "mimetype": "text/x-python",
   "name": "python",
   "nbconvert_exporter": "python",
   "pygments_lexer": "ipython3",
   "version": "3.9.7"
  }
 },
 "nbformat": 4,
 "nbformat_minor": 2
}
